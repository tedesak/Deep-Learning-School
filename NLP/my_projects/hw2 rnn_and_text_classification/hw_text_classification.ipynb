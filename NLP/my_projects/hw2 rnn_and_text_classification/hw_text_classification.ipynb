{
 "nbformat": 4,
 "nbformat_minor": 0,
 "metadata": {
  "colab": {
   "provenance": []
  },
  "kernelspec": {
   "name": "python3",
   "language": "python",
   "display_name": "Python 3 (ipykernel)"
  },
  "language_info": {
   "name": "python"
  },
  "accelerator": "GPU",
  "gpuClass": "standard",
  "widgets": {
   "application/vnd.jupyter.widget-state+json": {
    "e4f1ebf153c84d42aa27c718c7239aea": {
     "model_module": "@jupyter-widgets/controls",
     "model_name": "HBoxModel",
     "model_module_version": "1.5.0",
     "state": {
      "_dom_classes": [],
      "_model_module": "@jupyter-widgets/controls",
      "_model_module_version": "1.5.0",
      "_model_name": "HBoxModel",
      "_view_count": null,
      "_view_module": "@jupyter-widgets/controls",
      "_view_module_version": "1.5.0",
      "_view_name": "HBoxView",
      "box_style": "",
      "children": [
       "IPY_MODEL_4a4f10b029ab4211931a34551593ef0c",
       "IPY_MODEL_0f75a347092e4922980e5ed572821e0f",
       "IPY_MODEL_fba80be981e34251aa7231f2368d334e"
      ],
      "layout": "IPY_MODEL_6bc48cf33f6c4406a818ffb771cf1a8d"
     }
    },
    "4a4f10b029ab4211931a34551593ef0c": {
     "model_module": "@jupyter-widgets/controls",
     "model_name": "HTMLModel",
     "model_module_version": "1.5.0",
     "state": {
      "_dom_classes": [],
      "_model_module": "@jupyter-widgets/controls",
      "_model_module_version": "1.5.0",
      "_model_name": "HTMLModel",
      "_view_count": null,
      "_view_module": "@jupyter-widgets/controls",
      "_view_module_version": "1.5.0",
      "_view_name": "HTMLView",
      "description": "",
      "description_tooltip": null,
      "layout": "IPY_MODEL_d957811a687d4636bbac474ea137ada0",
      "placeholder": "​",
      "style": "IPY_MODEL_a532f1dedbd447749b159ad2399eb6a9",
      "value": "Downloading readme: 100%"
     }
    },
    "0f75a347092e4922980e5ed572821e0f": {
     "model_module": "@jupyter-widgets/controls",
     "model_name": "FloatProgressModel",
     "model_module_version": "1.5.0",
     "state": {
      "_dom_classes": [],
      "_model_module": "@jupyter-widgets/controls",
      "_model_module_version": "1.5.0",
      "_model_name": "FloatProgressModel",
      "_view_count": null,
      "_view_module": "@jupyter-widgets/controls",
      "_view_module_version": "1.5.0",
      "_view_name": "ProgressView",
      "bar_style": "success",
      "description": "",
      "description_tooltip": null,
      "layout": "IPY_MODEL_d73427178d56421783d7c8394ac846e1",
      "max": 8070,
      "min": 0,
      "orientation": "horizontal",
      "style": "IPY_MODEL_29c93a8e83044b6e89a61fb7c9c719d5",
      "value": 8070
     }
    },
    "fba80be981e34251aa7231f2368d334e": {
     "model_module": "@jupyter-widgets/controls",
     "model_name": "HTMLModel",
     "model_module_version": "1.5.0",
     "state": {
      "_dom_classes": [],
      "_model_module": "@jupyter-widgets/controls",
      "_model_module_version": "1.5.0",
      "_model_name": "HTMLModel",
      "_view_count": null,
      "_view_module": "@jupyter-widgets/controls",
      "_view_module_version": "1.5.0",
      "_view_name": "HTMLView",
      "description": "",
      "description_tooltip": null,
      "layout": "IPY_MODEL_a245afa663ba4e9fbcfb9c580896324d",
      "placeholder": "​",
      "style": "IPY_MODEL_87c3c4bcd585421095ec442f5c4882c0",
      "value": " 8.07k/8.07k [00:00&lt;00:00, 7.89kB/s]"
     }
    },
    "6bc48cf33f6c4406a818ffb771cf1a8d": {
     "model_module": "@jupyter-widgets/base",
     "model_name": "LayoutModel",
     "model_module_version": "1.2.0",
     "state": {
      "_model_module": "@jupyter-widgets/base",
      "_model_module_version": "1.2.0",
      "_model_name": "LayoutModel",
      "_view_count": null,
      "_view_module": "@jupyter-widgets/base",
      "_view_module_version": "1.2.0",
      "_view_name": "LayoutView",
      "align_content": null,
      "align_items": null,
      "align_self": null,
      "border": null,
      "bottom": null,
      "display": null,
      "flex": null,
      "flex_flow": null,
      "grid_area": null,
      "grid_auto_columns": null,
      "grid_auto_flow": null,
      "grid_auto_rows": null,
      "grid_column": null,
      "grid_gap": null,
      "grid_row": null,
      "grid_template_areas": null,
      "grid_template_columns": null,
      "grid_template_rows": null,
      "height": null,
      "justify_content": null,
      "justify_items": null,
      "left": null,
      "margin": null,
      "max_height": null,
      "max_width": null,
      "min_height": null,
      "min_width": null,
      "object_fit": null,
      "object_position": null,
      "order": null,
      "overflow": null,
      "overflow_x": null,
      "overflow_y": null,
      "padding": null,
      "right": null,
      "top": null,
      "visibility": null,
      "width": null
     }
    },
    "d957811a687d4636bbac474ea137ada0": {
     "model_module": "@jupyter-widgets/base",
     "model_name": "LayoutModel",
     "model_module_version": "1.2.0",
     "state": {
      "_model_module": "@jupyter-widgets/base",
      "_model_module_version": "1.2.0",
      "_model_name": "LayoutModel",
      "_view_count": null,
      "_view_module": "@jupyter-widgets/base",
      "_view_module_version": "1.2.0",
      "_view_name": "LayoutView",
      "align_content": null,
      "align_items": null,
      "align_self": null,
      "border": null,
      "bottom": null,
      "display": null,
      "flex": null,
      "flex_flow": null,
      "grid_area": null,
      "grid_auto_columns": null,
      "grid_auto_flow": null,
      "grid_auto_rows": null,
      "grid_column": null,
      "grid_gap": null,
      "grid_row": null,
      "grid_template_areas": null,
      "grid_template_columns": null,
      "grid_template_rows": null,
      "height": null,
      "justify_content": null,
      "justify_items": null,
      "left": null,
      "margin": null,
      "max_height": null,
      "max_width": null,
      "min_height": null,
      "min_width": null,
      "object_fit": null,
      "object_position": null,
      "order": null,
      "overflow": null,
      "overflow_x": null,
      "overflow_y": null,
      "padding": null,
      "right": null,
      "top": null,
      "visibility": null,
      "width": null
     }
    },
    "a532f1dedbd447749b159ad2399eb6a9": {
     "model_module": "@jupyter-widgets/controls",
     "model_name": "DescriptionStyleModel",
     "model_module_version": "1.5.0",
     "state": {
      "_model_module": "@jupyter-widgets/controls",
      "_model_module_version": "1.5.0",
      "_model_name": "DescriptionStyleModel",
      "_view_count": null,
      "_view_module": "@jupyter-widgets/base",
      "_view_module_version": "1.2.0",
      "_view_name": "StyleView",
      "description_width": ""
     }
    },
    "d73427178d56421783d7c8394ac846e1": {
     "model_module": "@jupyter-widgets/base",
     "model_name": "LayoutModel",
     "model_module_version": "1.2.0",
     "state": {
      "_model_module": "@jupyter-widgets/base",
      "_model_module_version": "1.2.0",
      "_model_name": "LayoutModel",
      "_view_count": null,
      "_view_module": "@jupyter-widgets/base",
      "_view_module_version": "1.2.0",
      "_view_name": "LayoutView",
      "align_content": null,
      "align_items": null,
      "align_self": null,
      "border": null,
      "bottom": null,
      "display": null,
      "flex": null,
      "flex_flow": null,
      "grid_area": null,
      "grid_auto_columns": null,
      "grid_auto_flow": null,
      "grid_auto_rows": null,
      "grid_column": null,
      "grid_gap": null,
      "grid_row": null,
      "grid_template_areas": null,
      "grid_template_columns": null,
      "grid_template_rows": null,
      "height": null,
      "justify_content": null,
      "justify_items": null,
      "left": null,
      "margin": null,
      "max_height": null,
      "max_width": null,
      "min_height": null,
      "min_width": null,
      "object_fit": null,
      "object_position": null,
      "order": null,
      "overflow": null,
      "overflow_x": null,
      "overflow_y": null,
      "padding": null,
      "right": null,
      "top": null,
      "visibility": null,
      "width": null
     }
    },
    "29c93a8e83044b6e89a61fb7c9c719d5": {
     "model_module": "@jupyter-widgets/controls",
     "model_name": "ProgressStyleModel",
     "model_module_version": "1.5.0",
     "state": {
      "_model_module": "@jupyter-widgets/controls",
      "_model_module_version": "1.5.0",
      "_model_name": "ProgressStyleModel",
      "_view_count": null,
      "_view_module": "@jupyter-widgets/base",
      "_view_module_version": "1.2.0",
      "_view_name": "StyleView",
      "bar_color": null,
      "description_width": ""
     }
    },
    "a245afa663ba4e9fbcfb9c580896324d": {
     "model_module": "@jupyter-widgets/base",
     "model_name": "LayoutModel",
     "model_module_version": "1.2.0",
     "state": {
      "_model_module": "@jupyter-widgets/base",
      "_model_module_version": "1.2.0",
      "_model_name": "LayoutModel",
      "_view_count": null,
      "_view_module": "@jupyter-widgets/base",
      "_view_module_version": "1.2.0",
      "_view_name": "LayoutView",
      "align_content": null,
      "align_items": null,
      "align_self": null,
      "border": null,
      "bottom": null,
      "display": null,
      "flex": null,
      "flex_flow": null,
      "grid_area": null,
      "grid_auto_columns": null,
      "grid_auto_flow": null,
      "grid_auto_rows": null,
      "grid_column": null,
      "grid_gap": null,
      "grid_row": null,
      "grid_template_areas": null,
      "grid_template_columns": null,
      "grid_template_rows": null,
      "height": null,
      "justify_content": null,
      "justify_items": null,
      "left": null,
      "margin": null,
      "max_height": null,
      "max_width": null,
      "min_height": null,
      "min_width": null,
      "object_fit": null,
      "object_position": null,
      "order": null,
      "overflow": null,
      "overflow_x": null,
      "overflow_y": null,
      "padding": null,
      "right": null,
      "top": null,
      "visibility": null,
      "width": null
     }
    },
    "87c3c4bcd585421095ec442f5c4882c0": {
     "model_module": "@jupyter-widgets/controls",
     "model_name": "DescriptionStyleModel",
     "model_module_version": "1.5.0",
     "state": {
      "_model_module": "@jupyter-widgets/controls",
      "_model_module_version": "1.5.0",
      "_model_name": "DescriptionStyleModel",
      "_view_count": null,
      "_view_module": "@jupyter-widgets/base",
      "_view_module_version": "1.2.0",
      "_view_name": "StyleView",
      "description_width": ""
     }
    },
    "212ca86054f6454492acdaadf331378d": {
     "model_module": "@jupyter-widgets/controls",
     "model_name": "HBoxModel",
     "model_module_version": "1.5.0",
     "state": {
      "_dom_classes": [],
      "_model_module": "@jupyter-widgets/controls",
      "_model_module_version": "1.5.0",
      "_model_name": "HBoxModel",
      "_view_count": null,
      "_view_module": "@jupyter-widgets/controls",
      "_view_module_version": "1.5.0",
      "_view_name": "HBoxView",
      "box_style": "",
      "children": [
       "IPY_MODEL_ad3cab30e20142a5857dfd4d05ad4066",
       "IPY_MODEL_786a611d3feb47f5b714228c6c5963b9",
       "IPY_MODEL_9e76c6748dd84802b4f128b89ff428a2"
      ],
      "layout": "IPY_MODEL_45c8c929b9374253963709afe1520b25"
     }
    },
    "ad3cab30e20142a5857dfd4d05ad4066": {
     "model_module": "@jupyter-widgets/controls",
     "model_name": "HTMLModel",
     "model_module_version": "1.5.0",
     "state": {
      "_dom_classes": [],
      "_model_module": "@jupyter-widgets/controls",
      "_model_module_version": "1.5.0",
      "_model_name": "HTMLModel",
      "_view_count": null,
      "_view_module": "@jupyter-widgets/controls",
      "_view_module_version": "1.5.0",
      "_view_name": "HTMLView",
      "description": "",
      "description_tooltip": null,
      "layout": "IPY_MODEL_b7b219b86ae14e4b9d34c5fd53d886b5",
      "placeholder": "​",
      "style": "IPY_MODEL_5097aa8a007a445482f3dbaaeac0e6e6",
      "value": "Downloading data: 100%"
     }
    },
    "786a611d3feb47f5b714228c6c5963b9": {
     "model_module": "@jupyter-widgets/controls",
     "model_name": "FloatProgressModel",
     "model_module_version": "1.5.0",
     "state": {
      "_dom_classes": [],
      "_model_module": "@jupyter-widgets/controls",
      "_model_module_version": "1.5.0",
      "_model_name": "FloatProgressModel",
      "_view_count": null,
      "_view_module": "@jupyter-widgets/controls",
      "_view_module_version": "1.5.0",
      "_view_name": "ProgressView",
      "bar_style": "success",
      "description": "",
      "description_tooltip": null,
      "layout": "IPY_MODEL_e95183e896534d35ba38be7cd4d86945",
      "max": 18585438,
      "min": 0,
      "orientation": "horizontal",
      "style": "IPY_MODEL_4bbdba429c8d4d4fadf56b58d5f32ce4",
      "value": 18585438
     }
    },
    "9e76c6748dd84802b4f128b89ff428a2": {
     "model_module": "@jupyter-widgets/controls",
     "model_name": "HTMLModel",
     "model_module_version": "1.5.0",
     "state": {
      "_dom_classes": [],
      "_model_module": "@jupyter-widgets/controls",
      "_model_module_version": "1.5.0",
      "_model_name": "HTMLModel",
      "_view_count": null,
      "_view_module": "@jupyter-widgets/controls",
      "_view_module_version": "1.5.0",
      "_view_name": "HTMLView",
      "description": "",
      "description_tooltip": null,
      "layout": "IPY_MODEL_2f6e692d30a549459a46ca1e49ecc82f",
      "placeholder": "​",
      "style": "IPY_MODEL_8445a7c6c2af4db2a9dc34b6bc5c2aa4",
      "value": " 18.6M/18.6M [00:00&lt;00:00, 41.5MB/s]"
     }
    },
    "45c8c929b9374253963709afe1520b25": {
     "model_module": "@jupyter-widgets/base",
     "model_name": "LayoutModel",
     "model_module_version": "1.2.0",
     "state": {
      "_model_module": "@jupyter-widgets/base",
      "_model_module_version": "1.2.0",
      "_model_name": "LayoutModel",
      "_view_count": null,
      "_view_module": "@jupyter-widgets/base",
      "_view_module_version": "1.2.0",
      "_view_name": "LayoutView",
      "align_content": null,
      "align_items": null,
      "align_self": null,
      "border": null,
      "bottom": null,
      "display": null,
      "flex": null,
      "flex_flow": null,
      "grid_area": null,
      "grid_auto_columns": null,
      "grid_auto_flow": null,
      "grid_auto_rows": null,
      "grid_column": null,
      "grid_gap": null,
      "grid_row": null,
      "grid_template_areas": null,
      "grid_template_columns": null,
      "grid_template_rows": null,
      "height": null,
      "justify_content": null,
      "justify_items": null,
      "left": null,
      "margin": null,
      "max_height": null,
      "max_width": null,
      "min_height": null,
      "min_width": null,
      "object_fit": null,
      "object_position": null,
      "order": null,
      "overflow": null,
      "overflow_x": null,
      "overflow_y": null,
      "padding": null,
      "right": null,
      "top": null,
      "visibility": null,
      "width": null
     }
    },
    "b7b219b86ae14e4b9d34c5fd53d886b5": {
     "model_module": "@jupyter-widgets/base",
     "model_name": "LayoutModel",
     "model_module_version": "1.2.0",
     "state": {
      "_model_module": "@jupyter-widgets/base",
      "_model_module_version": "1.2.0",
      "_model_name": "LayoutModel",
      "_view_count": null,
      "_view_module": "@jupyter-widgets/base",
      "_view_module_version": "1.2.0",
      "_view_name": "LayoutView",
      "align_content": null,
      "align_items": null,
      "align_self": null,
      "border": null,
      "bottom": null,
      "display": null,
      "flex": null,
      "flex_flow": null,
      "grid_area": null,
      "grid_auto_columns": null,
      "grid_auto_flow": null,
      "grid_auto_rows": null,
      "grid_column": null,
      "grid_gap": null,
      "grid_row": null,
      "grid_template_areas": null,
      "grid_template_columns": null,
      "grid_template_rows": null,
      "height": null,
      "justify_content": null,
      "justify_items": null,
      "left": null,
      "margin": null,
      "max_height": null,
      "max_width": null,
      "min_height": null,
      "min_width": null,
      "object_fit": null,
      "object_position": null,
      "order": null,
      "overflow": null,
      "overflow_x": null,
      "overflow_y": null,
      "padding": null,
      "right": null,
      "top": null,
      "visibility": null,
      "width": null
     }
    },
    "5097aa8a007a445482f3dbaaeac0e6e6": {
     "model_module": "@jupyter-widgets/controls",
     "model_name": "DescriptionStyleModel",
     "model_module_version": "1.5.0",
     "state": {
      "_model_module": "@jupyter-widgets/controls",
      "_model_module_version": "1.5.0",
      "_model_name": "DescriptionStyleModel",
      "_view_count": null,
      "_view_module": "@jupyter-widgets/base",
      "_view_module_version": "1.2.0",
      "_view_name": "StyleView",
      "description_width": ""
     }
    },
    "e95183e896534d35ba38be7cd4d86945": {
     "model_module": "@jupyter-widgets/base",
     "model_name": "LayoutModel",
     "model_module_version": "1.2.0",
     "state": {
      "_model_module": "@jupyter-widgets/base",
      "_model_module_version": "1.2.0",
      "_model_name": "LayoutModel",
      "_view_count": null,
      "_view_module": "@jupyter-widgets/base",
      "_view_module_version": "1.2.0",
      "_view_name": "LayoutView",
      "align_content": null,
      "align_items": null,
      "align_self": null,
      "border": null,
      "bottom": null,
      "display": null,
      "flex": null,
      "flex_flow": null,
      "grid_area": null,
      "grid_auto_columns": null,
      "grid_auto_flow": null,
      "grid_auto_rows": null,
      "grid_column": null,
      "grid_gap": null,
      "grid_row": null,
      "grid_template_areas": null,
      "grid_template_columns": null,
      "grid_template_rows": null,
      "height": null,
      "justify_content": null,
      "justify_items": null,
      "left": null,
      "margin": null,
      "max_height": null,
      "max_width": null,
      "min_height": null,
      "min_width": null,
      "object_fit": null,
      "object_position": null,
      "order": null,
      "overflow": null,
      "overflow_x": null,
      "overflow_y": null,
      "padding": null,
      "right": null,
      "top": null,
      "visibility": null,
      "width": null
     }
    },
    "4bbdba429c8d4d4fadf56b58d5f32ce4": {
     "model_module": "@jupyter-widgets/controls",
     "model_name": "ProgressStyleModel",
     "model_module_version": "1.5.0",
     "state": {
      "_model_module": "@jupyter-widgets/controls",
      "_model_module_version": "1.5.0",
      "_model_name": "ProgressStyleModel",
      "_view_count": null,
      "_view_module": "@jupyter-widgets/base",
      "_view_module_version": "1.2.0",
      "_view_name": "StyleView",
      "bar_color": null,
      "description_width": ""
     }
    },
    "2f6e692d30a549459a46ca1e49ecc82f": {
     "model_module": "@jupyter-widgets/base",
     "model_name": "LayoutModel",
     "model_module_version": "1.2.0",
     "state": {
      "_model_module": "@jupyter-widgets/base",
      "_model_module_version": "1.2.0",
      "_model_name": "LayoutModel",
      "_view_count": null,
      "_view_module": "@jupyter-widgets/base",
      "_view_module_version": "1.2.0",
      "_view_name": "LayoutView",
      "align_content": null,
      "align_items": null,
      "align_self": null,
      "border": null,
      "bottom": null,
      "display": null,
      "flex": null,
      "flex_flow": null,
      "grid_area": null,
      "grid_auto_columns": null,
      "grid_auto_flow": null,
      "grid_auto_rows": null,
      "grid_column": null,
      "grid_gap": null,
      "grid_row": null,
      "grid_template_areas": null,
      "grid_template_columns": null,
      "grid_template_rows": null,
      "height": null,
      "justify_content": null,
      "justify_items": null,
      "left": null,
      "margin": null,
      "max_height": null,
      "max_width": null,
      "min_height": null,
      "min_width": null,
      "object_fit": null,
      "object_position": null,
      "order": null,
      "overflow": null,
      "overflow_x": null,
      "overflow_y": null,
      "padding": null,
      "right": null,
      "top": null,
      "visibility": null,
      "width": null
     }
    },
    "8445a7c6c2af4db2a9dc34b6bc5c2aa4": {
     "model_module": "@jupyter-widgets/controls",
     "model_name": "DescriptionStyleModel",
     "model_module_version": "1.5.0",
     "state": {
      "_model_module": "@jupyter-widgets/controls",
      "_model_module_version": "1.5.0",
      "_model_name": "DescriptionStyleModel",
      "_view_count": null,
      "_view_module": "@jupyter-widgets/base",
      "_view_module_version": "1.2.0",
      "_view_name": "StyleView",
      "description_width": ""
     }
    },
    "05ae09bb92854dc3ae74a4d72059ec82": {
     "model_module": "@jupyter-widgets/controls",
     "model_name": "HBoxModel",
     "model_module_version": "1.5.0",
     "state": {
      "_dom_classes": [],
      "_model_module": "@jupyter-widgets/controls",
      "_model_module_version": "1.5.0",
      "_model_name": "HBoxModel",
      "_view_count": null,
      "_view_module": "@jupyter-widgets/controls",
      "_view_module_version": "1.5.0",
      "_view_name": "HBoxView",
      "box_style": "",
      "children": [
       "IPY_MODEL_302dc6a15e5141a48d86bfe3c91d3aec",
       "IPY_MODEL_0325b94438044bb39b9208c6610ad946",
       "IPY_MODEL_0e7409a346cd4aa1ab7dfd81828a6328"
      ],
      "layout": "IPY_MODEL_311ca942c56549588adc38a09382cd95"
     }
    },
    "302dc6a15e5141a48d86bfe3c91d3aec": {
     "model_module": "@jupyter-widgets/controls",
     "model_name": "HTMLModel",
     "model_module_version": "1.5.0",
     "state": {
      "_dom_classes": [],
      "_model_module": "@jupyter-widgets/controls",
      "_model_module_version": "1.5.0",
      "_model_name": "HTMLModel",
      "_view_count": null,
      "_view_module": "@jupyter-widgets/controls",
      "_view_module_version": "1.5.0",
      "_view_name": "HTMLView",
      "description": "",
      "description_tooltip": null,
      "layout": "IPY_MODEL_07e2db4b6e43491e836c95625cc88a3e",
      "placeholder": "​",
      "style": "IPY_MODEL_11c4f336dfd04492ade2ade506738ce6",
      "value": "Downloading data: 100%"
     }
    },
    "0325b94438044bb39b9208c6610ad946": {
     "model_module": "@jupyter-widgets/controls",
     "model_name": "FloatProgressModel",
     "model_module_version": "1.5.0",
     "state": {
      "_dom_classes": [],
      "_model_module": "@jupyter-widgets/controls",
      "_model_module_version": "1.5.0",
      "_model_name": "FloatProgressModel",
      "_view_count": null,
      "_view_module": "@jupyter-widgets/controls",
      "_view_module_version": "1.5.0",
      "_view_name": "ProgressView",
      "bar_style": "success",
      "description": "",
      "description_tooltip": null,
      "layout": "IPY_MODEL_6b85c1c44a8440fe992748d918849f0e",
      "max": 1234829,
      "min": 0,
      "orientation": "horizontal",
      "style": "IPY_MODEL_afb362d8214c463fa12ced5f7b7c6ca0",
      "value": 1234829
     }
    },
    "0e7409a346cd4aa1ab7dfd81828a6328": {
     "model_module": "@jupyter-widgets/controls",
     "model_name": "HTMLModel",
     "model_module_version": "1.5.0",
     "state": {
      "_dom_classes": [],
      "_model_module": "@jupyter-widgets/controls",
      "_model_module_version": "1.5.0",
      "_model_name": "HTMLModel",
      "_view_count": null,
      "_view_module": "@jupyter-widgets/controls",
      "_view_module_version": "1.5.0",
      "_view_name": "HTMLView",
      "description": "",
      "description_tooltip": null,
      "layout": "IPY_MODEL_9db73955b0ec4da6aae678c241970204",
      "placeholder": "​",
      "style": "IPY_MODEL_fdd88d90e9bb4322b904778b3751ebfc",
      "value": " 1.23M/1.23M [00:00&lt;00:00, 5.55MB/s]"
     }
    },
    "311ca942c56549588adc38a09382cd95": {
     "model_module": "@jupyter-widgets/base",
     "model_name": "LayoutModel",
     "model_module_version": "1.2.0",
     "state": {
      "_model_module": "@jupyter-widgets/base",
      "_model_module_version": "1.2.0",
      "_model_name": "LayoutModel",
      "_view_count": null,
      "_view_module": "@jupyter-widgets/base",
      "_view_module_version": "1.2.0",
      "_view_name": "LayoutView",
      "align_content": null,
      "align_items": null,
      "align_self": null,
      "border": null,
      "bottom": null,
      "display": null,
      "flex": null,
      "flex_flow": null,
      "grid_area": null,
      "grid_auto_columns": null,
      "grid_auto_flow": null,
      "grid_auto_rows": null,
      "grid_column": null,
      "grid_gap": null,
      "grid_row": null,
      "grid_template_areas": null,
      "grid_template_columns": null,
      "grid_template_rows": null,
      "height": null,
      "justify_content": null,
      "justify_items": null,
      "left": null,
      "margin": null,
      "max_height": null,
      "max_width": null,
      "min_height": null,
      "min_width": null,
      "object_fit": null,
      "object_position": null,
      "order": null,
      "overflow": null,
      "overflow_x": null,
      "overflow_y": null,
      "padding": null,
      "right": null,
      "top": null,
      "visibility": null,
      "width": null
     }
    },
    "07e2db4b6e43491e836c95625cc88a3e": {
     "model_module": "@jupyter-widgets/base",
     "model_name": "LayoutModel",
     "model_module_version": "1.2.0",
     "state": {
      "_model_module": "@jupyter-widgets/base",
      "_model_module_version": "1.2.0",
      "_model_name": "LayoutModel",
      "_view_count": null,
      "_view_module": "@jupyter-widgets/base",
      "_view_module_version": "1.2.0",
      "_view_name": "LayoutView",
      "align_content": null,
      "align_items": null,
      "align_self": null,
      "border": null,
      "bottom": null,
      "display": null,
      "flex": null,
      "flex_flow": null,
      "grid_area": null,
      "grid_auto_columns": null,
      "grid_auto_flow": null,
      "grid_auto_rows": null,
      "grid_column": null,
      "grid_gap": null,
      "grid_row": null,
      "grid_template_areas": null,
      "grid_template_columns": null,
      "grid_template_rows": null,
      "height": null,
      "justify_content": null,
      "justify_items": null,
      "left": null,
      "margin": null,
      "max_height": null,
      "max_width": null,
      "min_height": null,
      "min_width": null,
      "object_fit": null,
      "object_position": null,
      "order": null,
      "overflow": null,
      "overflow_x": null,
      "overflow_y": null,
      "padding": null,
      "right": null,
      "top": null,
      "visibility": null,
      "width": null
     }
    },
    "11c4f336dfd04492ade2ade506738ce6": {
     "model_module": "@jupyter-widgets/controls",
     "model_name": "DescriptionStyleModel",
     "model_module_version": "1.5.0",
     "state": {
      "_model_module": "@jupyter-widgets/controls",
      "_model_module_version": "1.5.0",
      "_model_name": "DescriptionStyleModel",
      "_view_count": null,
      "_view_module": "@jupyter-widgets/base",
      "_view_module_version": "1.2.0",
      "_view_name": "StyleView",
      "description_width": ""
     }
    },
    "6b85c1c44a8440fe992748d918849f0e": {
     "model_module": "@jupyter-widgets/base",
     "model_name": "LayoutModel",
     "model_module_version": "1.2.0",
     "state": {
      "_model_module": "@jupyter-widgets/base",
      "_model_module_version": "1.2.0",
      "_model_name": "LayoutModel",
      "_view_count": null,
      "_view_module": "@jupyter-widgets/base",
      "_view_module_version": "1.2.0",
      "_view_name": "LayoutView",
      "align_content": null,
      "align_items": null,
      "align_self": null,
      "border": null,
      "bottom": null,
      "display": null,
      "flex": null,
      "flex_flow": null,
      "grid_area": null,
      "grid_auto_columns": null,
      "grid_auto_flow": null,
      "grid_auto_rows": null,
      "grid_column": null,
      "grid_gap": null,
      "grid_row": null,
      "grid_template_areas": null,
      "grid_template_columns": null,
      "grid_template_rows": null,
      "height": null,
      "justify_content": null,
      "justify_items": null,
      "left": null,
      "margin": null,
      "max_height": null,
      "max_width": null,
      "min_height": null,
      "min_width": null,
      "object_fit": null,
      "object_position": null,
      "order": null,
      "overflow": null,
      "overflow_x": null,
      "overflow_y": null,
      "padding": null,
      "right": null,
      "top": null,
      "visibility": null,
      "width": null
     }
    },
    "afb362d8214c463fa12ced5f7b7c6ca0": {
     "model_module": "@jupyter-widgets/controls",
     "model_name": "ProgressStyleModel",
     "model_module_version": "1.5.0",
     "state": {
      "_model_module": "@jupyter-widgets/controls",
      "_model_module_version": "1.5.0",
      "_model_name": "ProgressStyleModel",
      "_view_count": null,
      "_view_module": "@jupyter-widgets/base",
      "_view_module_version": "1.2.0",
      "_view_name": "StyleView",
      "bar_color": null,
      "description_width": ""
     }
    },
    "9db73955b0ec4da6aae678c241970204": {
     "model_module": "@jupyter-widgets/base",
     "model_name": "LayoutModel",
     "model_module_version": "1.2.0",
     "state": {
      "_model_module": "@jupyter-widgets/base",
      "_model_module_version": "1.2.0",
      "_model_name": "LayoutModel",
      "_view_count": null,
      "_view_module": "@jupyter-widgets/base",
      "_view_module_version": "1.2.0",
      "_view_name": "LayoutView",
      "align_content": null,
      "align_items": null,
      "align_self": null,
      "border": null,
      "bottom": null,
      "display": null,
      "flex": null,
      "flex_flow": null,
      "grid_area": null,
      "grid_auto_columns": null,
      "grid_auto_flow": null,
      "grid_auto_rows": null,
      "grid_column": null,
      "grid_gap": null,
      "grid_row": null,
      "grid_template_areas": null,
      "grid_template_columns": null,
      "grid_template_rows": null,
      "height": null,
      "justify_content": null,
      "justify_items": null,
      "left": null,
      "margin": null,
      "max_height": null,
      "max_width": null,
      "min_height": null,
      "min_width": null,
      "object_fit": null,
      "object_position": null,
      "order": null,
      "overflow": null,
      "overflow_x": null,
      "overflow_y": null,
      "padding": null,
      "right": null,
      "top": null,
      "visibility": null,
      "width": null
     }
    },
    "fdd88d90e9bb4322b904778b3751ebfc": {
     "model_module": "@jupyter-widgets/controls",
     "model_name": "DescriptionStyleModel",
     "model_module_version": "1.5.0",
     "state": {
      "_model_module": "@jupyter-widgets/controls",
      "_model_module_version": "1.5.0",
      "_model_name": "DescriptionStyleModel",
      "_view_count": null,
      "_view_module": "@jupyter-widgets/base",
      "_view_module_version": "1.2.0",
      "_view_name": "StyleView",
      "description_width": ""
     }
    },
    "0660207e03a145338a24622d45f51ece": {
     "model_module": "@jupyter-widgets/controls",
     "model_name": "HBoxModel",
     "model_module_version": "1.5.0",
     "state": {
      "_dom_classes": [],
      "_model_module": "@jupyter-widgets/controls",
      "_model_module_version": "1.5.0",
      "_model_name": "HBoxModel",
      "_view_count": null,
      "_view_module": "@jupyter-widgets/controls",
      "_view_module_version": "1.5.0",
      "_view_name": "HBoxView",
      "box_style": "",
      "children": [
       "IPY_MODEL_5e8f9f9e7aff4dee9428a8f5d31cc056",
       "IPY_MODEL_ff4485acb9524c1aaad2da737d7b9414",
       "IPY_MODEL_61ee92d3da7a460a89046b147878c39c"
      ],
      "layout": "IPY_MODEL_29020e8ec2a04be5a27ad6c39a4595c6"
     }
    },
    "5e8f9f9e7aff4dee9428a8f5d31cc056": {
     "model_module": "@jupyter-widgets/controls",
     "model_name": "HTMLModel",
     "model_module_version": "1.5.0",
     "state": {
      "_dom_classes": [],
      "_model_module": "@jupyter-widgets/controls",
      "_model_module_version": "1.5.0",
      "_model_name": "HTMLModel",
      "_view_count": null,
      "_view_module": "@jupyter-widgets/controls",
      "_view_module_version": "1.5.0",
      "_view_name": "HTMLView",
      "description": "",
      "description_tooltip": null,
      "layout": "IPY_MODEL_ad8a23b312ea41998ab2917ab4e67912",
      "placeholder": "​",
      "style": "IPY_MODEL_503102898224488ca63adcb2fcef2c68",
      "value": "Generating train split: 100%"
     }
    },
    "ff4485acb9524c1aaad2da737d7b9414": {
     "model_module": "@jupyter-widgets/controls",
     "model_name": "FloatProgressModel",
     "model_module_version": "1.5.0",
     "state": {
      "_dom_classes": [],
      "_model_module": "@jupyter-widgets/controls",
      "_model_module_version": "1.5.0",
      "_model_name": "FloatProgressModel",
      "_view_count": null,
      "_view_module": "@jupyter-widgets/controls",
      "_view_module_version": "1.5.0",
      "_view_name": "ProgressView",
      "bar_style": "success",
      "description": "",
      "description_tooltip": null,
      "layout": "IPY_MODEL_df6f4bc0d8a145b3be548b30a6fbaa9a",
      "max": 120000,
      "min": 0,
      "orientation": "horizontal",
      "style": "IPY_MODEL_f6d271c543154f42a9f3bee2876ce58b",
      "value": 120000
     }
    },
    "61ee92d3da7a460a89046b147878c39c": {
     "model_module": "@jupyter-widgets/controls",
     "model_name": "HTMLModel",
     "model_module_version": "1.5.0",
     "state": {
      "_dom_classes": [],
      "_model_module": "@jupyter-widgets/controls",
      "_model_module_version": "1.5.0",
      "_model_name": "HTMLModel",
      "_view_count": null,
      "_view_module": "@jupyter-widgets/controls",
      "_view_module_version": "1.5.0",
      "_view_name": "HTMLView",
      "description": "",
      "description_tooltip": null,
      "layout": "IPY_MODEL_3f369ef75b024712afa27e8287f69bbd",
      "placeholder": "​",
      "style": "IPY_MODEL_a1d490bafc3344a8bb1045c9f43e358b",
      "value": " 120000/120000 [00:00&lt;00:00, 219347.56 examples/s]"
     }
    },
    "29020e8ec2a04be5a27ad6c39a4595c6": {
     "model_module": "@jupyter-widgets/base",
     "model_name": "LayoutModel",
     "model_module_version": "1.2.0",
     "state": {
      "_model_module": "@jupyter-widgets/base",
      "_model_module_version": "1.2.0",
      "_model_name": "LayoutModel",
      "_view_count": null,
      "_view_module": "@jupyter-widgets/base",
      "_view_module_version": "1.2.0",
      "_view_name": "LayoutView",
      "align_content": null,
      "align_items": null,
      "align_self": null,
      "border": null,
      "bottom": null,
      "display": null,
      "flex": null,
      "flex_flow": null,
      "grid_area": null,
      "grid_auto_columns": null,
      "grid_auto_flow": null,
      "grid_auto_rows": null,
      "grid_column": null,
      "grid_gap": null,
      "grid_row": null,
      "grid_template_areas": null,
      "grid_template_columns": null,
      "grid_template_rows": null,
      "height": null,
      "justify_content": null,
      "justify_items": null,
      "left": null,
      "margin": null,
      "max_height": null,
      "max_width": null,
      "min_height": null,
      "min_width": null,
      "object_fit": null,
      "object_position": null,
      "order": null,
      "overflow": null,
      "overflow_x": null,
      "overflow_y": null,
      "padding": null,
      "right": null,
      "top": null,
      "visibility": null,
      "width": null
     }
    },
    "ad8a23b312ea41998ab2917ab4e67912": {
     "model_module": "@jupyter-widgets/base",
     "model_name": "LayoutModel",
     "model_module_version": "1.2.0",
     "state": {
      "_model_module": "@jupyter-widgets/base",
      "_model_module_version": "1.2.0",
      "_model_name": "LayoutModel",
      "_view_count": null,
      "_view_module": "@jupyter-widgets/base",
      "_view_module_version": "1.2.0",
      "_view_name": "LayoutView",
      "align_content": null,
      "align_items": null,
      "align_self": null,
      "border": null,
      "bottom": null,
      "display": null,
      "flex": null,
      "flex_flow": null,
      "grid_area": null,
      "grid_auto_columns": null,
      "grid_auto_flow": null,
      "grid_auto_rows": null,
      "grid_column": null,
      "grid_gap": null,
      "grid_row": null,
      "grid_template_areas": null,
      "grid_template_columns": null,
      "grid_template_rows": null,
      "height": null,
      "justify_content": null,
      "justify_items": null,
      "left": null,
      "margin": null,
      "max_height": null,
      "max_width": null,
      "min_height": null,
      "min_width": null,
      "object_fit": null,
      "object_position": null,
      "order": null,
      "overflow": null,
      "overflow_x": null,
      "overflow_y": null,
      "padding": null,
      "right": null,
      "top": null,
      "visibility": null,
      "width": null
     }
    },
    "503102898224488ca63adcb2fcef2c68": {
     "model_module": "@jupyter-widgets/controls",
     "model_name": "DescriptionStyleModel",
     "model_module_version": "1.5.0",
     "state": {
      "_model_module": "@jupyter-widgets/controls",
      "_model_module_version": "1.5.0",
      "_model_name": "DescriptionStyleModel",
      "_view_count": null,
      "_view_module": "@jupyter-widgets/base",
      "_view_module_version": "1.2.0",
      "_view_name": "StyleView",
      "description_width": ""
     }
    },
    "df6f4bc0d8a145b3be548b30a6fbaa9a": {
     "model_module": "@jupyter-widgets/base",
     "model_name": "LayoutModel",
     "model_module_version": "1.2.0",
     "state": {
      "_model_module": "@jupyter-widgets/base",
      "_model_module_version": "1.2.0",
      "_model_name": "LayoutModel",
      "_view_count": null,
      "_view_module": "@jupyter-widgets/base",
      "_view_module_version": "1.2.0",
      "_view_name": "LayoutView",
      "align_content": null,
      "align_items": null,
      "align_self": null,
      "border": null,
      "bottom": null,
      "display": null,
      "flex": null,
      "flex_flow": null,
      "grid_area": null,
      "grid_auto_columns": null,
      "grid_auto_flow": null,
      "grid_auto_rows": null,
      "grid_column": null,
      "grid_gap": null,
      "grid_row": null,
      "grid_template_areas": null,
      "grid_template_columns": null,
      "grid_template_rows": null,
      "height": null,
      "justify_content": null,
      "justify_items": null,
      "left": null,
      "margin": null,
      "max_height": null,
      "max_width": null,
      "min_height": null,
      "min_width": null,
      "object_fit": null,
      "object_position": null,
      "order": null,
      "overflow": null,
      "overflow_x": null,
      "overflow_y": null,
      "padding": null,
      "right": null,
      "top": null,
      "visibility": null,
      "width": null
     }
    },
    "f6d271c543154f42a9f3bee2876ce58b": {
     "model_module": "@jupyter-widgets/controls",
     "model_name": "ProgressStyleModel",
     "model_module_version": "1.5.0",
     "state": {
      "_model_module": "@jupyter-widgets/controls",
      "_model_module_version": "1.5.0",
      "_model_name": "ProgressStyleModel",
      "_view_count": null,
      "_view_module": "@jupyter-widgets/base",
      "_view_module_version": "1.2.0",
      "_view_name": "StyleView",
      "bar_color": null,
      "description_width": ""
     }
    },
    "3f369ef75b024712afa27e8287f69bbd": {
     "model_module": "@jupyter-widgets/base",
     "model_name": "LayoutModel",
     "model_module_version": "1.2.0",
     "state": {
      "_model_module": "@jupyter-widgets/base",
      "_model_module_version": "1.2.0",
      "_model_name": "LayoutModel",
      "_view_count": null,
      "_view_module": "@jupyter-widgets/base",
      "_view_module_version": "1.2.0",
      "_view_name": "LayoutView",
      "align_content": null,
      "align_items": null,
      "align_self": null,
      "border": null,
      "bottom": null,
      "display": null,
      "flex": null,
      "flex_flow": null,
      "grid_area": null,
      "grid_auto_columns": null,
      "grid_auto_flow": null,
      "grid_auto_rows": null,
      "grid_column": null,
      "grid_gap": null,
      "grid_row": null,
      "grid_template_areas": null,
      "grid_template_columns": null,
      "grid_template_rows": null,
      "height": null,
      "justify_content": null,
      "justify_items": null,
      "left": null,
      "margin": null,
      "max_height": null,
      "max_width": null,
      "min_height": null,
      "min_width": null,
      "object_fit": null,
      "object_position": null,
      "order": null,
      "overflow": null,
      "overflow_x": null,
      "overflow_y": null,
      "padding": null,
      "right": null,
      "top": null,
      "visibility": null,
      "width": null
     }
    },
    "a1d490bafc3344a8bb1045c9f43e358b": {
     "model_module": "@jupyter-widgets/controls",
     "model_name": "DescriptionStyleModel",
     "model_module_version": "1.5.0",
     "state": {
      "_model_module": "@jupyter-widgets/controls",
      "_model_module_version": "1.5.0",
      "_model_name": "DescriptionStyleModel",
      "_view_count": null,
      "_view_module": "@jupyter-widgets/base",
      "_view_module_version": "1.2.0",
      "_view_name": "StyleView",
      "description_width": ""
     }
    },
    "ecd9a2b507f74196bf364fbd9ae995ea": {
     "model_module": "@jupyter-widgets/controls",
     "model_name": "HBoxModel",
     "model_module_version": "1.5.0",
     "state": {
      "_dom_classes": [],
      "_model_module": "@jupyter-widgets/controls",
      "_model_module_version": "1.5.0",
      "_model_name": "HBoxModel",
      "_view_count": null,
      "_view_module": "@jupyter-widgets/controls",
      "_view_module_version": "1.5.0",
      "_view_name": "HBoxView",
      "box_style": "",
      "children": [
       "IPY_MODEL_523783899f3d4f2ab72d22aac640984f",
       "IPY_MODEL_9887d22c2d8e433b95241d1a3bddd8e4",
       "IPY_MODEL_aaa6d70d7b71489491a5885a32357720"
      ],
      "layout": "IPY_MODEL_96095a6dd84d4fb4b28f3c7cb5253bb2"
     }
    },
    "523783899f3d4f2ab72d22aac640984f": {
     "model_module": "@jupyter-widgets/controls",
     "model_name": "HTMLModel",
     "model_module_version": "1.5.0",
     "state": {
      "_dom_classes": [],
      "_model_module": "@jupyter-widgets/controls",
      "_model_module_version": "1.5.0",
      "_model_name": "HTMLModel",
      "_view_count": null,
      "_view_module": "@jupyter-widgets/controls",
      "_view_module_version": "1.5.0",
      "_view_name": "HTMLView",
      "description": "",
      "description_tooltip": null,
      "layout": "IPY_MODEL_0da5aee6c2fe405ebc932a3cac479591",
      "placeholder": "​",
      "style": "IPY_MODEL_31e7b5bed6cb4571bc2e32d483f4e099",
      "value": "Generating test split: 100%"
     }
    },
    "9887d22c2d8e433b95241d1a3bddd8e4": {
     "model_module": "@jupyter-widgets/controls",
     "model_name": "FloatProgressModel",
     "model_module_version": "1.5.0",
     "state": {
      "_dom_classes": [],
      "_model_module": "@jupyter-widgets/controls",
      "_model_module_version": "1.5.0",
      "_model_name": "FloatProgressModel",
      "_view_count": null,
      "_view_module": "@jupyter-widgets/controls",
      "_view_module_version": "1.5.0",
      "_view_name": "ProgressView",
      "bar_style": "success",
      "description": "",
      "description_tooltip": null,
      "layout": "IPY_MODEL_5d4335b1b279402fb3f22af05b478d81",
      "max": 7600,
      "min": 0,
      "orientation": "horizontal",
      "style": "IPY_MODEL_7454d0829deb482aac69f9117d637abc",
      "value": 7600
     }
    },
    "aaa6d70d7b71489491a5885a32357720": {
     "model_module": "@jupyter-widgets/controls",
     "model_name": "HTMLModel",
     "model_module_version": "1.5.0",
     "state": {
      "_dom_classes": [],
      "_model_module": "@jupyter-widgets/controls",
      "_model_module_version": "1.5.0",
      "_model_name": "HTMLModel",
      "_view_count": null,
      "_view_module": "@jupyter-widgets/controls",
      "_view_module_version": "1.5.0",
      "_view_name": "HTMLView",
      "description": "",
      "description_tooltip": null,
      "layout": "IPY_MODEL_e633f33866bd4e959ee873bee98d098d",
      "placeholder": "​",
      "style": "IPY_MODEL_749fdccbb8944bbfbcf90f5b61861ebd",
      "value": " 7600/7600 [00:00&lt;00:00, 69263.62 examples/s]"
     }
    },
    "96095a6dd84d4fb4b28f3c7cb5253bb2": {
     "model_module": "@jupyter-widgets/base",
     "model_name": "LayoutModel",
     "model_module_version": "1.2.0",
     "state": {
      "_model_module": "@jupyter-widgets/base",
      "_model_module_version": "1.2.0",
      "_model_name": "LayoutModel",
      "_view_count": null,
      "_view_module": "@jupyter-widgets/base",
      "_view_module_version": "1.2.0",
      "_view_name": "LayoutView",
      "align_content": null,
      "align_items": null,
      "align_self": null,
      "border": null,
      "bottom": null,
      "display": null,
      "flex": null,
      "flex_flow": null,
      "grid_area": null,
      "grid_auto_columns": null,
      "grid_auto_flow": null,
      "grid_auto_rows": null,
      "grid_column": null,
      "grid_gap": null,
      "grid_row": null,
      "grid_template_areas": null,
      "grid_template_columns": null,
      "grid_template_rows": null,
      "height": null,
      "justify_content": null,
      "justify_items": null,
      "left": null,
      "margin": null,
      "max_height": null,
      "max_width": null,
      "min_height": null,
      "min_width": null,
      "object_fit": null,
      "object_position": null,
      "order": null,
      "overflow": null,
      "overflow_x": null,
      "overflow_y": null,
      "padding": null,
      "right": null,
      "top": null,
      "visibility": null,
      "width": null
     }
    },
    "0da5aee6c2fe405ebc932a3cac479591": {
     "model_module": "@jupyter-widgets/base",
     "model_name": "LayoutModel",
     "model_module_version": "1.2.0",
     "state": {
      "_model_module": "@jupyter-widgets/base",
      "_model_module_version": "1.2.0",
      "_model_name": "LayoutModel",
      "_view_count": null,
      "_view_module": "@jupyter-widgets/base",
      "_view_module_version": "1.2.0",
      "_view_name": "LayoutView",
      "align_content": null,
      "align_items": null,
      "align_self": null,
      "border": null,
      "bottom": null,
      "display": null,
      "flex": null,
      "flex_flow": null,
      "grid_area": null,
      "grid_auto_columns": null,
      "grid_auto_flow": null,
      "grid_auto_rows": null,
      "grid_column": null,
      "grid_gap": null,
      "grid_row": null,
      "grid_template_areas": null,
      "grid_template_columns": null,
      "grid_template_rows": null,
      "height": null,
      "justify_content": null,
      "justify_items": null,
      "left": null,
      "margin": null,
      "max_height": null,
      "max_width": null,
      "min_height": null,
      "min_width": null,
      "object_fit": null,
      "object_position": null,
      "order": null,
      "overflow": null,
      "overflow_x": null,
      "overflow_y": null,
      "padding": null,
      "right": null,
      "top": null,
      "visibility": null,
      "width": null
     }
    },
    "31e7b5bed6cb4571bc2e32d483f4e099": {
     "model_module": "@jupyter-widgets/controls",
     "model_name": "DescriptionStyleModel",
     "model_module_version": "1.5.0",
     "state": {
      "_model_module": "@jupyter-widgets/controls",
      "_model_module_version": "1.5.0",
      "_model_name": "DescriptionStyleModel",
      "_view_count": null,
      "_view_module": "@jupyter-widgets/base",
      "_view_module_version": "1.2.0",
      "_view_name": "StyleView",
      "description_width": ""
     }
    },
    "5d4335b1b279402fb3f22af05b478d81": {
     "model_module": "@jupyter-widgets/base",
     "model_name": "LayoutModel",
     "model_module_version": "1.2.0",
     "state": {
      "_model_module": "@jupyter-widgets/base",
      "_model_module_version": "1.2.0",
      "_model_name": "LayoutModel",
      "_view_count": null,
      "_view_module": "@jupyter-widgets/base",
      "_view_module_version": "1.2.0",
      "_view_name": "LayoutView",
      "align_content": null,
      "align_items": null,
      "align_self": null,
      "border": null,
      "bottom": null,
      "display": null,
      "flex": null,
      "flex_flow": null,
      "grid_area": null,
      "grid_auto_columns": null,
      "grid_auto_flow": null,
      "grid_auto_rows": null,
      "grid_column": null,
      "grid_gap": null,
      "grid_row": null,
      "grid_template_areas": null,
      "grid_template_columns": null,
      "grid_template_rows": null,
      "height": null,
      "justify_content": null,
      "justify_items": null,
      "left": null,
      "margin": null,
      "max_height": null,
      "max_width": null,
      "min_height": null,
      "min_width": null,
      "object_fit": null,
      "object_position": null,
      "order": null,
      "overflow": null,
      "overflow_x": null,
      "overflow_y": null,
      "padding": null,
      "right": null,
      "top": null,
      "visibility": null,
      "width": null
     }
    },
    "7454d0829deb482aac69f9117d637abc": {
     "model_module": "@jupyter-widgets/controls",
     "model_name": "ProgressStyleModel",
     "model_module_version": "1.5.0",
     "state": {
      "_model_module": "@jupyter-widgets/controls",
      "_model_module_version": "1.5.0",
      "_model_name": "ProgressStyleModel",
      "_view_count": null,
      "_view_module": "@jupyter-widgets/base",
      "_view_module_version": "1.2.0",
      "_view_name": "StyleView",
      "bar_color": null,
      "description_width": ""
     }
    },
    "e633f33866bd4e959ee873bee98d098d": {
     "model_module": "@jupyter-widgets/base",
     "model_name": "LayoutModel",
     "model_module_version": "1.2.0",
     "state": {
      "_model_module": "@jupyter-widgets/base",
      "_model_module_version": "1.2.0",
      "_model_name": "LayoutModel",
      "_view_count": null,
      "_view_module": "@jupyter-widgets/base",
      "_view_module_version": "1.2.0",
      "_view_name": "LayoutView",
      "align_content": null,
      "align_items": null,
      "align_self": null,
      "border": null,
      "bottom": null,
      "display": null,
      "flex": null,
      "flex_flow": null,
      "grid_area": null,
      "grid_auto_columns": null,
      "grid_auto_flow": null,
      "grid_auto_rows": null,
      "grid_column": null,
      "grid_gap": null,
      "grid_row": null,
      "grid_template_areas": null,
      "grid_template_columns": null,
      "grid_template_rows": null,
      "height": null,
      "justify_content": null,
      "justify_items": null,
      "left": null,
      "margin": null,
      "max_height": null,
      "max_width": null,
      "min_height": null,
      "min_width": null,
      "object_fit": null,
      "object_position": null,
      "order": null,
      "overflow": null,
      "overflow_x": null,
      "overflow_y": null,
      "padding": null,
      "right": null,
      "top": null,
      "visibility": null,
      "width": null
     }
    },
    "749fdccbb8944bbfbcf90f5b61861ebd": {
     "model_module": "@jupyter-widgets/controls",
     "model_name": "DescriptionStyleModel",
     "model_module_version": "1.5.0",
     "state": {
      "_model_module": "@jupyter-widgets/controls",
      "_model_module_version": "1.5.0",
      "_model_name": "DescriptionStyleModel",
      "_view_count": null,
      "_view_module": "@jupyter-widgets/base",
      "_view_module_version": "1.2.0",
      "_view_name": "StyleView",
      "description_width": ""
     }
    },
    "43f09b14bd9041c5afbba96ac1a90c96": {
     "model_module": "@jupyter-widgets/controls",
     "model_name": "HBoxModel",
     "model_module_version": "1.5.0",
     "state": {
      "_dom_classes": [],
      "_model_module": "@jupyter-widgets/controls",
      "_model_module_version": "1.5.0",
      "_model_name": "HBoxModel",
      "_view_count": null,
      "_view_module": "@jupyter-widgets/controls",
      "_view_module_version": "1.5.0",
      "_view_name": "HBoxView",
      "box_style": "",
      "children": [
       "IPY_MODEL_ff6f0e2347094b9382c3c68be87693a8",
       "IPY_MODEL_aeeb8be92f03444aa63eb3f1d10513d3",
       "IPY_MODEL_844d4458212f4ef299b577ebfccdf6d6"
      ],
      "layout": "IPY_MODEL_45f16a89c4a64a83afe723b17ff23681"
     }
    },
    "ff6f0e2347094b9382c3c68be87693a8": {
     "model_module": "@jupyter-widgets/controls",
     "model_name": "HTMLModel",
     "model_module_version": "1.5.0",
     "state": {
      "_dom_classes": [],
      "_model_module": "@jupyter-widgets/controls",
      "_model_module_version": "1.5.0",
      "_model_name": "HTMLModel",
      "_view_count": null,
      "_view_module": "@jupyter-widgets/controls",
      "_view_module_version": "1.5.0",
      "_view_name": "HTMLView",
      "description": "",
      "description_tooltip": null,
      "layout": "IPY_MODEL_51db63d716e04c9390d234daebb4da93",
      "placeholder": "​",
      "style": "IPY_MODEL_970719f6c9b947a886f4ade3fb5da9e3",
      "value": "100%"
     }
    },
    "aeeb8be92f03444aa63eb3f1d10513d3": {
     "model_module": "@jupyter-widgets/controls",
     "model_name": "FloatProgressModel",
     "model_module_version": "1.5.0",
     "state": {
      "_dom_classes": [],
      "_model_module": "@jupyter-widgets/controls",
      "_model_module_version": "1.5.0",
      "_model_name": "FloatProgressModel",
      "_view_count": null,
      "_view_module": "@jupyter-widgets/controls",
      "_view_module_version": "1.5.0",
      "_view_name": "ProgressView",
      "bar_style": "success",
      "description": "",
      "description_tooltip": null,
      "layout": "IPY_MODEL_a62b37336baa4ed2aa343a9cbc69638f",
      "max": 120000,
      "min": 0,
      "orientation": "horizontal",
      "style": "IPY_MODEL_97a6beee1bc5430ca8c312b338ab6d9d",
      "value": 120000
     }
    },
    "844d4458212f4ef299b577ebfccdf6d6": {
     "model_module": "@jupyter-widgets/controls",
     "model_name": "HTMLModel",
     "model_module_version": "1.5.0",
     "state": {
      "_dom_classes": [],
      "_model_module": "@jupyter-widgets/controls",
      "_model_module_version": "1.5.0",
      "_model_name": "HTMLModel",
      "_view_count": null,
      "_view_module": "@jupyter-widgets/controls",
      "_view_module_version": "1.5.0",
      "_view_name": "HTMLView",
      "description": "",
      "description_tooltip": null,
      "layout": "IPY_MODEL_3652ebd6d79a460c80ef3a62f75ef868",
      "placeholder": "​",
      "style": "IPY_MODEL_bef60e3859964a9194383d89f458e55a",
      "value": " 120000/120000 [00:44&lt;00:00, 4373.53it/s]"
     }
    },
    "45f16a89c4a64a83afe723b17ff23681": {
     "model_module": "@jupyter-widgets/base",
     "model_name": "LayoutModel",
     "model_module_version": "1.2.0",
     "state": {
      "_model_module": "@jupyter-widgets/base",
      "_model_module_version": "1.2.0",
      "_model_name": "LayoutModel",
      "_view_count": null,
      "_view_module": "@jupyter-widgets/base",
      "_view_module_version": "1.2.0",
      "_view_name": "LayoutView",
      "align_content": null,
      "align_items": null,
      "align_self": null,
      "border": null,
      "bottom": null,
      "display": null,
      "flex": null,
      "flex_flow": null,
      "grid_area": null,
      "grid_auto_columns": null,
      "grid_auto_flow": null,
      "grid_auto_rows": null,
      "grid_column": null,
      "grid_gap": null,
      "grid_row": null,
      "grid_template_areas": null,
      "grid_template_columns": null,
      "grid_template_rows": null,
      "height": null,
      "justify_content": null,
      "justify_items": null,
      "left": null,
      "margin": null,
      "max_height": null,
      "max_width": null,
      "min_height": null,
      "min_width": null,
      "object_fit": null,
      "object_position": null,
      "order": null,
      "overflow": null,
      "overflow_x": null,
      "overflow_y": null,
      "padding": null,
      "right": null,
      "top": null,
      "visibility": null,
      "width": null
     }
    },
    "51db63d716e04c9390d234daebb4da93": {
     "model_module": "@jupyter-widgets/base",
     "model_name": "LayoutModel",
     "model_module_version": "1.2.0",
     "state": {
      "_model_module": "@jupyter-widgets/base",
      "_model_module_version": "1.2.0",
      "_model_name": "LayoutModel",
      "_view_count": null,
      "_view_module": "@jupyter-widgets/base",
      "_view_module_version": "1.2.0",
      "_view_name": "LayoutView",
      "align_content": null,
      "align_items": null,
      "align_self": null,
      "border": null,
      "bottom": null,
      "display": null,
      "flex": null,
      "flex_flow": null,
      "grid_area": null,
      "grid_auto_columns": null,
      "grid_auto_flow": null,
      "grid_auto_rows": null,
      "grid_column": null,
      "grid_gap": null,
      "grid_row": null,
      "grid_template_areas": null,
      "grid_template_columns": null,
      "grid_template_rows": null,
      "height": null,
      "justify_content": null,
      "justify_items": null,
      "left": null,
      "margin": null,
      "max_height": null,
      "max_width": null,
      "min_height": null,
      "min_width": null,
      "object_fit": null,
      "object_position": null,
      "order": null,
      "overflow": null,
      "overflow_x": null,
      "overflow_y": null,
      "padding": null,
      "right": null,
      "top": null,
      "visibility": null,
      "width": null
     }
    },
    "970719f6c9b947a886f4ade3fb5da9e3": {
     "model_module": "@jupyter-widgets/controls",
     "model_name": "DescriptionStyleModel",
     "model_module_version": "1.5.0",
     "state": {
      "_model_module": "@jupyter-widgets/controls",
      "_model_module_version": "1.5.0",
      "_model_name": "DescriptionStyleModel",
      "_view_count": null,
      "_view_module": "@jupyter-widgets/base",
      "_view_module_version": "1.2.0",
      "_view_name": "StyleView",
      "description_width": ""
     }
    },
    "a62b37336baa4ed2aa343a9cbc69638f": {
     "model_module": "@jupyter-widgets/base",
     "model_name": "LayoutModel",
     "model_module_version": "1.2.0",
     "state": {
      "_model_module": "@jupyter-widgets/base",
      "_model_module_version": "1.2.0",
      "_model_name": "LayoutModel",
      "_view_count": null,
      "_view_module": "@jupyter-widgets/base",
      "_view_module_version": "1.2.0",
      "_view_name": "LayoutView",
      "align_content": null,
      "align_items": null,
      "align_self": null,
      "border": null,
      "bottom": null,
      "display": null,
      "flex": null,
      "flex_flow": null,
      "grid_area": null,
      "grid_auto_columns": null,
      "grid_auto_flow": null,
      "grid_auto_rows": null,
      "grid_column": null,
      "grid_gap": null,
      "grid_row": null,
      "grid_template_areas": null,
      "grid_template_columns": null,
      "grid_template_rows": null,
      "height": null,
      "justify_content": null,
      "justify_items": null,
      "left": null,
      "margin": null,
      "max_height": null,
      "max_width": null,
      "min_height": null,
      "min_width": null,
      "object_fit": null,
      "object_position": null,
      "order": null,
      "overflow": null,
      "overflow_x": null,
      "overflow_y": null,
      "padding": null,
      "right": null,
      "top": null,
      "visibility": null,
      "width": null
     }
    },
    "97a6beee1bc5430ca8c312b338ab6d9d": {
     "model_module": "@jupyter-widgets/controls",
     "model_name": "ProgressStyleModel",
     "model_module_version": "1.5.0",
     "state": {
      "_model_module": "@jupyter-widgets/controls",
      "_model_module_version": "1.5.0",
      "_model_name": "ProgressStyleModel",
      "_view_count": null,
      "_view_module": "@jupyter-widgets/base",
      "_view_module_version": "1.2.0",
      "_view_name": "StyleView",
      "bar_color": null,
      "description_width": ""
     }
    },
    "3652ebd6d79a460c80ef3a62f75ef868": {
     "model_module": "@jupyter-widgets/base",
     "model_name": "LayoutModel",
     "model_module_version": "1.2.0",
     "state": {
      "_model_module": "@jupyter-widgets/base",
      "_model_module_version": "1.2.0",
      "_model_name": "LayoutModel",
      "_view_count": null,
      "_view_module": "@jupyter-widgets/base",
      "_view_module_version": "1.2.0",
      "_view_name": "LayoutView",
      "align_content": null,
      "align_items": null,
      "align_self": null,
      "border": null,
      "bottom": null,
      "display": null,
      "flex": null,
      "flex_flow": null,
      "grid_area": null,
      "grid_auto_columns": null,
      "grid_auto_flow": null,
      "grid_auto_rows": null,
      "grid_column": null,
      "grid_gap": null,
      "grid_row": null,
      "grid_template_areas": null,
      "grid_template_columns": null,
      "grid_template_rows": null,
      "height": null,
      "justify_content": null,
      "justify_items": null,
      "left": null,
      "margin": null,
      "max_height": null,
      "max_width": null,
      "min_height": null,
      "min_width": null,
      "object_fit": null,
      "object_position": null,
      "order": null,
      "overflow": null,
      "overflow_x": null,
      "overflow_y": null,
      "padding": null,
      "right": null,
      "top": null,
      "visibility": null,
      "width": null
     }
    },
    "bef60e3859964a9194383d89f458e55a": {
     "model_module": "@jupyter-widgets/controls",
     "model_name": "DescriptionStyleModel",
     "model_module_version": "1.5.0",
     "state": {
      "_model_module": "@jupyter-widgets/controls",
      "_model_module_version": "1.5.0",
      "_model_name": "DescriptionStyleModel",
      "_view_count": null,
      "_view_module": "@jupyter-widgets/base",
      "_view_module_version": "1.2.0",
      "_view_name": "StyleView",
      "description_width": ""
     }
    }
   }
  }
 },
 "cells": [
  {
   "cell_type": "markdown",
   "source": [
    "# Домашнее задание. Нейросетевая классификация текстов\n",
    "\n",
    "В этом домашнем задании вам предстоит самостоятельно решить задачу классификации текстов на основе семинарского кода. Мы будем использовать датасет [ag_news](https://paperswithcode.com/dataset/ag-news). Это датасет для классификации новостей на 4 темы: \"World\", \"Sports\", \"Business\", \"Sci/Tech\".\n",
    "\n",
    "Установим модуль datasets, чтобы нам проще было работать с данными."
   ],
   "metadata": {
    "id": "d0ADTojbpfLt"
   }
  },
  {
   "cell_type": "code",
   "source": [
    "!pip install datasets"
   ],
   "metadata": {
    "id": "p2QW_jCR0_kh",
    "colab": {
     "base_uri": "https://localhost:8080/"
    },
    "outputId": "59e48c28-7b04-43be-e19d-0943f59b0c7c"
   },
   "execution_count": 1,
   "outputs": [
    {
     "output_type": "stream",
     "name": "stdout",
     "text": [
      "Collecting datasets\n",
      "  Downloading datasets-2.20.0-py3-none-any.whl (547 kB)\n",
      "\u001B[2K     \u001B[90m━━━━━━━━━━━━━━━━━━━━━━━━━━━━━━━━━━━━━━━━\u001B[0m \u001B[32m547.8/547.8 kB\u001B[0m \u001B[31m3.7 MB/s\u001B[0m eta \u001B[36m0:00:00\u001B[0m\n",
      "\u001B[?25hRequirement already satisfied: filelock in /usr/local/lib/python3.10/dist-packages (from datasets) (3.15.4)\n",
      "Requirement already satisfied: numpy>=1.17 in /usr/local/lib/python3.10/dist-packages (from datasets) (1.25.2)\n",
      "Collecting pyarrow>=15.0.0 (from datasets)\n",
      "  Downloading pyarrow-16.1.0-cp310-cp310-manylinux_2_28_x86_64.whl (40.8 MB)\n",
      "\u001B[2K     \u001B[90m━━━━━━━━━━━━━━━━━━━━━━━━━━━━━━━━━━━━━━━━\u001B[0m \u001B[32m40.8/40.8 MB\u001B[0m \u001B[31m7.7 MB/s\u001B[0m eta \u001B[36m0:00:00\u001B[0m\n",
      "\u001B[?25hRequirement already satisfied: pyarrow-hotfix in /usr/local/lib/python3.10/dist-packages (from datasets) (0.6)\n",
      "Collecting dill<0.3.9,>=0.3.0 (from datasets)\n",
      "  Downloading dill-0.3.8-py3-none-any.whl (116 kB)\n",
      "\u001B[2K     \u001B[90m━━━━━━━━━━━━━━━━━━━━━━━━━━━━━━━━━━━━━━━━\u001B[0m \u001B[32m116.3/116.3 kB\u001B[0m \u001B[31m10.8 MB/s\u001B[0m eta \u001B[36m0:00:00\u001B[0m\n",
      "\u001B[?25hRequirement already satisfied: pandas in /usr/local/lib/python3.10/dist-packages (from datasets) (2.0.3)\n",
      "Collecting requests>=2.32.2 (from datasets)\n",
      "  Downloading requests-2.32.3-py3-none-any.whl (64 kB)\n",
      "\u001B[2K     \u001B[90m━━━━━━━━━━━━━━━━━━━━━━━━━━━━━━━━━━━━━━━━\u001B[0m \u001B[32m64.9/64.9 kB\u001B[0m \u001B[31m2.8 MB/s\u001B[0m eta \u001B[36m0:00:00\u001B[0m\n",
      "\u001B[?25hRequirement already satisfied: tqdm>=4.66.3 in /usr/local/lib/python3.10/dist-packages (from datasets) (4.66.4)\n",
      "Collecting xxhash (from datasets)\n",
      "  Downloading xxhash-3.4.1-cp310-cp310-manylinux_2_17_x86_64.manylinux2014_x86_64.whl (194 kB)\n",
      "\u001B[2K     \u001B[90m━━━━━━━━━━━━━━━━━━━━━━━━━━━━━━━━━━━━━━━━\u001B[0m \u001B[32m194.1/194.1 kB\u001B[0m \u001B[31m6.9 MB/s\u001B[0m eta \u001B[36m0:00:00\u001B[0m\n",
      "\u001B[?25hCollecting multiprocess (from datasets)\n",
      "  Downloading multiprocess-0.70.16-py310-none-any.whl (134 kB)\n",
      "\u001B[2K     \u001B[90m━━━━━━━━━━━━━━━━━━━━━━━━━━━━━━━━━━━━━━━━\u001B[0m \u001B[32m134.8/134.8 kB\u001B[0m \u001B[31m7.9 MB/s\u001B[0m eta \u001B[36m0:00:00\u001B[0m\n",
      "\u001B[?25hRequirement already satisfied: fsspec[http]<=2024.5.0,>=2023.1.0 in /usr/local/lib/python3.10/dist-packages (from datasets) (2023.6.0)\n",
      "Requirement already satisfied: aiohttp in /usr/local/lib/python3.10/dist-packages (from datasets) (3.9.5)\n",
      "Requirement already satisfied: huggingface-hub>=0.21.2 in /usr/local/lib/python3.10/dist-packages (from datasets) (0.23.4)\n",
      "Requirement already satisfied: packaging in /usr/local/lib/python3.10/dist-packages (from datasets) (24.1)\n",
      "Requirement already satisfied: pyyaml>=5.1 in /usr/local/lib/python3.10/dist-packages (from datasets) (6.0.1)\n",
      "Requirement already satisfied: aiosignal>=1.1.2 in /usr/local/lib/python3.10/dist-packages (from aiohttp->datasets) (1.3.1)\n",
      "Requirement already satisfied: attrs>=17.3.0 in /usr/local/lib/python3.10/dist-packages (from aiohttp->datasets) (23.2.0)\n",
      "Requirement already satisfied: frozenlist>=1.1.1 in /usr/local/lib/python3.10/dist-packages (from aiohttp->datasets) (1.4.1)\n",
      "Requirement already satisfied: multidict<7.0,>=4.5 in /usr/local/lib/python3.10/dist-packages (from aiohttp->datasets) (6.0.5)\n",
      "Requirement already satisfied: yarl<2.0,>=1.0 in /usr/local/lib/python3.10/dist-packages (from aiohttp->datasets) (1.9.4)\n",
      "Requirement already satisfied: async-timeout<5.0,>=4.0 in /usr/local/lib/python3.10/dist-packages (from aiohttp->datasets) (4.0.3)\n",
      "Requirement already satisfied: typing-extensions>=3.7.4.3 in /usr/local/lib/python3.10/dist-packages (from huggingface-hub>=0.21.2->datasets) (4.12.2)\n",
      "Requirement already satisfied: charset-normalizer<4,>=2 in /usr/local/lib/python3.10/dist-packages (from requests>=2.32.2->datasets) (3.3.2)\n",
      "Requirement already satisfied: idna<4,>=2.5 in /usr/local/lib/python3.10/dist-packages (from requests>=2.32.2->datasets) (3.7)\n",
      "Requirement already satisfied: urllib3<3,>=1.21.1 in /usr/local/lib/python3.10/dist-packages (from requests>=2.32.2->datasets) (2.0.7)\n",
      "Requirement already satisfied: certifi>=2017.4.17 in /usr/local/lib/python3.10/dist-packages (from requests>=2.32.2->datasets) (2024.6.2)\n",
      "Requirement already satisfied: python-dateutil>=2.8.2 in /usr/local/lib/python3.10/dist-packages (from pandas->datasets) (2.8.2)\n",
      "Requirement already satisfied: pytz>=2020.1 in /usr/local/lib/python3.10/dist-packages (from pandas->datasets) (2023.4)\n",
      "Requirement already satisfied: tzdata>=2022.1 in /usr/local/lib/python3.10/dist-packages (from pandas->datasets) (2024.1)\n",
      "Requirement already satisfied: six>=1.5 in /usr/local/lib/python3.10/dist-packages (from python-dateutil>=2.8.2->pandas->datasets) (1.16.0)\n",
      "Installing collected packages: xxhash, requests, pyarrow, dill, multiprocess, datasets\n",
      "  Attempting uninstall: requests\n",
      "    Found existing installation: requests 2.31.0\n",
      "    Uninstalling requests-2.31.0:\n",
      "      Successfully uninstalled requests-2.31.0\n",
      "  Attempting uninstall: pyarrow\n",
      "    Found existing installation: pyarrow 14.0.2\n",
      "    Uninstalling pyarrow-14.0.2:\n",
      "      Successfully uninstalled pyarrow-14.0.2\n",
      "\u001B[31mERROR: pip's dependency resolver does not currently take into account all the packages that are installed. This behaviour is the source of the following dependency conflicts.\n",
      "cudf-cu12 24.4.1 requires pyarrow<15.0.0a0,>=14.0.1, but you have pyarrow 16.1.0 which is incompatible.\n",
      "google-colab 1.0.0 requires requests==2.31.0, but you have requests 2.32.3 which is incompatible.\n",
      "ibis-framework 8.0.0 requires pyarrow<16,>=2, but you have pyarrow 16.1.0 which is incompatible.\u001B[0m\u001B[31m\n",
      "\u001B[0mSuccessfully installed datasets-2.20.0 dill-0.3.8 multiprocess-0.70.16 pyarrow-16.1.0 requests-2.32.3 xxhash-3.4.1\n"
     ]
    }
   ]
  },
  {
   "cell_type": "markdown",
   "source": [
    "Импорт необходимых библиотек"
   ],
   "metadata": {
    "id": "rh9ZXSeCpng9"
   }
  },
  {
   "cell_type": "code",
   "source": [
    "import torch\n",
    "import torch.nn as nn\n",
    "from torch.utils.data import Dataset, DataLoader\n",
    "import datasets\n",
    "\n",
    "import numpy as np\n",
    "import matplotlib.pyplot as plt\n",
    "\n",
    "from tqdm.auto import tqdm\n",
    "from datasets import load_dataset\n",
    "from nltk.tokenize import word_tokenize\n",
    "from sklearn.model_selection import train_test_split\n",
    "import nltk\n",
    "\n",
    "from collections import Counter\n",
    "from typing import List\n",
    "import string\n",
    "\n",
    "import seaborn\n",
    "seaborn.set(palette='summer')"
   ],
   "metadata": {
    "id": "XOJi16bLpd_O",
    "ExecuteTime": {
     "end_time": "2024-07-10T09:13:16.896696Z",
     "start_time": "2024-07-10T09:13:10.816547Z"
    }
   },
   "execution_count": 2,
   "outputs": []
  },
  {
   "cell_type": "code",
   "source": [
    "nltk.download('punkt')"
   ],
   "metadata": {
    "id": "91JuM0SQvXud",
    "colab": {
     "base_uri": "https://localhost:8080/"
    },
    "outputId": "630cd789-4241-4431-dd04-68e39195895e",
    "ExecuteTime": {
     "end_time": "2024-07-10T09:13:18.077568Z",
     "start_time": "2024-07-10T09:13:17.711398Z"
    }
   },
   "execution_count": 3,
   "outputs": [
    {
     "output_type": "stream",
     "name": "stderr",
     "text": [
      "[nltk_data] Downloading package punkt to /root/nltk_data...\n",
      "[nltk_data]   Unzipping tokenizers/punkt.zip.\n"
     ]
    },
    {
     "output_type": "execute_result",
     "data": {
      "text/plain": [
       "True"
      ]
     },
     "metadata": {},
     "execution_count": 3
    }
   ]
  },
  {
   "cell_type": "code",
   "source": [
    "device = 'cuda' if torch.cuda.is_available() else 'cpu'\n",
    "device"
   ],
   "metadata": {
    "id": "adJC8ShFq9HM",
    "colab": {
     "base_uri": "https://localhost:8080/",
     "height": 35
    },
    "outputId": "5b4ac05b-6065-4d62-e75f-f13862b9fe72",
    "ExecuteTime": {
     "end_time": "2024-07-10T09:13:19.176885Z",
     "start_time": "2024-07-10T09:13:19.166094Z"
    }
   },
   "execution_count": 4,
   "outputs": [
    {
     "output_type": "execute_result",
     "data": {
      "text/plain": [
       "'cuda'"
      ],
      "application/vnd.google.colaboratory.intrinsic+json": {
       "type": "string"
      }
     },
     "metadata": {},
     "execution_count": 4
    }
   ]
  },
  {
   "cell_type": "markdown",
   "source": [
    "## Подготовка данных\n",
    "Для вашего удобства, мы привели код обработки датасета в ноутбуке. Ваша задача --- обучить модель, которая получит максимальное возможное качество на тестовой части."
   ],
   "metadata": {
    "id": "pwsfS1ENq5ig"
   }
  },
  {
   "cell_type": "code",
   "source": [
    "# Загрузим датасет\n",
    "dataset = datasets.load_dataset('ag_news')"
   ],
   "metadata": {
    "id": "qHLNWOfJqSfc",
    "colab": {
     "base_uri": "https://localhost:8080/",
     "height": 301,
     "referenced_widgets": [
      "e4f1ebf153c84d42aa27c718c7239aea",
      "4a4f10b029ab4211931a34551593ef0c",
      "0f75a347092e4922980e5ed572821e0f",
      "fba80be981e34251aa7231f2368d334e",
      "6bc48cf33f6c4406a818ffb771cf1a8d",
      "d957811a687d4636bbac474ea137ada0",
      "a532f1dedbd447749b159ad2399eb6a9",
      "d73427178d56421783d7c8394ac846e1",
      "29c93a8e83044b6e89a61fb7c9c719d5",
      "a245afa663ba4e9fbcfb9c580896324d",
      "87c3c4bcd585421095ec442f5c4882c0",
      "212ca86054f6454492acdaadf331378d",
      "ad3cab30e20142a5857dfd4d05ad4066",
      "786a611d3feb47f5b714228c6c5963b9",
      "9e76c6748dd84802b4f128b89ff428a2",
      "45c8c929b9374253963709afe1520b25",
      "b7b219b86ae14e4b9d34c5fd53d886b5",
      "5097aa8a007a445482f3dbaaeac0e6e6",
      "e95183e896534d35ba38be7cd4d86945",
      "4bbdba429c8d4d4fadf56b58d5f32ce4",
      "2f6e692d30a549459a46ca1e49ecc82f",
      "8445a7c6c2af4db2a9dc34b6bc5c2aa4",
      "05ae09bb92854dc3ae74a4d72059ec82",
      "302dc6a15e5141a48d86bfe3c91d3aec",
      "0325b94438044bb39b9208c6610ad946",
      "0e7409a346cd4aa1ab7dfd81828a6328",
      "311ca942c56549588adc38a09382cd95",
      "07e2db4b6e43491e836c95625cc88a3e",
      "11c4f336dfd04492ade2ade506738ce6",
      "6b85c1c44a8440fe992748d918849f0e",
      "afb362d8214c463fa12ced5f7b7c6ca0",
      "9db73955b0ec4da6aae678c241970204",
      "fdd88d90e9bb4322b904778b3751ebfc",
      "0660207e03a145338a24622d45f51ece",
      "5e8f9f9e7aff4dee9428a8f5d31cc056",
      "ff4485acb9524c1aaad2da737d7b9414",
      "61ee92d3da7a460a89046b147878c39c",
      "29020e8ec2a04be5a27ad6c39a4595c6",
      "ad8a23b312ea41998ab2917ab4e67912",
      "503102898224488ca63adcb2fcef2c68",
      "df6f4bc0d8a145b3be548b30a6fbaa9a",
      "f6d271c543154f42a9f3bee2876ce58b",
      "3f369ef75b024712afa27e8287f69bbd",
      "a1d490bafc3344a8bb1045c9f43e358b",
      "ecd9a2b507f74196bf364fbd9ae995ea",
      "523783899f3d4f2ab72d22aac640984f",
      "9887d22c2d8e433b95241d1a3bddd8e4",
      "aaa6d70d7b71489491a5885a32357720",
      "96095a6dd84d4fb4b28f3c7cb5253bb2",
      "0da5aee6c2fe405ebc932a3cac479591",
      "31e7b5bed6cb4571bc2e32d483f4e099",
      "5d4335b1b279402fb3f22af05b478d81",
      "7454d0829deb482aac69f9117d637abc",
      "e633f33866bd4e959ee873bee98d098d",
      "749fdccbb8944bbfbcf90f5b61861ebd"
     ]
    },
    "outputId": "f54ec534-0e13-49b3-ffbb-eacc8c2af721",
    "ExecuteTime": {
     "end_time": "2024-07-10T09:13:34.801580Z",
     "start_time": "2024-07-10T09:13:21.057777Z"
    }
   },
   "execution_count": 5,
   "outputs": [
    {
     "output_type": "stream",
     "name": "stderr",
     "text": [
      "/usr/local/lib/python3.10/dist-packages/huggingface_hub/utils/_token.py:89: UserWarning: \n",
      "The secret `HF_TOKEN` does not exist in your Colab secrets.\n",
      "To authenticate with the Hugging Face Hub, create a token in your settings tab (https://huggingface.co/settings/tokens), set it as secret in your Google Colab and restart your session.\n",
      "You will be able to reuse this secret in all of your notebooks.\n",
      "Please note that authentication is recommended but still optional to access public models or datasets.\n",
      "  warnings.warn(\n"
     ]
    },
    {
     "output_type": "display_data",
     "data": {
      "text/plain": [
       "Downloading readme:   0%|          | 0.00/8.07k [00:00<?, ?B/s]"
      ],
      "application/vnd.jupyter.widget-view+json": {
       "version_major": 2,
       "version_minor": 0,
       "model_id": "e4f1ebf153c84d42aa27c718c7239aea"
      }
     },
     "metadata": {}
    },
    {
     "output_type": "display_data",
     "data": {
      "text/plain": [
       "Downloading data:   0%|          | 0.00/18.6M [00:00<?, ?B/s]"
      ],
      "application/vnd.jupyter.widget-view+json": {
       "version_major": 2,
       "version_minor": 0,
       "model_id": "212ca86054f6454492acdaadf331378d"
      }
     },
     "metadata": {}
    },
    {
     "output_type": "display_data",
     "data": {
      "text/plain": [
       "Downloading data:   0%|          | 0.00/1.23M [00:00<?, ?B/s]"
      ],
      "application/vnd.jupyter.widget-view+json": {
       "version_major": 2,
       "version_minor": 0,
       "model_id": "05ae09bb92854dc3ae74a4d72059ec82"
      }
     },
     "metadata": {}
    },
    {
     "output_type": "display_data",
     "data": {
      "text/plain": [
       "Generating train split:   0%|          | 0/120000 [00:00<?, ? examples/s]"
      ],
      "application/vnd.jupyter.widget-view+json": {
       "version_major": 2,
       "version_minor": 0,
       "model_id": "0660207e03a145338a24622d45f51ece"
      }
     },
     "metadata": {}
    },
    {
     "output_type": "display_data",
     "data": {
      "text/plain": [
       "Generating test split:   0%|          | 0/7600 [00:00<?, ? examples/s]"
      ],
      "application/vnd.jupyter.widget-view+json": {
       "version_major": 2,
       "version_minor": 0,
       "model_id": "ecd9a2b507f74196bf364fbd9ae995ea"
      }
     },
     "metadata": {}
    }
   ]
  },
  {
   "cell_type": "markdown",
   "source": [
    "Как и в семинаре, выполним следующие шаги:\n",
    "* Составим словарь\n",
    "* Создадим класс WordDataset\n",
    "* Выделим обучающую и тестовую часть, создадим DataLoader-ы."
   ],
   "metadata": {
    "id": "gYG67ZJj4hZS"
   }
  },
  {
   "cell_type": "code",
   "source": [
    "words = Counter()\n",
    "\n",
    "for example in tqdm(dataset['train']['text']):\n",
    "    # Приводим к нижнему регистру и убираем пунктуацию\n",
    "    prccessed_text = example.lower().translate(\n",
    "        str.maketrans('', '', string.punctuation))\n",
    "\n",
    "    for word in word_tokenize(prccessed_text):\n",
    "        words[word] += 1\n",
    "\n",
    "\n",
    "vocab = set(['<unk>', '<bos>', '<eos>', '<pad>'])\n",
    "counter_threshold = 25\n",
    "\n",
    "for char, cnt in words.items():\n",
    "    if cnt > counter_threshold:\n",
    "        vocab.add(char)\n",
    "\n",
    "print(f'Размер словаря: {len(vocab)}')\n",
    "\n",
    "word2ind = {char: i for i, char in enumerate(vocab)}\n",
    "ind2word = {i: char for char, i in word2ind.items()}"
   ],
   "metadata": {
    "id": "nEvCN0Y1w1yH",
    "colab": {
     "base_uri": "https://localhost:8080/",
     "height": 66,
     "referenced_widgets": [
      "43f09b14bd9041c5afbba96ac1a90c96",
      "ff6f0e2347094b9382c3c68be87693a8",
      "aeeb8be92f03444aa63eb3f1d10513d3",
      "844d4458212f4ef299b577ebfccdf6d6",
      "45f16a89c4a64a83afe723b17ff23681",
      "51db63d716e04c9390d234daebb4da93",
      "970719f6c9b947a886f4ade3fb5da9e3",
      "a62b37336baa4ed2aa343a9cbc69638f",
      "97a6beee1bc5430ca8c312b338ab6d9d",
      "3652ebd6d79a460c80ef3a62f75ef868",
      "bef60e3859964a9194383d89f458e55a"
     ]
    },
    "outputId": "ddeb48c7-942f-451a-e874-7976aa18b6b6",
    "ExecuteTime": {
     "end_time": "2024-07-11T08:20:57.290005Z",
     "start_time": "2024-07-11T08:20:23.190863Z"
    }
   },
   "execution_count": 64,
   "outputs": [
    {
     "data": {
      "text/plain": "  0%|          | 0/120000 [00:00<?, ?it/s]",
      "application/vnd.jupyter.widget-view+json": {
       "version_major": 2,
       "version_minor": 0,
       "model_id": "ccffa81bb46244d9823c3375dce5e8f6"
      }
     },
     "metadata": {},
     "output_type": "display_data"
    },
    {
     "name": "stdout",
     "output_type": "stream",
     "text": [
      "Размер словаря: 11842\n"
     ]
    }
   ]
  },
  {
   "cell_type": "code",
   "source": [
    "class WordDataset:\n",
    "    def __init__(self, sentences):\n",
    "        self.data = sentences\n",
    "        self.unk_id = word2ind['<unk>']\n",
    "        self.bos_id = word2ind['<bos>']\n",
    "        self.eos_id = word2ind['<eos>']\n",
    "        self.pad_id = word2ind['<pad>']\n",
    "\n",
    "    def __getitem__(self, idx: int) -> dict[str, List[int]]:\n",
    "        processed_text = self.data[idx]['text'].lower().translate(\n",
    "            str.maketrans('', '', string.punctuation))\n",
    "        tokenized_sentence = [self.bos_id]\n",
    "        tokenized_sentence += [\n",
    "            word2ind.get(word, self.unk_id) for word in word_tokenize(processed_text)\n",
    "            ]\n",
    "        tokenized_sentence += [self.eos_id]\n",
    "\n",
    "        item = {\n",
    "            \"text\": tokenized_sentence,\n",
    "            \"label\": self.data[idx]['label']\n",
    "        }\n",
    "\n",
    "        return item\n",
    "\n",
    "    def __len__(self) -> int:\n",
    "        return len(self.data)\n",
    "\n",
    "\n",
    "def collate_fn_with_padding(\n",
    "    input_batch: List[List[int]], pad_id=word2ind['<pad>'], max_len=256) -> (\n",
    "        dict)[str, torch.Tensor]:\n",
    "    seq_lens = [len(x['text']) for x in input_batch]\n",
    "    max_seq_len = min(max(seq_lens), max_len)\n",
    "\n",
    "    new_batch = []\n",
    "    for sequence in input_batch:\n",
    "        sequence['text'] = sequence['text'][:max_seq_len]\n",
    "        for _ in range(max_seq_len - len(sequence['text'])):\n",
    "            sequence['text'].append(pad_id)\n",
    "\n",
    "        new_batch.append(sequence['text'])\n",
    "\n",
    "    sequences = torch.LongTensor(new_batch).to(device)\n",
    "    labels = torch.LongTensor([x['label'] for x in input_batch]).to(device)\n",
    "\n",
    "    new_batch = {\n",
    "        'input_ids': sequences,\n",
    "        'label': labels\n",
    "    }\n",
    "\n",
    "    return new_batch"
   ],
   "metadata": {
    "id": "FVzXL17PzC7K",
    "ExecuteTime": {
     "end_time": "2024-07-11T08:20:57.307864Z",
     "start_time": "2024-07-11T08:20:57.294002Z"
    }
   },
   "execution_count": 65,
   "outputs": []
  },
  {
   "cell_type": "code",
   "source": [
    "np.random.seed(42)\n",
    "# train_idx = np.random.choice(np.arange(len(dataset['train'])), 5000)\n",
    "# train_dataset = WordDataset(dataset['train'].select(train_idx))\n",
    "train_dataset = WordDataset(dataset['train'])\n",
    "\n",
    "test_idx = np.random.choice(np.arange(len(dataset['test'])), 5000)\n",
    "test_dataset = WordDataset(dataset['test'].select(test_idx))\n",
    "\n",
    "batch_size = 32\n",
    "train_dataloader = DataLoader(\n",
    "    train_dataset, shuffle=True, collate_fn=collate_fn_with_padding, batch_size=batch_size)\n",
    "\n",
    "test_dataloader = DataLoader(\n",
    "    test_dataset, shuffle=False, collate_fn=collate_fn_with_padding, batch_size=batch_size)"
   ],
   "metadata": {
    "id": "6xmeK9Ys1BIG",
    "ExecuteTime": {
     "end_time": "2024-07-11T08:20:57.423497Z",
     "start_time": "2024-07-11T08:20:57.310381Z"
    }
   },
   "execution_count": 66,
   "outputs": []
  },
  {
   "cell_type": "markdown",
   "source": [
    "## Постановка задачи\n",
    "Ваша задача -- получить максимальное возможное accuracy на `eval_dataloader`. Ниже приведена функция, которую вам необходимо запустить для обученной модели, чтобы вычислить качество её работы."
   ],
   "metadata": {
    "id": "w7LHfh3u5Bie"
   }
  },
  {
   "cell_type": "code",
   "source": [
    "def evaluate(model, criterion, epoch, dataloader) -> (float, float):\n",
    "    \"\"\"\n",
    "    Calculate accuracy on validation dataloader.\n",
    "    \"\"\"\n",
    "\n",
    "    predictions = []\n",
    "    target = []\n",
    "    with torch.no_grad():\n",
    "        # for batch in tqdm(dataloader, desc=f'Validating epoch {epoch}:'):\n",
    "        for batch in dataloader:\n",
    "            logits = model(batch['input_ids'])\n",
    "            predictions.append(logits.argmax(dim=1))\n",
    "            target.append(batch['label'])\n",
    "\n",
    "    predictions = torch.cat(predictions)\n",
    "    target = torch.cat(target)\n",
    "    accuracy = (predictions == target).float().mean().item()\n",
    "    loss = criterion(logits, batch['label'])\n",
    "\n",
    "    return accuracy, loss"
   ],
   "metadata": {
    "id": "JDZw4Sehn4NE",
    "ExecuteTime": {
     "end_time": "2024-07-11T08:20:57.467503Z",
     "start_time": "2024-07-11T08:20:57.425378Z"
    }
   },
   "execution_count": 67,
   "outputs": []
  },
  {
   "cell_type": "markdown",
   "source": [
    "## Ход работы\n",
    "Оценка за домашнее задание складывается из четырех частей:\n",
    "### Запуск базовой модели с семинара на новом датасете (1 балл)\n",
    "На семинаре мы создали модель, которая дает на нашей задаче довольно высокое качество. Ваша цель --- обучить ее и вычислить `score`, который затем можно будет использовать в качестве бейзлайна.\n",
    "\n",
    "В модели появится одно важное изменение: количество классов теперь равно не 2, а 4. Обратите на это внимание и найдите, что в коде создания модели нужно модифицировать, чтобы учесть это различие.\n",
    "\n",
    "### Проведение экспериментов по улучшению модели (2 балла за каждый эксперимент)\n",
    "Чтобы улучшить качество базовой модели, можно попробовать различные идеи экспериментов. Каждый выполненный эксперимент будет оцениваться в 2 балла. Для получения полного балла за этот пункт вам необходимо выполнить по крайней мере 2 эксперимента. Не расстраивайтесь, если какой-то эксперимент не дал вам прироста к качеству: он все равно зачтется, если выполнен корректно.\n",
    "\n",
    "Вот несколько идей экспериментов:\n",
    "* **Модель RNN**. Попробуйте другие нейросетевые модели --- LSTM и GRU. Мы советуем обратить внимание на [GRU](https://pytorch.org/docs/stable/generated/torch.nn.GRU.html), так как интерфейс этого класса ничем не отличается от обычной Vanilla RNN, которую мы использовали на семинаре.\n",
    "* **Увеличение количества рекуррентных слоев модели**. Это можно сделать с помощью параметра `num_layers` в классе `nn.RNN`. В такой модели выходы первой RNN передаются в качестве входов второй RNN и так далее.\n",
    "* **Изменение архитектуры после применения RNN**. В базовой модели используется агрегация со всех эмбеддингов. Возможно, вы захотите конкатенировать результат агрегации и эмбеддинг с последнего токена.\n",
    "* **Подбор гиперпараметров и обучение до сходимости**. Возможно, для получения более высокого качества просто необходимо увеличить количество эпох обучения нейросети, а также попробовать различные гиперпараметры: размер словаря, `dropout_rate`, `hidden_dim`.\n",
    "\n",
    "Обратите внимание, что главное правило проведения экспериментов --- необходимо совершать одно архитектурное изменение в одном эксперименте. Если вы совершите несколько изменений, то будет неясно, какое именно из изменений дало прирост к качеству.\n",
    "\n",
    "### Получение высокого качества (3 балла)\n",
    "В конце вашей работы вы должны указать, какая из моделей дала лучший результат, и вывести качество, которое дает лучшая модель, с помощью функции `evaluate`. Ваша модель будет оцениваться по метрике `accuracy` следующим образом:\n",
    "* $accuracy < 0.9$ --- 0 баллов;\n",
    "* $0.9 \\leqslant accuracy < 0.91$ --- 1 балл;\n",
    "* $0.91 \\leqslant accuracy < 0.915$ --- 2 балла;\n",
    "* $0.915 \\leqslant accuracy$ --- 3 балла.\n",
    "\n",
    "### Оформление отчета (2 балла)\n",
    "В конце работы подробно опишите все проведенные эксперименты.\n",
    "* Укажите, какие из экспериментов принесли улучшение, а какие --- нет.\n",
    "* Проанализируйте графики сходимости моделей в проведенных экспериментах. Являются ли колебания качества обученных моделей существенными в зависимости от эпохи обучения, или же сходимость стабильная?\n",
    "* Укажите, какая модель получилась оптимальной.\n",
    "\n",
    "Желаем удачи!"
   ],
   "metadata": {
    "id": "SMAexY7Y45E4"
   }
  },
  {
   "cell_type": "markdown",
   "source": [
    "Возьмем модель с семинара и добавим еще выбор типа RNN."
   ],
   "metadata": {
    "collapsed": false,
    "id": "jg0iWR08QVAd"
   }
  },
  {
   "cell_type": "code",
   "source": [
    "class CharLM(nn.Module):\n",
    "    def __init__(\n",
    "            self, hidden_dim: int, vocab_size: int, num_classes: int = 2,\n",
    "            aggregation_type: str = 'max',\n",
    "            dropout_part = 0.1,\n",
    "            rec_layers = 1,\n",
    "            rnn_type: str = 'rnn'\n",
    "    ):\n",
    "        super().__init__()\n",
    "        self.embedding = nn.Embedding(vocab_size, hidden_dim)\n",
    "\n",
    "        if rnn_type == 'rnn':\n",
    "            self.rnn = nn.RNN(hidden_dim, hidden_dim, batch_first=True, num_layers=rec_layers)\n",
    "        elif rnn_type == 'gru':\n",
    "            self.rnn = nn.GRU(hidden_dim, hidden_dim, batch_first=True, num_layers=rec_layers)\n",
    "        else: #'lstm'\n",
    "            self.rnn = nn.LSTM(hidden_dim, hidden_dim, batch_first=True, num_layers=rec_layers)\n",
    "\n",
    "        self.linear = nn.Linear(hidden_dim, hidden_dim)\n",
    "        self.projection = nn.Linear(hidden_dim, num_classes)\n",
    "\n",
    "        self.non_lin = nn.Tanh()\n",
    "        self.dropout = nn.Dropout(p=dropout_part)\n",
    "\n",
    "        self.aggregation_type = aggregation_type\n",
    "\n",
    "    def forward(self, input_batch) -> torch.Tensor:\n",
    "        embeddings = self.embedding(input_batch)  # [batch_size, seq_len, hidden_dim]\n",
    "        output, _ = self.rnn(embeddings)  # [batch_size, seq_len, hidden_dim]\n",
    "\n",
    "        if self.aggregation_type == 'max':\n",
    "            output = output.max(dim=1)[0] #[batch_size, hidden_dim]\n",
    "        elif self.aggregation_type == 'mean':\n",
    "            output = output.mean(dim=1) #[batch_size, hidden_dim]\n",
    "        else:\n",
    "            raise ValueError(\"Invalid aggregation_type\")\n",
    "\n",
    "        output = self.dropout(self.linear(self.non_lin(output)))  # [batch_size, hidden_dim]\n",
    "        prediction = self.projection(self.non_lin(output))  # [batch_size, num_classes]\n",
    "\n",
    "        return prediction"
   ],
   "metadata": {
    "id": "BqKYrcyxBoxx",
    "ExecuteTime": {
     "end_time": "2024-07-11T08:20:57.516184Z",
     "start_time": "2024-07-11T08:20:57.471209Z"
    }
   },
   "execution_count": 68,
   "outputs": []
  },
  {
   "cell_type": "code",
   "outputs": [],
   "source": [
    "import copy\n",
    "DATA_MODES = ['train', 'val', 'test']"
   ],
   "metadata": {
    "id": "h1CT-cnHQVAe",
    "ExecuteTime": {
     "end_time": "2024-07-11T08:20:57.562762Z",
     "start_time": "2024-07-11T08:20:57.518279Z"
    }
   },
   "execution_count": 69
  },
  {
   "cell_type": "markdown",
   "source": [
    "Функция, производящая обучение данной модели. Возвращает (best_model, losses, accuracies).\n",
    "Модель считается обученной, если прошло epochs итераций или некоторое время качество модели не улучшается.\n",
    "freeze_threshold - порог, такой что, если accuracy на val изменилось не больше чем на этот порог, то считается, что данный шаг обучения не улучшил качество модели.\n",
    "freeze_max_number - требуемое количество шагов без улучшения качества модели, чтобы считать, что модель обучена."
   ],
   "metadata": {
    "collapsed": false
   }
  },
  {
   "cell_type": "code",
   "outputs": [],
   "source": [
    "def train_model(model, criterion, optimizer, lr_scheduler, train_loader, val_loader, epochs=15, freeze_threshold=0.005, freeze_max_number=2):\n",
    "    dataloaders = {'train': train_loader, 'val': val_loader}\n",
    "\n",
    "    losses = {'train': [], 'val': []}\n",
    "    accuracies = {'train': [], 'val': []}\n",
    "\n",
    "    best_model_wts = model.state_dict()\n",
    "    best_accuracy = 0\n",
    "    best_loss = 100000000\n",
    "    num_freeze = 0\n",
    "\n",
    "    for epoch in range(epochs):\n",
    "        print('* Epoch %d/%d' % (epoch+1, epochs))\n",
    "        for data_mode in DATA_MODES[:2]:\n",
    "            if data_mode == 'train':\n",
    "                model.train()\n",
    "            else:\n",
    "                model.eval()\n",
    "\n",
    "            data_size = 0\n",
    "            running_accuracy = 0\n",
    "            running_loss = 0\n",
    "\n",
    "            if data_mode == 'train':\n",
    "                #for batch in tqdm(dataloaders[data_mode], desc=f'Training epoch {epoch}:'):\n",
    "                for batch in dataloaders[data_mode]:\n",
    "                    X = batch['input_ids'].to(device)\n",
    "                    y = batch['label'].to(device)\n",
    "                    optimizer.zero_grad()\n",
    "\n",
    "                    logits = model(X)\n",
    "                    loss = criterion(logits, y)\n",
    "                    loss.backward()\n",
    "                    optimizer.step()\n",
    "\n",
    "                    preds = torch.argmax(logits, dim=1)\n",
    "                    running_accuracy += (preds == y).float().sum().item()\n",
    "                    running_loss += loss.item() * X.size(0)\n",
    "                    data_size += X.size(0)\n",
    "\n",
    "                epoch_accuracy = running_accuracy / data_size\n",
    "                epoch_loss = running_loss / data_size\n",
    "            else:\n",
    "                epoch_accuracy, epoch_loss = evaluate(model, criterion, epoch, dataloaders['val'])\n",
    "\n",
    "            accuracies[data_mode].append(epoch_accuracy)\n",
    "            losses[data_mode].append(epoch_loss)\n",
    "\n",
    "            if data_mode == 'train':\n",
    "                lr_scheduler.step(epoch_loss)\n",
    "                print('* Train  Epoch accuracy: %f  Epoch loss: %f' % (epoch_accuracy, epoch_loss))\n",
    "            else:\n",
    "                print('* Val    Epoch accuracy: %f  Epoch loss: %f' % (epoch_accuracy, epoch_loss))\n",
    "\n",
    "            # сохраняем лучшую модель\n",
    "            if data_mode == 'val' and epoch_accuracy > best_accuracy:\n",
    "                best_accuracy = epoch_accuracy\n",
    "                print('Saving best model...')\n",
    "                best_model_wts = copy.deepcopy(model.state_dict())\n",
    "\n",
    "            if data_mode == 'val':\n",
    "                if len(accuracies[data_mode]) > 1 and (accuracies[data_mode][-1] - accuracies[data_mode][-2] < freeze_threshold):\n",
    "                    num_freeze += 1\n",
    "                else:\n",
    "                    num_freeze = 0\n",
    "\n",
    "        if num_freeze == freeze_max_number:\n",
    "            print('The model is trained')\n",
    "            break\n",
    "\n",
    "    model.load_state_dict(best_model_wts)\n",
    "    return model, losses, accuracies"
   ],
   "metadata": {
    "id": "xraf94EwQVAe",
    "ExecuteTime": {
     "end_time": "2024-07-11T08:20:57.627919Z",
     "start_time": "2024-07-11T08:20:57.564973Z"
    }
   },
   "execution_count": 70
  },
  {
   "cell_type": "markdown",
   "source": [
    "Функция, создающая модель и все необходимое окружение с данными параметрами и производящая обучение. \n",
    "Параметры и возвращаемые сущности как у train_model."
   ],
   "metadata": {
    "collapsed": false
   }
  },
  {
   "cell_type": "code",
   "outputs": [],
   "source": [
    "def start_train(dropout_part=0.1, rec_layers=1, hidden_dim=256, epochs=5, rnn_type='rnn', freeze_threshold=0.002, freeze_max_number=2):\n",
    "    model = CharLM(hidden_dim=hidden_dim, vocab_size=len(vocab), num_classes=4, aggregation_type=\"mean\", rec_layers=rec_layers, dropout_part=dropout_part, rnn_type=rnn_type).to(device)\n",
    "    criterion = nn.CrossEntropyLoss(ignore_index=word2ind['<pad>'])\n",
    "    optimizer = torch.optim.Adam(model.parameters())\n",
    "    lr_scheduler = torch.optim.lr_scheduler.ReduceLROnPlateau(optimizer, patience=10, factor=0.1)\n",
    "    return train_model(model, criterion, optimizer, lr_scheduler, train_dataloader, test_dataloader, epochs=epochs, freeze_threshold=freeze_threshold, freeze_max_number=freeze_max_number)"
   ],
   "metadata": {
    "id": "CItvTzsmQVAe",
    "ExecuteTime": {
     "end_time": "2024-07-11T08:20:57.669530Z",
     "start_time": "2024-07-11T08:20:57.630055Z"
    }
   },
   "execution_count": 71
  },
  {
   "cell_type": "markdown",
   "source": [
    "Вначале подберем оптимальные hidden_dim и dropout_part.\n",
    "Подбор будем производить с использованием самой простой модельки: 1 рекуррентный слой и rnn без модификаций. Кажется, что если hidden_dim и dropout_part оптимальны для рассматриваемой модели, то они так же хорошо подходят и для моделей с модифицированным rnn и с другим количеством слоев. <br> \n",
    "Идейно чем больше dropout_part, тем больше мы выкидываем информации, тем самым моделька учится выделять информацию из всех нейронов слоя, так что информация приобретает более осмысленное распределение, из-за чего улучшается общее качество. Но если перегнуть, то мы выкинем слишком много информации и на основе оставшейся не получится дать валидный ответ. Получается, чем лучше распределена информация на слое, тем больше dropout_part имеет смысл делать. А так как модифицированный rnn мощнее обычного, то, возможно, имеет смысл немного увеличить dropout_part, но будем считать, что и найденный будет хорошо подходить.<br> \n",
    "С hidden_dim аналогично: чем лучше моделька упаковывает информацию в нейронах, тем меньше hidden_dim нужен, но его тоже менять не будем."
   ],
   "metadata": {
    "collapsed": false
   }
  },
  {
   "cell_type": "markdown",
   "source": [
    "Проверим hidden_dim = 100, 256, 1024; dropout_part = 0.1, 0.25, 0.5"
   ],
   "metadata": {
    "collapsed": false
   }
  },
  {
   "cell_type": "code",
   "source": [
    "model_rnn_1layers_100hdim_10drop, losses_rnn_1layers_100hdim_10drop, acc_rnn_1layers_100hdim_10drop = start_train(epochs=8, rec_layers=1, hidden_dim=100, dropout_part=0.1)"
   ],
   "metadata": {
    "colab": {
     "base_uri": "https://localhost:8080/"
    },
    "id": "vd4VvP73VDAo",
    "outputId": "df359f36-1890-44c4-da14-1d011c1b59ef"
   },
   "execution_count": 23,
   "outputs": [
    {
     "output_type": "stream",
     "name": "stdout",
     "text": [
      "* Epoch 1/8\n",
      "* Train  Epoch accuracy: 0.814225  Epoch loss: 0.502685\n",
      "* Val    Epoch accuracy: 0.879000  Epoch loss: 0.065473\n",
      "Saving best model...\n",
      "* Epoch 2/8\n",
      "* Train  Epoch accuracy: 0.905858  Epoch loss: 0.281696\n",
      "* Val    Epoch accuracy: 0.892800  Epoch loss: 0.027999\n",
      "Saving best model...\n",
      "* Epoch 3/8\n",
      "* Train  Epoch accuracy: 0.921192  Epoch loss: 0.231560\n",
      "* Val    Epoch accuracy: 0.906800  Epoch loss: 0.039640\n",
      "Saving best model...\n",
      "* Epoch 4/8\n",
      "* Train  Epoch accuracy: 0.930900  Epoch loss: 0.201794\n",
      "* Val    Epoch accuracy: 0.896800  Epoch loss: 0.045658\n",
      "* Epoch 5/8\n",
      "* Train  Epoch accuracy: 0.939050  Epoch loss: 0.176833\n",
      "* Val    Epoch accuracy: 0.898800  Epoch loss: 0.011498\n",
      "The model is trained\n"
     ]
    }
   ]
  },
  {
   "cell_type": "code",
   "source": [
    "model_rnn_1layers_256hdim_10drop, losses_rnn_1layers_256hdim_10drop, acc_rnn_1layers_256hdim_10drop = start_train(epochs=8, rec_layers=1, hidden_dim=256, dropout_part=0.1)"
   ],
   "metadata": {
    "colab": {
     "base_uri": "https://localhost:8080/"
    },
    "id": "IFI_OZTHVePf",
    "outputId": "72bc7fb0-83eb-4656-d423-6c16db39792a"
   },
   "execution_count": 24,
   "outputs": [
    {
     "output_type": "stream",
     "name": "stdout",
     "text": [
      "* Epoch 1/8\n",
      "* Train  Epoch accuracy: 0.844767  Epoch loss: 0.436323\n",
      "* Val    Epoch accuracy: 0.890000  Epoch loss: 0.025705\n",
      "Saving best model...\n",
      "* Epoch 2/8\n",
      "* Train  Epoch accuracy: 0.913067  Epoch loss: 0.259698\n",
      "* Val    Epoch accuracy: 0.899200  Epoch loss: 0.024510\n",
      "Saving best model...\n",
      "* Epoch 3/8\n",
      "* Train  Epoch accuracy: 0.927017  Epoch loss: 0.215582\n",
      "* Val    Epoch accuracy: 0.903200  Epoch loss: 0.023883\n",
      "Saving best model...\n",
      "* Epoch 4/8\n",
      "* Train  Epoch accuracy: 0.936775  Epoch loss: 0.184776\n",
      "* Val    Epoch accuracy: 0.906400  Epoch loss: 0.027939\n",
      "Saving best model...\n",
      "* Epoch 5/8\n",
      "* Train  Epoch accuracy: 0.943667  Epoch loss: 0.161705\n",
      "* Val    Epoch accuracy: 0.905800  Epoch loss: 0.030998\n",
      "* Epoch 6/8\n",
      "* Train  Epoch accuracy: 0.950492  Epoch loss: 0.142417\n",
      "* Val    Epoch accuracy: 0.906400  Epoch loss: 0.005516\n",
      "The model is trained\n"
     ]
    }
   ]
  },
  {
   "cell_type": "code",
   "source": [
    "model_rnn_1layers_1024hdim_10drop, losses_rnn_1layers_1024hdim_10drop, acc_rnn_1layers_1024hdim_10drop = start_train(epochs=8, rec_layers=1, hidden_dim=1024, dropout_part=0.1)"
   ],
   "metadata": {
    "colab": {
     "base_uri": "https://localhost:8080/"
    },
    "id": "g7zEqeVUVe9N",
    "outputId": "99675121-5065-45f2-ac98-cc7d23c114c3"
   },
   "execution_count": 25,
   "outputs": [
    {
     "output_type": "stream",
     "name": "stdout",
     "text": [
      "* Epoch 1/8\n",
      "* Train  Epoch accuracy: 0.847242  Epoch loss: 0.435203\n",
      "* Val    Epoch accuracy: 0.892400  Epoch loss: 0.056347\n",
      "Saving best model...\n",
      "* Epoch 2/8\n",
      "* Train  Epoch accuracy: 0.904950  Epoch loss: 0.291853\n",
      "* Val    Epoch accuracy: 0.890000  Epoch loss: 0.034173\n",
      "* Epoch 3/8\n",
      "* Train  Epoch accuracy: 0.916450  Epoch loss: 0.256303\n",
      "* Val    Epoch accuracy: 0.905000  Epoch loss: 0.023016\n",
      "Saving best model...\n",
      "* Epoch 4/8\n",
      "* Train  Epoch accuracy: 0.922858  Epoch loss: 0.235467\n",
      "* Val    Epoch accuracy: 0.904400  Epoch loss: 0.006318\n",
      "* Epoch 5/8\n",
      "* Train  Epoch accuracy: 0.926400  Epoch loss: 0.222069\n",
      "* Val    Epoch accuracy: 0.886200  Epoch loss: 0.009959\n",
      "The model is trained\n"
     ]
    }
   ]
  },
  {
   "cell_type": "code",
   "source": [
    "model_rnn_1layers_100hdim_25drop, losses_rnn_1layers_100hdim_25drop, acc_rnn_1layers_100hdim_25drop = start_train(epochs=8, rec_layers=1, hidden_dim=100, dropout_part=0.25)"
   ],
   "metadata": {
    "colab": {
     "base_uri": "https://localhost:8080/"
    },
    "id": "_KLZxN56V3oE",
    "outputId": "30d2ff3e-3c35-4db9-fa69-fb0da7379302"
   },
   "execution_count": 26,
   "outputs": [
    {
     "output_type": "stream",
     "name": "stdout",
     "text": [
      "* Epoch 1/8\n",
      "* Train  Epoch accuracy: 0.816992  Epoch loss: 0.496041\n",
      "* Val    Epoch accuracy: 0.877600  Epoch loss: 0.027258\n",
      "Saving best model...\n",
      "* Epoch 2/8\n",
      "* Train  Epoch accuracy: 0.906933  Epoch loss: 0.281280\n",
      "* Val    Epoch accuracy: 0.899800  Epoch loss: 0.016459\n",
      "Saving best model...\n",
      "* Epoch 3/8\n",
      "* Train  Epoch accuracy: 0.921883  Epoch loss: 0.234206\n",
      "* Val    Epoch accuracy: 0.906400  Epoch loss: 0.009148\n",
      "Saving best model...\n",
      "* Epoch 4/8\n",
      "* Train  Epoch accuracy: 0.931017  Epoch loss: 0.204908\n",
      "* Val    Epoch accuracy: 0.906200  Epoch loss: 0.021180\n",
      "* Epoch 5/8\n",
      "* Train  Epoch accuracy: 0.939100  Epoch loss: 0.180809\n",
      "* Val    Epoch accuracy: 0.906200  Epoch loss: 0.003417\n",
      "The model is trained\n"
     ]
    }
   ]
  },
  {
   "cell_type": "code",
   "source": [
    "model_rnn_1layers_256hdim_25drop, losses_rnn_1layers_256hdim_25drop, acc_rnn_1layers_256hdim_25drop = start_train(epochs=8, rec_layers=1, hidden_dim=256, dropout_part=0.25)"
   ],
   "metadata": {
    "colab": {
     "base_uri": "https://localhost:8080/"
    },
    "id": "7SvRcZcYV3oF",
    "outputId": "8f32dad3-c55d-4935-c8b9-b8a8e372fa3c"
   },
   "execution_count": 27,
   "outputs": [
    {
     "output_type": "stream",
     "name": "stdout",
     "text": [
      "* Epoch 1/8\n",
      "* Train  Epoch accuracy: 0.839933  Epoch loss: 0.444519\n",
      "* Val    Epoch accuracy: 0.900000  Epoch loss: 0.013809\n",
      "Saving best model...\n",
      "* Epoch 2/8\n",
      "* Train  Epoch accuracy: 0.911925  Epoch loss: 0.263941\n",
      "* Val    Epoch accuracy: 0.905200  Epoch loss: 0.007807\n",
      "Saving best model...\n",
      "* Epoch 3/8\n",
      "* Train  Epoch accuracy: 0.925300  Epoch loss: 0.220004\n",
      "* Val    Epoch accuracy: 0.906200  Epoch loss: 0.006594\n",
      "Saving best model...\n",
      "* Epoch 4/8\n",
      "* Train  Epoch accuracy: 0.934842  Epoch loss: 0.191027\n",
      "* Val    Epoch accuracy: 0.902000  Epoch loss: 0.003444\n",
      "The model is trained\n"
     ]
    }
   ]
  },
  {
   "cell_type": "code",
   "source": [
    "model_rnn_1layers_1024hdim_25drop, losses_rnn_1layers_1024hdim_25drop, acc_rnn_1layers_1024hdim_25drop = start_train(epochs=8, rec_layers=1, hidden_dim=1024, dropout_part=0.25)"
   ],
   "metadata": {
    "colab": {
     "base_uri": "https://localhost:8080/"
    },
    "id": "AHM5vkZiV3oF",
    "outputId": "b1168622-8e54-45af-b918-0bdfd3c5edab"
   },
   "execution_count": 28,
   "outputs": [
    {
     "output_type": "stream",
     "name": "stdout",
     "text": [
      "* Epoch 1/8\n",
      "* Train  Epoch accuracy: 0.818067  Epoch loss: 0.508204\n",
      "* Val    Epoch accuracy: 0.862000  Epoch loss: 0.007408\n",
      "Saving best model...\n",
      "* Epoch 2/8\n",
      "* Train  Epoch accuracy: 0.890325  Epoch loss: 0.342004\n",
      "* Val    Epoch accuracy: 0.889800  Epoch loss: 0.009313\n",
      "Saving best model...\n",
      "* Epoch 3/8\n",
      "* Train  Epoch accuracy: 0.897792  Epoch loss: 0.314246\n",
      "* Val    Epoch accuracy: 0.897800  Epoch loss: 0.015600\n",
      "Saving best model...\n",
      "* Epoch 4/8\n",
      "* Train  Epoch accuracy: 0.910092  Epoch loss: 0.276011\n",
      "* Val    Epoch accuracy: 0.897800  Epoch loss: 0.014430\n",
      "* Epoch 5/8\n",
      "* Train  Epoch accuracy: 0.916433  Epoch loss: 0.259265\n",
      "* Val    Epoch accuracy: 0.900600  Epoch loss: 0.150291\n",
      "Saving best model...\n",
      "* Epoch 6/8\n",
      "* Train  Epoch accuracy: 0.918400  Epoch loss: 0.252438\n",
      "* Val    Epoch accuracy: 0.885000  Epoch loss: 0.011049\n",
      "* Epoch 7/8\n",
      "* Train  Epoch accuracy: 0.922717  Epoch loss: 0.238283\n",
      "* Val    Epoch accuracy: 0.891800  Epoch loss: 0.085949\n",
      "* Epoch 8/8\n",
      "* Train  Epoch accuracy: 0.923250  Epoch loss: 0.234304\n",
      "* Val    Epoch accuracy: 0.890400  Epoch loss: 0.001942\n"
     ]
    }
   ]
  },
  {
   "cell_type": "code",
   "source": [
    "model_rnn_1layers_100hdim_50drop, losses_rnn_1layers_100hdim_50drop, acc_rnn_1layers_100hdim_50drop = start_train(epochs=8, rec_layers=1, hidden_dim=100, dropout_part=0.5)"
   ],
   "metadata": {
    "colab": {
     "base_uri": "https://localhost:8080/"
    },
    "id": "ZNtiiCSFWMXO",
    "outputId": "f0444306-711c-4bae-8e03-633cef262be3"
   },
   "execution_count": 29,
   "outputs": [
    {
     "output_type": "stream",
     "name": "stdout",
     "text": [
      "* Epoch 1/8\n",
      "* Train  Epoch accuracy: 0.815783  Epoch loss: 0.499799\n",
      "* Val    Epoch accuracy: 0.890800  Epoch loss: 0.005588\n",
      "Saving best model...\n",
      "* Epoch 2/8\n",
      "* Train  Epoch accuracy: 0.905875  Epoch loss: 0.289788\n",
      "* Val    Epoch accuracy: 0.906400  Epoch loss: 0.009302\n",
      "Saving best model...\n",
      "* Epoch 3/8\n",
      "* Train  Epoch accuracy: 0.920308  Epoch loss: 0.244766\n",
      "* Val    Epoch accuracy: 0.903600  Epoch loss: 0.003801\n",
      "* Epoch 4/8\n",
      "* Train  Epoch accuracy: 0.930242  Epoch loss: 0.214977\n",
      "* Val    Epoch accuracy: 0.906600  Epoch loss: 0.001697\n",
      "Saving best model...\n",
      "* Epoch 5/8\n",
      "* Train  Epoch accuracy: 0.937967  Epoch loss: 0.191820\n",
      "* Val    Epoch accuracy: 0.910600  Epoch loss: 0.000734\n",
      "Saving best model...\n",
      "* Epoch 6/8\n",
      "* Train  Epoch accuracy: 0.942808  Epoch loss: 0.173796\n",
      "* Val    Epoch accuracy: 0.906400  Epoch loss: 0.000720\n",
      "* Epoch 7/8\n",
      "* Train  Epoch accuracy: 0.948525  Epoch loss: 0.158333\n",
      "* Val    Epoch accuracy: 0.907400  Epoch loss: 0.001921\n",
      "The model is trained\n"
     ]
    }
   ]
  },
  {
   "cell_type": "code",
   "source": [
    "model_rnn_1layers_256hdim_50drop, losses_rnn_1layers_256hdim_50drop, acc_rnn_1layers_256hdim_50drop = start_train(epochs=8, rec_layers=1, hidden_dim=256, dropout_part=0.5)"
   ],
   "metadata": {
    "colab": {
     "base_uri": "https://localhost:8080/"
    },
    "id": "8XoTR865WMXO",
    "outputId": "d6f9de3e-ce2a-4a7a-f1df-cb5fc5ba8fa4"
   },
   "execution_count": 30,
   "outputs": [
    {
     "output_type": "stream",
     "name": "stdout",
     "text": [
      "* Epoch 1/8\n",
      "* Train  Epoch accuracy: 0.838350  Epoch loss: 0.450303\n",
      "* Val    Epoch accuracy: 0.885600  Epoch loss: 0.007114\n",
      "Saving best model...\n",
      "* Epoch 2/8\n",
      "* Train  Epoch accuracy: 0.910033  Epoch loss: 0.274163\n",
      "* Val    Epoch accuracy: 0.903400  Epoch loss: 0.002802\n",
      "Saving best model...\n",
      "* Epoch 3/8\n",
      "* Train  Epoch accuracy: 0.923858  Epoch loss: 0.230857\n",
      "* Val    Epoch accuracy: 0.907200  Epoch loss: 0.001356\n",
      "Saving best model...\n",
      "* Epoch 4/8\n",
      "* Train  Epoch accuracy: 0.932583  Epoch loss: 0.202213\n",
      "* Val    Epoch accuracy: 0.903400  Epoch loss: 0.082569\n",
      "* Epoch 5/8\n",
      "* Train  Epoch accuracy: 0.938658  Epoch loss: 0.182453\n",
      "* Val    Epoch accuracy: 0.909400  Epoch loss: 0.002633\n",
      "Saving best model...\n",
      "* Epoch 6/8\n",
      "* Train  Epoch accuracy: 0.944400  Epoch loss: 0.164927\n",
      "* Val    Epoch accuracy: 0.893800  Epoch loss: 0.024089\n",
      "* Epoch 7/8\n",
      "* Train  Epoch accuracy: 0.948483  Epoch loss: 0.153168\n",
      "* Val    Epoch accuracy: 0.903000  Epoch loss: 0.018210\n",
      "* Epoch 8/8\n",
      "* Train  Epoch accuracy: 0.950600  Epoch loss: 0.146112\n",
      "* Val    Epoch accuracy: 0.908000  Epoch loss: 0.017768\n"
     ]
    }
   ]
  },
  {
   "cell_type": "code",
   "source": [
    "model_rnn_1layers_1024hdim_50drop, losses_rnn_1layers_1024hdim_50drop, acc_rnn_1layers_1024hdim_50drop = start_train(epochs=8, rec_layers=1, hidden_dim=1024, dropout_part=0.5)"
   ],
   "metadata": {
    "colab": {
     "base_uri": "https://localhost:8080/"
    },
    "id": "if5siaclWMXO",
    "outputId": "592b8efc-452b-4b14-98f3-adb2595d26dd"
   },
   "execution_count": 31,
   "outputs": [
    {
     "output_type": "stream",
     "name": "stdout",
     "text": [
      "* Epoch 1/8\n",
      "* Train  Epoch accuracy: 0.824892  Epoch loss: 0.508385\n",
      "* Val    Epoch accuracy: 0.864400  Epoch loss: 0.098789\n",
      "Saving best model...\n",
      "* Epoch 2/8\n",
      "* Train  Epoch accuracy: 0.890083  Epoch loss: 0.351236\n",
      "* Val    Epoch accuracy: 0.884200  Epoch loss: 0.447984\n",
      "Saving best model...\n",
      "* Epoch 3/8\n",
      "* Train  Epoch accuracy: 0.900408  Epoch loss: 0.317077\n",
      "* Val    Epoch accuracy: 0.889800  Epoch loss: 0.023014\n",
      "Saving best model...\n",
      "* Epoch 4/8\n",
      "* Train  Epoch accuracy: 0.912183  Epoch loss: 0.280185\n",
      "* Val    Epoch accuracy: 0.891000  Epoch loss: 0.125137\n",
      "Saving best model...\n",
      "* Epoch 5/8\n",
      "* Train  Epoch accuracy: 0.915683  Epoch loss: 0.266285\n",
      "* Val    Epoch accuracy: 0.887400  Epoch loss: 0.106686\n",
      "The model is trained\n"
     ]
    }
   ]
  },
  {
   "cell_type": "markdown",
   "source": [
    "Вот такие результаты получились.\n",
    "Они внесены руками, так как у меня закончилось время в google colab((("
   ],
   "metadata": {
    "collapsed": false
   }
  },
  {
   "cell_type": "code",
   "outputs": [],
   "source": [
    "test_accuracy = {'rnn': {}, 'gru': {}, 'lstm': {}}\n",
    "\n",
    "test_accuracy['rnn'][1] = {}\n",
    "test_accuracy['rnn'][1][100] = {}\n",
    "test_accuracy['rnn'][1][100][10] = [0.88, 0.893, 0.907, 0.897, 0.899]\n",
    "test_accuracy['rnn'][1][100][25] = [0.878, 0.9, 0.906, 0.906, 0.906]\n",
    "test_accuracy['rnn'][1][100][50] = [0.891, 0.906, 0.904, 0.907, 0.911, 0.906, 0.907]\n",
    "\n",
    "test_accuracy['rnn'][1][256] = {}\n",
    "test_accuracy['rnn'][1][256][10] = [0.89,0.899, 0.903, 0.906, 0.906, 0.907]\n",
    "test_accuracy['rnn'][1][256][25] = [0.9, 0.905, 0.906, 0.902]\n",
    "test_accuracy['rnn'][1][256][50] = [0.885, 0.903, 0.907, 0.903, 0.909, 0.894, 0.903, 0.908]\n",
    "\n",
    "test_accuracy['rnn'][1][1024] = {}\n",
    "test_accuracy['rnn'][1][1024][10] = [0.892, 0.89, 0.905, 0.904, 0.886]\n",
    "test_accuracy['rnn'][1][1024][25] = [0.862, 0.89, 0.898, 0.898, 0.9, 0.885, 0.892, 0.89]\n",
    "test_accuracy['rnn'][1][1024][50] = [0.864, 0.884, 0.89, 0.89, 0.887]"
   ],
   "metadata": {
    "collapsed": false,
    "ExecuteTime": {
     "end_time": "2024-07-11T12:44:54.307956Z",
     "start_time": "2024-07-11T12:44:54.296985Z"
    }
   },
   "execution_count": 75
  },
  {
   "cell_type": "markdown",
   "source": [
    "Сделаем последовательности одной длины."
   ],
   "metadata": {
    "collapsed": false
   }
  },
  {
   "cell_type": "code",
   "outputs": [
    {
     "data": {
      "text/plain": "[0.88, 0.893, 0.907, 0.897, 0.899, 0.899, 0.899, 0.899]"
     },
     "execution_count": 85,
     "metadata": {},
     "output_type": "execute_result"
    }
   ],
   "source": [
    "max_len = 0\n",
    "\n",
    "for it1 in test_accuracy:\n",
    "    for it2 in test_accuracy[it1]:\n",
    "        for it3 in test_accuracy[it1][it2]:\n",
    "            for it4 in test_accuracy[it1][it2][it3]:\n",
    "                if len(test_accuracy[it1][it2][it3][it4]) > max_len:\n",
    "                    max_len = len(test_accuracy[it1][it2][it3][it4])\n",
    "\n",
    "for it1 in test_accuracy:\n",
    "    for it2 in test_accuracy[it1]:\n",
    "        for it3 in test_accuracy[it1][it2]:\n",
    "            for it4 in test_accuracy[it1][it2][it3]:\n",
    "                actual_len = len(test_accuracy[it1][it2][it3][it4])\n",
    "                test_accuracy[it1][it2][it3][it4] += (max_len - actual_len) * [test_accuracy[it1][it2][it3][it4][-1]]\n"
   ],
   "metadata": {
    "collapsed": false,
    "ExecuteTime": {
     "end_time": "2024-07-11T13:23:22.700965Z",
     "start_time": "2024-07-11T13:23:22.691394Z"
    }
   },
   "execution_count": 85
  },
  {
   "cell_type": "markdown",
   "source": [
    "Построим графики и проанализируем их."
   ],
   "metadata": {
    "collapsed": false
   }
  },
  {
   "cell_type": "code",
   "outputs": [
    {
     "data": {
      "text/plain": "[<matplotlib.lines.Line2D at 0x1e633680450>]"
     },
     "execution_count": 113,
     "metadata": {},
     "output_type": "execute_result"
    },
    {
     "data": {
      "text/plain": "<Figure size 640x480 with 1 Axes>",
      "image/png": "[encoded data removed]"
     },
     "metadata": {},
     "output_type": "display_data"
    }
   ],
   "source": [
    "#График обучения, просто чтобы посмотреть, как accuracy менялось\n",
    "plt.plot(range(max_len), test_accuracy['rnn'][1][100][10])\n",
    "plt.plot(range(max_len), test_accuracy['rnn'][1][100][25])\n",
    "plt.plot(range(max_len), test_accuracy['rnn'][1][100][50])\n",
    "plt.plot(range(max_len), test_accuracy['rnn'][1][256][10])\n",
    "plt.plot(range(max_len), test_accuracy['rnn'][1][256][25])\n",
    "plt.plot(range(max_len), test_accuracy['rnn'][1][256][50])\n",
    "plt.plot(range(max_len), test_accuracy['rnn'][1][1024][10])\n",
    "plt.plot(range(max_len), test_accuracy['rnn'][1][1024][25])\n",
    "plt.plot(range(max_len), test_accuracy['rnn'][1][1024][50])"
   ],
   "metadata": {
    "collapsed": false,
    "ExecuteTime": {
     "end_time": "2024-07-11T13:52:24.214109Z",
     "start_time": "2024-07-11T13:52:24.037435Z"
    }
   },
   "execution_count": 113
  },
  {
   "cell_type": "code",
   "outputs": [
    {
     "data": {
      "text/plain": "<Figure size 640x480 with 1 Axes>",
      "image/png": "[encoded data removed]"
     },
     "metadata": {},
     "output_type": "display_data"
    }
   ],
   "source": [
    "#лучшее качество у моделей\n",
    "plt.xlabel('hidden_dim', fontsize=14)\n",
    "plt.ylabel('accuracy', fontsize=14)\n",
    "plt.xticks(range(3), ['100', '256', '1024'])\n",
    "plt.plot(range(3), [0.907, 0.907, 0.904], 'o', color = 'r', label = 'dropout_part = 0.1')\n",
    "plt.plot(range(3), [0.906, 0.906, 0.9], 'o', color = 'b', label = 'dropout_part = 0.25')\n",
    "plt.plot(range(3), [0.911, 0.909, 0.89], 'o', color = 'g', label = 'dropout_part = 0.5')\n",
    "plt.legend()\n",
    "plt.show()"
   ],
   "metadata": {
    "collapsed": false,
    "ExecuteTime": {
     "end_time": "2024-07-11T13:54:02.077742Z",
     "start_time": "2024-07-11T13:54:01.958490Z"
    }
   },
   "execution_count": 114
  },
  {
   "cell_type": "code",
   "outputs": [
    {
     "data": {
      "text/plain": "<Figure size 640x480 with 1 Axes>",
      "image/png": "[encoded data removed]"
     },
     "metadata": {},
     "output_type": "display_data"
    }
   ],
   "source": [
    "#лучшее качество у моделей, но hidden_dim и dropout_part поменяны местами\n",
    "plt.xlabel('dropout_part', fontsize=14)\n",
    "plt.ylabel('accuracy', fontsize=14)\n",
    "plt.xticks(range(3), ['0.1', '0.25', '0.5'])\n",
    "plt.plot(range(3), [0.907, 0.906, 0.911], 'o', color = 'r', label = 'hidden_dim = 100')\n",
    "plt.plot(range(3), [0.907, 0.906, 0.909], 'o', color = 'b', label = 'hidden_dim = 256')\n",
    "plt.plot(range(3), [0.904, 0.9, 0.89], 'o', color = 'g', label = 'hidden_dim = 1024')\n",
    "plt.legend()\n",
    "plt.show()"
   ],
   "metadata": {
    "collapsed": false,
    "ExecuteTime": {
     "end_time": "2024-07-11T13:54:07.683336Z",
     "start_time": "2024-07-11T13:54:07.491837Z"
    }
   },
   "execution_count": 115
  },
  {
   "cell_type": "markdown",
   "source": [],
   "metadata": {
    "collapsed": false
   }
  },
  {
   "cell_type": "markdown",
   "source": [
    "Видим, что с увеличением hidden_dim качество уменьшается. Но нужно понимать, что модели обучались не всегда до сходимости, а для того, чтобы модель с большим hidden_dim сошлась, нужно больше эпох.\n",
    "\n",
    "И как раз из-за того, что модель hidden_dim = 1024 dropout_part = 0.5 совсем не сошлась, сильно просело качество, так как большой dropout еще сильнее усложняет процесс обучения.<br>\n",
    "В итоге можно сказать, что увеличение dropout_part улучшает качество, но замедляет обучение. Так что за оптимальное значение будет взято dropout_part = 0.4. \n",
    "hidden_dim слишком большим смысла делать нет, так как время обучения взлетает до небес, но и слишком маленьким тоже делать не стоит, так как мы можем уткнуться в информационный барьер, который не даст нам достичь желаемого качества. За оптимальное значение взято hidden_dim = 256."
   ],
   "metadata": {
    "collapsed": false
   }
  },
  {
   "cell_type": "markdown",
   "source": [
    "Теперь обучим модели большим количеством слоев и с различными модификациями rnn."
   ],
   "metadata": {
    "collapsed": false
   }
  },
  {
   "cell_type": "code",
   "source": [
    "#optimal for rnn_1layers\n",
    "model_rnn_1layers_256hdim_40drop, losses_rnn_1layers_256hdim_40drop, acc_rnn_1layers_256hdim_40drop = start_train(epochs=20, rec_layers=1, hidden_dim=256, dropout_part=0.4, freeze_max_number=3)"
   ],
   "metadata": {
    "colab": {
     "base_uri": "https://localhost:8080/"
    },
    "id": "NvTLQ6v2qIM0",
    "outputId": "4d1eda0a-bdb6-49e8-d543-dc8af6b21d09"
   },
   "execution_count": 33,
   "outputs": [
    {
     "output_type": "stream",
     "name": "stdout",
     "text": [
      "* Epoch 1/20\n",
      "* Train  Epoch accuracy: 0.841658  Epoch loss: 0.443223\n",
      "* Val    Epoch accuracy: 0.893400  Epoch loss: 0.030132\n",
      "Saving best model...\n",
      "* Epoch 2/20\n",
      "* Train  Epoch accuracy: 0.911300  Epoch loss: 0.268999\n",
      "* Val    Epoch accuracy: 0.900200  Epoch loss: 0.002060\n",
      "Saving best model...\n",
      "* Epoch 3/20\n",
      "* Train  Epoch accuracy: 0.924850  Epoch loss: 0.225200\n",
      "* Val    Epoch accuracy: 0.908200  Epoch loss: 0.000801\n",
      "Saving best model...\n",
      "* Epoch 4/20\n",
      "* Train  Epoch accuracy: 0.933425  Epoch loss: 0.196619\n",
      "* Val    Epoch accuracy: 0.907200  Epoch loss: 0.001752\n",
      "* Epoch 5/20\n",
      "* Train  Epoch accuracy: 0.940967  Epoch loss: 0.174868\n",
      "* Val    Epoch accuracy: 0.910200  Epoch loss: 0.001539\n",
      "Saving best model...\n",
      "* Epoch 6/20\n",
      "* Train  Epoch accuracy: 0.946300  Epoch loss: 0.158170\n",
      "* Val    Epoch accuracy: 0.903200  Epoch loss: 0.000486\n",
      "* Epoch 7/20\n",
      "* Train  Epoch accuracy: 0.951158  Epoch loss: 0.144156\n",
      "* Val    Epoch accuracy: 0.907400  Epoch loss: 0.000133\n",
      "* Epoch 8/20\n",
      "* Train  Epoch accuracy: 0.955067  Epoch loss: 0.131827\n",
      "* Val    Epoch accuracy: 0.908000  Epoch loss: 0.000093\n",
      "* Epoch 9/20\n",
      "* Train  Epoch accuracy: 0.958658  Epoch loss: 0.122708\n",
      "* Val    Epoch accuracy: 0.905800  Epoch loss: 0.000862\n",
      "* Epoch 10/20\n",
      "* Train  Epoch accuracy: 0.961133  Epoch loss: 0.114966\n",
      "* Val    Epoch accuracy: 0.905400  Epoch loss: 0.000066\n",
      "The model is trained\n"
     ]
    }
   ]
  },
  {
   "cell_type": "code",
   "source": [
    "#optimal for rnn_2layers\n",
    "model_rnn_2layers_256hdim_40drop, losses_rnn_2layers_256hdim_40drop, acc_rnn_2layers_256hdim_40drop = start_train(epochs=20, rec_layers=2, hidden_dim=256, dropout_part=0.4, freeze_max_number=3)"
   ],
   "metadata": {
    "colab": {
     "base_uri": "https://localhost:8080/"
    },
    "id": "RZL1dLFGqYtx",
    "outputId": "61acc4d9-ea74-4a52-8e95-c697aeb7241a"
   },
   "execution_count": 34,
   "outputs": [
    {
     "output_type": "stream",
     "name": "stdout",
     "text": [
      "* Epoch 1/20\n",
      "* Train  Epoch accuracy: 0.834158  Epoch loss: 0.459942\n",
      "* Val    Epoch accuracy: 0.895200  Epoch loss: 0.004585\n",
      "Saving best model...\n",
      "* Epoch 2/20\n",
      "* Train  Epoch accuracy: 0.908967  Epoch loss: 0.276220\n",
      "* Val    Epoch accuracy: 0.904000  Epoch loss: 0.003478\n",
      "Saving best model...\n",
      "* Epoch 3/20\n",
      "* Train  Epoch accuracy: 0.923008  Epoch loss: 0.234416\n",
      "* Val    Epoch accuracy: 0.909400  Epoch loss: 0.166288\n",
      "Saving best model...\n",
      "* Epoch 4/20\n",
      "* Train  Epoch accuracy: 0.931475  Epoch loss: 0.205592\n",
      "* Val    Epoch accuracy: 0.911600  Epoch loss: 0.001854\n",
      "Saving best model...\n",
      "* Epoch 5/20\n",
      "* Train  Epoch accuracy: 0.938283  Epoch loss: 0.183774\n",
      "* Val    Epoch accuracy: 0.905800  Epoch loss: 0.000450\n",
      "* Epoch 6/20\n",
      "* Train  Epoch accuracy: 0.944608  Epoch loss: 0.166476\n",
      "* Val    Epoch accuracy: 0.905200  Epoch loss: 0.000679\n",
      "* Epoch 7/20\n",
      "* Train  Epoch accuracy: 0.947975  Epoch loss: 0.153754\n",
      "* Val    Epoch accuracy: 0.904000  Epoch loss: 0.000160\n",
      "The model is trained\n"
     ]
    }
   ]
  },
  {
   "cell_type": "code",
   "source": [
    "#optimal for rnn_4layers\n",
    "model_rnn_4layers_256hdim_40drop, losses_rnn_4layers_256hdim_40drop, acc_rnn_4layers_256hdim_40drop = start_train(epochs=20, rec_layers=4, hidden_dim=256, dropout_part=0.4, freeze_max_number=3)"
   ],
   "metadata": {
    "colab": {
     "base_uri": "https://localhost:8080/"
    },
    "id": "0JD5rIPF2Xya",
    "outputId": "5fb67d0b-f2af-4c84-98e2-25dbebd70b4e"
   },
   "execution_count": 40,
   "outputs": [
    {
     "output_type": "stream",
     "name": "stdout",
     "text": [
      "* Epoch 1/20\n",
      "* Train  Epoch accuracy: 0.813100  Epoch loss: 0.522225\n",
      "* Val    Epoch accuracy: 0.864400  Epoch loss: 0.020997\n",
      "Saving best model...\n",
      "* Epoch 2/20\n",
      "* Train  Epoch accuracy: 0.894192  Epoch loss: 0.328011\n",
      "* Val    Epoch accuracy: 0.890800  Epoch loss: 0.003702\n",
      "Saving best model...\n",
      "* Epoch 3/20\n",
      "* Train  Epoch accuracy: 0.908833  Epoch loss: 0.280933\n",
      "* Val    Epoch accuracy: 0.899800  Epoch loss: 0.051656\n",
      "Saving best model...\n",
      "* Epoch 4/20\n",
      "* Train  Epoch accuracy: 0.916300  Epoch loss: 0.258005\n",
      "* Val    Epoch accuracy: 0.887000  Epoch loss: 0.138852\n",
      "* Epoch 5/20\n",
      "* Train  Epoch accuracy: 0.920967  Epoch loss: 0.242469\n",
      "* Val    Epoch accuracy: 0.902200  Epoch loss: 0.012625\n",
      "Saving best model...\n",
      "* Epoch 6/20\n",
      "* Train  Epoch accuracy: 0.923983  Epoch loss: 0.233219\n",
      "* Val    Epoch accuracy: 0.903400  Epoch loss: 0.016887\n",
      "Saving best model...\n",
      "* Epoch 7/20\n",
      "* Train  Epoch accuracy: 0.927667  Epoch loss: 0.220932\n",
      "* Val    Epoch accuracy: 0.897600  Epoch loss: 0.049332\n",
      "* Epoch 8/20\n",
      "* Train  Epoch accuracy: 0.929358  Epoch loss: 0.215029\n",
      "* Val    Epoch accuracy: 0.902000  Epoch loss: 0.097755\n",
      "* Epoch 9/20\n",
      "* Train  Epoch accuracy: 0.932517  Epoch loss: 0.206121\n",
      "* Val    Epoch accuracy: 0.903600  Epoch loss: 0.088039\n",
      "Saving best model...\n",
      "* Epoch 10/20\n",
      "* Train  Epoch accuracy: 0.933417  Epoch loss: 0.204127\n",
      "* Val    Epoch accuracy: 0.897400  Epoch loss: 0.061531\n",
      "* Epoch 11/20\n",
      "* Train  Epoch accuracy: 0.936492  Epoch loss: 0.195836\n",
      "* Val    Epoch accuracy: 0.897600  Epoch loss: 0.026991\n",
      "The model is trained\n"
     ]
    }
   ]
  },
  {
   "cell_type": "code",
   "source": [
    "#optimal for gru_1layers\n",
    "model_gru_1layers_256hdim_40drop, losses_gru_1layers_256hdim_40drop, acc_gru_1layers_256hdim_40drop = start_train(epochs=20, rec_layers=1, hidden_dim=256, dropout_part=0.4, freeze_max_number=3, rnn_type='gru')"
   ],
   "metadata": {
    "colab": {
     "base_uri": "https://localhost:8080/"
    },
    "outputId": "1a67709d-d20f-4015-c077-d448fc439fd6",
    "id": "XMUPv3dQ3Kqv"
   },
   "execution_count": 43,
   "outputs": [
    {
     "output_type": "stream",
     "name": "stdout",
     "text": [
      "* Epoch 1/20\n",
      "* Train  Epoch accuracy: 0.866908  Epoch loss: 0.377773\n",
      "* Val    Epoch accuracy: 0.907000  Epoch loss: 0.002289\n",
      "Saving best model...\n",
      "* Epoch 2/20\n",
      "* Train  Epoch accuracy: 0.927900  Epoch loss: 0.215202\n",
      "* Val    Epoch accuracy: 0.910600  Epoch loss: 0.007066\n",
      "Saving best model...\n",
      "* Epoch 3/20\n",
      "* Train  Epoch accuracy: 0.949258  Epoch loss: 0.151316\n",
      "* Val    Epoch accuracy: 0.911200  Epoch loss: 0.001895\n",
      "Saving best model...\n",
      "* Epoch 4/20\n",
      "* Train  Epoch accuracy: 0.965750  Epoch loss: 0.103489\n",
      "* Val    Epoch accuracy: 0.910800  Epoch loss: 0.005018\n",
      "* Epoch 5/20\n",
      "* Train  Epoch accuracy: 0.974625  Epoch loss: 0.075396\n",
      "* Val    Epoch accuracy: 0.907400  Epoch loss: 0.000122\n",
      "The model is trained\n"
     ]
    }
   ]
  },
  {
   "cell_type": "code",
   "source": [
    "#optimal for gru_2layers\n",
    "model_gru_2layers_256hdim_40drop, losses_gru_2layers_256hdim_40drop, acc_gru_2layers_256hdim_40drop = start_train(epochs=20, rec_layers=2, hidden_dim=256, dropout_part=0.4, freeze_max_number=3, rnn_type='gru')"
   ],
   "metadata": {
    "colab": {
     "base_uri": "https://localhost:8080/"
    },
    "outputId": "c513764a-9cd0-4614-e9be-7978ef826439",
    "collapsed": true,
    "id": "4hO0e5-43Kq4"
   },
   "execution_count": 44,
   "outputs": [
    {
     "output_type": "stream",
     "name": "stdout",
     "text": [
      "* Epoch 1/20\n",
      "* Train  Epoch accuracy: 0.866450  Epoch loss: 0.378059\n",
      "* Val    Epoch accuracy: 0.905000  Epoch loss: 0.006086\n",
      "Saving best model...\n",
      "* Epoch 2/20\n",
      "* Train  Epoch accuracy: 0.923892  Epoch loss: 0.224937\n",
      "* Val    Epoch accuracy: 0.908400  Epoch loss: 0.007816\n",
      "Saving best model...\n",
      "* Epoch 3/20\n",
      "* Train  Epoch accuracy: 0.944333  Epoch loss: 0.163701\n",
      "* Val    Epoch accuracy: 0.908000  Epoch loss: 0.000654\n",
      "* Epoch 4/20\n",
      "* Train  Epoch accuracy: 0.961142  Epoch loss: 0.117170\n",
      "* Val    Epoch accuracy: 0.905200  Epoch loss: 0.000482\n",
      "* Epoch 5/20\n",
      "* Train  Epoch accuracy: 0.969950  Epoch loss: 0.088658\n",
      "* Val    Epoch accuracy: 0.906000  Epoch loss: 0.000109\n",
      "The model is trained\n"
     ]
    }
   ]
  },
  {
   "cell_type": "code",
   "source": [
    "#optimal for lstm_1layers\n",
    "model_lstm_1layers_256hdim_40drop, losses_lstm_1layers_256hdim_40drop, acc_lstm_1layers_256hdim_40drop = start_train(epochs=20, rec_layers=1, hidden_dim=256, dropout_part=0.4, freeze_max_number=3, rnn_type='lstm')"
   ],
   "metadata": {
    "colab": {
     "base_uri": "https://localhost:8080/"
    },
    "id": "AtWIv9kT3_LI",
    "outputId": "3d55e873-cdc6-4b9b-8229-5e27585c6d88"
   },
   "execution_count": 45,
   "outputs": [
    {
     "output_type": "stream",
     "name": "stdout",
     "text": [
      "* Epoch 1/20\n",
      "* Train  Epoch accuracy: 0.871658  Epoch loss: 0.364816\n",
      "* Val    Epoch accuracy: 0.908600  Epoch loss: 0.008629\n",
      "Saving best model...\n",
      "* Epoch 2/20\n",
      "* Train  Epoch accuracy: 0.929058  Epoch loss: 0.209581\n",
      "* Val    Epoch accuracy: 0.916800  Epoch loss: 0.003151\n",
      "Saving best model...\n",
      "* Epoch 3/20\n",
      "* Train  Epoch accuracy: 0.950425  Epoch loss: 0.143999\n",
      "* Val    Epoch accuracy: 0.915400  Epoch loss: 0.008209\n",
      "* Epoch 4/20\n",
      "* Train  Epoch accuracy: 0.968775  Epoch loss: 0.091917\n",
      "* Val    Epoch accuracy: 0.910600  Epoch loss: 0.000127\n",
      "* Epoch 5/20\n",
      "* Train  Epoch accuracy: 0.980267  Epoch loss: 0.058135\n",
      "* Val    Epoch accuracy: 0.908600  Epoch loss: 0.000727\n",
      "The model is trained\n"
     ]
    }
   ]
  },
  {
   "cell_type": "code",
   "source": [
    "#optimal for lstm_2layers\n",
    "model_lstm_2layers_256hdim_40drop, losses_lstm_2layers_256hdim_40drop, acc_lstm_2layers_256hdim_40drop = start_train(epochs=20, rec_layers=2, hidden_dim=256, dropout_part=0.4, freeze_max_number=3, rnn_type='lstm')"
   ],
   "metadata": {
    "collapsed": true,
    "colab": {
     "base_uri": "https://localhost:8080/",
     "height": 176
    },
    "id": "SXfsxnuX3_LJ",
    "outputId": "4b82c6ff-361c-4022-f13e-9e93bdaa21cc",
    "ExecuteTime": {
     "end_time": "2024-07-11T10:05:01.593822Z",
     "start_time": "2024-07-11T08:21:06.294442Z"
    }
   },
   "execution_count": 72,
   "outputs": [
    {
     "name": "stdout",
     "output_type": "stream",
     "text": [
      "* Epoch 1/20\n",
      "* Train  Epoch accuracy: 0.870100  Epoch loss: 0.371411\n",
      "* Val    Epoch accuracy: 0.909000  Epoch loss: 0.092656\n",
      "Saving best model...\n",
      "* Epoch 2/20\n",
      "* Train  Epoch accuracy: 0.926867  Epoch loss: 0.217035\n",
      "* Val    Epoch accuracy: 0.915600  Epoch loss: 0.005333\n",
      "Saving best model...\n",
      "* Epoch 3/20\n",
      "* Train  Epoch accuracy: 0.947808  Epoch loss: 0.153585\n",
      "* Val    Epoch accuracy: 0.914200  Epoch loss: 0.000272\n",
      "* Epoch 4/20\n",
      "* Train  Epoch accuracy: 0.965850  Epoch loss: 0.101787\n",
      "* Val    Epoch accuracy: 0.917200  Epoch loss: 0.000055\n",
      "Saving best model...\n",
      "* Epoch 5/20\n",
      "* Train  Epoch accuracy: 0.977475  Epoch loss: 0.066153\n",
      "* Val    Epoch accuracy: 0.911600  Epoch loss: 0.000268\n",
      "* Epoch 6/20\n",
      "* Train  Epoch accuracy: 0.984467  Epoch loss: 0.047173\n",
      "* Val    Epoch accuracy: 0.910600  Epoch loss: 0.001178\n",
      "* Epoch 7/20\n",
      "* Train  Epoch accuracy: 0.988217  Epoch loss: 0.035372\n",
      "* Val    Epoch accuracy: 0.909800  Epoch loss: 0.000005\n",
      "The model is trained\n"
     ]
    }
   ]
  },
  {
   "cell_type": "markdown",
   "source": [
    "Вот такие резлультаты получились."
   ],
   "metadata": {
    "collapsed": false
   }
  },
  {
   "cell_type": "code",
   "outputs": [],
   "source": [
    "best_accuracy = {'rnn': [[0.893, 0.9, 0.908, 0.907, 0.910, 0.903, 0.907, 0.908, 0.906, 0.905],\n",
    "                         [0.895, 0.904, 0.909, 0.912, 0.906, 0.905, 0.904],\n",
    "                         [0.864, 0.891, 0.9, 0.887, 0.9, 0.9, 0.898, 0.9, 0.9, 0.897, 0.898]], \n",
    "                 'gru': [[0.907, 0.9106, 0.911, 0.911, 0.907],\n",
    "                         [0.905, 0.908, 0.908, 0.905, 0.906]], \n",
    "                 'lstm': [[0.909, 0.917, 0.9154, 0.91, 0.909],\n",
    "                          [0.909, 0.9156, 0.914, 0.917, 0.9116, 0.9106, 0.91]]}"
   ],
   "metadata": {
    "collapsed": false,
    "ExecuteTime": {
     "end_time": "2024-07-11T12:10:01.683028Z",
     "start_time": "2024-07-11T12:10:01.672914Z"
    }
   },
   "execution_count": 74
  },
  {
   "cell_type": "code",
   "outputs": [],
   "source": [
    "max_len = 0\n",
    "\n",
    "for data in best_accuracy['rnn']:\n",
    "    if len(data) > max_len:\n",
    "        max_len = len(data)\n",
    "\n",
    "for data in best_accuracy['rnn']:\n",
    "    actual_len = len(data)\n",
    "    data += (max_len - actual_len) * [data[-1]]"
   ],
   "metadata": {
    "collapsed": false,
    "ExecuteTime": {
     "end_time": "2024-07-11T14:12:17.028492Z",
     "start_time": "2024-07-11T14:12:17.022962Z"
    }
   },
   "execution_count": 117
  },
  {
   "cell_type": "code",
   "outputs": [
    {
     "data": {
      "text/plain": "<Figure size 640x480 with 1 Axes>",
      "image/png": "[encoded data removed]"
     },
     "metadata": {},
     "output_type": "display_data"
    }
   ],
   "source": [
    "colors = ['r', 'g', 'b']\n",
    "for i, data in enumerate(best_accuracy['rnn']):\n",
    "    plt.plot(range(len(data)), data, label =  'num_hidden_layers = ' + str(2**i), color = colors[i])\n",
    "plt.legend()\n",
    "plt.show()"
   ],
   "metadata": {
    "collapsed": false,
    "ExecuteTime": {
     "end_time": "2024-07-11T14:15:49.319184Z",
     "start_time": "2024-07-11T14:15:49.155298Z"
    }
   },
   "execution_count": 126
  },
  {
   "cell_type": "markdown",
   "source": [
    "Интересно, что с увеличением количества скрытых слоев уменьшается качество. Причем модели обучались до сходимости, то есть дело не в недообученности.<br>\n",
    "Я думаю, это происходит из-за затухания градиента, что вредит обучению. Модель теряет свою способность запоминать, так как она некачественно заполняет вектор скрытого состояния на первых слоях (так как до туда градиент особо не доходит), тем самым теряя много информации.<br>\n",
    "Также у меня не получилось обучить модель с 8 скрытыми слоями: при первой попытке обучения все заработало, но при повторных попытках качество почти не сдвигалось с 0.25. Видимо очень важны начальные значения параметров, ведь из-за затухания градиента они слабо меняются.<br>\n",
    "Думаю, иногда выразительной способности однослойной rnn может не хватить, тогда и можно попытаться увеличить количество слоев, но, опять же, это нужно проверять на деле. Кажется, что не стоит использовать больше 2-3 слоев, из-за затухания градиента и увеличения времени обучения."
   ],
   "metadata": {
    "collapsed": false
   }
  },
  {
   "cell_type": "code",
   "outputs": [],
   "source": [
    "max_len = 0\n",
    "\n",
    "for data in best_accuracy['gru']:\n",
    "    if len(data) > max_len:\n",
    "        max_len = len(data)\n",
    "\n",
    "for data in best_accuracy['gru']:\n",
    "    actual_len = len(data)\n",
    "    data += (max_len - actual_len) * [data[-1]]"
   ],
   "metadata": {
    "collapsed": false,
    "ExecuteTime": {
     "end_time": "2024-07-11T15:15:13.455873Z",
     "start_time": "2024-07-11T15:15:13.438554Z"
    }
   },
   "execution_count": 127
  },
  {
   "cell_type": "code",
   "outputs": [
    {
     "data": {
      "text/plain": "<Figure size 640x480 with 1 Axes>",
      "image/png": "[encoded data removed]"
     },
     "metadata": {},
     "output_type": "display_data"
    }
   ],
   "source": [
    "colors = ['r', 'g']\n",
    "for i, data in enumerate(best_accuracy['gru']):\n",
    "    plt.plot(range(len(data)), data, label =  'num_hidden_layers = ' + str(i + 1), color = colors[i])\n",
    "plt.legend()\n",
    "plt.show()"
   ],
   "metadata": {
    "collapsed": false,
    "ExecuteTime": {
     "end_time": "2024-07-11T15:15:50.395674Z",
     "start_time": "2024-07-11T15:15:50.185277Z"
    }
   },
   "execution_count": 129
  },
  {
   "cell_type": "markdown",
   "source": [
    "gru пытается следовать парадигме lstm и не слишком сильно изменять вектор внутреннего состояния, сохраняя часть информации, но при этом gru намного менее мощная, чем lstm и опять имеет проблемы с затуханием градиента, так что качество опять лучше, когда слой только 1."
   ],
   "metadata": {
    "collapsed": false
   }
  },
  {
   "cell_type": "code",
   "outputs": [],
   "source": [
    "max_len = 0\n",
    "\n",
    "for data in best_accuracy['lstm']:\n",
    "    if len(data) > max_len:\n",
    "        max_len = len(data)\n",
    "\n",
    "for data in best_accuracy['lstm']:\n",
    "    actual_len = len(data)\n",
    "    data += (max_len - actual_len) * [data[-1]]"
   ],
   "metadata": {
    "collapsed": false,
    "ExecuteTime": {
     "end_time": "2024-07-11T15:16:17.888555Z",
     "start_time": "2024-07-11T15:16:17.883263Z"
    }
   },
   "execution_count": 130
  },
  {
   "cell_type": "code",
   "outputs": [
    {
     "data": {
      "text/plain": "<Figure size 640x480 with 1 Axes>",
      "image/png": "[encoded data removed]"
     },
     "metadata": {},
     "output_type": "display_data"
    }
   ],
   "source": [
    "colors = ['r', 'g']\n",
    "for i, data in enumerate(best_accuracy['lstm']):\n",
    "    plt.plot(range(len(data)), data, label =  'num_hidden_layers = ' + str(i + 1), color = colors[i])\n",
    "plt.legend()\n",
    "plt.show()"
   ],
   "metadata": {
    "collapsed": false,
    "ExecuteTime": {
     "end_time": "2024-07-11T15:16:18.515398Z",
     "start_time": "2024-07-11T15:16:18.321685Z"
    }
   },
   "execution_count": 131
  },
  {
   "cell_type": "markdown",
   "source": [
    "А вот здесь ситуация другая. Долгосрочная память помогает меньше забывать более старую информацию, из-за чего решается проблема затухания градиента, так что увеличение количества слоев повышает качество."
   ],
   "metadata": {
    "collapsed": false
   }
  },
  {
   "cell_type": "markdown",
   "source": [
    "В итоге лучшая модель это \n",
    "CharLM(hidden_dim=256, vocab_size=len(vocab), num_classes=4, aggregation_type=\"mean\", rec_layers=2, dropout_part=0.4, rnn_type='lstm')"
   ],
   "metadata": {
    "collapsed": false
   }
  }
 ]
}
