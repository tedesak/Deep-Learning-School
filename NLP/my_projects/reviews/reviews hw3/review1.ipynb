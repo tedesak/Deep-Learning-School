{
 "cells": [
  {
   "cell_type": "markdown",
   "metadata": {
    "id": "d0ADTojbpfLt"
   },
   "source": [
    "# Домашнее задание. Обучение языковой модели с помощью LSTM (10 баллов)"
   ]
  },
  {
   "cell_type": "markdown",
   "metadata": {
    "id": "ldHSmYY6p_mZ"
   },
   "source": [
    "Это домашнее задание проходит в формате peer-review. Это означает, что его будут проверять ваши однокурсники. Поэтому пишите разборчивый код, добавляйте комментарии и пишите выводы после проделанной работы.\n",
    "\n",
    "В этом задании Вам предстоит обучить языковую модель с помощью рекуррентной нейронной сети. В отличие от семинарского занятия, Вам необходимо будет работать с отдельными словами, а не буквами.\n",
    "\n",
    "\n",
    "Установим модуль ```datasets```, чтобы нам проще было работать с данными."
   ]
  },
  {
   "cell_type": "code",
   "execution_count": 1,
   "metadata": {
    "id": "3yvNdv6cp_0P"
   },
   "outputs": [],
   "source": [
    "#!pip install datasets\n",
    "# уже установлено"
   ]
  },
  {
   "cell_type": "markdown",
   "metadata": {
    "id": "rh9ZXSeCpng9"
   },
   "source": [
    "Импорт необходимых библиотек"
   ]
  },
  {
   "cell_type": "code",
   "execution_count": 2,
   "metadata": {
    "id": "XOJi16bLpd_O"
   },
   "outputs": [],
   "source": [
    "import torch\n",
    "import torch.nn as nn\n",
    "from torch.utils.data import Dataset, DataLoader\n",
    "\n",
    "import numpy as np\n",
    "import matplotlib.pyplot as plt\n",
    "\n",
    "from tqdm.auto import tqdm\n",
    "from datasets import load_dataset\n",
    "from nltk.tokenize import sent_tokenize, word_tokenize\n",
    "from sklearn.model_selection import train_test_split\n",
    "import nltk\n",
    "\n",
    "from collections import Counter\n",
    "from typing import List\n",
    "\n",
    "import seaborn\n",
    "seaborn.set(palette='summer')\n",
    "\n",
    "import datetime as dt\n",
    "import matplotlib.pyplot as plt\n",
    "import re\n",
    "\n",
    "import gc"
   ]
  },
  {
   "cell_type": "code",
   "execution_count": 3,
   "metadata": {},
   "outputs": [
    {
     "name": "stdout",
     "output_type": "stream",
     "text": [
      "|===========================================================================|\n",
      "|                  PyTorch CUDA memory summary, device ID 0                 |\n",
      "|---------------------------------------------------------------------------|\n",
      "|            CUDA OOMs: 0            |        cudaMalloc retries: 0         |\n",
      "|===========================================================================|\n",
      "|        Metric         | Cur Usage  | Peak Usage | Tot Alloc  | Tot Freed  |\n",
      "|---------------------------------------------------------------------------|\n",
      "| Allocated memory      |      0 B   |      0 B   |      0 B   |      0 B   |\n",
      "|       from large pool |      0 B   |      0 B   |      0 B   |      0 B   |\n",
      "|       from small pool |      0 B   |      0 B   |      0 B   |      0 B   |\n",
      "|---------------------------------------------------------------------------|\n",
      "| Active memory         |      0 B   |      0 B   |      0 B   |      0 B   |\n",
      "|       from large pool |      0 B   |      0 B   |      0 B   |      0 B   |\n",
      "|       from small pool |      0 B   |      0 B   |      0 B   |      0 B   |\n",
      "|---------------------------------------------------------------------------|\n",
      "| Requested memory      |      0 B   |      0 B   |      0 B   |      0 B   |\n",
      "|       from large pool |      0 B   |      0 B   |      0 B   |      0 B   |\n",
      "|       from small pool |      0 B   |      0 B   |      0 B   |      0 B   |\n",
      "|---------------------------------------------------------------------------|\n",
      "| GPU reserved memory   |      0 B   |      0 B   |      0 B   |      0 B   |\n",
      "|       from large pool |      0 B   |      0 B   |      0 B   |      0 B   |\n",
      "|       from small pool |      0 B   |      0 B   |      0 B   |      0 B   |\n",
      "|---------------------------------------------------------------------------|\n",
      "| Non-releasable memory |      0 B   |      0 B   |      0 B   |      0 B   |\n",
      "|       from large pool |      0 B   |      0 B   |      0 B   |      0 B   |\n",
      "|       from small pool |      0 B   |      0 B   |      0 B   |      0 B   |\n",
      "|---------------------------------------------------------------------------|\n",
      "| Allocations           |       0    |       0    |       0    |       0    |\n",
      "|       from large pool |       0    |       0    |       0    |       0    |\n",
      "|       from small pool |       0    |       0    |       0    |       0    |\n",
      "|---------------------------------------------------------------------------|\n",
      "| Active allocs         |       0    |       0    |       0    |       0    |\n",
      "|       from large pool |       0    |       0    |       0    |       0    |\n",
      "|       from small pool |       0    |       0    |       0    |       0    |\n",
      "|---------------------------------------------------------------------------|\n",
      "| GPU reserved segments |       0    |       0    |       0    |       0    |\n",
      "|       from large pool |       0    |       0    |       0    |       0    |\n",
      "|       from small pool |       0    |       0    |       0    |       0    |\n",
      "|---------------------------------------------------------------------------|\n",
      "| Non-releasable allocs |       0    |       0    |       0    |       0    |\n",
      "|       from large pool |       0    |       0    |       0    |       0    |\n",
      "|       from small pool |       0    |       0    |       0    |       0    |\n",
      "|---------------------------------------------------------------------------|\n",
      "| Oversize allocations  |       0    |       0    |       0    |       0    |\n",
      "|---------------------------------------------------------------------------|\n",
      "| Oversize GPU segments |       0    |       0    |       0    |       0    |\n",
      "|===========================================================================|\n"
     ]
    }
   ],
   "source": [
    "print(torch.cuda.memory_summary(device=None, abbreviated=False))"
   ]
  },
  {
   "cell_type": "code",
   "execution_count": 4,
   "metadata": {
    "id": "91JuM0SQvXud"
   },
   "outputs": [
    {
     "name": "stderr",
     "output_type": "stream",
     "text": [
      "[nltk_data] Downloading package punkt to\n",
      "[nltk_data]     C:\\Users\\Alexey\\AppData\\Roaming\\nltk_data...\n",
      "[nltk_data]   Package punkt is already up-to-date!\n"
     ]
    },
    {
     "data": {
      "text/plain": [
       "True"
      ]
     },
     "execution_count": 4,
     "metadata": {},
     "output_type": "execute_result"
    }
   ],
   "source": [
    "nltk.download('punkt')"
   ]
  },
  {
   "cell_type": "code",
   "execution_count": 5,
   "metadata": {
    "id": "adJC8ShFq9HM"
   },
   "outputs": [
    {
     "data": {
      "text/plain": [
       "'cuda'"
      ]
     },
     "execution_count": 5,
     "metadata": {},
     "output_type": "execute_result"
    }
   ],
   "source": [
    "device = 'cuda' if torch.cuda.is_available() else 'cpu'\n",
    "device"
   ]
  },
  {
   "cell_type": "markdown",
   "metadata": {
    "id": "pwsfS1ENq5ig"
   },
   "source": [
    "## Подготовка данных\n",
    "\n",
    "Воспользуемся датасетом imdb. В нем хранятся отзывы о фильмах с сайта imdb. Загрузим данные с помощью функции ```load_dataset```"
   ]
  },
  {
   "cell_type": "code",
   "execution_count": 6,
   "metadata": {
    "id": "qHLNWOfJqSfc"
   },
   "outputs": [],
   "source": [
    "# Загрузим датасет\n",
    "dataset = load_dataset('imdb')"
   ]
  },
  {
   "cell_type": "markdown",
   "metadata": {
    "id": "24gn7CuZ9agP"
   },
   "source": [
    "### Препроцессинг данных и создание словаря (1 балл)\n",
    "\n",
    "Далее вам необходмо самостоятельно произвести препроцессинг данных и получить словарь или же просто ```set``` строк. Что необходимо сделать:\n",
    "\n",
    "1. Разделить отдельные тренировочные примеры на отдельные предложения с помощью функции ```sent_tokenize``` из бибилиотеки ```nltk```. Каждое отдельное предложение будет одним тренировочным примером.\n",
    "2. Оставить только те предложения, в которых меньше ```word_threshold``` слов.\n",
    "3. Посчитать частоту вхождения каждого слова в оставшихся предложениях. Для деления предлоения на отдельные слова удобно использовать функцию ```word_tokenize```.\n",
    "4. Создать объект ```vocab``` класса ```set```, положить в него служебные токены '\\<unk\\>', '\\<bos\\>', '\\<eos\\>', '\\<pad\\>' и vocab_size самых частовстречающихся слов.   "
   ]
  },
  {
   "cell_type": "code",
   "execution_count": 7,
   "metadata": {
    "id": "Ins2tVCdsS47"
   },
   "outputs": [
    {
     "name": "stdout",
     "output_type": "stream",
     "text": [
      "complete: 10000 / 10000 after 0:00:04.119887\n"
     ]
    }
   ],
   "source": [
    "# Получить отдельные предложения и поместить их в sentences\n",
    "sentences = []\n",
    "dataset_text = dataset['train']['text'] + dataset['test']['text'] + dataset['unsupervised']['text']\n",
    "dataset_text = dataset_text[:len(dataset_text)//10]\n",
    "\n",
    "max_iter = len(dataset_text)\n",
    "start = dt.datetime.now()\n",
    "for i, sentence in enumerate(dataset_text):\n",
    "    if i % 1000 == 0:\n",
    "        print('complete: {} / {} after {}'.format(i, max_iter, dt.datetime.now()-start), end='\\r')\n",
    "    sentence = re.sub('(<br />)', ' ', sentence)\n",
    "    sentence = re.sub('(<i>)|(</i>)|(<hr>)', '', sentence)\n",
    "    sentence = re.sub(' +', ' ', sentence)\n",
    "    sentences += [x.lower() for x in sent_tokenize(sentence)]\n",
    "print('complete: {} / {} after {}'.format(max_iter, max_iter, dt.datetime.now()-start), end='\\r')\n",
    "print()"
   ]
  },
  {
   "cell_type": "code",
   "execution_count": 8,
   "metadata": {
    "id": "bxeBxP3J1Rj3"
   },
   "outputs": [
    {
     "name": "stdout",
     "output_type": "stream",
     "text": [
      "Всего предложений: 127921\n"
     ]
    }
   ],
   "source": [
    "print(\"Всего предложений:\", len(sentences))"
   ]
  },
  {
   "cell_type": "markdown",
   "metadata": {
    "id": "iT82XkT6ULA_"
   },
   "source": [
    "Посчитаем для каждого слова его встречаемость."
   ]
  },
  {
   "cell_type": "code",
   "execution_count": 9,
   "metadata": {
    "id": "nEvCN0Y1w1yH"
   },
   "outputs": [
    {
     "name": "stdout",
     "output_type": "stream",
     "text": [
      "complete: 127921 / 127921 after 0:00:16.123581\n"
     ]
    }
   ],
   "source": [
    "# Расчет встречаемости слов\n",
    "# - к нижнему регистру уже привели, повторно не приводим\n",
    "# - знаки пунктуации не исключаем: хотим, чтобы они были и в генерируемом тексте\n",
    "words = Counter()\n",
    "\n",
    "max_iter = len(sentences)\n",
    "start = dt.datetime.now()\n",
    "for i, sentence in enumerate(sentences):\n",
    "    if i % 5000 == 0:\n",
    "        print('complete: {} / {} after {}'.format(i, max_iter, dt.datetime.now()-start), end='\\r')\n",
    "    words_sentence = word_tokenize(sentence)\n",
    "    for word in words_sentence:\n",
    "        words[word] += 1\n",
    "print('complete: {} / {} after {}'.format(max_iter, max_iter, dt.datetime.now()-start), end='\\r')\n",
    "print()"
   ]
  },
  {
   "cell_type": "markdown",
   "metadata": {
    "id": "B4k4uSoHUSI0"
   },
   "source": [
    "Добавим в словарь ```vocab_size``` самых встречающихся слов."
   ]
  },
  {
   "cell_type": "code",
   "execution_count": 10,
   "metadata": {
    "id": "oUBNwsK9xLIu"
   },
   "outputs": [],
   "source": [
    "# Наполнение словаря\n",
    "vocab_size_target = 40000\n",
    "vocab = set([w[0] for w in sorted(words.items(), key=lambda x: -x[1])][:vocab_size_target])\n",
    "vocab |= set(['<unk>', '<bos>', '<eos>', '<pad>'])"
   ]
  },
  {
   "cell_type": "code",
   "execution_count": 11,
   "metadata": {
    "id": "ieT0DFUpXnV2"
   },
   "outputs": [],
   "source": [
    "assert '<unk>' in vocab\n",
    "assert '<bos>' in vocab\n",
    "assert '<eos>' in vocab\n",
    "assert '<pad>' in vocab\n",
    "assert len(vocab) == vocab_size_target + 4"
   ]
  },
  {
   "cell_type": "code",
   "execution_count": 12,
   "metadata": {
    "id": "JhACW2CQyck5"
   },
   "outputs": [
    {
     "name": "stdout",
     "output_type": "stream",
     "text": [
      "Всего слов в словаре: 40004 / 62132\n",
      "Всего слов в тексте попало в словарь: 2638905 / 2661037\n"
     ]
    }
   ],
   "source": [
    "print(\"Всего слов в словаре: {} / {}\".format(len(vocab), len(words)))\n",
    "print(\"Всего слов в тексте попало в словарь: {} / {}\".format(\n",
    "    sum([words[w] for w in vocab]), sum([words[w] for w in words])))\n",
    "vocab_size = len(vocab)"
   ]
  },
  {
   "cell_type": "markdown",
   "metadata": {
    "id": "UmeRYKSIUcdE"
   },
   "source": [
    "### Подготовка датасета (1 балл)\n",
    "\n",
    "Далее, как и в семинарском занятии, подготовим датасеты и даталоадеры.\n",
    "\n",
    "В классе ```WordDataset``` вам необходимо реализовать метод ```__getitem__```, который будет возвращать сэмпл данных по входному idx, то есть список целых чисел (индексов слов).\n",
    "\n",
    "Внутри этого метода необходимо добавить служебные токены начала и конца последовательности, а также токенизировать соответствующее предложение с помощью ```word_tokenize``` и сопоставить ему индексы из ```word2ind```."
   ]
  },
  {
   "cell_type": "code",
   "execution_count": 13,
   "metadata": {
    "id": "iD7SmSy3v2dl"
   },
   "outputs": [],
   "source": [
    "word2ind = {char: i for i, char in enumerate(vocab)}\n",
    "ind2word = {i: char for char, i in word2ind.items()}"
   ]
  },
  {
   "cell_type": "code",
   "execution_count": 14,
   "metadata": {
    "id": "FVzXL17PzC7K"
   },
   "outputs": [],
   "source": [
    "class WordDataset:\n",
    "    def __init__(self, sentences):\n",
    "        self.data = sentences\n",
    "        self.unk_id = word2ind['<unk>']\n",
    "        self.bos_id = word2ind['<bos>']\n",
    "        self.eos_id = word2ind['<eos>']\n",
    "        self.pad_id = word2ind['<pad>']\n",
    "\n",
    "    def __getitem__(self, idx: int) -> List[int]:\n",
    "        tokenized_sentence = \\\n",
    "            [self.bos_id] + \\\n",
    "            [word2ind.get(word, self.unk_id) for word in word_tokenize(self.data[idx])] + \\\n",
    "            [self.eos_id]\n",
    "        return tokenized_sentence\n",
    "\n",
    "    def __len__(self) -> int:\n",
    "        return len(self.data)"
   ]
  },
  {
   "cell_type": "code",
   "execution_count": 15,
   "metadata": {
    "id": "I6CtYNMp2_g0"
   },
   "outputs": [],
   "source": [
    "def collate_fn_with_padding(input_batch: List[List[int]], pad_id=word2ind['<pad>']) -> torch.Tensor:\n",
    "    max_seq_len = max([len(x) for x in input_batch])\n",
    "    \n",
    "    sequences = [sequence + [pad_id]*(max_seq_len-len(sequence)) for sequence in input_batch]\n",
    "    sequences = torch.LongTensor(sequences).to(device)\n",
    "\n",
    "    new_batch = {\n",
    "        'input_ids': sequences[:, :-1],\n",
    "        'target_ids': sequences[:, 1:]\n",
    "    }\n",
    "\n",
    "    return new_batch"
   ]
  },
  {
   "cell_type": "code",
   "execution_count": 16,
   "metadata": {
    "id": "6xmeK9Ys1BIG"
   },
   "outputs": [],
   "source": [
    "# оригинальный код, при котором train может и будет содержать часть объектов из eval и test\n",
    "#train_sentences, eval_sentences = train_test_split(sentences, test_size=0.2)\n",
    "#eval_sentences, test_sentences = train_test_split(sentences, test_size=0.5)\n",
    "\n",
    "# исправленный код\n",
    "train_sentences, eval_sentences = train_test_split(sentences, test_size=0.2)\n",
    "eval_sentences, test_sentences = train_test_split(eval_sentences, test_size=0.5)\n",
    "\n",
    "train_dataset = WordDataset(train_sentences)\n",
    "eval_dataset = WordDataset(eval_sentences)\n",
    "test_dataset = WordDataset(test_sentences)\n",
    "\n",
    "batch_size = 32 # 128\n",
    "\n",
    "train_dataloader = DataLoader(\n",
    "    train_dataset, collate_fn=collate_fn_with_padding, batch_size=batch_size)\n",
    "\n",
    "eval_dataloader = DataLoader(\n",
    "    eval_dataset, collate_fn=collate_fn_with_padding, batch_size=batch_size)\n",
    "\n",
    "test_dataloader = DataLoader(\n",
    "    test_dataset, collate_fn=collate_fn_with_padding, batch_size=batch_size)"
   ]
  },
  {
   "cell_type": "code",
   "execution_count": 17,
   "metadata": {},
   "outputs": [
    {
     "name": "stdout",
     "output_type": "stream",
     "text": [
      "102336 12792 12793\n"
     ]
    }
   ],
   "source": [
    "print(len(train_dataset), len(eval_dataset), len(test_dataset))"
   ]
  },
  {
   "cell_type": "markdown",
   "metadata": {
    "id": "SMAexY7Y45E4"
   },
   "source": [
    "## Обучение и архитектура модели\n",
    "\n",
    "Вам необходимо на практике проверить, что влияет на качество языковых моделей. В этом задании нужно провести серию экспериментов с различными вариантами языковых моделей и сравнить различия в конечной перплексии на тестовом множестве.\n",
    "\n",
    "Возмоэные идеи для экспериментов:\n",
    "\n",
    "* Различные RNN-блоки, например, LSTM или GRU. Также можно добавить сразу несколько RNN блоков друг над другом с помощью аргумента num_layers. Вам поможет официальная документация [здесь](https://pytorch.org/docs/stable/generated/torch.nn.LSTM.html)\n",
    "* Различные размеры скрытого состояния. Различное количество линейных слоев после RNN-блока. Различные функции активации.\n",
    "* Добавление нормализаций в виде Dropout, BatchNorm или LayerNorm\n",
    "* Различные аргументы для оптимизации, например, подбор оптимального learning rate или тип алгоритма оптимизации SGD, Adam, RMSProp и другие\n",
    "* Любые другие идеи и подходы\n",
    "\n",
    "После проведения экспериментов необходимо составить таблицу результатов, в которой описан каждый эксперимент и посчитана перплексия на тестовом множестве.\n",
    "\n",
    "Учтите, что эксперименты, которые различаются, например, только размером скрытого состояния или количеством линейных слоев считаются, как один эксперимент.\n",
    "\n",
    "Успехов!"
   ]
  },
  {
   "cell_type": "markdown",
   "metadata": {
    "id": "KP1cO-3bmDv9"
   },
   "source": [
    "### Функция evaluate (1 балл)\n",
    "\n",
    "Заполните функцию ```evaluate```"
   ]
  },
  {
   "cell_type": "code",
   "execution_count": 18,
   "metadata": {
    "id": "XUlMUVJ3mL4r"
   },
   "outputs": [],
   "source": [
    "def evaluate(model, criterion, dataloader) -> float:\n",
    "    model.eval()\n",
    "    perplexity = []\n",
    "    with torch.no_grad():\n",
    "        for batch in dataloader:\n",
    "            logits = model(batch['input_ids']).flatten(start_dim=0, end_dim=1)\n",
    "            loss = criterion(logits, batch['target_ids'].flatten())\n",
    "            perplexity.append(torch.exp(loss).item())\n",
    "\n",
    "    perplexity = sum(perplexity) / len(perplexity)\n",
    "\n",
    "    return perplexity"
   ]
  },
  {
   "cell_type": "markdown",
   "metadata": {
    "id": "bLV63Vsk7loy"
   },
   "source": [
    "### Train loop (1 балл)\n",
    "\n",
    "Напишите функцию для обучения модели."
   ]
  },
  {
   "cell_type": "code",
   "execution_count": 19,
   "metadata": {},
   "outputs": [],
   "source": [
    "losses_dict = {}\n",
    "perplexities_dict = {}\n",
    "model_parameters_cnt_dict = {}"
   ]
  },
  {
   "cell_type": "code",
   "execution_count": 20,
   "metadata": {
    "id": "bSZmUC3YmocP"
   },
   "outputs": [],
   "source": [
    "def train_model(\n",
    "    model,\n",
    "    criterion,\n",
    "    optimizer,\n",
    "    train_dataloader,\n",
    "    eval_dataloader,\n",
    "    model_name,\n",
    "    num_epoch,\n",
    "):\n",
    "\n",
    "    losses = []\n",
    "    perplexities = []\n",
    "    \n",
    "    print('Training model: {}'.format(model_name))\n",
    "    for epoch in range(num_epoch):\n",
    "        print('Training epoch {}:'.format(epoch))\n",
    "        epoch_losses = []\n",
    "        model.train()\n",
    "        start = dt.datetime.now()\n",
    "        for i, batch in enumerate(train_dataloader):\n",
    "            if i % 50 == 0:\n",
    "                print('complete: {} after {}'.format(i, dt.datetime.now()-start), end='\\r')\n",
    "            optimizer.zero_grad()\n",
    "            logits = model(batch['input_ids']).flatten(start_dim=0, end_dim=1)\n",
    "            loss = criterion(logits, batch['target_ids'].flatten())\n",
    "            loss.backward()\n",
    "            optimizer.step()\n",
    "\n",
    "            epoch_losses.append(float(loss.item()))\n",
    "            \n",
    "            torch.cuda.empty_cache()\n",
    "            gc.collect()\n",
    "        print('complete: {} after {}'.format(i, dt.datetime.now()-start), end='\\r')\n",
    "        print()\n",
    "\n",
    "        losses.append(sum(epoch_losses) / len(epoch_losses))\n",
    "        perplexities.append(evaluate(model, criterion, eval_dataloader))\n",
    "\n",
    "    losses_dict[model_name] = losses\n",
    "    perplexities_dict[model_name] = perplexities"
   ]
  },
  {
   "cell_type": "markdown",
   "metadata": {
    "id": "hXmeyhBQmuq4"
   },
   "source": [
    "### Первый эксперимент (2 балла)\n",
    "\n",
    "Определите архитектуру модели и обучите её."
   ]
  },
  {
   "cell_type": "code",
   "execution_count": 21,
   "metadata": {
    "id": "qaWvqNJom0ij"
   },
   "outputs": [],
   "source": [
    "class ModelSeminar(nn.Module):\n",
    "    def __init__(self, hidden_dim: int, vocab_size: int, num_layers: int, p_dropout: float):\n",
    "        super().__init__()\n",
    "        self.embedding = nn.Embedding(vocab_size, hidden_dim)\n",
    "        self.rnn = nn.RNN(hidden_dim, hidden_dim, num_layers=num_layers, batch_first=True)\n",
    "        self.linear = nn.Linear(hidden_dim, hidden_dim)\n",
    "        self.projection = nn.Linear(hidden_dim, vocab_size)\n",
    "        \n",
    "        self.non_lin = nn.Tanh()\n",
    "        self.dropout = nn.Dropout(p=p_dropout)\n",
    "\n",
    "    def forward(self, input_batch: torch.Tensor) -> torch.Tensor:\n",
    "        embeddings = self.embedding(input_batch) # [batch_size, seq_len, hidden_dim]\n",
    "        output, _ = self.rnn(embeddings) # [batch_size, seq_len, hidden_dim]\n",
    "        output = self.non_lin(output)\n",
    "        output = self.linear(output) # [batch_size, seq_len, hidden_dim]\n",
    "        output = self.dropout(output)\n",
    "        output = self.non_lin(output)\n",
    "        projection = self.projection(output) # [batch_size, seq_len, vocab_size]\n",
    "\n",
    "        return projection"
   ]
  },
  {
   "cell_type": "code",
   "execution_count": 22,
   "metadata": {},
   "outputs": [
    {
     "name": "stdout",
     "output_type": "stream",
     "text": [
      "|===========================================================================|\n",
      "|                  PyTorch CUDA memory summary, device ID 0                 |\n",
      "|---------------------------------------------------------------------------|\n",
      "|            CUDA OOMs: 0            |        cudaMalloc retries: 0         |\n",
      "|===========================================================================|\n",
      "|        Metric         | Cur Usage  | Peak Usage | Tot Alloc  | Tot Freed  |\n",
      "|---------------------------------------------------------------------------|\n",
      "| Allocated memory      |      0 B   |      0 B   |      0 B   |      0 B   |\n",
      "|       from large pool |      0 B   |      0 B   |      0 B   |      0 B   |\n",
      "|       from small pool |      0 B   |      0 B   |      0 B   |      0 B   |\n",
      "|---------------------------------------------------------------------------|\n",
      "| Active memory         |      0 B   |      0 B   |      0 B   |      0 B   |\n",
      "|       from large pool |      0 B   |      0 B   |      0 B   |      0 B   |\n",
      "|       from small pool |      0 B   |      0 B   |      0 B   |      0 B   |\n",
      "|---------------------------------------------------------------------------|\n",
      "| Requested memory      |      0 B   |      0 B   |      0 B   |      0 B   |\n",
      "|       from large pool |      0 B   |      0 B   |      0 B   |      0 B   |\n",
      "|       from small pool |      0 B   |      0 B   |      0 B   |      0 B   |\n",
      "|---------------------------------------------------------------------------|\n",
      "| GPU reserved memory   |      0 B   |      0 B   |      0 B   |      0 B   |\n",
      "|       from large pool |      0 B   |      0 B   |      0 B   |      0 B   |\n",
      "|       from small pool |      0 B   |      0 B   |      0 B   |      0 B   |\n",
      "|---------------------------------------------------------------------------|\n",
      "| Non-releasable memory |      0 B   |      0 B   |      0 B   |      0 B   |\n",
      "|       from large pool |      0 B   |      0 B   |      0 B   |      0 B   |\n",
      "|       from small pool |      0 B   |      0 B   |      0 B   |      0 B   |\n",
      "|---------------------------------------------------------------------------|\n",
      "| Allocations           |       0    |       0    |       0    |       0    |\n",
      "|       from large pool |       0    |       0    |       0    |       0    |\n",
      "|       from small pool |       0    |       0    |       0    |       0    |\n",
      "|---------------------------------------------------------------------------|\n",
      "| Active allocs         |       0    |       0    |       0    |       0    |\n",
      "|       from large pool |       0    |       0    |       0    |       0    |\n",
      "|       from small pool |       0    |       0    |       0    |       0    |\n",
      "|---------------------------------------------------------------------------|\n",
      "| GPU reserved segments |       0    |       0    |       0    |       0    |\n",
      "|       from large pool |       0    |       0    |       0    |       0    |\n",
      "|       from small pool |       0    |       0    |       0    |       0    |\n",
      "|---------------------------------------------------------------------------|\n",
      "| Non-releasable allocs |       0    |       0    |       0    |       0    |\n",
      "|       from large pool |       0    |       0    |       0    |       0    |\n",
      "|       from small pool |       0    |       0    |       0    |       0    |\n",
      "|---------------------------------------------------------------------------|\n",
      "| Oversize allocations  |       0    |       0    |       0    |       0    |\n",
      "|---------------------------------------------------------------------------|\n",
      "| Oversize GPU segments |       0    |       0    |       0    |       0    |\n",
      "|===========================================================================|\n"
     ]
    }
   ],
   "source": [
    "print(torch.cuda.memory_summary(device=None, abbreviated=False))"
   ]
  },
  {
   "cell_type": "code",
   "execution_count": 23,
   "metadata": {
    "id": "TxbEzn5fnBOY"
   },
   "outputs": [
    {
     "name": "stdout",
     "output_type": "stream",
     "text": [
      "Training model: Seminar\n",
      "Training epoch 0:\n",
      "complete: 3197 after 0:11:04.839600\n",
      "Training epoch 1:\n",
      "complete: 3197 after 0:11:00.206586\n",
      "Training epoch 2:\n",
      "complete: 3197 after 0:11:00.560931\n",
      "Training epoch 3:\n",
      "complete: 3197 after 0:11:00.256561\n",
      "Training epoch 4:\n",
      "complete: 3197 after 0:11:01.758493\n"
     ]
    }
   ],
   "source": [
    "# Обучаем модель\n",
    "model_name = 'Seminar'\n",
    "model = ModelSeminar(hidden_dim=256, vocab_size=vocab_size, num_layers=1, p_dropout=0.1).to(device)\n",
    "criterion = nn.CrossEntropyLoss(ignore_index=word2ind['<pad>'])\n",
    "optimizer = torch.optim.Adam(model.parameters())\n",
    "\n",
    "train_model(model, criterion, optimizer, train_dataloader, eval_dataloader, model_name, num_epoch=5)\n",
    "model_parameters_cnt_dict[model_name] = int(sum(p.numel() for p in model.parameters())))"
   ]
  },
  {
   "cell_type": "markdown",
   "metadata": {
    "id": "X1EW4faIm0tl"
   },
   "source": [
    "### Второй эксперимент (2 балла)\n",
    "\n",
    "Попробуйте что-то поменять в модели или в пайплайне обучения, идеи для экспериментов можно подсмотреть выше."
   ]
  },
  {
   "cell_type": "markdown",
   "metadata": {},
   "source": [
    "Попробуем подобрать глубину RNN-слоя при сохранении числа параметров модели."
   ]
  },
  {
   "cell_type": "code",
   "execution_count": 36,
   "metadata": {},
   "outputs": [],
   "source": [
    "class ModelDepth(nn.Module):\n",
    "    def __init__(self, hidden_dim: int, hidden_dim_rnn: int, vocab_size: int, num_layers: int, p_dropout: float):\n",
    "        super().__init__()\n",
    "        self.embedding = nn.Embedding(vocab_size, hidden_dim)\n",
    "        self.rnn = nn.RNN(hidden_dim, hidden_dim_rnn, num_layers=num_layers, batch_first=True)\n",
    "        self.linear = nn.Linear(hidden_dim_rnn, hidden_dim)\n",
    "        self.projection = nn.Linear(hidden_dim, vocab_size)\n",
    "        \n",
    "        self.non_lin = nn.Tanh()\n",
    "        self.dropout = nn.Dropout(p=p_dropout)\n",
    "\n",
    "    def forward(self, input_batch: torch.Tensor) -> torch.Tensor:\n",
    "        embeddings = self.embedding(input_batch) # [batch_size, seq_len, hidden_dim]\n",
    "        output, _ = self.rnn(embeddings) # [batch_size, seq_len, hidden_dim]\n",
    "        output = self.non_lin(output)\n",
    "        output = self.linear(output) # [batch_size, seq_len, hidden_dim]\n",
    "        output = self.dropout(output)\n",
    "        output = self.non_lin(output)\n",
    "        projection = self.projection(output) # [batch_size, seq_len, vocab_size]\n",
    "\n",
    "        return projection"
   ]
  },
  {
   "cell_type": "code",
   "execution_count": 38,
   "metadata": {
    "id": "wkSE4jR1XzTg"
   },
   "outputs": [
    {
     "name": "stdout",
     "output_type": "stream",
     "text": [
      "Training model: Depth_2\n",
      "Training epoch 0:\n",
      "complete: 3197 after 0:11:25.646654\n",
      "Training epoch 1:\n",
      "complete: 3197 after 0:11:15.912732\n",
      "Training epoch 2:\n",
      "complete: 3197 after 0:11:12.750160\n",
      "Training epoch 3:\n",
      "complete: 3197 after 0:11:03.474826\n",
      "Training epoch 4:\n",
      "complete: 3197 after 0:11:00.553030\n",
      "Training model: Depth_4\n",
      "Training epoch 0:\n",
      "complete: 3197 after 0:10:59.654489\n",
      "Training epoch 1:\n",
      "complete: 3197 after 0:10:59.393699\n",
      "Training epoch 2:\n",
      "complete: 3197 after 0:11:00.437878\n",
      "Training epoch 3:\n",
      "complete: 3197 after 0:10:59.451262\n",
      "Training epoch 4:\n",
      "complete: 3197 after 0:11:00.762286\n",
      "Training model: Depth_8\n",
      "Training epoch 0:\n",
      "complete: 3197 after 0:11:01.607444\n",
      "Training epoch 1:\n",
      "complete: 3197 after 0:11:02.480984\n",
      "Training epoch 2:\n",
      "complete: 3197 after 0:11:00.985466\n",
      "Training epoch 3:\n",
      "complete: 3197 after 0:11:02.167462\n",
      "Training epoch 4:\n",
      "complete: 3197 after 0:11:01.637727\n",
      "Training model: Depth_16\n",
      "Training epoch 0:\n",
      "complete: 3197 after 0:11:28.737136\n",
      "Training epoch 1:\n",
      "complete: 3197 after 0:11:28.750191\n",
      "Training epoch 2:\n",
      "complete: 3197 after 0:11:28.002631\n",
      "Training epoch 3:\n",
      "complete: 3197 after 0:11:28.135685\n",
      "Training epoch 4:\n",
      "complete: 3197 after 0:11:28.762231\n"
     ]
    }
   ],
   "source": [
    "# Обучаем модель\n",
    "for num_layers in [2, 4, 8, 16]:\n",
    "    model_name = 'Depth_'+str(num_layers)\n",
    "    model = ModelDepth(hidden_dim=256, hidden_dim_rnn=256//num_layers, vocab_size=vocab_size, num_layers=num_layers, p_dropout=0.1).to(device)\n",
    "    criterion = nn.CrossEntropyLoss(ignore_index=word2ind['<pad>'])\n",
    "    optimizer = torch.optim.Adam(model.parameters())\n",
    "\n",
    "    train_model(model, criterion, optimizer, train_dataloader, eval_dataloader, model_name, num_epoch=5)\n",
    "    model_parameters_cnt_dict[model_name] = int(sum(p.numel() for p in model.parameters()))"
   ]
  },
  {
   "cell_type": "code",
   "execution_count": 39,
   "metadata": {},
   "outputs": [
    {
     "name": "stdout",
     "output_type": "stream",
     "text": [
      "{'Seminar': [5.460784209676651, 4.9554973015418415, 4.750194182166314, 4.598084697282038, 4.476403498217193], 'Depth_2': [5.518228644650753, 5.039377156759218, 4.868351946032144, 4.727395237498614, 4.621624873085571], 'Depth_4': [5.652532223688953, 5.171000950033774, 5.001636923365924, 4.885779905945454, 4.802166089182574], 'Depth_8': [5.798401435365372, 5.326319493973084, 5.189257350096186, 5.102870675010037, 5.041971057858446], 'Depth_16': [6.046536235379905, 5.6409403023830125, 5.546018144650486, 5.491911851293672, 5.454644663174351]}\n",
      "{'Seminar': [176.6740555381775, 169.07928508758545, 161.1207704925537, 161.51852466583253, 166.19407236099244], 'Depth_2': [186.34956680297853, 170.9232318687439, 166.47199472427369, 164.90686950683593, 170.74747200012206], 'Depth_4': [210.55562126159668, 185.13799417495727, 177.68036058425903, 175.13921827316284, 177.7818225479126], 'Depth_8': [237.36727066040038, 210.098755569458, 201.46299409866333, 198.63127086639403, 198.8620378303528], 'Depth_16': [319.3128430557251, 288.00926170349123, 279.8414191818237, 277.785266456604, 277.2097974014282]}\n",
      "{'Seminar': 20719428, 'Depth_2': 20637508, 'Depth_4': 20584260, 'Depth_8': 20554564, 'Depth_16': 20538948}\n"
     ]
    }
   ],
   "source": [
    "print(losses_dict)\n",
    "print(perplexities_dict)\n",
    "print(model_parameters_cnt_dict)"
   ]
  },
  {
   "cell_type": "markdown",
   "metadata": {
    "id": "Y5V9H3eoFeAu"
   },
   "source": [
    "### Отчет (2 балла)\n",
    "\n",
    "Опишите проведенные эксперименты. Сравните перплексии полученных моделей. Предложите идеи по улучшению качества моделей."
   ]
  },
  {
   "cell_type": "markdown",
   "metadata": {
    "id": "M2GCDVeeF8LP"
   },
   "source": [
    "Лучше было бы построить графики, но из цифр это тоже видно: увеличение числа слоёв RNN-слоя при сохранении общего числа параметров модели (на самом деле, при небольшом его уменьшении) ухудшает качество модели. Других экспериментов я не проводил."
   ]
  }
 ],
 "metadata": {
  "accelerator": "GPU",
  "colab": {
   "provenance": []
  },
  "gpuClass": "standard",
  "kernelspec": {
   "display_name": "Python 3 (Spyder)",
   "language": "python3",
   "name": "python3"
  },
  "language_info": {
   "codemirror_mode": {
    "name": "ipython",
    "version": 3
   },
   "file_extension": ".py",
   "mimetype": "text/x-python",
   "name": "python",
   "nbconvert_exporter": "python",
   "pygments_lexer": "ipython3",
   "version": "3.10.10"
  }
 },
 "nbformat": 4,
 "nbformat_minor": 4
}
