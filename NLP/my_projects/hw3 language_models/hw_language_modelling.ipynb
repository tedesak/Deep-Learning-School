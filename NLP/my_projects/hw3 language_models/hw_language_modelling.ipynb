{
 "metadata": {
  "accelerator": "GPU",
  "colab": {
   "provenance": []
  },
  "gpuClass": "standard",
  "kernelspec": {
   "name": "python3",
   "display_name": "Python 3",
   "language": "python"
  },
  "language_info": {
   "name": "python",
   "version": "3.10.13",
   "mimetype": "text/x-python",
   "codemirror_mode": {
    "name": "ipython",
    "version": 3
   },
   "pygments_lexer": "ipython3",
   "nbconvert_exporter": "python",
   "file_extension": ".py"
  },
  "widgets": {
   "application/vnd.jupyter.widget-state+json": {
    "06e61151c4aa4d6da8460ecdb6e6519a": {
     "model_module": "@jupyter-widgets/controls",
     "model_name": "HBoxModel",
     "model_module_version": "1.5.0",
     "state": {
      "_dom_classes": [],
      "_model_module": "@jupyter-widgets/controls",
      "_model_module_version": "1.5.0",
      "_model_name": "HBoxModel",
      "_view_count": null,
      "_view_module": "@jupyter-widgets/controls",
      "_view_module_version": "1.5.0",
      "_view_name": "HBoxView",
      "box_style": "",
      "children": [
       "IPY_MODEL_e334c8935b5a411f9958d73a1dd1cd70",
       "IPY_MODEL_902792edd5414523b0939f153202eb8b",
       "IPY_MODEL_c4152ba7f3044af1b67be4076f5481a1"
      ],
      "layout": "IPY_MODEL_21a49a2fdbee447ab260d284c27c1791"
     }
    },
    "e334c8935b5a411f9958d73a1dd1cd70": {
     "model_module": "@jupyter-widgets/controls",
     "model_name": "HTMLModel",
     "model_module_version": "1.5.0",
     "state": {
      "_dom_classes": [],
      "_model_module": "@jupyter-widgets/controls",
      "_model_module_version": "1.5.0",
      "_model_name": "HTMLModel",
      "_view_count": null,
      "_view_module": "@jupyter-widgets/controls",
      "_view_module_version": "1.5.0",
      "_view_name": "HTMLView",
      "description": "",
      "description_tooltip": null,
      "layout": "IPY_MODEL_3d207b6e9d3e4f55bb312281a349304f",
      "placeholder": "​",
      "style": "IPY_MODEL_7bb6daf6b26843b887bb63a095b66a15",
      "value": "Downloading readme: 100%"
     }
    },
    "902792edd5414523b0939f153202eb8b": {
     "model_module": "@jupyter-widgets/controls",
     "model_name": "FloatProgressModel",
     "model_module_version": "1.5.0",
     "state": {
      "_dom_classes": [],
      "_model_module": "@jupyter-widgets/controls",
      "_model_module_version": "1.5.0",
      "_model_name": "FloatProgressModel",
      "_view_count": null,
      "_view_module": "@jupyter-widgets/controls",
      "_view_module_version": "1.5.0",
      "_view_name": "ProgressView",
      "bar_style": "success",
      "description": "",
      "description_tooltip": null,
      "layout": "IPY_MODEL_6133ae763494437a9c07312c4526c96e",
      "max": 7809,
      "min": 0,
      "orientation": "horizontal",
      "style": "IPY_MODEL_8f8ca392e7314937b2eb7b78206a86cc",
      "value": 7809
     }
    },
    "c4152ba7f3044af1b67be4076f5481a1": {
     "model_module": "@jupyter-widgets/controls",
     "model_name": "HTMLModel",
     "model_module_version": "1.5.0",
     "state": {
      "_dom_classes": [],
      "_model_module": "@jupyter-widgets/controls",
      "_model_module_version": "1.5.0",
      "_model_name": "HTMLModel",
      "_view_count": null,
      "_view_module": "@jupyter-widgets/controls",
      "_view_module_version": "1.5.0",
      "_view_name": "HTMLView",
      "description": "",
      "description_tooltip": null,
      "layout": "IPY_MODEL_6cd208ae510348a8a8c65693a1cb8816",
      "placeholder": "​",
      "style": "IPY_MODEL_9204359a6b08455385b79a2f2653326f",
      "value": " 7.81k/7.81k [00:00&lt;00:00, 115kB/s]"
     }
    },
    "21a49a2fdbee447ab260d284c27c1791": {
     "model_module": "@jupyter-widgets/base",
     "model_name": "LayoutModel",
     "model_module_version": "1.2.0",
     "state": {
      "_model_module": "@jupyter-widgets/base",
      "_model_module_version": "1.2.0",
      "_model_name": "LayoutModel",
      "_view_count": null,
      "_view_module": "@jupyter-widgets/base",
      "_view_module_version": "1.2.0",
      "_view_name": "LayoutView",
      "align_content": null,
      "align_items": null,
      "align_self": null,
      "border": null,
      "bottom": null,
      "display": null,
      "flex": null,
      "flex_flow": null,
      "grid_area": null,
      "grid_auto_columns": null,
      "grid_auto_flow": null,
      "grid_auto_rows": null,
      "grid_column": null,
      "grid_gap": null,
      "grid_row": null,
      "grid_template_areas": null,
      "grid_template_columns": null,
      "grid_template_rows": null,
      "height": null,
      "justify_content": null,
      "justify_items": null,
      "left": null,
      "margin": null,
      "max_height": null,
      "max_width": null,
      "min_height": null,
      "min_width": null,
      "object_fit": null,
      "object_position": null,
      "order": null,
      "overflow": null,
      "overflow_x": null,
      "overflow_y": null,
      "padding": null,
      "right": null,
      "top": null,
      "visibility": null,
      "width": null
     }
    },
    "3d207b6e9d3e4f55bb312281a349304f": {
     "model_module": "@jupyter-widgets/base",
     "model_name": "LayoutModel",
     "model_module_version": "1.2.0",
     "state": {
      "_model_module": "@jupyter-widgets/base",
      "_model_module_version": "1.2.0",
      "_model_name": "LayoutModel",
      "_view_count": null,
      "_view_module": "@jupyter-widgets/base",
      "_view_module_version": "1.2.0",
      "_view_name": "LayoutView",
      "align_content": null,
      "align_items": null,
      "align_self": null,
      "border": null,
      "bottom": null,
      "display": null,
      "flex": null,
      "flex_flow": null,
      "grid_area": null,
      "grid_auto_columns": null,
      "grid_auto_flow": null,
      "grid_auto_rows": null,
      "grid_column": null,
      "grid_gap": null,
      "grid_row": null,
      "grid_template_areas": null,
      "grid_template_columns": null,
      "grid_template_rows": null,
      "height": null,
      "justify_content": null,
      "justify_items": null,
      "left": null,
      "margin": null,
      "max_height": null,
      "max_width": null,
      "min_height": null,
      "min_width": null,
      "object_fit": null,
      "object_position": null,
      "order": null,
      "overflow": null,
      "overflow_x": null,
      "overflow_y": null,
      "padding": null,
      "right": null,
      "top": null,
      "visibility": null,
      "width": null
     }
    },
    "7bb6daf6b26843b887bb63a095b66a15": {
     "model_module": "@jupyter-widgets/controls",
     "model_name": "DescriptionStyleModel",
     "model_module_version": "1.5.0",
     "state": {
      "_model_module": "@jupyter-widgets/controls",
      "_model_module_version": "1.5.0",
      "_model_name": "DescriptionStyleModel",
      "_view_count": null,
      "_view_module": "@jupyter-widgets/base",
      "_view_module_version": "1.2.0",
      "_view_name": "StyleView",
      "description_width": ""
     }
    },
    "6133ae763494437a9c07312c4526c96e": {
     "model_module": "@jupyter-widgets/base",
     "model_name": "LayoutModel",
     "model_module_version": "1.2.0",
     "state": {
      "_model_module": "@jupyter-widgets/base",
      "_model_module_version": "1.2.0",
      "_model_name": "LayoutModel",
      "_view_count": null,
      "_view_module": "@jupyter-widgets/base",
      "_view_module_version": "1.2.0",
      "_view_name": "LayoutView",
      "align_content": null,
      "align_items": null,
      "align_self": null,
      "border": null,
      "bottom": null,
      "display": null,
      "flex": null,
      "flex_flow": null,
      "grid_area": null,
      "grid_auto_columns": null,
      "grid_auto_flow": null,
      "grid_auto_rows": null,
      "grid_column": null,
      "grid_gap": null,
      "grid_row": null,
      "grid_template_areas": null,
      "grid_template_columns": null,
      "grid_template_rows": null,
      "height": null,
      "justify_content": null,
      "justify_items": null,
      "left": null,
      "margin": null,
      "max_height": null,
      "max_width": null,
      "min_height": null,
      "min_width": null,
      "object_fit": null,
      "object_position": null,
      "order": null,
      "overflow": null,
      "overflow_x": null,
      "overflow_y": null,
      "padding": null,
      "right": null,
      "top": null,
      "visibility": null,
      "width": null
     }
    },
    "8f8ca392e7314937b2eb7b78206a86cc": {
     "model_module": "@jupyter-widgets/controls",
     "model_name": "ProgressStyleModel",
     "model_module_version": "1.5.0",
     "state": {
      "_model_module": "@jupyter-widgets/controls",
      "_model_module_version": "1.5.0",
      "_model_name": "ProgressStyleModel",
      "_view_count": null,
      "_view_module": "@jupyter-widgets/base",
      "_view_module_version": "1.2.0",
      "_view_name": "StyleView",
      "bar_color": null,
      "description_width": ""
     }
    },
    "6cd208ae510348a8a8c65693a1cb8816": {
     "model_module": "@jupyter-widgets/base",
     "model_name": "LayoutModel",
     "model_module_version": "1.2.0",
     "state": {
      "_model_module": "@jupyter-widgets/base",
      "_model_module_version": "1.2.0",
      "_model_name": "LayoutModel",
      "_view_count": null,
      "_view_module": "@jupyter-widgets/base",
      "_view_module_version": "1.2.0",
      "_view_name": "LayoutView",
      "align_content": null,
      "align_items": null,
      "align_self": null,
      "border": null,
      "bottom": null,
      "display": null,
      "flex": null,
      "flex_flow": null,
      "grid_area": null,
      "grid_auto_columns": null,
      "grid_auto_flow": null,
      "grid_auto_rows": null,
      "grid_column": null,
      "grid_gap": null,
      "grid_row": null,
      "grid_template_areas": null,
      "grid_template_columns": null,
      "grid_template_rows": null,
      "height": null,
      "justify_content": null,
      "justify_items": null,
      "left": null,
      "margin": null,
      "max_height": null,
      "max_width": null,
      "min_height": null,
      "min_width": null,
      "object_fit": null,
      "object_position": null,
      "order": null,
      "overflow": null,
      "overflow_x": null,
      "overflow_y": null,
      "padding": null,
      "right": null,
      "top": null,
      "visibility": null,
      "width": null
     }
    },
    "9204359a6b08455385b79a2f2653326f": {
     "model_module": "@jupyter-widgets/controls",
     "model_name": "DescriptionStyleModel",
     "model_module_version": "1.5.0",
     "state": {
      "_model_module": "@jupyter-widgets/controls",
      "_model_module_version": "1.5.0",
      "_model_name": "DescriptionStyleModel",
      "_view_count": null,
      "_view_module": "@jupyter-widgets/base",
      "_view_module_version": "1.2.0",
      "_view_name": "StyleView",
      "description_width": ""
     }
    },
    "dac272509cc640b88779bac912f13615": {
     "model_module": "@jupyter-widgets/controls",
     "model_name": "HBoxModel",
     "model_module_version": "1.5.0",
     "state": {
      "_dom_classes": [],
      "_model_module": "@jupyter-widgets/controls",
      "_model_module_version": "1.5.0",
      "_model_name": "HBoxModel",
      "_view_count": null,
      "_view_module": "@jupyter-widgets/controls",
      "_view_module_version": "1.5.0",
      "_view_name": "HBoxView",
      "box_style": "",
      "children": [
       "IPY_MODEL_c13c25e000824c04a0faa81c1e4380b5",
       "IPY_MODEL_e0b721641ed7449cb633357f30537842",
       "IPY_MODEL_fcaf71604601442c950857640bcb0739"
      ],
      "layout": "IPY_MODEL_4edc9c84372943f79e300b5bbfe139d5"
     }
    },
    "c13c25e000824c04a0faa81c1e4380b5": {
     "model_module": "@jupyter-widgets/controls",
     "model_name": "HTMLModel",
     "model_module_version": "1.5.0",
     "state": {
      "_dom_classes": [],
      "_model_module": "@jupyter-widgets/controls",
      "_model_module_version": "1.5.0",
      "_model_name": "HTMLModel",
      "_view_count": null,
      "_view_module": "@jupyter-widgets/controls",
      "_view_module_version": "1.5.0",
      "_view_name": "HTMLView",
      "description": "",
      "description_tooltip": null,
      "layout": "IPY_MODEL_4239cd09f49a4657a9fb6fcb9b040b80",
      "placeholder": "​",
      "style": "IPY_MODEL_651cbc214e81457bba0f222eb88874b3",
      "value": "Downloading data: 100%"
     }
    },
    "e0b721641ed7449cb633357f30537842": {
     "model_module": "@jupyter-widgets/controls",
     "model_name": "FloatProgressModel",
     "model_module_version": "1.5.0",
     "state": {
      "_dom_classes": [],
      "_model_module": "@jupyter-widgets/controls",
      "_model_module_version": "1.5.0",
      "_model_name": "FloatProgressModel",
      "_view_count": null,
      "_view_module": "@jupyter-widgets/controls",
      "_view_module_version": "1.5.0",
      "_view_name": "ProgressView",
      "bar_style": "success",
      "description": "",
      "description_tooltip": null,
      "layout": "IPY_MODEL_065127782395484989e265e7f34c8aeb",
      "max": 20979968,
      "min": 0,
      "orientation": "horizontal",
      "style": "IPY_MODEL_8d12ae7f14ff4af8a5e79a1e38d741f6",
      "value": 20979968
     }
    },
    "fcaf71604601442c950857640bcb0739": {
     "model_module": "@jupyter-widgets/controls",
     "model_name": "HTMLModel",
     "model_module_version": "1.5.0",
     "state": {
      "_dom_classes": [],
      "_model_module": "@jupyter-widgets/controls",
      "_model_module_version": "1.5.0",
      "_model_name": "HTMLModel",
      "_view_count": null,
      "_view_module": "@jupyter-widgets/controls",
      "_view_module_version": "1.5.0",
      "_view_name": "HTMLView",
      "description": "",
      "description_tooltip": null,
      "layout": "IPY_MODEL_65a2531bec0445fe826cd57b3e5438cc",
      "placeholder": "​",
      "style": "IPY_MODEL_c3e709285f8e4adb91bf7681527c1b5d",
      "value": " 21.0M/21.0M [00:00&lt;00:00, 46.7MB/s]"
     }
    },
    "4edc9c84372943f79e300b5bbfe139d5": {
     "model_module": "@jupyter-widgets/base",
     "model_name": "LayoutModel",
     "model_module_version": "1.2.0",
     "state": {
      "_model_module": "@jupyter-widgets/base",
      "_model_module_version": "1.2.0",
      "_model_name": "LayoutModel",
      "_view_count": null,
      "_view_module": "@jupyter-widgets/base",
      "_view_module_version": "1.2.0",
      "_view_name": "LayoutView",
      "align_content": null,
      "align_items": null,
      "align_self": null,
      "border": null,
      "bottom": null,
      "display": null,
      "flex": null,
      "flex_flow": null,
      "grid_area": null,
      "grid_auto_columns": null,
      "grid_auto_flow": null,
      "grid_auto_rows": null,
      "grid_column": null,
      "grid_gap": null,
      "grid_row": null,
      "grid_template_areas": null,
      "grid_template_columns": null,
      "grid_template_rows": null,
      "height": null,
      "justify_content": null,
      "justify_items": null,
      "left": null,
      "margin": null,
      "max_height": null,
      "max_width": null,
      "min_height": null,
      "min_width": null,
      "object_fit": null,
      "object_position": null,
      "order": null,
      "overflow": null,
      "overflow_x": null,
      "overflow_y": null,
      "padding": null,
      "right": null,
      "top": null,
      "visibility": null,
      "width": null
     }
    },
    "4239cd09f49a4657a9fb6fcb9b040b80": {
     "model_module": "@jupyter-widgets/base",
     "model_name": "LayoutModel",
     "model_module_version": "1.2.0",
     "state": {
      "_model_module": "@jupyter-widgets/base",
      "_model_module_version": "1.2.0",
      "_model_name": "LayoutModel",
      "_view_count": null,
      "_view_module": "@jupyter-widgets/base",
      "_view_module_version": "1.2.0",
      "_view_name": "LayoutView",
      "align_content": null,
      "align_items": null,
      "align_self": null,
      "border": null,
      "bottom": null,
      "display": null,
      "flex": null,
      "flex_flow": null,
      "grid_area": null,
      "grid_auto_columns": null,
      "grid_auto_flow": null,
      "grid_auto_rows": null,
      "grid_column": null,
      "grid_gap": null,
      "grid_row": null,
      "grid_template_areas": null,
      "grid_template_columns": null,
      "grid_template_rows": null,
      "height": null,
      "justify_content": null,
      "justify_items": null,
      "left": null,
      "margin": null,
      "max_height": null,
      "max_width": null,
      "min_height": null,
      "min_width": null,
      "object_fit": null,
      "object_position": null,
      "order": null,
      "overflow": null,
      "overflow_x": null,
      "overflow_y": null,
      "padding": null,
      "right": null,
      "top": null,
      "visibility": null,
      "width": null
     }
    },
    "651cbc214e81457bba0f222eb88874b3": {
     "model_module": "@jupyter-widgets/controls",
     "model_name": "DescriptionStyleModel",
     "model_module_version": "1.5.0",
     "state": {
      "_model_module": "@jupyter-widgets/controls",
      "_model_module_version": "1.5.0",
      "_model_name": "DescriptionStyleModel",
      "_view_count": null,
      "_view_module": "@jupyter-widgets/base",
      "_view_module_version": "1.2.0",
      "_view_name": "StyleView",
      "description_width": ""
     }
    },
    "065127782395484989e265e7f34c8aeb": {
     "model_module": "@jupyter-widgets/base",
     "model_name": "LayoutModel",
     "model_module_version": "1.2.0",
     "state": {
      "_model_module": "@jupyter-widgets/base",
      "_model_module_version": "1.2.0",
      "_model_name": "LayoutModel",
      "_view_count": null,
      "_view_module": "@jupyter-widgets/base",
      "_view_module_version": "1.2.0",
      "_view_name": "LayoutView",
      "align_content": null,
      "align_items": null,
      "align_self": null,
      "border": null,
      "bottom": null,
      "display": null,
      "flex": null,
      "flex_flow": null,
      "grid_area": null,
      "grid_auto_columns": null,
      "grid_auto_flow": null,
      "grid_auto_rows": null,
      "grid_column": null,
      "grid_gap": null,
      "grid_row": null,
      "grid_template_areas": null,
      "grid_template_columns": null,
      "grid_template_rows": null,
      "height": null,
      "justify_content": null,
      "justify_items": null,
      "left": null,
      "margin": null,
      "max_height": null,
      "max_width": null,
      "min_height": null,
      "min_width": null,
      "object_fit": null,
      "object_position": null,
      "order": null,
      "overflow": null,
      "overflow_x": null,
      "overflow_y": null,
      "padding": null,
      "right": null,
      "top": null,
      "visibility": null,
      "width": null
     }
    },
    "8d12ae7f14ff4af8a5e79a1e38d741f6": {
     "model_module": "@jupyter-widgets/controls",
     "model_name": "ProgressStyleModel",
     "model_module_version": "1.5.0",
     "state": {
      "_model_module": "@jupyter-widgets/controls",
      "_model_module_version": "1.5.0",
      "_model_name": "ProgressStyleModel",
      "_view_count": null,
      "_view_module": "@jupyter-widgets/base",
      "_view_module_version": "1.2.0",
      "_view_name": "StyleView",
      "bar_color": null,
      "description_width": ""
     }
    },
    "65a2531bec0445fe826cd57b3e5438cc": {
     "model_module": "@jupyter-widgets/base",
     "model_name": "LayoutModel",
     "model_module_version": "1.2.0",
     "state": {
      "_model_module": "@jupyter-widgets/base",
      "_model_module_version": "1.2.0",
      "_model_name": "LayoutModel",
      "_view_count": null,
      "_view_module": "@jupyter-widgets/base",
      "_view_module_version": "1.2.0",
      "_view_name": "LayoutView",
      "align_content": null,
      "align_items": null,
      "align_self": null,
      "border": null,
      "bottom": null,
      "display": null,
      "flex": null,
      "flex_flow": null,
      "grid_area": null,
      "grid_auto_columns": null,
      "grid_auto_flow": null,
      "grid_auto_rows": null,
      "grid_column": null,
      "grid_gap": null,
      "grid_row": null,
      "grid_template_areas": null,
      "grid_template_columns": null,
      "grid_template_rows": null,
      "height": null,
      "justify_content": null,
      "justify_items": null,
      "left": null,
      "margin": null,
      "max_height": null,
      "max_width": null,
      "min_height": null,
      "min_width": null,
      "object_fit": null,
      "object_position": null,
      "order": null,
      "overflow": null,
      "overflow_x": null,
      "overflow_y": null,
      "padding": null,
      "right": null,
      "top": null,
      "visibility": null,
      "width": null
     }
    },
    "c3e709285f8e4adb91bf7681527c1b5d": {
     "model_module": "@jupyter-widgets/controls",
     "model_name": "DescriptionStyleModel",
     "model_module_version": "1.5.0",
     "state": {
      "_model_module": "@jupyter-widgets/controls",
      "_model_module_version": "1.5.0",
      "_model_name": "DescriptionStyleModel",
      "_view_count": null,
      "_view_module": "@jupyter-widgets/base",
      "_view_module_version": "1.2.0",
      "_view_name": "StyleView",
      "description_width": ""
     }
    },
    "f944ba92b1194a8d9e2f0afd85039228": {
     "model_module": "@jupyter-widgets/controls",
     "model_name": "HBoxModel",
     "model_module_version": "1.5.0",
     "state": {
      "_dom_classes": [],
      "_model_module": "@jupyter-widgets/controls",
      "_model_module_version": "1.5.0",
      "_model_name": "HBoxModel",
      "_view_count": null,
      "_view_module": "@jupyter-widgets/controls",
      "_view_module_version": "1.5.0",
      "_view_name": "HBoxView",
      "box_style": "",
      "children": [
       "IPY_MODEL_f038dfe89fde474982581a0d2fe17f7b",
       "IPY_MODEL_429c43a0742e4af188a8885f29036186",
       "IPY_MODEL_cf28e17f3de54d4d8947a31fbab6e168"
      ],
      "layout": "IPY_MODEL_220c232cbfff4c1181da77f069609010"
     }
    },
    "f038dfe89fde474982581a0d2fe17f7b": {
     "model_module": "@jupyter-widgets/controls",
     "model_name": "HTMLModel",
     "model_module_version": "1.5.0",
     "state": {
      "_dom_classes": [],
      "_model_module": "@jupyter-widgets/controls",
      "_model_module_version": "1.5.0",
      "_model_name": "HTMLModel",
      "_view_count": null,
      "_view_module": "@jupyter-widgets/controls",
      "_view_module_version": "1.5.0",
      "_view_name": "HTMLView",
      "description": "",
      "description_tooltip": null,
      "layout": "IPY_MODEL_694cff017323419aabcd7628ca478d3b",
      "placeholder": "​",
      "style": "IPY_MODEL_cead4d32abf5456faa933f9327e29e9b",
      "value": "Downloading data: 100%"
     }
    },
    "429c43a0742e4af188a8885f29036186": {
     "model_module": "@jupyter-widgets/controls",
     "model_name": "FloatProgressModel",
     "model_module_version": "1.5.0",
     "state": {
      "_dom_classes": [],
      "_model_module": "@jupyter-widgets/controls",
      "_model_module_version": "1.5.0",
      "_model_name": "FloatProgressModel",
      "_view_count": null,
      "_view_module": "@jupyter-widgets/controls",
      "_view_module_version": "1.5.0",
      "_view_name": "ProgressView",
      "bar_style": "success",
      "description": "",
      "description_tooltip": null,
      "layout": "IPY_MODEL_b8b698567dba436b8c7929a01f50c7a1",
      "max": 20470363,
      "min": 0,
      "orientation": "horizontal",
      "style": "IPY_MODEL_30c6b0d05d704edc8d098fdaa8190c33",
      "value": 20470363
     }
    },
    "cf28e17f3de54d4d8947a31fbab6e168": {
     "model_module": "@jupyter-widgets/controls",
     "model_name": "HTMLModel",
     "model_module_version": "1.5.0",
     "state": {
      "_dom_classes": [],
      "_model_module": "@jupyter-widgets/controls",
      "_model_module_version": "1.5.0",
      "_model_name": "HTMLModel",
      "_view_count": null,
      "_view_module": "@jupyter-widgets/controls",
      "_view_module_version": "1.5.0",
      "_view_name": "HTMLView",
      "description": "",
      "description_tooltip": null,
      "layout": "IPY_MODEL_33512c7d6a8747048c0ee91a2b2dffd0",
      "placeholder": "​",
      "style": "IPY_MODEL_6c7860832de246259a1c5d8c71afe425",
      "value": " 20.5M/20.5M [00:00&lt;00:00, 35.1MB/s]"
     }
    },
    "220c232cbfff4c1181da77f069609010": {
     "model_module": "@jupyter-widgets/base",
     "model_name": "LayoutModel",
     "model_module_version": "1.2.0",
     "state": {
      "_model_module": "@jupyter-widgets/base",
      "_model_module_version": "1.2.0",
      "_model_name": "LayoutModel",
      "_view_count": null,
      "_view_module": "@jupyter-widgets/base",
      "_view_module_version": "1.2.0",
      "_view_name": "LayoutView",
      "align_content": null,
      "align_items": null,
      "align_self": null,
      "border": null,
      "bottom": null,
      "display": null,
      "flex": null,
      "flex_flow": null,
      "grid_area": null,
      "grid_auto_columns": null,
      "grid_auto_flow": null,
      "grid_auto_rows": null,
      "grid_column": null,
      "grid_gap": null,
      "grid_row": null,
      "grid_template_areas": null,
      "grid_template_columns": null,
      "grid_template_rows": null,
      "height": null,
      "justify_content": null,
      "justify_items": null,
      "left": null,
      "margin": null,
      "max_height": null,
      "max_width": null,
      "min_height": null,
      "min_width": null,
      "object_fit": null,
      "object_position": null,
      "order": null,
      "overflow": null,
      "overflow_x": null,
      "overflow_y": null,
      "padding": null,
      "right": null,
      "top": null,
      "visibility": null,
      "width": null
     }
    },
    "694cff017323419aabcd7628ca478d3b": {
     "model_module": "@jupyter-widgets/base",
     "model_name": "LayoutModel",
     "model_module_version": "1.2.0",
     "state": {
      "_model_module": "@jupyter-widgets/base",
      "_model_module_version": "1.2.0",
      "_model_name": "LayoutModel",
      "_view_count": null,
      "_view_module": "@jupyter-widgets/base",
      "_view_module_version": "1.2.0",
      "_view_name": "LayoutView",
      "align_content": null,
      "align_items": null,
      "align_self": null,
      "border": null,
      "bottom": null,
      "display": null,
      "flex": null,
      "flex_flow": null,
      "grid_area": null,
      "grid_auto_columns": null,
      "grid_auto_flow": null,
      "grid_auto_rows": null,
      "grid_column": null,
      "grid_gap": null,
      "grid_row": null,
      "grid_template_areas": null,
      "grid_template_columns": null,
      "grid_template_rows": null,
      "height": null,
      "justify_content": null,
      "justify_items": null,
      "left": null,
      "margin": null,
      "max_height": null,
      "max_width": null,
      "min_height": null,
      "min_width": null,
      "object_fit": null,
      "object_position": null,
      "order": null,
      "overflow": null,
      "overflow_x": null,
      "overflow_y": null,
      "padding": null,
      "right": null,
      "top": null,
      "visibility": null,
      "width": null
     }
    },
    "cead4d32abf5456faa933f9327e29e9b": {
     "model_module": "@jupyter-widgets/controls",
     "model_name": "DescriptionStyleModel",
     "model_module_version": "1.5.0",
     "state": {
      "_model_module": "@jupyter-widgets/controls",
      "_model_module_version": "1.5.0",
      "_model_name": "DescriptionStyleModel",
      "_view_count": null,
      "_view_module": "@jupyter-widgets/base",
      "_view_module_version": "1.2.0",
      "_view_name": "StyleView",
      "description_width": ""
     }
    },
    "b8b698567dba436b8c7929a01f50c7a1": {
     "model_module": "@jupyter-widgets/base",
     "model_name": "LayoutModel",
     "model_module_version": "1.2.0",
     "state": {
      "_model_module": "@jupyter-widgets/base",
      "_model_module_version": "1.2.0",
      "_model_name": "LayoutModel",
      "_view_count": null,
      "_view_module": "@jupyter-widgets/base",
      "_view_module_version": "1.2.0",
      "_view_name": "LayoutView",
      "align_content": null,
      "align_items": null,
      "align_self": null,
      "border": null,
      "bottom": null,
      "display": null,
      "flex": null,
      "flex_flow": null,
      "grid_area": null,
      "grid_auto_columns": null,
      "grid_auto_flow": null,
      "grid_auto_rows": null,
      "grid_column": null,
      "grid_gap": null,
      "grid_row": null,
      "grid_template_areas": null,
      "grid_template_columns": null,
      "grid_template_rows": null,
      "height": null,
      "justify_content": null,
      "justify_items": null,
      "left": null,
      "margin": null,
      "max_height": null,
      "max_width": null,
      "min_height": null,
      "min_width": null,
      "object_fit": null,
      "object_position": null,
      "order": null,
      "overflow": null,
      "overflow_x": null,
      "overflow_y": null,
      "padding": null,
      "right": null,
      "top": null,
      "visibility": null,
      "width": null
     }
    },
    "30c6b0d05d704edc8d098fdaa8190c33": {
     "model_module": "@jupyter-widgets/controls",
     "model_name": "ProgressStyleModel",
     "model_module_version": "1.5.0",
     "state": {
      "_model_module": "@jupyter-widgets/controls",
      "_model_module_version": "1.5.0",
      "_model_name": "ProgressStyleModel",
      "_view_count": null,
      "_view_module": "@jupyter-widgets/base",
      "_view_module_version": "1.2.0",
      "_view_name": "StyleView",
      "bar_color": null,
      "description_width": ""
     }
    },
    "33512c7d6a8747048c0ee91a2b2dffd0": {
     "model_module": "@jupyter-widgets/base",
     "model_name": "LayoutModel",
     "model_module_version": "1.2.0",
     "state": {
      "_model_module": "@jupyter-widgets/base",
      "_model_module_version": "1.2.0",
      "_model_name": "LayoutModel",
      "_view_count": null,
      "_view_module": "@jupyter-widgets/base",
      "_view_module_version": "1.2.0",
      "_view_name": "LayoutView",
      "align_content": null,
      "align_items": null,
      "align_self": null,
      "border": null,
      "bottom": null,
      "display": null,
      "flex": null,
      "flex_flow": null,
      "grid_area": null,
      "grid_auto_columns": null,
      "grid_auto_flow": null,
      "grid_auto_rows": null,
      "grid_column": null,
      "grid_gap": null,
      "grid_row": null,
      "grid_template_areas": null,
      "grid_template_columns": null,
      "grid_template_rows": null,
      "height": null,
      "justify_content": null,
      "justify_items": null,
      "left": null,
      "margin": null,
      "max_height": null,
      "max_width": null,
      "min_height": null,
      "min_width": null,
      "object_fit": null,
      "object_position": null,
      "order": null,
      "overflow": null,
      "overflow_x": null,
      "overflow_y": null,
      "padding": null,
      "right": null,
      "top": null,
      "visibility": null,
      "width": null
     }
    },
    "6c7860832de246259a1c5d8c71afe425": {
     "model_module": "@jupyter-widgets/controls",
     "model_name": "DescriptionStyleModel",
     "model_module_version": "1.5.0",
     "state": {
      "_model_module": "@jupyter-widgets/controls",
      "_model_module_version": "1.5.0",
      "_model_name": "DescriptionStyleModel",
      "_view_count": null,
      "_view_module": "@jupyter-widgets/base",
      "_view_module_version": "1.2.0",
      "_view_name": "StyleView",
      "description_width": ""
     }
    },
    "2f2a7fadff4e4dedaa9999bc75aa4785": {
     "model_module": "@jupyter-widgets/controls",
     "model_name": "HBoxModel",
     "model_module_version": "1.5.0",
     "state": {
      "_dom_classes": [],
      "_model_module": "@jupyter-widgets/controls",
      "_model_module_version": "1.5.0",
      "_model_name": "HBoxModel",
      "_view_count": null,
      "_view_module": "@jupyter-widgets/controls",
      "_view_module_version": "1.5.0",
      "_view_name": "HBoxView",
      "box_style": "",
      "children": [
       "IPY_MODEL_523c34d6f9b64ca29885b4779cc8bd18",
       "IPY_MODEL_932b228860c54546a19d023a42b55efd",
       "IPY_MODEL_e797ae2f67ed453d90b1b1988c085215"
      ],
      "layout": "IPY_MODEL_efe8eff64c4641d9b66229fceec51513"
     }
    },
    "523c34d6f9b64ca29885b4779cc8bd18": {
     "model_module": "@jupyter-widgets/controls",
     "model_name": "HTMLModel",
     "model_module_version": "1.5.0",
     "state": {
      "_dom_classes": [],
      "_model_module": "@jupyter-widgets/controls",
      "_model_module_version": "1.5.0",
      "_model_name": "HTMLModel",
      "_view_count": null,
      "_view_module": "@jupyter-widgets/controls",
      "_view_module_version": "1.5.0",
      "_view_name": "HTMLView",
      "description": "",
      "description_tooltip": null,
      "layout": "IPY_MODEL_1f717b6406354aba8f67c53ae6deb863",
      "placeholder": "​",
      "style": "IPY_MODEL_41fd08e5529a47e9b56cd95d5b334316",
      "value": "Downloading data: 100%"
     }
    },
    "932b228860c54546a19d023a42b55efd": {
     "model_module": "@jupyter-widgets/controls",
     "model_name": "FloatProgressModel",
     "model_module_version": "1.5.0",
     "state": {
      "_dom_classes": [],
      "_model_module": "@jupyter-widgets/controls",
      "_model_module_version": "1.5.0",
      "_model_name": "FloatProgressModel",
      "_view_count": null,
      "_view_module": "@jupyter-widgets/controls",
      "_view_module_version": "1.5.0",
      "_view_name": "ProgressView",
      "bar_style": "success",
      "description": "",
      "description_tooltip": null,
      "layout": "IPY_MODEL_cde12418cbaa4ab9acff5fe9aab09042",
      "max": 41996509,
      "min": 0,
      "orientation": "horizontal",
      "style": "IPY_MODEL_07ea1b3e529a4f9bbb1c3d1452cca346",
      "value": 41996509
     }
    },
    "e797ae2f67ed453d90b1b1988c085215": {
     "model_module": "@jupyter-widgets/controls",
     "model_name": "HTMLModel",
     "model_module_version": "1.5.0",
     "state": {
      "_dom_classes": [],
      "_model_module": "@jupyter-widgets/controls",
      "_model_module_version": "1.5.0",
      "_model_name": "HTMLModel",
      "_view_count": null,
      "_view_module": "@jupyter-widgets/controls",
      "_view_module_version": "1.5.0",
      "_view_name": "HTMLView",
      "description": "",
      "description_tooltip": null,
      "layout": "IPY_MODEL_81cb8610abaa4de78a3477aa341c64e3",
      "placeholder": "​",
      "style": "IPY_MODEL_2eb2603e97b24d668f71766e89bb0e23",
      "value": " 42.0M/42.0M [00:00&lt;00:00, 77.6MB/s]"
     }
    },
    "efe8eff64c4641d9b66229fceec51513": {
     "model_module": "@jupyter-widgets/base",
     "model_name": "LayoutModel",
     "model_module_version": "1.2.0",
     "state": {
      "_model_module": "@jupyter-widgets/base",
      "_model_module_version": "1.2.0",
      "_model_name": "LayoutModel",
      "_view_count": null,
      "_view_module": "@jupyter-widgets/base",
      "_view_module_version": "1.2.0",
      "_view_name": "LayoutView",
      "align_content": null,
      "align_items": null,
      "align_self": null,
      "border": null,
      "bottom": null,
      "display": null,
      "flex": null,
      "flex_flow": null,
      "grid_area": null,
      "grid_auto_columns": null,
      "grid_auto_flow": null,
      "grid_auto_rows": null,
      "grid_column": null,
      "grid_gap": null,
      "grid_row": null,
      "grid_template_areas": null,
      "grid_template_columns": null,
      "grid_template_rows": null,
      "height": null,
      "justify_content": null,
      "justify_items": null,
      "left": null,
      "margin": null,
      "max_height": null,
      "max_width": null,
      "min_height": null,
      "min_width": null,
      "object_fit": null,
      "object_position": null,
      "order": null,
      "overflow": null,
      "overflow_x": null,
      "overflow_y": null,
      "padding": null,
      "right": null,
      "top": null,
      "visibility": null,
      "width": null
     }
    },
    "1f717b6406354aba8f67c53ae6deb863": {
     "model_module": "@jupyter-widgets/base",
     "model_name": "LayoutModel",
     "model_module_version": "1.2.0",
     "state": {
      "_model_module": "@jupyter-widgets/base",
      "_model_module_version": "1.2.0",
      "_model_name": "LayoutModel",
      "_view_count": null,
      "_view_module": "@jupyter-widgets/base",
      "_view_module_version": "1.2.0",
      "_view_name": "LayoutView",
      "align_content": null,
      "align_items": null,
      "align_self": null,
      "border": null,
      "bottom": null,
      "display": null,
      "flex": null,
      "flex_flow": null,
      "grid_area": null,
      "grid_auto_columns": null,
      "grid_auto_flow": null,
      "grid_auto_rows": null,
      "grid_column": null,
      "grid_gap": null,
      "grid_row": null,
      "grid_template_areas": null,
      "grid_template_columns": null,
      "grid_template_rows": null,
      "height": null,
      "justify_content": null,
      "justify_items": null,
      "left": null,
      "margin": null,
      "max_height": null,
      "max_width": null,
      "min_height": null,
      "min_width": null,
      "object_fit": null,
      "object_position": null,
      "order": null,
      "overflow": null,
      "overflow_x": null,
      "overflow_y": null,
      "padding": null,
      "right": null,
      "top": null,
      "visibility": null,
      "width": null
     }
    },
    "41fd08e5529a47e9b56cd95d5b334316": {
     "model_module": "@jupyter-widgets/controls",
     "model_name": "DescriptionStyleModel",
     "model_module_version": "1.5.0",
     "state": {
      "_model_module": "@jupyter-widgets/controls",
      "_model_module_version": "1.5.0",
      "_model_name": "DescriptionStyleModel",
      "_view_count": null,
      "_view_module": "@jupyter-widgets/base",
      "_view_module_version": "1.2.0",
      "_view_name": "StyleView",
      "description_width": ""
     }
    },
    "cde12418cbaa4ab9acff5fe9aab09042": {
     "model_module": "@jupyter-widgets/base",
     "model_name": "LayoutModel",
     "model_module_version": "1.2.0",
     "state": {
      "_model_module": "@jupyter-widgets/base",
      "_model_module_version": "1.2.0",
      "_model_name": "LayoutModel",
      "_view_count": null,
      "_view_module": "@jupyter-widgets/base",
      "_view_module_version": "1.2.0",
      "_view_name": "LayoutView",
      "align_content": null,
      "align_items": null,
      "align_self": null,
      "border": null,
      "bottom": null,
      "display": null,
      "flex": null,
      "flex_flow": null,
      "grid_area": null,
      "grid_auto_columns": null,
      "grid_auto_flow": null,
      "grid_auto_rows": null,
      "grid_column": null,
      "grid_gap": null,
      "grid_row": null,
      "grid_template_areas": null,
      "grid_template_columns": null,
      "grid_template_rows": null,
      "height": null,
      "justify_content": null,
      "justify_items": null,
      "left": null,
      "margin": null,
      "max_height": null,
      "max_width": null,
      "min_height": null,
      "min_width": null,
      "object_fit": null,
      "object_position": null,
      "order": null,
      "overflow": null,
      "overflow_x": null,
      "overflow_y": null,
      "padding": null,
      "right": null,
      "top": null,
      "visibility": null,
      "width": null
     }
    },
    "07ea1b3e529a4f9bbb1c3d1452cca346": {
     "model_module": "@jupyter-widgets/controls",
     "model_name": "ProgressStyleModel",
     "model_module_version": "1.5.0",
     "state": {
      "_model_module": "@jupyter-widgets/controls",
      "_model_module_version": "1.5.0",
      "_model_name": "ProgressStyleModel",
      "_view_count": null,
      "_view_module": "@jupyter-widgets/base",
      "_view_module_version": "1.2.0",
      "_view_name": "StyleView",
      "bar_color": null,
      "description_width": ""
     }
    },
    "81cb8610abaa4de78a3477aa341c64e3": {
     "model_module": "@jupyter-widgets/base",
     "model_name": "LayoutModel",
     "model_module_version": "1.2.0",
     "state": {
      "_model_module": "@jupyter-widgets/base",
      "_model_module_version": "1.2.0",
      "_model_name": "LayoutModel",
      "_view_count": null,
      "_view_module": "@jupyter-widgets/base",
      "_view_module_version": "1.2.0",
      "_view_name": "LayoutView",
      "align_content": null,
      "align_items": null,
      "align_self": null,
      "border": null,
      "bottom": null,
      "display": null,
      "flex": null,
      "flex_flow": null,
      "grid_area": null,
      "grid_auto_columns": null,
      "grid_auto_flow": null,
      "grid_auto_rows": null,
      "grid_column": null,
      "grid_gap": null,
      "grid_row": null,
      "grid_template_areas": null,
      "grid_template_columns": null,
      "grid_template_rows": null,
      "height": null,
      "justify_content": null,
      "justify_items": null,
      "left": null,
      "margin": null,
      "max_height": null,
      "max_width": null,
      "min_height": null,
      "min_width": null,
      "object_fit": null,
      "object_position": null,
      "order": null,
      "overflow": null,
      "overflow_x": null,
      "overflow_y": null,
      "padding": null,
      "right": null,
      "top": null,
      "visibility": null,
      "width": null
     }
    },
    "2eb2603e97b24d668f71766e89bb0e23": {
     "model_module": "@jupyter-widgets/controls",
     "model_name": "DescriptionStyleModel",
     "model_module_version": "1.5.0",
     "state": {
      "_model_module": "@jupyter-widgets/controls",
      "_model_module_version": "1.5.0",
      "_model_name": "DescriptionStyleModel",
      "_view_count": null,
      "_view_module": "@jupyter-widgets/base",
      "_view_module_version": "1.2.0",
      "_view_name": "StyleView",
      "description_width": ""
     }
    },
    "484792597fd546d2801193480f288b04": {
     "model_module": "@jupyter-widgets/controls",
     "model_name": "HBoxModel",
     "model_module_version": "1.5.0",
     "state": {
      "_dom_classes": [],
      "_model_module": "@jupyter-widgets/controls",
      "_model_module_version": "1.5.0",
      "_model_name": "HBoxModel",
      "_view_count": null,
      "_view_module": "@jupyter-widgets/controls",
      "_view_module_version": "1.5.0",
      "_view_name": "HBoxView",
      "box_style": "",
      "children": [
       "IPY_MODEL_c2a10945999b43a69b96244d48850bbb",
       "IPY_MODEL_702eb18ed44c44aca0efcb0af9e74727",
       "IPY_MODEL_5e0da3dcb14340a29a46c72ef5dc4da5"
      ],
      "layout": "IPY_MODEL_72e80a3d018541419bbd863e102ca123"
     }
    },
    "c2a10945999b43a69b96244d48850bbb": {
     "model_module": "@jupyter-widgets/controls",
     "model_name": "HTMLModel",
     "model_module_version": "1.5.0",
     "state": {
      "_dom_classes": [],
      "_model_module": "@jupyter-widgets/controls",
      "_model_module_version": "1.5.0",
      "_model_name": "HTMLModel",
      "_view_count": null,
      "_view_module": "@jupyter-widgets/controls",
      "_view_module_version": "1.5.0",
      "_view_name": "HTMLView",
      "description": "",
      "description_tooltip": null,
      "layout": "IPY_MODEL_7fe147c69a354ce599c9ad0b29ab615b",
      "placeholder": "​",
      "style": "IPY_MODEL_fb8e60e97c6847389bac26311264f636",
      "value": "Generating train split: 100%"
     }
    },
    "702eb18ed44c44aca0efcb0af9e74727": {
     "model_module": "@jupyter-widgets/controls",
     "model_name": "FloatProgressModel",
     "model_module_version": "1.5.0",
     "state": {
      "_dom_classes": [],
      "_model_module": "@jupyter-widgets/controls",
      "_model_module_version": "1.5.0",
      "_model_name": "FloatProgressModel",
      "_view_count": null,
      "_view_module": "@jupyter-widgets/controls",
      "_view_module_version": "1.5.0",
      "_view_name": "ProgressView",
      "bar_style": "success",
      "description": "",
      "description_tooltip": null,
      "layout": "IPY_MODEL_24144c87e35a45028bf06c6e1434968f",
      "max": 25000,
      "min": 0,
      "orientation": "horizontal",
      "style": "IPY_MODEL_9e0e3a37f19e410aa06c368c62581862",
      "value": 25000
     }
    },
    "5e0da3dcb14340a29a46c72ef5dc4da5": {
     "model_module": "@jupyter-widgets/controls",
     "model_name": "HTMLModel",
     "model_module_version": "1.5.0",
     "state": {
      "_dom_classes": [],
      "_model_module": "@jupyter-widgets/controls",
      "_model_module_version": "1.5.0",
      "_model_name": "HTMLModel",
      "_view_count": null,
      "_view_module": "@jupyter-widgets/controls",
      "_view_module_version": "1.5.0",
      "_view_name": "HTMLView",
      "description": "",
      "description_tooltip": null,
      "layout": "IPY_MODEL_1943be7192774cfaab310470a53cf748",
      "placeholder": "​",
      "style": "IPY_MODEL_4c95a1d000cb4ae0ba39d233b0b81fc9",
      "value": " 25000/25000 [00:00&lt;00:00, 35531.04 examples/s]"
     }
    },
    "72e80a3d018541419bbd863e102ca123": {
     "model_module": "@jupyter-widgets/base",
     "model_name": "LayoutModel",
     "model_module_version": "1.2.0",
     "state": {
      "_model_module": "@jupyter-widgets/base",
      "_model_module_version": "1.2.0",
      "_model_name": "LayoutModel",
      "_view_count": null,
      "_view_module": "@jupyter-widgets/base",
      "_view_module_version": "1.2.0",
      "_view_name": "LayoutView",
      "align_content": null,
      "align_items": null,
      "align_self": null,
      "border": null,
      "bottom": null,
      "display": null,
      "flex": null,
      "flex_flow": null,
      "grid_area": null,
      "grid_auto_columns": null,
      "grid_auto_flow": null,
      "grid_auto_rows": null,
      "grid_column": null,
      "grid_gap": null,
      "grid_row": null,
      "grid_template_areas": null,
      "grid_template_columns": null,
      "grid_template_rows": null,
      "height": null,
      "justify_content": null,
      "justify_items": null,
      "left": null,
      "margin": null,
      "max_height": null,
      "max_width": null,
      "min_height": null,
      "min_width": null,
      "object_fit": null,
      "object_position": null,
      "order": null,
      "overflow": null,
      "overflow_x": null,
      "overflow_y": null,
      "padding": null,
      "right": null,
      "top": null,
      "visibility": null,
      "width": null
     }
    },
    "7fe147c69a354ce599c9ad0b29ab615b": {
     "model_module": "@jupyter-widgets/base",
     "model_name": "LayoutModel",
     "model_module_version": "1.2.0",
     "state": {
      "_model_module": "@jupyter-widgets/base",
      "_model_module_version": "1.2.0",
      "_model_name": "LayoutModel",
      "_view_count": null,
      "_view_module": "@jupyter-widgets/base",
      "_view_module_version": "1.2.0",
      "_view_name": "LayoutView",
      "align_content": null,
      "align_items": null,
      "align_self": null,
      "border": null,
      "bottom": null,
      "display": null,
      "flex": null,
      "flex_flow": null,
      "grid_area": null,
      "grid_auto_columns": null,
      "grid_auto_flow": null,
      "grid_auto_rows": null,
      "grid_column": null,
      "grid_gap": null,
      "grid_row": null,
      "grid_template_areas": null,
      "grid_template_columns": null,
      "grid_template_rows": null,
      "height": null,
      "justify_content": null,
      "justify_items": null,
      "left": null,
      "margin": null,
      "max_height": null,
      "max_width": null,
      "min_height": null,
      "min_width": null,
      "object_fit": null,
      "object_position": null,
      "order": null,
      "overflow": null,
      "overflow_x": null,
      "overflow_y": null,
      "padding": null,
      "right": null,
      "top": null,
      "visibility": null,
      "width": null
     }
    },
    "fb8e60e97c6847389bac26311264f636": {
     "model_module": "@jupyter-widgets/controls",
     "model_name": "DescriptionStyleModel",
     "model_module_version": "1.5.0",
     "state": {
      "_model_module": "@jupyter-widgets/controls",
      "_model_module_version": "1.5.0",
      "_model_name": "DescriptionStyleModel",
      "_view_count": null,
      "_view_module": "@jupyter-widgets/base",
      "_view_module_version": "1.2.0",
      "_view_name": "StyleView",
      "description_width": ""
     }
    },
    "24144c87e35a45028bf06c6e1434968f": {
     "model_module": "@jupyter-widgets/base",
     "model_name": "LayoutModel",
     "model_module_version": "1.2.0",
     "state": {
      "_model_module": "@jupyter-widgets/base",
      "_model_module_version": "1.2.0",
      "_model_name": "LayoutModel",
      "_view_count": null,
      "_view_module": "@jupyter-widgets/base",
      "_view_module_version": "1.2.0",
      "_view_name": "LayoutView",
      "align_content": null,
      "align_items": null,
      "align_self": null,
      "border": null,
      "bottom": null,
      "display": null,
      "flex": null,
      "flex_flow": null,
      "grid_area": null,
      "grid_auto_columns": null,
      "grid_auto_flow": null,
      "grid_auto_rows": null,
      "grid_column": null,
      "grid_gap": null,
      "grid_row": null,
      "grid_template_areas": null,
      "grid_template_columns": null,
      "grid_template_rows": null,
      "height": null,
      "justify_content": null,
      "justify_items": null,
      "left": null,
      "margin": null,
      "max_height": null,
      "max_width": null,
      "min_height": null,
      "min_width": null,
      "object_fit": null,
      "object_position": null,
      "order": null,
      "overflow": null,
      "overflow_x": null,
      "overflow_y": null,
      "padding": null,
      "right": null,
      "top": null,
      "visibility": null,
      "width": null
     }
    },
    "9e0e3a37f19e410aa06c368c62581862": {
     "model_module": "@jupyter-widgets/controls",
     "model_name": "ProgressStyleModel",
     "model_module_version": "1.5.0",
     "state": {
      "_model_module": "@jupyter-widgets/controls",
      "_model_module_version": "1.5.0",
      "_model_name": "ProgressStyleModel",
      "_view_count": null,
      "_view_module": "@jupyter-widgets/base",
      "_view_module_version": "1.2.0",
      "_view_name": "StyleView",
      "bar_color": null,
      "description_width": ""
     }
    },
    "1943be7192774cfaab310470a53cf748": {
     "model_module": "@jupyter-widgets/base",
     "model_name": "LayoutModel",
     "model_module_version": "1.2.0",
     "state": {
      "_model_module": "@jupyter-widgets/base",
      "_model_module_version": "1.2.0",
      "_model_name": "LayoutModel",
      "_view_count": null,
      "_view_module": "@jupyter-widgets/base",
      "_view_module_version": "1.2.0",
      "_view_name": "LayoutView",
      "align_content": null,
      "align_items": null,
      "align_self": null,
      "border": null,
      "bottom": null,
      "display": null,
      "flex": null,
      "flex_flow": null,
      "grid_area": null,
      "grid_auto_columns": null,
      "grid_auto_flow": null,
      "grid_auto_rows": null,
      "grid_column": null,
      "grid_gap": null,
      "grid_row": null,
      "grid_template_areas": null,
      "grid_template_columns": null,
      "grid_template_rows": null,
      "height": null,
      "justify_content": null,
      "justify_items": null,
      "left": null,
      "margin": null,
      "max_height": null,
      "max_width": null,
      "min_height": null,
      "min_width": null,
      "object_fit": null,
      "object_position": null,
      "order": null,
      "overflow": null,
      "overflow_x": null,
      "overflow_y": null,
      "padding": null,
      "right": null,
      "top": null,
      "visibility": null,
      "width": null
     }
    },
    "4c95a1d000cb4ae0ba39d233b0b81fc9": {
     "model_module": "@jupyter-widgets/controls",
     "model_name": "DescriptionStyleModel",
     "model_module_version": "1.5.0",
     "state": {
      "_model_module": "@jupyter-widgets/controls",
      "_model_module_version": "1.5.0",
      "_model_name": "DescriptionStyleModel",
      "_view_count": null,
      "_view_module": "@jupyter-widgets/base",
      "_view_module_version": "1.2.0",
      "_view_name": "StyleView",
      "description_width": ""
     }
    },
    "cb7aa5ee293045a1abe455f2a208ca6f": {
     "model_module": "@jupyter-widgets/controls",
     "model_name": "HBoxModel",
     "model_module_version": "1.5.0",
     "state": {
      "_dom_classes": [],
      "_model_module": "@jupyter-widgets/controls",
      "_model_module_version": "1.5.0",
      "_model_name": "HBoxModel",
      "_view_count": null,
      "_view_module": "@jupyter-widgets/controls",
      "_view_module_version": "1.5.0",
      "_view_name": "HBoxView",
      "box_style": "",
      "children": [
       "IPY_MODEL_3b5801bd33344440bfac239cf7e1e1de",
       "IPY_MODEL_f65ce282dd31422cb83df5c50b239202",
       "IPY_MODEL_c4eafba3a70d44518ed4c03c0b913a0e"
      ],
      "layout": "IPY_MODEL_42c367c1eb00443e82467a4669426c08"
     }
    },
    "3b5801bd33344440bfac239cf7e1e1de": {
     "model_module": "@jupyter-widgets/controls",
     "model_name": "HTMLModel",
     "model_module_version": "1.5.0",
     "state": {
      "_dom_classes": [],
      "_model_module": "@jupyter-widgets/controls",
      "_model_module_version": "1.5.0",
      "_model_name": "HTMLModel",
      "_view_count": null,
      "_view_module": "@jupyter-widgets/controls",
      "_view_module_version": "1.5.0",
      "_view_name": "HTMLView",
      "description": "",
      "description_tooltip": null,
      "layout": "IPY_MODEL_cb1a32edca55452baa9906cef5a8fbd6",
      "placeholder": "​",
      "style": "IPY_MODEL_986db4a753a94cb49508d9e7d09aebef",
      "value": "Generating test split: 100%"
     }
    },
    "f65ce282dd31422cb83df5c50b239202": {
     "model_module": "@jupyter-widgets/controls",
     "model_name": "FloatProgressModel",
     "model_module_version": "1.5.0",
     "state": {
      "_dom_classes": [],
      "_model_module": "@jupyter-widgets/controls",
      "_model_module_version": "1.5.0",
      "_model_name": "FloatProgressModel",
      "_view_count": null,
      "_view_module": "@jupyter-widgets/controls",
      "_view_module_version": "1.5.0",
      "_view_name": "ProgressView",
      "bar_style": "success",
      "description": "",
      "description_tooltip": null,
      "layout": "IPY_MODEL_96023a82077e492bb11c3c3e947de060",
      "max": 25000,
      "min": 0,
      "orientation": "horizontal",
      "style": "IPY_MODEL_402e2e6720dc47208695801cacf21dea",
      "value": 25000
     }
    },
    "c4eafba3a70d44518ed4c03c0b913a0e": {
     "model_module": "@jupyter-widgets/controls",
     "model_name": "HTMLModel",
     "model_module_version": "1.5.0",
     "state": {
      "_dom_classes": [],
      "_model_module": "@jupyter-widgets/controls",
      "_model_module_version": "1.5.0",
      "_model_name": "HTMLModel",
      "_view_count": null,
      "_view_module": "@jupyter-widgets/controls",
      "_view_module_version": "1.5.0",
      "_view_name": "HTMLView",
      "description": "",
      "description_tooltip": null,
      "layout": "IPY_MODEL_9aadea744ece48ce9e8710e9d96250e2",
      "placeholder": "​",
      "style": "IPY_MODEL_c7598654a5f640fdb236d193585cef29",
      "value": " 25000/25000 [00:00&lt;00:00, 81299.79 examples/s]"
     }
    },
    "42c367c1eb00443e82467a4669426c08": {
     "model_module": "@jupyter-widgets/base",
     "model_name": "LayoutModel",
     "model_module_version": "1.2.0",
     "state": {
      "_model_module": "@jupyter-widgets/base",
      "_model_module_version": "1.2.0",
      "_model_name": "LayoutModel",
      "_view_count": null,
      "_view_module": "@jupyter-widgets/base",
      "_view_module_version": "1.2.0",
      "_view_name": "LayoutView",
      "align_content": null,
      "align_items": null,
      "align_self": null,
      "border": null,
      "bottom": null,
      "display": null,
      "flex": null,
      "flex_flow": null,
      "grid_area": null,
      "grid_auto_columns": null,
      "grid_auto_flow": null,
      "grid_auto_rows": null,
      "grid_column": null,
      "grid_gap": null,
      "grid_row": null,
      "grid_template_areas": null,
      "grid_template_columns": null,
      "grid_template_rows": null,
      "height": null,
      "justify_content": null,
      "justify_items": null,
      "left": null,
      "margin": null,
      "max_height": null,
      "max_width": null,
      "min_height": null,
      "min_width": null,
      "object_fit": null,
      "object_position": null,
      "order": null,
      "overflow": null,
      "overflow_x": null,
      "overflow_y": null,
      "padding": null,
      "right": null,
      "top": null,
      "visibility": null,
      "width": null
     }
    },
    "cb1a32edca55452baa9906cef5a8fbd6": {
     "model_module": "@jupyter-widgets/base",
     "model_name": "LayoutModel",
     "model_module_version": "1.2.0",
     "state": {
      "_model_module": "@jupyter-widgets/base",
      "_model_module_version": "1.2.0",
      "_model_name": "LayoutModel",
      "_view_count": null,
      "_view_module": "@jupyter-widgets/base",
      "_view_module_version": "1.2.0",
      "_view_name": "LayoutView",
      "align_content": null,
      "align_items": null,
      "align_self": null,
      "border": null,
      "bottom": null,
      "display": null,
      "flex": null,
      "flex_flow": null,
      "grid_area": null,
      "grid_auto_columns": null,
      "grid_auto_flow": null,
      "grid_auto_rows": null,
      "grid_column": null,
      "grid_gap": null,
      "grid_row": null,
      "grid_template_areas": null,
      "grid_template_columns": null,
      "grid_template_rows": null,
      "height": null,
      "justify_content": null,
      "justify_items": null,
      "left": null,
      "margin": null,
      "max_height": null,
      "max_width": null,
      "min_height": null,
      "min_width": null,
      "object_fit": null,
      "object_position": null,
      "order": null,
      "overflow": null,
      "overflow_x": null,
      "overflow_y": null,
      "padding": null,
      "right": null,
      "top": null,
      "visibility": null,
      "width": null
     }
    },
    "986db4a753a94cb49508d9e7d09aebef": {
     "model_module": "@jupyter-widgets/controls",
     "model_name": "DescriptionStyleModel",
     "model_module_version": "1.5.0",
     "state": {
      "_model_module": "@jupyter-widgets/controls",
      "_model_module_version": "1.5.0",
      "_model_name": "DescriptionStyleModel",
      "_view_count": null,
      "_view_module": "@jupyter-widgets/base",
      "_view_module_version": "1.2.0",
      "_view_name": "StyleView",
      "description_width": ""
     }
    },
    "96023a82077e492bb11c3c3e947de060": {
     "model_module": "@jupyter-widgets/base",
     "model_name": "LayoutModel",
     "model_module_version": "1.2.0",
     "state": {
      "_model_module": "@jupyter-widgets/base",
      "_model_module_version": "1.2.0",
      "_model_name": "LayoutModel",
      "_view_count": null,
      "_view_module": "@jupyter-widgets/base",
      "_view_module_version": "1.2.0",
      "_view_name": "LayoutView",
      "align_content": null,
      "align_items": null,
      "align_self": null,
      "border": null,
      "bottom": null,
      "display": null,
      "flex": null,
      "flex_flow": null,
      "grid_area": null,
      "grid_auto_columns": null,
      "grid_auto_flow": null,
      "grid_auto_rows": null,
      "grid_column": null,
      "grid_gap": null,
      "grid_row": null,
      "grid_template_areas": null,
      "grid_template_columns": null,
      "grid_template_rows": null,
      "height": null,
      "justify_content": null,
      "justify_items": null,
      "left": null,
      "margin": null,
      "max_height": null,
      "max_width": null,
      "min_height": null,
      "min_width": null,
      "object_fit": null,
      "object_position": null,
      "order": null,
      "overflow": null,
      "overflow_x": null,
      "overflow_y": null,
      "padding": null,
      "right": null,
      "top": null,
      "visibility": null,
      "width": null
     }
    },
    "402e2e6720dc47208695801cacf21dea": {
     "model_module": "@jupyter-widgets/controls",
     "model_name": "ProgressStyleModel",
     "model_module_version": "1.5.0",
     "state": {
      "_model_module": "@jupyter-widgets/controls",
      "_model_module_version": "1.5.0",
      "_model_name": "ProgressStyleModel",
      "_view_count": null,
      "_view_module": "@jupyter-widgets/base",
      "_view_module_version": "1.2.0",
      "_view_name": "StyleView",
      "bar_color": null,
      "description_width": ""
     }
    },
    "9aadea744ece48ce9e8710e9d96250e2": {
     "model_module": "@jupyter-widgets/base",
     "model_name": "LayoutModel",
     "model_module_version": "1.2.0",
     "state": {
      "_model_module": "@jupyter-widgets/base",
      "_model_module_version": "1.2.0",
      "_model_name": "LayoutModel",
      "_view_count": null,
      "_view_module": "@jupyter-widgets/base",
      "_view_module_version": "1.2.0",
      "_view_name": "LayoutView",
      "align_content": null,
      "align_items": null,
      "align_self": null,
      "border": null,
      "bottom": null,
      "display": null,
      "flex": null,
      "flex_flow": null,
      "grid_area": null,
      "grid_auto_columns": null,
      "grid_auto_flow": null,
      "grid_auto_rows": null,
      "grid_column": null,
      "grid_gap": null,
      "grid_row": null,
      "grid_template_areas": null,
      "grid_template_columns": null,
      "grid_template_rows": null,
      "height": null,
      "justify_content": null,
      "justify_items": null,
      "left": null,
      "margin": null,
      "max_height": null,
      "max_width": null,
      "min_height": null,
      "min_width": null,
      "object_fit": null,
      "object_position": null,
      "order": null,
      "overflow": null,
      "overflow_x": null,
      "overflow_y": null,
      "padding": null,
      "right": null,
      "top": null,
      "visibility": null,
      "width": null
     }
    },
    "c7598654a5f640fdb236d193585cef29": {
     "model_module": "@jupyter-widgets/controls",
     "model_name": "DescriptionStyleModel",
     "model_module_version": "1.5.0",
     "state": {
      "_model_module": "@jupyter-widgets/controls",
      "_model_module_version": "1.5.0",
      "_model_name": "DescriptionStyleModel",
      "_view_count": null,
      "_view_module": "@jupyter-widgets/base",
      "_view_module_version": "1.2.0",
      "_view_name": "StyleView",
      "description_width": ""
     }
    },
    "ee1ab7b1a1dd43e8aecc344bcd9dca97": {
     "model_module": "@jupyter-widgets/controls",
     "model_name": "HBoxModel",
     "model_module_version": "1.5.0",
     "state": {
      "_dom_classes": [],
      "_model_module": "@jupyter-widgets/controls",
      "_model_module_version": "1.5.0",
      "_model_name": "HBoxModel",
      "_view_count": null,
      "_view_module": "@jupyter-widgets/controls",
      "_view_module_version": "1.5.0",
      "_view_name": "HBoxView",
      "box_style": "",
      "children": [
       "IPY_MODEL_3e6084ad2cb044eea8429537f0db4187",
       "IPY_MODEL_079951e979a847c284191f1786d8c9cb",
       "IPY_MODEL_9baf9ca513e2457ca5af7bdfce233867"
      ],
      "layout": "IPY_MODEL_6654375b50534627b8fa12dc8a911fcb"
     }
    },
    "3e6084ad2cb044eea8429537f0db4187": {
     "model_module": "@jupyter-widgets/controls",
     "model_name": "HTMLModel",
     "model_module_version": "1.5.0",
     "state": {
      "_dom_classes": [],
      "_model_module": "@jupyter-widgets/controls",
      "_model_module_version": "1.5.0",
      "_model_name": "HTMLModel",
      "_view_count": null,
      "_view_module": "@jupyter-widgets/controls",
      "_view_module_version": "1.5.0",
      "_view_name": "HTMLView",
      "description": "",
      "description_tooltip": null,
      "layout": "IPY_MODEL_533620985bd04448867c1b703264d3ec",
      "placeholder": "​",
      "style": "IPY_MODEL_e6b1754e187940f3990b73af669288b9",
      "value": "Generating unsupervised split: 100%"
     }
    },
    "079951e979a847c284191f1786d8c9cb": {
     "model_module": "@jupyter-widgets/controls",
     "model_name": "FloatProgressModel",
     "model_module_version": "1.5.0",
     "state": {
      "_dom_classes": [],
      "_model_module": "@jupyter-widgets/controls",
      "_model_module_version": "1.5.0",
      "_model_name": "FloatProgressModel",
      "_view_count": null,
      "_view_module": "@jupyter-widgets/controls",
      "_view_module_version": "1.5.0",
      "_view_name": "ProgressView",
      "bar_style": "success",
      "description": "",
      "description_tooltip": null,
      "layout": "IPY_MODEL_9aa61c5ba0224cb49cd019e94f3177b6",
      "max": 50000,
      "min": 0,
      "orientation": "horizontal",
      "style": "IPY_MODEL_889dcbe8c7594e4b8ef8ce0073dd165d",
      "value": 50000
     }
    },
    "9baf9ca513e2457ca5af7bdfce233867": {
     "model_module": "@jupyter-widgets/controls",
     "model_name": "HTMLModel",
     "model_module_version": "1.5.0",
     "state": {
      "_dom_classes": [],
      "_model_module": "@jupyter-widgets/controls",
      "_model_module_version": "1.5.0",
      "_model_name": "HTMLModel",
      "_view_count": null,
      "_view_module": "@jupyter-widgets/controls",
      "_view_module_version": "1.5.0",
      "_view_name": "HTMLView",
      "description": "",
      "description_tooltip": null,
      "layout": "IPY_MODEL_41157ee170d549faad52536c24942729",
      "placeholder": "​",
      "style": "IPY_MODEL_74afa7b227d542fd98042fc30f259ea4",
      "value": " 50000/50000 [00:00&lt;00:00, 61921.90 examples/s]"
     }
    },
    "6654375b50534627b8fa12dc8a911fcb": {
     "model_module": "@jupyter-widgets/base",
     "model_name": "LayoutModel",
     "model_module_version": "1.2.0",
     "state": {
      "_model_module": "@jupyter-widgets/base",
      "_model_module_version": "1.2.0",
      "_model_name": "LayoutModel",
      "_view_count": null,
      "_view_module": "@jupyter-widgets/base",
      "_view_module_version": "1.2.0",
      "_view_name": "LayoutView",
      "align_content": null,
      "align_items": null,
      "align_self": null,
      "border": null,
      "bottom": null,
      "display": null,
      "flex": null,
      "flex_flow": null,
      "grid_area": null,
      "grid_auto_columns": null,
      "grid_auto_flow": null,
      "grid_auto_rows": null,
      "grid_column": null,
      "grid_gap": null,
      "grid_row": null,
      "grid_template_areas": null,
      "grid_template_columns": null,
      "grid_template_rows": null,
      "height": null,
      "justify_content": null,
      "justify_items": null,
      "left": null,
      "margin": null,
      "max_height": null,
      "max_width": null,
      "min_height": null,
      "min_width": null,
      "object_fit": null,
      "object_position": null,
      "order": null,
      "overflow": null,
      "overflow_x": null,
      "overflow_y": null,
      "padding": null,
      "right": null,
      "top": null,
      "visibility": null,
      "width": null
     }
    },
    "533620985bd04448867c1b703264d3ec": {
     "model_module": "@jupyter-widgets/base",
     "model_name": "LayoutModel",
     "model_module_version": "1.2.0",
     "state": {
      "_model_module": "@jupyter-widgets/base",
      "_model_module_version": "1.2.0",
      "_model_name": "LayoutModel",
      "_view_count": null,
      "_view_module": "@jupyter-widgets/base",
      "_view_module_version": "1.2.0",
      "_view_name": "LayoutView",
      "align_content": null,
      "align_items": null,
      "align_self": null,
      "border": null,
      "bottom": null,
      "display": null,
      "flex": null,
      "flex_flow": null,
      "grid_area": null,
      "grid_auto_columns": null,
      "grid_auto_flow": null,
      "grid_auto_rows": null,
      "grid_column": null,
      "grid_gap": null,
      "grid_row": null,
      "grid_template_areas": null,
      "grid_template_columns": null,
      "grid_template_rows": null,
      "height": null,
      "justify_content": null,
      "justify_items": null,
      "left": null,
      "margin": null,
      "max_height": null,
      "max_width": null,
      "min_height": null,
      "min_width": null,
      "object_fit": null,
      "object_position": null,
      "order": null,
      "overflow": null,
      "overflow_x": null,
      "overflow_y": null,
      "padding": null,
      "right": null,
      "top": null,
      "visibility": null,
      "width": null
     }
    },
    "e6b1754e187940f3990b73af669288b9": {
     "model_module": "@jupyter-widgets/controls",
     "model_name": "DescriptionStyleModel",
     "model_module_version": "1.5.0",
     "state": {
      "_model_module": "@jupyter-widgets/controls",
      "_model_module_version": "1.5.0",
      "_model_name": "DescriptionStyleModel",
      "_view_count": null,
      "_view_module": "@jupyter-widgets/base",
      "_view_module_version": "1.2.0",
      "_view_name": "StyleView",
      "description_width": ""
     }
    },
    "9aa61c5ba0224cb49cd019e94f3177b6": {
     "model_module": "@jupyter-widgets/base",
     "model_name": "LayoutModel",
     "model_module_version": "1.2.0",
     "state": {
      "_model_module": "@jupyter-widgets/base",
      "_model_module_version": "1.2.0",
      "_model_name": "LayoutModel",
      "_view_count": null,
      "_view_module": "@jupyter-widgets/base",
      "_view_module_version": "1.2.0",
      "_view_name": "LayoutView",
      "align_content": null,
      "align_items": null,
      "align_self": null,
      "border": null,
      "bottom": null,
      "display": null,
      "flex": null,
      "flex_flow": null,
      "grid_area": null,
      "grid_auto_columns": null,
      "grid_auto_flow": null,
      "grid_auto_rows": null,
      "grid_column": null,
      "grid_gap": null,
      "grid_row": null,
      "grid_template_areas": null,
      "grid_template_columns": null,
      "grid_template_rows": null,
      "height": null,
      "justify_content": null,
      "justify_items": null,
      "left": null,
      "margin": null,
      "max_height": null,
      "max_width": null,
      "min_height": null,
      "min_width": null,
      "object_fit": null,
      "object_position": null,
      "order": null,
      "overflow": null,
      "overflow_x": null,
      "overflow_y": null,
      "padding": null,
      "right": null,
      "top": null,
      "visibility": null,
      "width": null
     }
    },
    "889dcbe8c7594e4b8ef8ce0073dd165d": {
     "model_module": "@jupyter-widgets/controls",
     "model_name": "ProgressStyleModel",
     "model_module_version": "1.5.0",
     "state": {
      "_model_module": "@jupyter-widgets/controls",
      "_model_module_version": "1.5.0",
      "_model_name": "ProgressStyleModel",
      "_view_count": null,
      "_view_module": "@jupyter-widgets/base",
      "_view_module_version": "1.2.0",
      "_view_name": "StyleView",
      "bar_color": null,
      "description_width": ""
     }
    },
    "41157ee170d549faad52536c24942729": {
     "model_module": "@jupyter-widgets/base",
     "model_name": "LayoutModel",
     "model_module_version": "1.2.0",
     "state": {
      "_model_module": "@jupyter-widgets/base",
      "_model_module_version": "1.2.0",
      "_model_name": "LayoutModel",
      "_view_count": null,
      "_view_module": "@jupyter-widgets/base",
      "_view_module_version": "1.2.0",
      "_view_name": "LayoutView",
      "align_content": null,
      "align_items": null,
      "align_self": null,
      "border": null,
      "bottom": null,
      "display": null,
      "flex": null,
      "flex_flow": null,
      "grid_area": null,
      "grid_auto_columns": null,
      "grid_auto_flow": null,
      "grid_auto_rows": null,
      "grid_column": null,
      "grid_gap": null,
      "grid_row": null,
      "grid_template_areas": null,
      "grid_template_columns": null,
      "grid_template_rows": null,
      "height": null,
      "justify_content": null,
      "justify_items": null,
      "left": null,
      "margin": null,
      "max_height": null,
      "max_width": null,
      "min_height": null,
      "min_width": null,
      "object_fit": null,
      "object_position": null,
      "order": null,
      "overflow": null,
      "overflow_x": null,
      "overflow_y": null,
      "padding": null,
      "right": null,
      "top": null,
      "visibility": null,
      "width": null
     }
    },
    "74afa7b227d542fd98042fc30f259ea4": {
     "model_module": "@jupyter-widgets/controls",
     "model_name": "DescriptionStyleModel",
     "model_module_version": "1.5.0",
     "state": {
      "_model_module": "@jupyter-widgets/controls",
      "_model_module_version": "1.5.0",
      "_model_name": "DescriptionStyleModel",
      "_view_count": null,
      "_view_module": "@jupyter-widgets/base",
      "_view_module_version": "1.2.0",
      "_view_name": "StyleView",
      "description_width": ""
     }
    },
    "d657299c64dc483e859d3dcfb4f2bb6a": {
     "model_module": "@jupyter-widgets/controls",
     "model_name": "HBoxModel",
     "model_module_version": "1.5.0",
     "state": {
      "_dom_classes": [],
      "_model_module": "@jupyter-widgets/controls",
      "_model_module_version": "1.5.0",
      "_model_name": "HBoxModel",
      "_view_count": null,
      "_view_module": "@jupyter-widgets/controls",
      "_view_module_version": "1.5.0",
      "_view_name": "HBoxView",
      "box_style": "",
      "children": [
       "IPY_MODEL_14fb549e681f43f6b8e5d4d83d9330cc",
       "IPY_MODEL_ed90c1f4bc4447f6b1a4a8ca8eeba135",
       "IPY_MODEL_da00a558aeac4d8aafe851f3f7dd9297"
      ],
      "layout": "IPY_MODEL_e1d5617c9b4f48c7b9b1f818ee7746aa"
     }
    },
    "14fb549e681f43f6b8e5d4d83d9330cc": {
     "model_module": "@jupyter-widgets/controls",
     "model_name": "HTMLModel",
     "model_module_version": "1.5.0",
     "state": {
      "_dom_classes": [],
      "_model_module": "@jupyter-widgets/controls",
      "_model_module_version": "1.5.0",
      "_model_name": "HTMLModel",
      "_view_count": null,
      "_view_module": "@jupyter-widgets/controls",
      "_view_module_version": "1.5.0",
      "_view_name": "HTMLView",
      "description": "",
      "description_tooltip": null,
      "layout": "IPY_MODEL_091d728394ac4d909a8c52155ac3f37d",
      "placeholder": "​",
      "style": "IPY_MODEL_79943b34e6484b04839ec52f2e50b719",
      "value": "100%"
     }
    },
    "ed90c1f4bc4447f6b1a4a8ca8eeba135": {
     "model_module": "@jupyter-widgets/controls",
     "model_name": "FloatProgressModel",
     "model_module_version": "1.5.0",
     "state": {
      "_dom_classes": [],
      "_model_module": "@jupyter-widgets/controls",
      "_model_module_version": "1.5.0",
      "_model_name": "FloatProgressModel",
      "_view_count": null,
      "_view_module": "@jupyter-widgets/controls",
      "_view_module_version": "1.5.0",
      "_view_name": "ProgressView",
      "bar_style": "success",
      "description": "",
      "description_tooltip": null,
      "layout": "IPY_MODEL_74aff62cfed04d5c9fc28c0676a47898",
      "max": 25000,
      "min": 0,
      "orientation": "horizontal",
      "style": "IPY_MODEL_3f96380143254484ae5cdcfa62e3baf6",
      "value": 25000
     }
    },
    "da00a558aeac4d8aafe851f3f7dd9297": {
     "model_module": "@jupyter-widgets/controls",
     "model_name": "HTMLModel",
     "model_module_version": "1.5.0",
     "state": {
      "_dom_classes": [],
      "_model_module": "@jupyter-widgets/controls",
      "_model_module_version": "1.5.0",
      "_model_name": "HTMLModel",
      "_view_count": null,
      "_view_module": "@jupyter-widgets/controls",
      "_view_module_version": "1.5.0",
      "_view_name": "HTMLView",
      "description": "",
      "description_tooltip": null,
      "layout": "IPY_MODEL_5317b89e840740228a2ebbb57b369e2b",
      "placeholder": "​",
      "style": "IPY_MODEL_118de63336fe4240814a63f70c512862",
      "value": " 25000/25000 [01:31&lt;00:00, 378.82it/s]"
     }
    },
    "e1d5617c9b4f48c7b9b1f818ee7746aa": {
     "model_module": "@jupyter-widgets/base",
     "model_name": "LayoutModel",
     "model_module_version": "1.2.0",
     "state": {
      "_model_module": "@jupyter-widgets/base",
      "_model_module_version": "1.2.0",
      "_model_name": "LayoutModel",
      "_view_count": null,
      "_view_module": "@jupyter-widgets/base",
      "_view_module_version": "1.2.0",
      "_view_name": "LayoutView",
      "align_content": null,
      "align_items": null,
      "align_self": null,
      "border": null,
      "bottom": null,
      "display": null,
      "flex": null,
      "flex_flow": null,
      "grid_area": null,
      "grid_auto_columns": null,
      "grid_auto_flow": null,
      "grid_auto_rows": null,
      "grid_column": null,
      "grid_gap": null,
      "grid_row": null,
      "grid_template_areas": null,
      "grid_template_columns": null,
      "grid_template_rows": null,
      "height": null,
      "justify_content": null,
      "justify_items": null,
      "left": null,
      "margin": null,
      "max_height": null,
      "max_width": null,
      "min_height": null,
      "min_width": null,
      "object_fit": null,
      "object_position": null,
      "order": null,
      "overflow": null,
      "overflow_x": null,
      "overflow_y": null,
      "padding": null,
      "right": null,
      "top": null,
      "visibility": null,
      "width": null
     }
    },
    "091d728394ac4d909a8c52155ac3f37d": {
     "model_module": "@jupyter-widgets/base",
     "model_name": "LayoutModel",
     "model_module_version": "1.2.0",
     "state": {
      "_model_module": "@jupyter-widgets/base",
      "_model_module_version": "1.2.0",
      "_model_name": "LayoutModel",
      "_view_count": null,
      "_view_module": "@jupyter-widgets/base",
      "_view_module_version": "1.2.0",
      "_view_name": "LayoutView",
      "align_content": null,
      "align_items": null,
      "align_self": null,
      "border": null,
      "bottom": null,
      "display": null,
      "flex": null,
      "flex_flow": null,
      "grid_area": null,
      "grid_auto_columns": null,
      "grid_auto_flow": null,
      "grid_auto_rows": null,
      "grid_column": null,
      "grid_gap": null,
      "grid_row": null,
      "grid_template_areas": null,
      "grid_template_columns": null,
      "grid_template_rows": null,
      "height": null,
      "justify_content": null,
      "justify_items": null,
      "left": null,
      "margin": null,
      "max_height": null,
      "max_width": null,
      "min_height": null,
      "min_width": null,
      "object_fit": null,
      "object_position": null,
      "order": null,
      "overflow": null,
      "overflow_x": null,
      "overflow_y": null,
      "padding": null,
      "right": null,
      "top": null,
      "visibility": null,
      "width": null
     }
    },
    "79943b34e6484b04839ec52f2e50b719": {
     "model_module": "@jupyter-widgets/controls",
     "model_name": "DescriptionStyleModel",
     "model_module_version": "1.5.0",
     "state": {
      "_model_module": "@jupyter-widgets/controls",
      "_model_module_version": "1.5.0",
      "_model_name": "DescriptionStyleModel",
      "_view_count": null,
      "_view_module": "@jupyter-widgets/base",
      "_view_module_version": "1.2.0",
      "_view_name": "StyleView",
      "description_width": ""
     }
    },
    "74aff62cfed04d5c9fc28c0676a47898": {
     "model_module": "@jupyter-widgets/base",
     "model_name": "LayoutModel",
     "model_module_version": "1.2.0",
     "state": {
      "_model_module": "@jupyter-widgets/base",
      "_model_module_version": "1.2.0",
      "_model_name": "LayoutModel",
      "_view_count": null,
      "_view_module": "@jupyter-widgets/base",
      "_view_module_version": "1.2.0",
      "_view_name": "LayoutView",
      "align_content": null,
      "align_items": null,
      "align_self": null,
      "border": null,
      "bottom": null,
      "display": null,
      "flex": null,
      "flex_flow": null,
      "grid_area": null,
      "grid_auto_columns": null,
      "grid_auto_flow": null,
      "grid_auto_rows": null,
      "grid_column": null,
      "grid_gap": null,
      "grid_row": null,
      "grid_template_areas": null,
      "grid_template_columns": null,
      "grid_template_rows": null,
      "height": null,
      "justify_content": null,
      "justify_items": null,
      "left": null,
      "margin": null,
      "max_height": null,
      "max_width": null,
      "min_height": null,
      "min_width": null,
      "object_fit": null,
      "object_position": null,
      "order": null,
      "overflow": null,
      "overflow_x": null,
      "overflow_y": null,
      "padding": null,
      "right": null,
      "top": null,
      "visibility": null,
      "width": null
     }
    },
    "3f96380143254484ae5cdcfa62e3baf6": {
     "model_module": "@jupyter-widgets/controls",
     "model_name": "ProgressStyleModel",
     "model_module_version": "1.5.0",
     "state": {
      "_model_module": "@jupyter-widgets/controls",
      "_model_module_version": "1.5.0",
      "_model_name": "ProgressStyleModel",
      "_view_count": null,
      "_view_module": "@jupyter-widgets/base",
      "_view_module_version": "1.2.0",
      "_view_name": "StyleView",
      "bar_color": null,
      "description_width": ""
     }
    },
    "5317b89e840740228a2ebbb57b369e2b": {
     "model_module": "@jupyter-widgets/base",
     "model_name": "LayoutModel",
     "model_module_version": "1.2.0",
     "state": {
      "_model_module": "@jupyter-widgets/base",
      "_model_module_version": "1.2.0",
      "_model_name": "LayoutModel",
      "_view_count": null,
      "_view_module": "@jupyter-widgets/base",
      "_view_module_version": "1.2.0",
      "_view_name": "LayoutView",
      "align_content": null,
      "align_items": null,
      "align_self": null,
      "border": null,
      "bottom": null,
      "display": null,
      "flex": null,
      "flex_flow": null,
      "grid_area": null,
      "grid_auto_columns": null,
      "grid_auto_flow": null,
      "grid_auto_rows": null,
      "grid_column": null,
      "grid_gap": null,
      "grid_row": null,
      "grid_template_areas": null,
      "grid_template_columns": null,
      "grid_template_rows": null,
      "height": null,
      "justify_content": null,
      "justify_items": null,
      "left": null,
      "margin": null,
      "max_height": null,
      "max_width": null,
      "min_height": null,
      "min_width": null,
      "object_fit": null,
      "object_position": null,
      "order": null,
      "overflow": null,
      "overflow_x": null,
      "overflow_y": null,
      "padding": null,
      "right": null,
      "top": null,
      "visibility": null,
      "width": null
     }
    },
    "118de63336fe4240814a63f70c512862": {
     "model_module": "@jupyter-widgets/controls",
     "model_name": "DescriptionStyleModel",
     "model_module_version": "1.5.0",
     "state": {
      "_model_module": "@jupyter-widgets/controls",
      "_model_module_version": "1.5.0",
      "_model_name": "DescriptionStyleModel",
      "_view_count": null,
      "_view_module": "@jupyter-widgets/base",
      "_view_module_version": "1.2.0",
      "_view_name": "StyleView",
      "description_width": ""
     }
    },
    "e15159f49b77478abc0f673c017e5c0f": {
     "model_module": "@jupyter-widgets/controls",
     "model_name": "HBoxModel",
     "model_module_version": "1.5.0",
     "state": {
      "_dom_classes": [],
      "_model_module": "@jupyter-widgets/controls",
      "_model_module_version": "1.5.0",
      "_model_name": "HBoxModel",
      "_view_count": null,
      "_view_module": "@jupyter-widgets/controls",
      "_view_module_version": "1.5.0",
      "_view_name": "HBoxView",
      "box_style": "",
      "children": [
       "IPY_MODEL_3a086a384eaf4f4cabf4b4cf08ce04e1",
       "IPY_MODEL_aa41f852cba34bddb3ed60cdca38e77e",
       "IPY_MODEL_5a2b93ee64ed4928a56e9fe332bad1f5"
      ],
      "layout": "IPY_MODEL_0b5599c99ce0447fbbe8898ecb76e563"
     }
    },
    "3a086a384eaf4f4cabf4b4cf08ce04e1": {
     "model_module": "@jupyter-widgets/controls",
     "model_name": "HTMLModel",
     "model_module_version": "1.5.0",
     "state": {
      "_dom_classes": [],
      "_model_module": "@jupyter-widgets/controls",
      "_model_module_version": "1.5.0",
      "_model_name": "HTMLModel",
      "_view_count": null,
      "_view_module": "@jupyter-widgets/controls",
      "_view_module_version": "1.5.0",
      "_view_name": "HTMLView",
      "description": "",
      "description_tooltip": null,
      "layout": "IPY_MODEL_b3cb3042b85b439ab728bcc30c903002",
      "placeholder": "​",
      "style": "IPY_MODEL_c7fe9edbd3634460bf9391460aa0273d",
      "value": "100%"
     }
    },
    "aa41f852cba34bddb3ed60cdca38e77e": {
     "model_module": "@jupyter-widgets/controls",
     "model_name": "FloatProgressModel",
     "model_module_version": "1.5.0",
     "state": {
      "_dom_classes": [],
      "_model_module": "@jupyter-widgets/controls",
      "_model_module_version": "1.5.0",
      "_model_name": "FloatProgressModel",
      "_view_count": null,
      "_view_module": "@jupyter-widgets/controls",
      "_view_module_version": "1.5.0",
      "_view_name": "ProgressView",
      "bar_style": "success",
      "description": "",
      "description_tooltip": null,
      "layout": "IPY_MODEL_16a681ac8c2e49f7bd4d8e28c309b672",
      "max": 204701,
      "min": 0,
      "orientation": "horizontal",
      "style": "IPY_MODEL_e7cfc42978174cafa61f1002120653ce",
      "value": 204701
     }
    },
    "5a2b93ee64ed4928a56e9fe332bad1f5": {
     "model_module": "@jupyter-widgets/controls",
     "model_name": "HTMLModel",
     "model_module_version": "1.5.0",
     "state": {
      "_dom_classes": [],
      "_model_module": "@jupyter-widgets/controls",
      "_model_module_version": "1.5.0",
      "_model_name": "HTMLModel",
      "_view_count": null,
      "_view_module": "@jupyter-widgets/controls",
      "_view_module_version": "1.5.0",
      "_view_name": "HTMLView",
      "description": "",
      "description_tooltip": null,
      "layout": "IPY_MODEL_04d75d50e16a426ab5fec93325a98075",
      "placeholder": "​",
      "style": "IPY_MODEL_5679e25352224fe9a285f9c1b8ac0bae",
      "value": " 204701/204701 [00:01&lt;00:00, 118622.28it/s]"
     }
    },
    "0b5599c99ce0447fbbe8898ecb76e563": {
     "model_module": "@jupyter-widgets/base",
     "model_name": "LayoutModel",
     "model_module_version": "1.2.0",
     "state": {
      "_model_module": "@jupyter-widgets/base",
      "_model_module_version": "1.2.0",
      "_model_name": "LayoutModel",
      "_view_count": null,
      "_view_module": "@jupyter-widgets/base",
      "_view_module_version": "1.2.0",
      "_view_name": "LayoutView",
      "align_content": null,
      "align_items": null,
      "align_self": null,
      "border": null,
      "bottom": null,
      "display": null,
      "flex": null,
      "flex_flow": null,
      "grid_area": null,
      "grid_auto_columns": null,
      "grid_auto_flow": null,
      "grid_auto_rows": null,
      "grid_column": null,
      "grid_gap": null,
      "grid_row": null,
      "grid_template_areas": null,
      "grid_template_columns": null,
      "grid_template_rows": null,
      "height": null,
      "justify_content": null,
      "justify_items": null,
      "left": null,
      "margin": null,
      "max_height": null,
      "max_width": null,
      "min_height": null,
      "min_width": null,
      "object_fit": null,
      "object_position": null,
      "order": null,
      "overflow": null,
      "overflow_x": null,
      "overflow_y": null,
      "padding": null,
      "right": null,
      "top": null,
      "visibility": null,
      "width": null
     }
    },
    "b3cb3042b85b439ab728bcc30c903002": {
     "model_module": "@jupyter-widgets/base",
     "model_name": "LayoutModel",
     "model_module_version": "1.2.0",
     "state": {
      "_model_module": "@jupyter-widgets/base",
      "_model_module_version": "1.2.0",
      "_model_name": "LayoutModel",
      "_view_count": null,
      "_view_module": "@jupyter-widgets/base",
      "_view_module_version": "1.2.0",
      "_view_name": "LayoutView",
      "align_content": null,
      "align_items": null,
      "align_self": null,
      "border": null,
      "bottom": null,
      "display": null,
      "flex": null,
      "flex_flow": null,
      "grid_area": null,
      "grid_auto_columns": null,
      "grid_auto_flow": null,
      "grid_auto_rows": null,
      "grid_column": null,
      "grid_gap": null,
      "grid_row": null,
      "grid_template_areas": null,
      "grid_template_columns": null,
      "grid_template_rows": null,
      "height": null,
      "justify_content": null,
      "justify_items": null,
      "left": null,
      "margin": null,
      "max_height": null,
      "max_width": null,
      "min_height": null,
      "min_width": null,
      "object_fit": null,
      "object_position": null,
      "order": null,
      "overflow": null,
      "overflow_x": null,
      "overflow_y": null,
      "padding": null,
      "right": null,
      "top": null,
      "visibility": null,
      "width": null
     }
    },
    "c7fe9edbd3634460bf9391460aa0273d": {
     "model_module": "@jupyter-widgets/controls",
     "model_name": "DescriptionStyleModel",
     "model_module_version": "1.5.0",
     "state": {
      "_model_module": "@jupyter-widgets/controls",
      "_model_module_version": "1.5.0",
      "_model_name": "DescriptionStyleModel",
      "_view_count": null,
      "_view_module": "@jupyter-widgets/base",
      "_view_module_version": "1.2.0",
      "_view_name": "StyleView",
      "description_width": ""
     }
    },
    "16a681ac8c2e49f7bd4d8e28c309b672": {
     "model_module": "@jupyter-widgets/base",
     "model_name": "LayoutModel",
     "model_module_version": "1.2.0",
     "state": {
      "_model_module": "@jupyter-widgets/base",
      "_model_module_version": "1.2.0",
      "_model_name": "LayoutModel",
      "_view_count": null,
      "_view_module": "@jupyter-widgets/base",
      "_view_module_version": "1.2.0",
      "_view_name": "LayoutView",
      "align_content": null,
      "align_items": null,
      "align_self": null,
      "border": null,
      "bottom": null,
      "display": null,
      "flex": null,
      "flex_flow": null,
      "grid_area": null,
      "grid_auto_columns": null,
      "grid_auto_flow": null,
      "grid_auto_rows": null,
      "grid_column": null,
      "grid_gap": null,
      "grid_row": null,
      "grid_template_areas": null,
      "grid_template_columns": null,
      "grid_template_rows": null,
      "height": null,
      "justify_content": null,
      "justify_items": null,
      "left": null,
      "margin": null,
      "max_height": null,
      "max_width": null,
      "min_height": null,
      "min_width": null,
      "object_fit": null,
      "object_position": null,
      "order": null,
      "overflow": null,
      "overflow_x": null,
      "overflow_y": null,
      "padding": null,
      "right": null,
      "top": null,
      "visibility": null,
      "width": null
     }
    },
    "e7cfc42978174cafa61f1002120653ce": {
     "model_module": "@jupyter-widgets/controls",
     "model_name": "ProgressStyleModel",
     "model_module_version": "1.5.0",
     "state": {
      "_model_module": "@jupyter-widgets/controls",
      "_model_module_version": "1.5.0",
      "_model_name": "ProgressStyleModel",
      "_view_count": null,
      "_view_module": "@jupyter-widgets/base",
      "_view_module_version": "1.2.0",
      "_view_name": "StyleView",
      "bar_color": null,
      "description_width": ""
     }
    },
    "04d75d50e16a426ab5fec93325a98075": {
     "model_module": "@jupyter-widgets/base",
     "model_name": "LayoutModel",
     "model_module_version": "1.2.0",
     "state": {
      "_model_module": "@jupyter-widgets/base",
      "_model_module_version": "1.2.0",
      "_model_name": "LayoutModel",
      "_view_count": null,
      "_view_module": "@jupyter-widgets/base",
      "_view_module_version": "1.2.0",
      "_view_name": "LayoutView",
      "align_content": null,
      "align_items": null,
      "align_self": null,
      "border": null,
      "bottom": null,
      "display": null,
      "flex": null,
      "flex_flow": null,
      "grid_area": null,
      "grid_auto_columns": null,
      "grid_auto_flow": null,
      "grid_auto_rows": null,
      "grid_column": null,
      "grid_gap": null,
      "grid_row": null,
      "grid_template_areas": null,
      "grid_template_columns": null,
      "grid_template_rows": null,
      "height": null,
      "justify_content": null,
      "justify_items": null,
      "left": null,
      "margin": null,
      "max_height": null,
      "max_width": null,
      "min_height": null,
      "min_width": null,
      "object_fit": null,
      "object_position": null,
      "order": null,
      "overflow": null,
      "overflow_x": null,
      "overflow_y": null,
      "padding": null,
      "right": null,
      "top": null,
      "visibility": null,
      "width": null
     }
    },
    "5679e25352224fe9a285f9c1b8ac0bae": {
     "model_module": "@jupyter-widgets/controls",
     "model_name": "DescriptionStyleModel",
     "model_module_version": "1.5.0",
     "state": {
      "_model_module": "@jupyter-widgets/controls",
      "_model_module_version": "1.5.0",
      "_model_name": "DescriptionStyleModel",
      "_view_count": null,
      "_view_module": "@jupyter-widgets/base",
      "_view_module_version": "1.2.0",
      "_view_name": "StyleView",
      "description_width": ""
     }
    }
   }
  },
  "kaggle": {
   "accelerator": "nvidiaTeslaT4",
   "dataSources": [],
   "dockerImageVersionId": 30747,
   "isInternetEnabled": true,
   "language": "python",
   "sourceType": "notebook",
   "isGpuEnabled": true
  }
 },
 "nbformat_minor": 4,
 "nbformat": 4,
 "cells": [
  {
   "cell_type": "markdown",
   "source": [
    "<p style=\"align: center;\"><img src=\"https://static.tildacdn.com/tild6636-3531-4239-b465-376364646465/Deep_Learning_School.png\" width=\"400\"></p>\n",
    "\n",
    "# Домашнее задание. Обучение языковой модели с помощью LSTM (10 баллов)"
   ],
   "metadata": {
    "id": "d0ADTojbpfLt"
   }
  },
  {
   "cell_type": "markdown",
   "source": [
    "В этом задании Вам предстоит обучить языковую модель с помощью рекуррентной нейронной сети. В отличие от семинарского занятия, Вам необходимо будет работать с отдельными словами, а не буквами.\n",
    "\n",
    "\n",
    "Установим модуль ```datasets```, чтобы нам проще было работать с данными."
   ],
   "metadata": {
    "id": "ldHSmYY6p_mZ"
   }
  },
  {
   "cell_type": "code",
   "source": [
    "!pip install datasets"
   ],
   "metadata": {
    "id": "3yvNdv6cp_0P",
    "colab": {
     "base_uri": "https://localhost:8080/"
    },
    "outputId": "0e51547c-03e3-44c2-adb4-f419b160dc1e",
    "execution": {
     "iopub.status.busy": "2024-07-14T15:40:53.407025Z",
     "iopub.execute_input": "2024-07-14T15:40:53.407619Z",
     "iopub.status.idle": "2024-07-14T15:41:06.333216Z",
     "shell.execute_reply.started": "2024-07-14T15:40:53.407590Z",
     "shell.execute_reply": "2024-07-14T15:41:06.332300Z"
    },
    "trusted": true
   },
   "execution_count": 2,
   "outputs": [
    {
     "name": "stdout",
     "text": "Requirement already satisfied: datasets in /opt/conda/lib/python3.10/site-packages (2.20.0)\nRequirement already satisfied: filelock in /opt/conda/lib/python3.10/site-packages (from datasets) (3.13.1)\nRequirement already satisfied: numpy>=1.17 in /opt/conda/lib/python3.10/site-packages (from datasets) (1.26.4)\nRequirement already satisfied: pyarrow>=15.0.0 in /opt/conda/lib/python3.10/site-packages (from datasets) (16.1.0)\nRequirement already satisfied: pyarrow-hotfix in /opt/conda/lib/python3.10/site-packages (from datasets) (0.6)\nRequirement already satisfied: dill<0.3.9,>=0.3.0 in /opt/conda/lib/python3.10/site-packages (from datasets) (0.3.8)\nRequirement already satisfied: pandas in /opt/conda/lib/python3.10/site-packages (from datasets) (2.2.2)\nRequirement already satisfied: requests>=2.32.2 in /opt/conda/lib/python3.10/site-packages (from datasets) (2.32.3)\nRequirement already satisfied: tqdm>=4.66.3 in /opt/conda/lib/python3.10/site-packages (from datasets) (4.66.4)\nRequirement already satisfied: xxhash in /opt/conda/lib/python3.10/site-packages (from datasets) (3.4.1)\nRequirement already satisfied: multiprocess in /opt/conda/lib/python3.10/site-packages (from datasets) (0.70.16)\nRequirement already satisfied: fsspec<=2024.5.0,>=2023.1.0 in /opt/conda/lib/python3.10/site-packages (from fsspec[http]<=2024.5.0,>=2023.1.0->datasets) (2024.5.0)\nRequirement already satisfied: aiohttp in /opt/conda/lib/python3.10/site-packages (from datasets) (3.9.1)\nRequirement already satisfied: huggingface-hub>=0.21.2 in /opt/conda/lib/python3.10/site-packages (from datasets) (0.23.4)\nRequirement already satisfied: packaging in /opt/conda/lib/python3.10/site-packages (from datasets) (21.3)\nRequirement already satisfied: pyyaml>=5.1 in /opt/conda/lib/python3.10/site-packages (from datasets) (6.0.1)\nRequirement already satisfied: attrs>=17.3.0 in /opt/conda/lib/python3.10/site-packages (from aiohttp->datasets) (23.2.0)\nRequirement already satisfied: multidict<7.0,>=4.5 in /opt/conda/lib/python3.10/site-packages (from aiohttp->datasets) (6.0.4)\nRequirement already satisfied: yarl<2.0,>=1.0 in /opt/conda/lib/python3.10/site-packages (from aiohttp->datasets) (1.9.3)\nRequirement already satisfied: frozenlist>=1.1.1 in /opt/conda/lib/python3.10/site-packages (from aiohttp->datasets) (1.4.1)\nRequirement already satisfied: aiosignal>=1.1.2 in /opt/conda/lib/python3.10/site-packages (from aiohttp->datasets) (1.3.1)\nRequirement already satisfied: async-timeout<5.0,>=4.0 in /opt/conda/lib/python3.10/site-packages (from aiohttp->datasets) (4.0.3)\nRequirement already satisfied: typing-extensions>=3.7.4.3 in /opt/conda/lib/python3.10/site-packages (from huggingface-hub>=0.21.2->datasets) (4.9.0)\nRequirement already satisfied: pyparsing!=3.0.5,>=2.0.2 in /opt/conda/lib/python3.10/site-packages (from packaging->datasets) (3.1.1)\nRequirement already satisfied: charset-normalizer<4,>=2 in /opt/conda/lib/python3.10/site-packages (from requests>=2.32.2->datasets) (3.3.2)\nRequirement already satisfied: idna<4,>=2.5 in /opt/conda/lib/python3.10/site-packages (from requests>=2.32.2->datasets) (3.6)\nRequirement already satisfied: urllib3<3,>=1.21.1 in /opt/conda/lib/python3.10/site-packages (from requests>=2.32.2->datasets) (1.26.18)\nRequirement already satisfied: certifi>=2017.4.17 in /opt/conda/lib/python3.10/site-packages (from requests>=2.32.2->datasets) (2024.7.4)\nRequirement already satisfied: python-dateutil>=2.8.2 in /opt/conda/lib/python3.10/site-packages (from pandas->datasets) (2.9.0.post0)\nRequirement already satisfied: pytz>=2020.1 in /opt/conda/lib/python3.10/site-packages (from pandas->datasets) (2023.3.post1)\nRequirement already satisfied: tzdata>=2022.7 in /opt/conda/lib/python3.10/site-packages (from pandas->datasets) (2023.4)\nRequirement already satisfied: six>=1.5 in /opt/conda/lib/python3.10/site-packages (from python-dateutil>=2.8.2->pandas->datasets) (1.16.0)\n",
     "output_type": "stream"
    }
   ]
  },
  {
   "cell_type": "markdown",
   "source": [
    "Импорт необходимых библиотек"
   ],
   "metadata": {
    "id": "rh9ZXSeCpng9"
   }
  },
  {
   "cell_type": "code",
   "source": [
    "import torch\n",
    "import torch.nn as nn\n",
    "from torch.utils.data import Dataset, DataLoader\n",
    "\n",
    "import numpy as np\n",
    "import matplotlib.pyplot as plt\n",
    "\n",
    "from tqdm.auto import tqdm\n",
    "from datasets import load_dataset\n",
    "from nltk.tokenize import sent_tokenize, word_tokenize\n",
    "from sklearn.model_selection import train_test_split\n",
    "import nltk\n",
    "\n",
    "from collections import Counter\n",
    "from typing import List\n",
    "\n",
    "import seaborn\n",
    "seaborn.set(palette='summer')"
   ],
   "metadata": {
    "id": "XOJi16bLpd_O",
    "ExecuteTime": {
     "end_time": "2024-07-13T09:06:39.660251Z",
     "start_time": "2024-07-13T09:06:31.117809Z"
    },
    "execution": {
     "iopub.status.busy": "2024-07-14T15:41:06.335477Z",
     "iopub.execute_input": "2024-07-14T15:41:06.335852Z",
     "iopub.status.idle": "2024-07-14T15:41:10.576859Z",
     "shell.execute_reply.started": "2024-07-14T15:41:06.335818Z",
     "shell.execute_reply": "2024-07-14T15:41:10.575818Z"
    },
    "trusted": true
   },
   "execution_count": 3,
   "outputs": []
  },
  {
   "cell_type": "code",
   "source": [
    "nltk.download('punkt')"
   ],
   "metadata": {
    "id": "91JuM0SQvXud",
    "ExecuteTime": {
     "end_time": "2024-07-13T09:06:39.982148Z",
     "start_time": "2024-07-13T09:06:39.661254Z"
    },
    "colab": {
     "base_uri": "https://localhost:8080/"
    },
    "outputId": "3b8637fe-c83f-4fe2-8f7d-4439846f8f2e",
    "execution": {
     "iopub.status.busy": "2024-07-14T15:41:10.578152Z",
     "iopub.execute_input": "2024-07-14T15:41:10.578660Z",
     "iopub.status.idle": "2024-07-14T15:41:10.738483Z",
     "shell.execute_reply.started": "2024-07-14T15:41:10.578621Z",
     "shell.execute_reply": "2024-07-14T15:41:10.737483Z"
    },
    "trusted": true
   },
   "execution_count": 4,
   "outputs": [
    {
     "name": "stdout",
     "text": "[nltk_data] Downloading package punkt to /usr/share/nltk_data...\n[nltk_data]   Package punkt is already up-to-date!\n",
     "output_type": "stream"
    },
    {
     "execution_count": 4,
     "output_type": "execute_result",
     "data": {
      "text/plain": "True"
     },
     "metadata": {}
    }
   ]
  },
  {
   "cell_type": "code",
   "source": [
    "device = 'cuda' if torch.cuda.is_available() else 'cpu'\n",
    "device"
   ],
   "metadata": {
    "id": "adJC8ShFq9HM",
    "ExecuteTime": {
     "end_time": "2024-07-13T09:06:39.989256Z",
     "start_time": "2024-07-13T09:06:39.983155Z"
    },
    "colab": {
     "base_uri": "https://localhost:8080/",
     "height": 35
    },
    "outputId": "ae9f79e6-4e59-4a5d-accd-478d3c01b662",
    "execution": {
     "iopub.status.busy": "2024-07-14T15:41:10.740400Z",
     "iopub.execute_input": "2024-07-14T15:41:10.740694Z",
     "iopub.status.idle": "2024-07-14T15:41:10.801311Z",
     "shell.execute_reply.started": "2024-07-14T15:41:10.740670Z",
     "shell.execute_reply": "2024-07-14T15:41:10.800411Z"
    },
    "trusted": true
   },
   "execution_count": 5,
   "outputs": [
    {
     "execution_count": 5,
     "output_type": "execute_result",
     "data": {
      "text/plain": "'cuda'"
     },
     "metadata": {}
    }
   ]
  },
  {
   "cell_type": "markdown",
   "source": [
    "## Подготовка данных\n",
    "\n",
    "Воспользуемся датасетом imdb. В нем хранятся отзывы о фильмах с сайта imdb. Загрузим данные с помощью функции ```load_dataset```"
   ],
   "metadata": {
    "id": "pwsfS1ENq5ig"
   }
  },
  {
   "cell_type": "code",
   "source": [
    "# Загрузим датасет\n",
    "dataset = load_dataset('imdb')"
   ],
   "metadata": {
    "id": "qHLNWOfJqSfc",
    "ExecuteTime": {
     "end_time": "2024-07-13T09:07:09.039077Z",
     "start_time": "2024-07-13T09:06:48.060263Z"
    },
    "colab": {
     "base_uri": "https://localhost:8080/",
     "height": 365,
     "referenced_widgets": [
      "06e61151c4aa4d6da8460ecdb6e6519a",
      "e334c8935b5a411f9958d73a1dd1cd70",
      "902792edd5414523b0939f153202eb8b",
      "c4152ba7f3044af1b67be4076f5481a1",
      "21a49a2fdbee447ab260d284c27c1791",
      "3d207b6e9d3e4f55bb312281a349304f",
      "7bb6daf6b26843b887bb63a095b66a15",
      "6133ae763494437a9c07312c4526c96e",
      "8f8ca392e7314937b2eb7b78206a86cc",
      "6cd208ae510348a8a8c65693a1cb8816",
      "9204359a6b08455385b79a2f2653326f",
      "dac272509cc640b88779bac912f13615",
      "c13c25e000824c04a0faa81c1e4380b5",
      "e0b721641ed7449cb633357f30537842",
      "fcaf71604601442c950857640bcb0739",
      "4edc9c84372943f79e300b5bbfe139d5",
      "4239cd09f49a4657a9fb6fcb9b040b80",
      "651cbc214e81457bba0f222eb88874b3",
      "065127782395484989e265e7f34c8aeb",
      "8d12ae7f14ff4af8a5e79a1e38d741f6",
      "65a2531bec0445fe826cd57b3e5438cc",
      "c3e709285f8e4adb91bf7681527c1b5d",
      "f944ba92b1194a8d9e2f0afd85039228",
      "f038dfe89fde474982581a0d2fe17f7b",
      "429c43a0742e4af188a8885f29036186",
      "cf28e17f3de54d4d8947a31fbab6e168",
      "220c232cbfff4c1181da77f069609010",
      "694cff017323419aabcd7628ca478d3b",
      "cead4d32abf5456faa933f9327e29e9b",
      "b8b698567dba436b8c7929a01f50c7a1",
      "30c6b0d05d704edc8d098fdaa8190c33",
      "33512c7d6a8747048c0ee91a2b2dffd0",
      "6c7860832de246259a1c5d8c71afe425",
      "2f2a7fadff4e4dedaa9999bc75aa4785",
      "523c34d6f9b64ca29885b4779cc8bd18",
      "932b228860c54546a19d023a42b55efd",
      "e797ae2f67ed453d90b1b1988c085215",
      "efe8eff64c4641d9b66229fceec51513",
      "1f717b6406354aba8f67c53ae6deb863",
      "41fd08e5529a47e9b56cd95d5b334316",
      "cde12418cbaa4ab9acff5fe9aab09042",
      "07ea1b3e529a4f9bbb1c3d1452cca346",
      "81cb8610abaa4de78a3477aa341c64e3",
      "2eb2603e97b24d668f71766e89bb0e23",
      "484792597fd546d2801193480f288b04",
      "c2a10945999b43a69b96244d48850bbb",
      "702eb18ed44c44aca0efcb0af9e74727",
      "5e0da3dcb14340a29a46c72ef5dc4da5",
      "72e80a3d018541419bbd863e102ca123",
      "7fe147c69a354ce599c9ad0b29ab615b",
      "fb8e60e97c6847389bac26311264f636",
      "24144c87e35a45028bf06c6e1434968f",
      "9e0e3a37f19e410aa06c368c62581862",
      "1943be7192774cfaab310470a53cf748",
      "4c95a1d000cb4ae0ba39d233b0b81fc9",
      "cb7aa5ee293045a1abe455f2a208ca6f",
      "3b5801bd33344440bfac239cf7e1e1de",
      "f65ce282dd31422cb83df5c50b239202",
      "c4eafba3a70d44518ed4c03c0b913a0e",
      "42c367c1eb00443e82467a4669426c08",
      "cb1a32edca55452baa9906cef5a8fbd6",
      "986db4a753a94cb49508d9e7d09aebef",
      "96023a82077e492bb11c3c3e947de060",
      "402e2e6720dc47208695801cacf21dea",
      "9aadea744ece48ce9e8710e9d96250e2",
      "c7598654a5f640fdb236d193585cef29",
      "ee1ab7b1a1dd43e8aecc344bcd9dca97",
      "3e6084ad2cb044eea8429537f0db4187",
      "079951e979a847c284191f1786d8c9cb",
      "9baf9ca513e2457ca5af7bdfce233867",
      "6654375b50534627b8fa12dc8a911fcb",
      "533620985bd04448867c1b703264d3ec",
      "e6b1754e187940f3990b73af669288b9",
      "9aa61c5ba0224cb49cd019e94f3177b6",
      "889dcbe8c7594e4b8ef8ce0073dd165d",
      "41157ee170d549faad52536c24942729",
      "74afa7b227d542fd98042fc30f259ea4"
     ]
    },
    "outputId": "2838fd24-e6da-4b9b-98a0-9a211037799a",
    "execution": {
     "iopub.status.busy": "2024-07-14T15:41:10.803025Z",
     "iopub.execute_input": "2024-07-14T15:41:10.803471Z",
     "iopub.status.idle": "2024-07-14T15:41:15.864832Z",
     "shell.execute_reply.started": "2024-07-14T15:41:10.803437Z",
     "shell.execute_reply": "2024-07-14T15:41:15.864036Z"
    },
    "trusted": true
   },
   "execution_count": 6,
   "outputs": [
    {
     "output_type": "display_data",
     "data": {
      "text/plain": "Downloading readme:   0%|          | 0.00/7.81k [00:00<?, ?B/s]",
      "application/vnd.jupyter.widget-view+json": {
       "version_major": 2,
       "version_minor": 0,
       "model_id": "83ef613331cc4e638c86144e1a420779"
      }
     },
     "metadata": {}
    },
    {
     "output_type": "display_data",
     "data": {
      "text/plain": "Downloading data:   0%|          | 0.00/21.0M [00:00<?, ?B/s]",
      "application/vnd.jupyter.widget-view+json": {
       "version_major": 2,
       "version_minor": 0,
       "model_id": "7990906d65c0430585be8f0e3855654d"
      }
     },
     "metadata": {}
    },
    {
     "output_type": "display_data",
     "data": {
      "text/plain": "Downloading data:   0%|          | 0.00/20.5M [00:00<?, ?B/s]",
      "application/vnd.jupyter.widget-view+json": {
       "version_major": 2,
       "version_minor": 0,
       "model_id": "58fd3e8e4a3e42dfa40fb08b48c63c2c"
      }
     },
     "metadata": {}
    },
    {
     "output_type": "display_data",
     "data": {
      "text/plain": "Downloading data:   0%|          | 0.00/42.0M [00:00<?, ?B/s]",
      "application/vnd.jupyter.widget-view+json": {
       "version_major": 2,
       "version_minor": 0,
       "model_id": "b78adde95d69412390451edbc91202ba"
      }
     },
     "metadata": {}
    },
    {
     "output_type": "display_data",
     "data": {
      "text/plain": "Generating train split:   0%|          | 0/25000 [00:00<?, ? examples/s]",
      "application/vnd.jupyter.widget-view+json": {
       "version_major": 2,
       "version_minor": 0,
       "model_id": "5eb27b75c7a2473b9cb36e0a47da82b7"
      }
     },
     "metadata": {}
    },
    {
     "output_type": "display_data",
     "data": {
      "text/plain": "Generating test split:   0%|          | 0/25000 [00:00<?, ? examples/s]",
      "application/vnd.jupyter.widget-view+json": {
       "version_major": 2,
       "version_minor": 0,
       "model_id": "de5b3b9bd083467d846bfa608c3420c0"
      }
     },
     "metadata": {}
    },
    {
     "output_type": "display_data",
     "data": {
      "text/plain": "Generating unsupervised split:   0%|          | 0/50000 [00:00<?, ? examples/s]",
      "application/vnd.jupyter.widget-view+json": {
       "version_major": 2,
       "version_minor": 0,
       "model_id": "9e518f90b01541b58c27d5c6d24dc92b"
      }
     },
     "metadata": {}
    }
   ]
  },
  {
   "cell_type": "markdown",
   "source": [
    "### Препроцессинг данных и создание словаря (1 балл)\n",
    "\n",
    "Далее вам необходмо самостоятельно произвести препроцессинг данных и получить словарь или же просто ```set``` строк. Что необходимо сделать:\n",
    "\n",
    "1. Разделить отдельные тренировочные примеры на отдельные предложения с помощью функции ```sent_tokenize``` из бибилиотеки ```nltk```. Каждое отдельное предложение будет одним тренировочным примером.\n",
    "2. Оставить только те предложения, в которых меньше ```word_threshold``` слов.\n",
    "3. Посчитать частоту вхождения каждого слова в оставшихся предложениях. Для деления предлоения на отдельные слова удобно использовать функцию ```word_tokenize```.\n",
    "4. Создать объект ```vocab``` класса ```set```, положить в него служебные токены '\\<unk\\>', '\\<bos\\>', '\\<eos\\>', '\\<pad\\>' и vocab_size самых частовстречающихся слов.   "
   ],
   "metadata": {
    "id": "24gn7CuZ9agP"
   }
  },
  {
   "cell_type": "code",
   "source": [
    "sentences = []\n",
    "word_threshold = 32\n",
    "\n",
    "# Получить отдельные предложения и поместить их в sentences\n",
    "for text in tqdm(dataset['train']['text']):\n",
    "    sentences.extend(\n",
    "        [word_tokenize(sentence.lower()) for sentence in sent_tokenize(text, language='russian') if len(word_tokenize(sentence.lower())) <= word_threshold]\n",
    "    )"
   ],
   "metadata": {
    "id": "Ins2tVCdsS47",
    "ExecuteTime": {
     "end_time": "2024-07-13T10:06:55.494621Z",
     "start_time": "2024-07-13T10:05:43.842815Z"
    },
    "colab": {
     "base_uri": "https://localhost:8080/",
     "height": 49,
     "referenced_widgets": [
      "d657299c64dc483e859d3dcfb4f2bb6a",
      "14fb549e681f43f6b8e5d4d83d9330cc",
      "ed90c1f4bc4447f6b1a4a8ca8eeba135",
      "da00a558aeac4d8aafe851f3f7dd9297",
      "e1d5617c9b4f48c7b9b1f818ee7746aa",
      "091d728394ac4d909a8c52155ac3f37d",
      "79943b34e6484b04839ec52f2e50b719",
      "74aff62cfed04d5c9fc28c0676a47898",
      "3f96380143254484ae5cdcfa62e3baf6",
      "5317b89e840740228a2ebbb57b369e2b",
      "118de63336fe4240814a63f70c512862"
     ]
    },
    "outputId": "cb852d59-99b8-4d68-c2ce-3751b3c9b41f",
    "execution": {
     "iopub.status.busy": "2024-07-14T15:41:15.865988Z",
     "iopub.execute_input": "2024-07-14T15:41:15.866275Z",
     "iopub.status.idle": "2024-07-14T15:43:23.958244Z",
     "shell.execute_reply.started": "2024-07-14T15:41:15.866250Z",
     "shell.execute_reply": "2024-07-14T15:43:23.957216Z"
    },
    "trusted": true
   },
   "execution_count": 7,
   "outputs": [
    {
     "output_type": "display_data",
     "data": {
      "text/plain": "  0%|          | 0/25000 [00:00<?, ?it/s]",
      "application/vnd.jupyter.widget-view+json": {
       "version_major": 2,
       "version_minor": 0,
       "model_id": "d87e6d5b51f74f0aba48347aafed9f85"
      }
     },
     "metadata": {}
    }
   ]
  },
  {
   "cell_type": "code",
   "source": [
    "print(\"Всего предложений:\", len(sentences))"
   ],
   "metadata": {
    "id": "bxeBxP3J1Rj3",
    "ExecuteTime": {
     "end_time": "2024-07-13T10:12:36.407008Z",
     "start_time": "2024-07-13T10:12:36.401693Z"
    },
    "colab": {
     "base_uri": "https://localhost:8080/"
    },
    "outputId": "57918ede-a584-4228-c94f-3986e27f64d3",
    "execution": {
     "iopub.status.busy": "2024-07-14T15:43:23.959570Z",
     "iopub.execute_input": "2024-07-14T15:43:23.959897Z",
     "iopub.status.idle": "2024-07-14T15:43:23.965180Z",
     "shell.execute_reply.started": "2024-07-14T15:43:23.959869Z",
     "shell.execute_reply": "2024-07-14T15:43:23.964216Z"
    },
    "trusted": true
   },
   "execution_count": 8,
   "outputs": [
    {
     "name": "stdout",
     "text": "Всего предложений: 204649\n",
     "output_type": "stream"
    }
   ]
  },
  {
   "cell_type": "markdown",
   "source": [
    "Посчитаем для каждого слова его встречаемость."
   ],
   "metadata": {
    "id": "iT82XkT6ULA_"
   }
  },
  {
   "cell_type": "code",
   "source": [
    "words = Counter()\n",
    "\n",
    "# Расчет встречаемости слов\n",
    "for sentence in tqdm(sentences):\n",
    "    for word in sentence:\n",
    "        words[word] += 1"
   ],
   "metadata": {
    "id": "nEvCN0Y1w1yH",
    "ExecuteTime": {
     "end_time": "2024-07-13T10:12:42.381279Z",
     "start_time": "2024-07-13T10:12:40.926762Z"
    },
    "colab": {
     "base_uri": "https://localhost:8080/",
     "height": 49,
     "referenced_widgets": [
      "e15159f49b77478abc0f673c017e5c0f",
      "3a086a384eaf4f4cabf4b4cf08ce04e1",
      "aa41f852cba34bddb3ed60cdca38e77e",
      "5a2b93ee64ed4928a56e9fe332bad1f5",
      "0b5599c99ce0447fbbe8898ecb76e563",
      "b3cb3042b85b439ab728bcc30c903002",
      "c7fe9edbd3634460bf9391460aa0273d",
      "16a681ac8c2e49f7bd4d8e28c309b672",
      "e7cfc42978174cafa61f1002120653ce",
      "04d75d50e16a426ab5fec93325a98075",
      "5679e25352224fe9a285f9c1b8ac0bae"
     ]
    },
    "outputId": "ae4e50d2-de26-48b5-c78f-b2e97264f3a6",
    "execution": {
     "iopub.status.busy": "2024-07-14T15:43:23.966547Z",
     "iopub.execute_input": "2024-07-14T15:43:23.966918Z",
     "iopub.status.idle": "2024-07-14T15:43:25.437258Z",
     "shell.execute_reply.started": "2024-07-14T15:43:23.966884Z",
     "shell.execute_reply": "2024-07-14T15:43:25.436368Z"
    },
    "trusted": true
   },
   "execution_count": 9,
   "outputs": [
    {
     "output_type": "display_data",
     "data": {
      "text/plain": "  0%|          | 0/204649 [00:00<?, ?it/s]",
      "application/vnd.jupyter.widget-view+json": {
       "version_major": 2,
       "version_minor": 0,
       "model_id": "b9f0079a795a4a96a8be7333b979d739"
      }
     },
     "metadata": {}
    }
   ]
  },
  {
   "cell_type": "markdown",
   "source": [
    "Добавим в словарь ```vocab_size``` самых встречающихся слов."
   ],
   "metadata": {
    "id": "B4k4uSoHUSI0"
   }
  },
  {
   "cell_type": "code",
   "source": [
    "vocab = set()\n",
    "vocab_size = 40000\n",
    "\n",
    "for word, _ in words.most_common(vocab_size):\n",
    "    vocab.add(word)\n",
    "\n",
    "vocab.add('<unk>')\n",
    "vocab.add('<bos>')\n",
    "vocab.add('<eos>')\n",
    "vocab.add('<pad>')"
   ],
   "metadata": {
    "id": "oUBNwsK9xLIu",
    "ExecuteTime": {
     "end_time": "2024-07-13T10:12:43.593258Z",
     "start_time": "2024-07-13T10:12:43.519209Z"
    },
    "execution": {
     "iopub.status.busy": "2024-07-14T15:43:25.438382Z",
     "iopub.execute_input": "2024-07-14T15:43:25.438694Z",
     "iopub.status.idle": "2024-07-14T15:43:25.530444Z",
     "shell.execute_reply.started": "2024-07-14T15:43:25.438668Z",
     "shell.execute_reply": "2024-07-14T15:43:25.529658Z"
    },
    "trusted": true
   },
   "execution_count": 10,
   "outputs": []
  },
  {
   "cell_type": "code",
   "source": [
    "assert '<unk>' in vocab\n",
    "assert '<bos>' in vocab\n",
    "assert '<eos>' in vocab\n",
    "assert '<pad>' in vocab\n",
    "assert len(vocab) == vocab_size + 4"
   ],
   "metadata": {
    "id": "ieT0DFUpXnV2",
    "ExecuteTime": {
     "end_time": "2024-07-13T10:12:46.429990Z",
     "start_time": "2024-07-13T10:12:46.425887Z"
    },
    "execution": {
     "iopub.status.busy": "2024-07-14T15:43:25.533908Z",
     "iopub.execute_input": "2024-07-14T15:43:25.534248Z",
     "iopub.status.idle": "2024-07-14T15:43:25.538974Z",
     "shell.execute_reply.started": "2024-07-14T15:43:25.534222Z",
     "shell.execute_reply": "2024-07-14T15:43:25.537876Z"
    },
    "trusted": true
   },
   "execution_count": 11,
   "outputs": []
  },
  {
   "cell_type": "code",
   "source": [
    "print(\"Всего слов в словаре:\", len(vocab))"
   ],
   "metadata": {
    "id": "JhACW2CQyck5",
    "ExecuteTime": {
     "end_time": "2024-07-13T10:12:46.701637Z",
     "start_time": "2024-07-13T10:12:46.697952Z"
    },
    "colab": {
     "base_uri": "https://localhost:8080/"
    },
    "outputId": "88835d3c-dcf9-4b7f-b6fe-f9ce7ce5f89e",
    "execution": {
     "iopub.status.busy": "2024-07-14T15:43:25.540192Z",
     "iopub.execute_input": "2024-07-14T15:43:25.540542Z",
     "iopub.status.idle": "2024-07-14T15:43:25.548851Z",
     "shell.execute_reply.started": "2024-07-14T15:43:25.540491Z",
     "shell.execute_reply": "2024-07-14T15:43:25.547790Z"
    },
    "trusted": true
   },
   "execution_count": 12,
   "outputs": [
    {
     "name": "stdout",
     "text": "Всего слов в словаре: 40004\n",
     "output_type": "stream"
    }
   ]
  },
  {
   "cell_type": "markdown",
   "source": [
    "### Подготовка датасета (1 балл)\n",
    "\n",
    "Далее, как и в семинарском занятии, подготовим датасеты и даталоадеры.\n",
    "\n",
    "В классе ```WordDataset``` вам необходимо реализовать метод ```__getitem__```, который будет возвращать сэмпл данных по входному idx, то есть список целых чисел (индексов слов).\n",
    "\n",
    "Внутри этого метода необходимо добавить служебные токены начала и конца последовательности, а также токенизировать соответствующее предложение с помощью ```word_tokenize``` и сопоставить ему индексы из ```word2ind```."
   ],
   "metadata": {
    "id": "UmeRYKSIUcdE"
   }
  },
  {
   "cell_type": "code",
   "source": [
    "word2ind = {char: i for i, char in enumerate(vocab)}\n",
    "ind2word = {i: char for char, i in word2ind.items()}"
   ],
   "metadata": {
    "id": "iD7SmSy3v2dl",
    "ExecuteTime": {
     "end_time": "2024-07-13T10:12:48.934129Z",
     "start_time": "2024-07-13T10:12:48.909610Z"
    },
    "execution": {
     "iopub.status.busy": "2024-07-14T15:43:25.550156Z",
     "iopub.execute_input": "2024-07-14T15:43:25.550437Z",
     "iopub.status.idle": "2024-07-14T15:43:25.576244Z",
     "shell.execute_reply.started": "2024-07-14T15:43:25.550397Z",
     "shell.execute_reply": "2024-07-14T15:43:25.575409Z"
    },
    "trusted": true
   },
   "execution_count": 13,
   "outputs": []
  },
  {
   "cell_type": "code",
   "source": [
    "class WordDataset:\n",
    "    def __init__(self, sentences):\n",
    "        self.data = sentences\n",
    "        self.unk_id = word2ind['<unk>']\n",
    "        self.bos_id = word2ind['<bos>']\n",
    "        self.eos_id = word2ind['<eos>']\n",
    "        self.pad_id = word2ind['<pad>']\n",
    "\n",
    "    def __getitem__(self, idx: int) -> List[int]:\n",
    "        tokenized_sentence = [self.bos_id]\n",
    "        tokenized_sentence += [\n",
    "            word2ind.get(word, self.unk_id) for word in self.data[idx]\n",
    "        ]\n",
    "        tokenized_sentence += [self.eos_id]\n",
    "\n",
    "        # item = {\n",
    "        #     \"text\": tokenized_sentence,\n",
    "        #     \"label\": self.data[idx]['label']\n",
    "        # }\n",
    "\n",
    "        return tokenized_sentence\n",
    "\n",
    "    def __len__(self) -> int:\n",
    "        return len(self.data)"
   ],
   "metadata": {
    "id": "FVzXL17PzC7K",
    "ExecuteTime": {
     "end_time": "2024-07-13T10:12:49.854944Z",
     "start_time": "2024-07-13T10:12:49.848153Z"
    },
    "execution": {
     "iopub.status.busy": "2024-07-14T15:43:25.577479Z",
     "iopub.execute_input": "2024-07-14T15:43:25.577774Z",
     "iopub.status.idle": "2024-07-14T15:43:25.585129Z",
     "shell.execute_reply.started": "2024-07-14T15:43:25.577752Z",
     "shell.execute_reply": "2024-07-14T15:43:25.584080Z"
    },
    "trusted": true
   },
   "execution_count": 14,
   "outputs": []
  },
  {
   "cell_type": "code",
   "source": [
    "def collate_fn_with_padding(\n",
    "    input_batch: List[List[int]], pad_id=word2ind['<pad>']) -> torch.Tensor:\n",
    "    seq_lens = [len(x) for x in input_batch]\n",
    "    max_seq_len = max(seq_lens)\n",
    "\n",
    "    new_batch = []\n",
    "    for sequence in input_batch:\n",
    "        for _ in range(max_seq_len - len(sequence)):\n",
    "            sequence.append(pad_id)\n",
    "        new_batch.append(sequence)\n",
    "\n",
    "    sequences = torch.LongTensor(new_batch).to(device)\n",
    "\n",
    "    new_batch = {\n",
    "        'input_ids': sequences[:,:-1],\n",
    "        'target_ids': sequences[:,1:]\n",
    "    }\n",
    "\n",
    "    return new_batch"
   ],
   "metadata": {
    "id": "I6CtYNMp2_g0",
    "ExecuteTime": {
     "end_time": "2024-07-13T10:12:50.796139Z",
     "start_time": "2024-07-13T10:12:50.788992Z"
    },
    "execution": {
     "iopub.status.busy": "2024-07-14T15:43:25.586357Z",
     "iopub.execute_input": "2024-07-14T15:43:25.586666Z",
     "iopub.status.idle": "2024-07-14T15:43:25.594826Z",
     "shell.execute_reply.started": "2024-07-14T15:43:25.586635Z",
     "shell.execute_reply": "2024-07-14T15:43:25.593986Z"
    },
    "trusted": true
   },
   "execution_count": 15,
   "outputs": []
  },
  {
   "cell_type": "code",
   "source": [
    "#Берем поменьше данных, чтобы быстрее можно было тестировать\n",
    "train_sentences, eval_sentences = train_test_split(sentences[:40000], test_size=0.2)\n",
    "# eval_sentences, test_sentences = train_test_split(test_eval_sentences, test_size=0.4)\n",
    "\n",
    "train_dataset = WordDataset(train_sentences)\n",
    "eval_dataset = WordDataset(eval_sentences)\n",
    "# test_dataset = WordDataset(test_sentences)\n",
    "\n",
    "batch_size = 128\n",
    "\n",
    "train_dataloader = DataLoader(\n",
    "    train_dataset, collate_fn=collate_fn_with_padding, batch_size=batch_size)\n",
    "\n",
    "eval_dataloader = DataLoader(\n",
    "    eval_dataset, collate_fn=collate_fn_with_padding, batch_size=batch_size)\n",
    "\n",
    "# test_dataloader = DataLoader(\n",
    "#     test_dataset, collate_fn=collate_fn_with_padding, batch_size=batch_size)"
   ],
   "metadata": {
    "id": "6xmeK9Ys1BIG",
    "ExecuteTime": {
     "end_time": "2024-07-13T10:12:52.231407Z",
     "start_time": "2024-07-13T10:12:52.005119Z"
    },
    "execution": {
     "iopub.status.busy": "2024-07-14T14:01:35.395808Z",
     "iopub.execute_input": "2024-07-14T14:01:35.396622Z",
     "iopub.status.idle": "2024-07-14T14:01:35.415267Z",
     "shell.execute_reply.started": "2024-07-14T14:01:35.396596Z",
     "shell.execute_reply": "2024-07-14T14:01:35.414326Z"
    },
    "trusted": true
   },
   "execution_count": 16,
   "outputs": []
  },
  {
   "cell_type": "markdown",
   "source": [
    "## Обучение и архитектура модели\n",
    "\n",
    "Вам необходимо на практике проверить, что влияет на качество языковых моделей. В этом задании нужно провести серию экспериментов с различными вариантами языковых моделей и сравнить различия в конечной перплексии на тестовом множестве.\n",
    "\n",
    "Возмоэные идеи для экспериментов:\n",
    "\n",
    "* Различные RNN-блоки, например, LSTM или GRU. Также можно добавить сразу несколько RNN блоков друг над другом с помощью аргумента num_layers. Вам поможет официальная документация [здесь](https://pytorch.org/docs/stable/generated/torch.nn.LSTM.html)\n",
    "* Различные размеры скрытого состояния. Различное количество линейных слоев после RNN-блока. Различные функции активации.\n",
    "* Добавление нормализаций в виде Dropout, BatchNorm или LayerNorm\n",
    "* Различные аргументы для оптимизации, например, подбор оптимального learning rate или тип алгоритма оптимизации SGD, Adam, RMSProp и другие\n",
    "* Любые другие идеи и подходы\n",
    "\n",
    "После проведения экспериментов необходимо составить таблицу результатов, в которой описан каждый эксперимент и посчитана перплексия на тестовом множестве.\n",
    "\n",
    "Учтите, что эксперименты, которые различаются, например, только размером скрытого состояния или количеством линейных слоев считаются, как один эксперимент.\n",
    "\n",
    "Успехов!"
   ],
   "metadata": {
    "id": "SMAexY7Y45E4"
   }
  },
  {
   "cell_type": "markdown",
   "source": [
    "### Функция evaluate (1 балл)\n",
    "\n",
    "Заполните функцию ```evaluate```"
   ],
   "metadata": {
    "id": "KP1cO-3bmDv9"
   }
  },
  {
   "cell_type": "code",
   "source": [
    "def evaluate(model, criterion, dataloader) -> (float, float):\n",
    "    model.eval()\n",
    "    perplexity = []\n",
    "    with torch.no_grad():\n",
    "        for batch in dataloader:\n",
    "            logits = model(batch['input_ids']).flatten(start_dim=0, end_dim=1)\n",
    "            loss = criterion(logits, batch['target_ids'].flatten())\n",
    "            perplexity.append(torch.exp(loss).item())\n",
    "\n",
    "    perplexity = sum(perplexity) / len(perplexity)\n",
    "\n",
    "    return perplexity, loss"
   ],
   "metadata": {
    "id": "XUlMUVJ3mL4r",
    "ExecuteTime": {
     "end_time": "2024-07-13T10:19:51.048542Z",
     "start_time": "2024-07-13T10:19:51.042933Z"
    },
    "execution": {
     "iopub.status.busy": "2024-07-14T15:43:25.596127Z",
     "iopub.execute_input": "2024-07-14T15:43:25.596898Z",
     "iopub.status.idle": "2024-07-14T15:43:25.603345Z",
     "shell.execute_reply.started": "2024-07-14T15:43:25.596865Z",
     "shell.execute_reply": "2024-07-14T15:43:25.602481Z"
    },
    "trusted": true
   },
   "execution_count": 16,
   "outputs": []
  },
  {
   "cell_type": "markdown",
   "source": [
    "### Train loop (1 балл)\n",
    "\n",
    "Напишите функцию для обучения модели."
   ],
   "metadata": {
    "id": "bLV63Vsk7loy"
   }
  },
  {
   "cell_type": "code",
   "source": [
    "import copy\n",
    "DATA_MODES = ['train', 'val', 'test']"
   ],
   "metadata": {
    "ExecuteTime": {
     "end_time": "2024-07-13T10:19:51.316149Z",
     "start_time": "2024-07-13T10:19:51.311897Z"
    },
    "id": "4TtgolVr1p9b",
    "execution": {
     "iopub.status.busy": "2024-07-14T15:43:25.604297Z",
     "iopub.execute_input": "2024-07-14T15:43:25.604569Z",
     "iopub.status.idle": "2024-07-14T15:43:25.611018Z",
     "shell.execute_reply.started": "2024-07-14T15:43:25.604544Z",
     "shell.execute_reply": "2024-07-14T15:43:25.610049Z"
    },
    "trusted": true
   },
   "execution_count": 17,
   "outputs": []
  },
  {
   "cell_type": "code",
   "source": [
    "def train_model(model, criterion, optimizer, lr_scheduler, train_loader, val_loader, epochs=15, freeze_threshold=0.5, freeze_max_number=3, print_logs=True):\n",
    "    dataloaders = {'train': train_loader, 'val': val_loader}\n",
    "\n",
    "    losses = {'train': [], 'val': []}\n",
    "    perplexities = {'train': [], 'val': []}\n",
    "\n",
    "    best_model_wts = model.state_dict()\n",
    "    best_perplexity = 100000000\n",
    "    best_loss = 100000000\n",
    "    num_freeze = 0\n",
    "\n",
    "    for epoch in range(epochs):\n",
    "        if print_logs:\n",
    "          print('* Epoch %d/%d' % (epoch+1, epochs))\n",
    "        for data_mode in DATA_MODES[:2]:\n",
    "            if data_mode == 'train':\n",
    "                model.train()\n",
    "            else:\n",
    "                model.eval()\n",
    "\n",
    "            data_size = 0\n",
    "            running_perplexity = 0\n",
    "            perplexity = []\n",
    "\n",
    "            running_loss = 0\n",
    "\n",
    "            if data_mode == 'train':\n",
    "                # for batch in tqdm(dataloaders[data_mode], desc=f'Training epoch {epoch}:'):\n",
    "                for batch in dataloaders[data_mode]:\n",
    "                    X = batch['input_ids'].to(device)\n",
    "                    y = batch['target_ids'].to(device)\n",
    "                    optimizer.zero_grad()\n",
    "\n",
    "                    logits = model(X).flatten(start_dim=0, end_dim=1)\n",
    "                    loss = criterion(logits, y.flatten())\n",
    "                    loss.backward()\n",
    "                    optimizer.step()\n",
    "\n",
    "                    # running_perplexity += torch.exp(loss).item()\n",
    "                    perplexity.append(torch.exp(loss).item())\n",
    "\n",
    "                    running_loss += loss.item() * X.size(0)\n",
    "                    data_size += X.size(0)\n",
    "\n",
    "                # epoch_perplexity = running_perplexity / data_size\n",
    "                epoch_perplexity = sum(perplexity) / len(perplexity)\n",
    "\n",
    "                epoch_loss = running_loss / data_size\n",
    "            else:\n",
    "                epoch_perplexity, epoch_loss = evaluate(model, criterion, dataloaders['val'])\n",
    "\n",
    "            perplexities[data_mode].append(epoch_perplexity)\n",
    "            losses[data_mode].append(epoch_loss)\n",
    "\n",
    "            if data_mode == 'train':\n",
    "                lr_scheduler.step(epoch_loss)\n",
    "                if print_logs:\n",
    "                  print('* Train  Epoch perplexity: %f  Epoch loss: %f' % (epoch_perplexity, epoch_loss))\n",
    "            else:\n",
    "                if print_logs:\n",
    "                  print('* Val    Epoch perplexity: %f  Epoch loss: %f' % (epoch_perplexity, epoch_loss))\n",
    "\n",
    "            # сохраняем лучшую модель\n",
    "            if data_mode == 'val' and epoch_perplexity < best_perplexity:\n",
    "                best_perplexity = epoch_perplexity\n",
    "                if print_logs:\n",
    "                  print('Saving best model...')\n",
    "                best_model_wts = copy.deepcopy(model.state_dict())\n",
    "\n",
    "            if data_mode == 'val':\n",
    "                if len(perplexities[data_mode]) > 1 and (perplexities[data_mode][-2] - perplexities[data_mode][-1] < freeze_threshold):\n",
    "                    num_freeze += 1\n",
    "                else:\n",
    "                    num_freeze = 0\n",
    "\n",
    "        if num_freeze == freeze_max_number:\n",
    "            break\n",
    "\n",
    "    model.load_state_dict(best_model_wts)\n",
    "\n",
    "    if print_logs:\n",
    "      print()\n",
    "      print(\"The model is trained\")\n",
    "\n",
    "    print(\"Best perplexity: \", best_perplexity)\n",
    "    print(\"perplexities: \", perplexities)\n",
    "    print(\"losses: \", losses)\n",
    "    return model, losses, perplexities"
   ],
   "metadata": {
    "id": "bSZmUC3YmocP",
    "ExecuteTime": {
     "end_time": "2024-07-13T11:23:03.733582Z",
     "start_time": "2024-07-13T11:23:03.718071Z"
    },
    "execution": {
     "iopub.status.busy": "2024-07-14T15:43:25.612398Z",
     "iopub.execute_input": "2024-07-14T15:43:25.612707Z",
     "iopub.status.idle": "2024-07-14T15:43:25.631782Z",
     "shell.execute_reply.started": "2024-07-14T15:43:25.612685Z",
     "shell.execute_reply": "2024-07-14T15:43:25.630693Z"
    },
    "trusted": true
   },
   "execution_count": 18,
   "outputs": []
  },
  {
   "cell_type": "markdown",
   "source": [
    "Будем использовать данный метод для генерации продолжения текста."
   ],
   "metadata": {
    "id": "S9A4k8SQfejY"
   }
  },
  {
   "cell_type": "markdown",
   "source": [
    "### Первый эксперимент (2 балла)\n",
    "\n",
    "Определите архитектуру модели и обучите её."
   ],
   "metadata": {
    "id": "hXmeyhBQmuq4"
   }
  },
  {
   "cell_type": "code",
   "source": [
    "class LanguageModel(nn.Module):\n",
    "    def __init__(\n",
    "            self, hidden_dim: int,\n",
    "            vocab_size: int,\n",
    "            dropout_part = 0.1,\n",
    "            rec_layers = 1,\n",
    "            rnn_type: str = 'rnn'\n",
    "    ):\n",
    "        super().__init__()\n",
    "        self.embedding = nn.Embedding(vocab_size, hidden_dim)\n",
    "\n",
    "        if rnn_type == 'rnn':\n",
    "            self.rnn = nn.RNN(hidden_dim, hidden_dim, batch_first=True, num_layers=rec_layers)\n",
    "        elif rnn_type == 'gru':\n",
    "            self.rnn = nn.GRU(hidden_dim, hidden_dim, batch_first=True, num_layers=rec_layers)\n",
    "        else: #'lstm'\n",
    "            self.rnn = nn.LSTM(hidden_dim, hidden_dim, batch_first=True, num_layers=rec_layers)\n",
    "\n",
    "        self.linear = nn.Linear(hidden_dim, hidden_dim)\n",
    "        self.projection = nn.Linear(hidden_dim, vocab_size)\n",
    "\n",
    "        self.non_lin = nn.Tanh()\n",
    "        self.dropout = nn.Dropout(p=dropout_part)\n",
    "\n",
    "    def forward(self, input_batch) -> torch.Tensor:\n",
    "        embeddings = self.embedding(input_batch)  # [batch_size, seq_len, hidden_dim]\n",
    "        output, _ = self.rnn(embeddings)  # [batch_size, seq_len, hidden_dim]\n",
    "\n",
    "        output = self.dropout(self.linear(self.non_lin(output)))  # [batch_size, seq_len, hidden_dim]\n",
    "        prediction = self.projection(self.non_lin(output))  # [batch_size, seq_len, vocab_size]\n",
    "\n",
    "        return prediction"
   ],
   "metadata": {
    "id": "qaWvqNJom0ij",
    "ExecuteTime": {
     "end_time": "2024-07-13T11:23:04.646876Z",
     "start_time": "2024-07-13T11:23:04.637947Z"
    },
    "execution": {
     "iopub.status.busy": "2024-07-14T15:43:25.643602Z",
     "iopub.execute_input": "2024-07-14T15:43:25.643993Z",
     "iopub.status.idle": "2024-07-14T15:43:25.654053Z",
     "shell.execute_reply.started": "2024-07-14T15:43:25.643961Z",
     "shell.execute_reply": "2024-07-14T15:43:25.653245Z"
    },
    "trusted": true
   },
   "execution_count": 20,
   "outputs": []
  },
  {
   "cell_type": "code",
   "source": [
    "def start_train(Model = LanguageModel, dropout_part=0.1, rec_layers=1, hidden_dim=256, epochs=5, rnn_type='rnn', freeze_threshold=0.5, freeze_max_number=3, print_logs=True):\n",
    "    model = Model(hidden_dim=hidden_dim, vocab_size=len(vocab), rec_layers=rec_layers, dropout_part=dropout_part, rnn_type=rnn_type).to(device)\n",
    "    criterion = nn.CrossEntropyLoss(ignore_index=word2ind['<pad>'])\n",
    "    optimizer = torch.optim.Adam(model.parameters())\n",
    "    lr_scheduler = torch.optim.lr_scheduler.ReduceLROnPlateau(optimizer, patience=10, factor=0.1)\n",
    "    return train_model(model, criterion, optimizer, lr_scheduler, train_dataloader, eval_dataloader, epochs=epochs, freeze_threshold=freeze_threshold, freeze_max_number=freeze_max_number, print_logs=print_logs)"
   ],
   "metadata": {
    "id": "TxbEzn5fnBOY",
    "ExecuteTime": {
     "end_time": "2024-07-13T11:23:05.188077Z",
     "start_time": "2024-07-13T11:23:05.180984Z"
    },
    "execution": {
     "iopub.status.busy": "2024-07-14T15:43:25.655006Z",
     "iopub.execute_input": "2024-07-14T15:43:25.655258Z",
     "iopub.status.idle": "2024-07-14T15:43:25.666223Z",
     "shell.execute_reply.started": "2024-07-14T15:43:25.655236Z",
     "shell.execute_reply": "2024-07-14T15:43:25.665205Z"
    },
    "trusted": true
   },
   "execution_count": 21,
   "outputs": []
  },
  {
   "cell_type": "markdown",
   "source": [
    "Вначале найдем оптимальные параметры для vanilla_RNN и LSTM: dropout_part, rec_layers, hidden_dim. А потом уже будем немного изменять архитектуру модельки. <br>\n",
    "У нас уже есть примерные представления о том, какие значения должны принимать эти параметры из предыдущего дз.\n",
    "Так что будем перебирать такие значения:\n",
    "dropout_part = [0.1, 0.2, 0.4]\n",
    "rec_layers = [1, 2] #Особо нет смысла рассматривать большие значения из-за затухания градиентов. Возможно, только для LSTM есть.\n",
    "hidden_dim = [256, 512]\n",
    "rnn_type = ['rnn', 'lstm'] #Все же интереснее всего самый экономный вариант и самый мощный"
   ],
   "metadata": {
    "id": "Kxz46CEg1p9c"
   }
  },
  {
   "cell_type": "code",
   "source": [
    "test_perplexity = {'rnn': {}, 'lstm': {}}\n",
    "\n",
    "test_perplexity['rnn'][0.1] = {}\n",
    "test_perplexity['rnn'][0.1][1] = {}\n",
    "test_perplexity['rnn'][0.1][2] = {}\n",
    "\n",
    "test_perplexity['rnn'][0.2] = {}\n",
    "test_perplexity['rnn'][0.2][1] = {}\n",
    "test_perplexity['rnn'][0.2][2] = {}\n",
    "\n",
    "test_perplexity['rnn'][0.4] = {}\n",
    "test_perplexity['rnn'][0.4][1] = {}\n",
    "test_perplexity['rnn'][0.4][2] = {}\n",
    "\n",
    "test_perplexity['lstm'][0.1] = {}\n",
    "test_perplexity['lstm'][0.1][1] = {}\n",
    "test_perplexity['lstm'][0.1][2] = {}\n",
    "\n",
    "test_perplexity['lstm'][0.2] = {}\n",
    "test_perplexity['lstm'][0.2][1] = {}\n",
    "test_perplexity['lstm'][0.2][2] = {}\n",
    "\n",
    "test_perplexity['lstm'][0.4] = {}\n",
    "test_perplexity['lstm'][0.4][1] = {}\n",
    "test_perplexity['lstm'][0.4][2] = {}"
   ],
   "metadata": {
    "id": "uv_pdnUD1p9c",
    "ExecuteTime": {
     "end_time": "2024-07-14T18:16:00.326057Z",
     "start_time": "2024-07-14T18:16:00.309250Z"
    }
   },
   "execution_count": 71,
   "outputs": []
  },
  {
   "cell_type": "code",
   "outputs": [
    {
     "output_type": "stream",
     "name": "stdout",
     "text": [
      "Start train with params: ['rnn'][0.100000][1][256]\n",
      "Best perplexity:  159.874759734623\n",
      "perplexities:  {'train': [1610.132506591797, 199.59512670898437, 152.37069152832032, 125.31514810180664, 107.16325946044923, 93.59684686279297, 82.50356063842773, 73.94502847290039, 66.8310627746582], 'val': [251.5723654126364, 194.51726713634673, 175.67146398150732, 170.98115660652283, 163.40848383827816, 159.874759734623, 162.004510183183, 164.0214326646593, 170.10645233638704]}\n",
      "losses:  {'train': [6.184928833007812, 5.288232511520386, 5.020551916122437, 4.825866231918335, 4.669937667846679, 4.53506795501709, 4.409301683425904, 4.300015670776367, 4.199089783668518], 'val': [tensor(5.4091, device='cuda:0'), tensor(5.1903, device='cuda:0'), tensor(5.0991, device='cuda:0'), tensor(5.0808, device='cuda:0'), tensor(5.0432, device='cuda:0'), tensor(5.0232, device='cuda:0'), tensor(5.0343, device='cuda:0'), tensor(5.0563, device='cuda:0'), tensor(5.1120, device='cuda:0')]}\n",
      "-----------------\n",
      "\n",
      "Start train with params: ['rnn'][0.100000][1][512]\n",
      "Best perplexity:  169.55081976027716\n",
      "perplexities:  {'train': [1005.7975414428711, 174.30148376464842, 128.2773703918457, 101.36030853271484, 83.29119868469239, 70.14553700256347, 60.046198150634766, 52.16624969482422], 'val': [226.7676023453001, 187.0852741059803, 174.30496385362414, 174.54634263780383, 169.55081976027716, 172.77678716750373, 181.28326694549077, 187.75594850570437]}\n",
      "losses:  {'train': [5.970881343841553, 5.15168883895874, 4.847559801101685, 4.613399402618408, 4.417952543258667, 4.246692714691162, 4.091627200126648, 3.951265640258789], 'val': [tensor(5.2941, device='cuda:0'), tensor(5.1349, device='cuda:0'), tensor(5.0849, device='cuda:0'), tensor(5.0581, device='cuda:0'), tensor(5.0202, device='cuda:0'), tensor(5.0447, device='cuda:0'), tensor(5.0817, device='cuda:0'), tensor(5.1196, device='cuda:0')]}\n",
      "-----------------\n",
      "\n",
      "Start train with params: ['rnn'][0.100000][2][256]\n",
      "Best perplexity:  168.334224640377\n",
      "perplexities:  {'train': [1359.5022025146484, 213.89811535644532, 161.3138200378418, 134.02482891845702, 116.39519390869141, 102.60681274414063, 91.49619030761718, 82.17572425842285, 75.18663200378418, 69.59143257141113], 'val': [275.29158867730035, 203.79640367296008, 182.48130628797742, 172.7555686102973, 174.98126705109127, 172.1243207416837, 168.334224640377, 171.98209320552766, 182.41436246841673, 187.44569893488807]}\n",
      "losses:  {'train': [6.250710063934326, 5.356516069412232, 5.077461263656616, 4.893020683288574, 4.752571413040161, 4.626899112701416, 4.512581577301026, 4.405344945907593, 4.316855237960816, 4.239725568771362], 'val': [tensor(5.4966, device='cuda:0'), tensor(5.2275, device='cuda:0'), tensor(5.1120, device='cuda:0'), tensor(5.0700, device='cuda:0'), tensor(5.0707, device='cuda:0'), tensor(5.0580, device='cuda:0'), tensor(5.0315, device='cuda:0'), tensor(5.0376, device='cuda:0'), tensor(5.0893, device='cuda:0'), tensor(5.1058, device='cuda:0')]}\n",
      "-----------------\n",
      "\n",
      "Start train with params: ['rnn'][0.100000][2][512]\n",
      "Best perplexity:  177.21893056233725\n",
      "perplexities:  {'train': [892.9602380981445, 171.9182887573242, 130.35546377563477, 105.00493713378906, 88.3891323852539, 76.39309263610839, 67.22085140991211], 'val': [213.95507303873697, 187.65843249124194, 178.4889609927223, 177.21893056233725, 184.67120252336775, 190.17796216692244, 196.2440651787652]}\n",
      "losses:  {'train': [5.9326668567657475, 5.139126459121704, 4.863912103652954, 4.648840709686279, 4.477401807785034, 4.331802139282226, 4.204321245193482], 'val': [tensor(5.2253, device='cuda:0'), tensor(5.1243, device='cuda:0'), tensor(5.1017, device='cuda:0'), tensor(5.0951, device='cuda:0'), tensor(5.1324, device='cuda:0'), tensor(5.1549, device='cuda:0'), tensor(5.1981, device='cuda:0')]}\n",
      "-----------------\n",
      "\n",
      "Start train with params: ['rnn'][0.200000][1][256]\n",
      "Best perplexity:  176.18194713289776\n",
      "perplexities:  {'train': [1567.8525446777344, 217.55205920410157, 165.5643288269043, 137.74530899047852, 118.74845126342774, 104.49698080444335, 93.41073571777343, 84.41220901489258, 76.98805702209472, 70.52496662902833], 'val': [309.86988321940106, 226.3049594939701, 202.34252566382997, 187.07093048095703, 183.2813711015005, 177.97800627208892, 176.18194713289776, 180.80062599787635, 186.90777454678974, 195.11514318557013]}\n",
      "losses:  {'train': [6.243296686172485, 5.374094564437867, 5.103660060882568, 4.920451093673706, 4.772697378158569, 4.645287931442261, 4.533420068740845, 4.432342012405395, 4.34046576499939, 4.252917331695556], 'val': [tensor(5.6088, device='cuda:0'), tensor(5.3189, device='cuda:0'), tensor(5.2265, device='cuda:0'), tensor(5.1586, device='cuda:0'), tensor(5.1457, device='cuda:0'), tensor(5.1163, device='cuda:0'), tensor(5.1193, device='cuda:0'), tensor(5.1562, device='cuda:0'), tensor(5.1999, device='cuda:0'), tensor(5.2579, device='cuda:0')]}\n",
      "-----------------\n",
      "\n",
      "Start train with params: ['rnn'][0.200000][1][512]\n",
      "Best perplexity:  184.4963888743567\n",
      "perplexities:  {'train': [1013.9307683105469, 171.68663928222657, 125.86505615234375, 99.31966912841797, 81.92135246276855, 69.64915608215333, 59.86632501220703, 52.14712927246094], 'val': [237.58280605740018, 198.59796602763828, 186.53088500007752, 185.9609910268632, 184.4963888743567, 191.3252955845424, 203.23796493288071, 216.7713320293124]}\n",
      "losses:  {'train': [5.959790027618408, 5.136677135467529, 4.828682512283325, 4.592961990356446, 4.40137732887268, 4.240016077041626, 4.088889517784119, 3.951030632019043], 'val': [tensor(5.3808, device='cuda:0'), tensor(5.2045, device='cuda:0'), tensor(5.1518, device='cuda:0'), tensor(5.1420, device='cuda:0'), tensor(5.1483, device='cuda:0'), tensor(5.1948, device='cuda:0'), tensor(5.2308, device='cuda:0'), tensor(5.2948, device='cuda:0')]}\n",
      "-----------------\n",
      "\n",
      "Start train with params: ['rnn'][0.200000][2][256]\n",
      "Best perplexity:  189.91951594277035\n",
      "perplexities:  {'train': [1379.7118197021484, 215.15512530517577, 165.06196466064452, 138.86956787109375, 121.28790252685548, 108.52873471069336, 98.30994692993164, 89.4745304260254, 82.38045544433594, 76.33939564514161], 'val': [296.4788399348183, 224.37774585542223, 202.28004043821304, 193.77922954256573, 194.86668807741196, 192.7324480329241, 192.8483428955078, 189.91951594277035, 203.66405038984996, 209.07875206356957]}\n",
      "losses:  {'train': [6.240832818984986, 5.362991539001465, 5.100808397293091, 4.928670751571655, 4.793840883255005, 4.68292148399353, 4.5842604846954345, 4.490340831756591, 4.408045345306396, 4.332146697998047], 'val': [tensor(5.5585, device='cuda:0'), tensor(5.3185, device='cuda:0'), tensor(5.2116, device='cuda:0'), tensor(5.1668, device='cuda:0'), tensor(5.1889, device='cuda:0'), tensor(5.1891, device='cuda:0'), tensor(5.1941, device='cuda:0'), tensor(5.1814, device='cuda:0'), tensor(5.2282, device='cuda:0'), tensor(5.2641, device='cuda:0')]}\n",
      "-----------------\n",
      "\n",
      "Start train with params: ['rnn'][0.200000][2][512]\n",
      "Best perplexity:  194.1153813922216\n",
      "perplexities:  {'train': [939.0971286010742, 173.2991321411133, 130.70554376220704, 105.49881704711915, 88.29995184326172, 75.81746061706544, 65.82263789367676], 'val': [231.21902272057912, 202.549800327846, 200.67479257734996, 194.1153813922216, 198.143070281498, 216.11697193932912, 231.47292097788008]}\n",
      "losses:  {'train': [5.9668554706573484, 5.146479351043701, 4.86667123413086, 4.653262535095215, 4.476193613052368, 4.324445756912231, 4.183536247253418], 'val': [tensor(5.3471, device='cuda:0'), tensor(5.2095, device='cuda:0'), tensor(5.2076, device='cuda:0'), tensor(5.1734, device='cuda:0'), tensor(5.1871, device='cuda:0'), tensor(5.2666, device='cuda:0'), tensor(5.3525, device='cuda:0')]}\n",
      "-----------------\n",
      "\n",
      "Start train with params: ['rnn'][0.400000][1][256]\n",
      "Best perplexity:  266.9238099597749\n",
      "perplexities:  {'train': [1811.20808013916, 216.84437628173828, 170.03323492431642, 145.01247497558595, 128.13292974853516, 115.14156121826171, 104.84035397338867, 96.25914880371094, 89.13126473999023, 82.82744125366212], 'val': [487.9642702132937, 332.2647276378813, 296.41426328628785, 276.9159608871218, 284.94107443188864, 280.338869125124, 266.9238099597749, 272.9202493334573, 295.06368945893786, 324.8798530215309]}\n",
      "losses:  {'train': [6.26595097541809, 5.3715992908477785, 5.130714483261109, 4.972252155303955, 4.84886065864563, 4.742322366714477, 4.6489558582305905, 4.563618249893189, 4.486933191299438, 4.413670064926148], 'val': [tensor(6.0536, device='cuda:0'), tensor(5.7068, device='cuda:0'), tensor(5.6196, device='cuda:0'), tensor(5.5695, device='cuda:0'), tensor(5.5964, device='cuda:0'), tensor(5.6005, device='cuda:0'), tensor(5.5663, device='cuda:0'), tensor(5.5798, device='cuda:0'), tensor(5.6729, device='cuda:0'), tensor(5.7724, device='cuda:0')]}\n",
      "-----------------\n",
      "\n",
      "Start train with params: ['rnn'][0.400000][1][512]\n",
      "Best perplexity:  311.4139864482577\n",
      "perplexities:  {'train': [1163.1157236328124, 184.77112557983398, 139.89261584472655, 114.00708969116211, 96.23445797729492, 83.19587089538574, 72.89630667114258, 65.20418637084961], 'val': [477.8404323032924, 328.2784196157304, 323.3016434926835, 341.3772495814732, 311.4139864482577, 322.4661220974392, 360.4825635637556, 396.0206267341735]}\n",
      "losses:  {'train': [6.002992336273193, 5.211003345489502, 4.93499790763855, 4.731369132995606, 4.562449352264404, 4.417490165710449, 4.285758113861084, 4.174394214630127], 'val': [tensor(6.0300, device='cuda:0'), tensor(5.6932, device='cuda:0'), tensor(5.6760, device='cuda:0'), tensor(5.7271, device='cuda:0'), tensor(5.6451, device='cuda:0'), tensor(5.6888, device='cuda:0'), tensor(5.7709, device='cuda:0'), tensor(5.8585, device='cuda:0')]}\n",
      "-----------------\n",
      "\n",
      "Start train with params: ['rnn'][0.400000][2][256]\n",
      "Best perplexity:  320.2798076811291\n",
      "perplexities:  {'train': [1604.403345336914, 245.42750231933593, 183.41712811279297, 155.44119424438477, 137.54358639526367, 124.15192715454101, 113.33973657226562, 104.69650030517577, 97.41064904785156], 'val': [579.9995814732143, 407.37378075009303, 350.47897653731087, 334.93473186190164, 339.89094712999133, 320.2798076811291, 321.7881818498884, 362.13025459410653, 374.2355184403677]}\n",
      "losses:  {'train': [6.420868282318115, 5.4929214935302735, 5.2063061752319335, 5.041512975692749, 4.919615161895752, 4.817462236404419, 4.7266217918396, 4.6474110622406, 4.575313453674316], 'val': [tensor(6.1948, device='cuda:0'), tensor(5.8808, device='cuda:0'), tensor(5.7344, device='cuda:0'), tensor(5.7062, device='cuda:0'), tensor(5.7434, device='cuda:0'), tensor(5.6887, device='cuda:0'), tensor(5.7006, device='cuda:0'), tensor(5.8082, device='cuda:0'), tensor(5.8397, device='cuda:0')]}\n",
      "-----------------\n",
      "\n",
      "Start train with params: ['rnn'][0.400000][2][512]\n",
      "Best perplexity:  376.97877139136904\n",
      "perplexities:  {'train': [1026.1280958862305, 194.53251159667968, 148.60250735473633, 123.43445611572265, 105.81948156738281, 92.88827740478516, 82.58264416503906, 74.14678579711914], 'val': [477.47781711154516, 392.0489642430866, 376.97877139136904, 387.5398622543093, 379.33934020996094, 405.2522917247954, 459.37271796332465, 491.9645734514509]}\n",
      "losses:  {'train': [6.095547561645508, 5.262225448608398, 4.995434122085571, 4.810595727920532, 4.657193458557129, 4.527351043701172, 4.410202585220337, 4.302558046340942], 'val': [tensor(6.0565, device='cuda:0'), tensor(5.8858, device='cuda:0'), tensor(5.8533, device='cuda:0'), tensor(5.8886, device='cuda:0'), tensor(5.8618, device='cuda:0'), tensor(5.9034, device='cuda:0'), tensor(6.0595, device='cuda:0'), tensor(6.1407, device='cuda:0')]}\n",
      "-----------------\n",
      "\n",
      "Start train with params: ['lstm'][0.100000][1][256]\n",
      "Best perplexity:  155.176517062717\n",
      "perplexities:  {'train': [1792.8456799926757, 217.7865124511719, 162.54870983886718, 133.8809380493164, 113.55759078979492, 97.92765783691407, 85.4558352355957, 75.2743605041504, 66.82955474853516], 'val': [285.54007103329616, 203.41808549184648, 178.58726586235895, 165.401487199087, 157.474605499752, 155.176517062717, 155.7632343352787, 158.24386415027436, 162.88294074648903]}\n",
      "losses:  {'train': [6.311444923400879, 5.373770122528076, 5.085067087173462, 4.891827671051026, 4.7278233222961425, 4.580196157455444, 4.444220979690551, 4.317658151626587, 4.198868341445923], 'val': [tensor(5.5234, device='cuda:0'), tensor(5.2155, device='cuda:0'), tensor(5.0887, device='cuda:0'), tensor(5.0107, device='cuda:0'), tensor(4.9702, device='cuda:0'), tensor(4.9619, device='cuda:0'), tensor(4.9684, device='cuda:0'), tensor(4.9858, device='cuda:0'), tensor(5.0143, device='cuda:0')]}\n",
      "-----------------\n",
      "\n",
      "Start train with params: ['lstm'][0.100000][1][512]\n",
      "Best perplexity:  149.48270319378565\n",
      "perplexities:  {'train': [1136.7950721435548, 161.16088272094726, 115.24577407836914, 87.77446743774414, 67.94510124206543, 52.98742037963867, 41.80012297058106], 'val': [210.09368460518974, 164.42174094063895, 151.71707710387216, 149.48270319378565, 153.17242237878224, 166.55900016663566, 193.69651770213292]}\n",
      "losses:  {'train': [5.984872016906738, 5.072342596054077, 4.739468574523926, 4.4683150234222415, 4.212901411056518, 3.9647837438583373, 3.727905731201172], 'val': [tensor(5.2674, device='cuda:0'), tensor(5.0244, device='cuda:0'), tensor(4.9524, device='cuda:0'), tensor(4.9423, device='cuda:0'), tensor(4.9650, device='cuda:0'), tensor(5.0332, device='cuda:0'), tensor(5.1563, device='cuda:0')]}\n",
      "-----------------\n",
      "\n",
      "Start train with params: ['lstm'][0.100000][2][256]\n",
      "Best perplexity:  176.67687915620348\n",
      "perplexities:  {'train': [1834.414798828125, 457.2592456054688, 294.28415106201174, 204.9549556274414, 166.35853356933595, 142.71527432250977, 125.20048464965821, 110.93138922119141, 98.81129135131836, 88.98552496337891], 'val': [595.264167906746, 398.60936579628594, 265.239508977012, 216.52513921828498, 196.09686594160777, 185.31759038047184, 179.6747551569863, 176.67687915620348, 177.52854846772692, 180.6056617857918]}\n",
      "losses:  {'train': [6.710794719696045, 6.117131446838379, 5.673324184417725, 5.316433776855469, 5.109159696578979, 4.956350811004639, 4.825598400115966, 4.704859447479248, 4.5894192123413085, 4.484940860748291], 'val': [tensor(6.2878, device='cuda:0'), tensor(5.8632, device='cuda:0'), tensor(5.4540, device='cuda:0'), tensor(5.2756, device='cuda:0'), tensor(5.1806, device='cuda:0'), tensor(5.1327, device='cuda:0'), tensor(5.0986, device='cuda:0'), tensor(5.0784, device='cuda:0'), tensor(5.0841, device='cuda:0'), tensor(5.1032, device='cuda:0')]}\n",
      "-----------------\n",
      "\n",
      "Start train with params: ['lstm'][0.100000][2][512]\n",
      "Best perplexity:  187.93485005696616\n",
      "perplexities:  {'train': [1339.2219362792969, 473.42521252441406, 292.07598413085935, 210.66909747314452, 159.2279365234375, 125.3877006225586, 102.41927005004882, 86.09221676635742, 74.4617642364502], 'val': [584.9548872690352, 415.8562515500992, 276.77322169712613, 215.3069828578404, 192.79127526661708, 188.09601411365327, 187.93485005696616, 194.57581971183654, 203.48672993977866]}\n",
      "losses:  {'train': [6.615381301879883, 6.151031587600708, 5.665477462768555, 5.3425804672241215, 5.063106294631958, 4.825431011199951, 4.623963388442993, 4.451059225082397, 4.306517225265503], 'val': [tensor(6.2124, device='cuda:0'), tensor(5.8672, device='cuda:0'), tensor(5.4827, device='cuda:0'), tensor(5.2685, device='cuda:0'), tensor(5.1746, device='cuda:0'), tensor(5.1539, device='cuda:0'), tensor(5.1427, device='cuda:0'), tensor(5.1812, device='cuda:0'), tensor(5.2548, device='cuda:0')]}\n",
      "-----------------\n",
      "\n",
      "Start train with params: ['lstm'][0.200000][1][256]\n",
      "Best perplexity:  164.81826479472812\n",
      "perplexities:  {'train': [1867.5492505493164, 216.4042091064453, 163.17030853271484, 135.20925204467773, 115.31547534179687, 100.1012691040039, 87.8709659729004, 77.80803067016602], 'val': [303.65067811996215, 210.1638919890873, 184.69829547216023, 171.29253883967323, 164.81826479472812, 166.47725277855284, 171.29095337882873, 175.9447958809989]}\n",
      "losses:  {'train': [6.301147455215454, 5.368214654922485, 5.089118883132935, 4.901803722381592, 4.74317437171936, 4.602074457168579, 4.472138206481934, 4.3508253784179685], 'val': [tensor(5.5670, device='cuda:0'), tensor(5.2416, device='cuda:0'), tensor(5.1311, device='cuda:0'), tensor(5.0666, device='cuda:0'), tensor(5.0298, device='cuda:0'), tensor(5.0461, device='cuda:0'), tensor(5.0727, device='cuda:0'), tensor(5.1155, device='cuda:0')]}\n",
      "-----------------\n",
      "\n",
      "Start train with params: ['lstm'][0.200000][1][512]\n",
      "Best perplexity:  158.8757042052254\n",
      "perplexities:  {'train': [1148.900338256836, 169.42217749023436, 122.64579244995117, 94.16599682617188, 73.64111238098144, 58.28770399475098, 46.75523559570313], 'val': [235.61800009106832, 179.9147964961945, 162.2396459428091, 158.8757042052254, 162.7747797890315, 172.863887120807, 200.52454703194755]}\n",
      "losses:  {'train': [6.01582098197937, 5.122891756057739, 4.80235343170166, 4.539109434127807, 4.293967091560364, 4.060616082191467, 3.8405602951049804], 'val': [tensor(5.3453, device='cuda:0'), tensor(5.0730, device='cuda:0'), tensor(4.9674, device='cuda:0'), tensor(4.9595, device='cuda:0'), tensor(4.9834, device='cuda:0'), tensor(5.0170, device='cuda:0'), tensor(5.1281, device='cuda:0')]}\n",
      "-----------------\n",
      "\n",
      "Start train with params: ['lstm'][0.200000][2][256]\n",
      "Best perplexity:  195.22609189956907\n",
      "perplexities:  {'train': [1864.7778840332032, 560.8472535400391, 394.33365869140624, 271.5375115966797, 208.29195672607423, 172.67316870117187, 148.006842376709, 129.10929159545898, 114.1601887512207, 102.0438740234375], 'val': [838.8191392686632, 594.8761509486607, 417.37224954272074, 316.8318621923053, 242.0810844784691, 220.81946914915054, 204.67151629735554, 195.22609189956907, 196.75660196940103, 201.59202575683594]}\n",
      "losses:  {'train': [6.740143564224243, 6.3231921367645265, 5.970798456192017, 5.596384679794311, 5.333189525604248, 5.146383697509766, 4.992416316986084, 4.856230171203613, 4.733421373367309, 4.621454057693481], 'val': [tensor(6.6280, device='cuda:0'), tensor(6.2308, device='cuda:0'), tensor(5.8726, device='cuda:0'), tensor(5.5961, device='cuda:0'), tensor(5.3732, device='cuda:0'), tensor(5.2763, device='cuda:0'), tensor(5.2028, device='cuda:0'), tensor(5.1697, device='cuda:0'), tensor(5.1777, device='cuda:0'), tensor(5.2001, device='cuda:0')]}\n",
      "-----------------\n",
      "\n",
      "Start train with params: ['lstm'][0.200000][2][512]\n",
      "Best perplexity:  192.73342495872862\n",
      "perplexities:  {'train': [1304.5501381835938, 418.01512353515625, 274.6271370239258, 187.62720956420898, 141.0950993347168, 112.25482034301758, 91.98803616333008, 76.77709260559082, 65.06947857666016], 'val': [641.8169855995784, 419.8033902607267, 276.4141608344184, 210.15575396825398, 199.45985654800657, 192.73342495872862, 197.13375563848587, 207.15909976050966, 229.56555539085753]}\n",
      "losses:  {'train': [6.531020427703857, 6.0271849384307865, 5.605516502380371, 5.226234680175781, 4.943349578857422, 4.7153657417297365, 4.516561744689941, 4.33635605430603, 4.171240601539612], 'val': [tensor(6.2910, device='cuda:0'), tensor(5.8769, device='cuda:0'), tensor(5.4950, device='cuda:0'), tensor(5.2467, device='cuda:0'), tensor(5.1859, device='cuda:0'), tensor(5.1714, device='cuda:0'), tensor(5.2044, device='cuda:0'), tensor(5.2616, device='cuda:0'), tensor(5.3637, device='cuda:0')]}\n",
      "-----------------\n",
      "\n",
      "Start train with params: ['lstm'][0.400000][1][256]\n",
      "Best perplexity:  220.2543717641679\n",
      "perplexities:  {'train': [1928.180894897461, 261.8197774658203, 189.90639361572266, 156.2055969848633, 134.2292225036621, 117.74117764282227, 104.8322631225586, 94.16368548583985, 85.15174099731445], 'val': [761.5011431981646, 360.882337055509, 270.1031038798983, 238.41656494140625, 226.62407769097223, 220.2543717641679, 227.99096171061197, 248.2250688340929, 261.3207002670046]}\n",
      "losses:  {'train': [6.436782516479492, 5.556800973892212, 5.240679456710815, 5.046295631408691, 4.894949655532837, 4.76435613822937, 4.648515077590942, 4.541413656234742, 4.440880750656128], 'val': [tensor(6.4323, device='cuda:0'), tensor(5.7262, device='cuda:0'), tensor(5.4764, device='cuda:0'), tensor(5.3787, device='cuda:0'), tensor(5.3413, device='cuda:0'), tensor(5.3255, device='cuda:0'), tensor(5.3594, device='cuda:0'), tensor(5.4563, device='cuda:0'), tensor(5.5154, device='cuda:0')]}\n",
      "-----------------\n",
      "\n",
      "Start train with params: ['lstm'][0.400000][1][512]\n",
      "Best perplexity:  204.60145835270959\n",
      "perplexities:  {'train': [1248.5670142822266, 181.03048471069337, 130.56448858642577, 101.78364663696289, 81.33608135986329, 65.45202096557617, 53.10449702453613], 'val': [418.54349190848217, 238.5399150545635, 211.0136028471447, 204.60145835270959, 224.62550547766307, 273.1781560504247, 336.32032461015007]}\n",
      "losses:  {'train': [6.092940984725952, 5.1890411281585695, 4.865282201766968, 4.617366952896118, 4.393624015808106, 4.17679563331604, 3.9680614471435547], 'val': [tensor(5.8823, device='cuda:0'), tensor(5.3612, device='cuda:0'), tensor(5.2526, device='cuda:0'), tensor(5.2188, device='cuda:0'), tensor(5.2902, device='cuda:0'), tensor(5.4619, device='cuda:0'), tensor(5.6522, device='cuda:0')]}\n",
      "-----------------\n",
      "\n",
      "Start train with params: ['lstm'][0.400000][2][256]\n",
      "Best perplexity:  271.27101135253906\n",
      "perplexities:  {'train': [1969.4631901855469, 506.15128771972655, 400.35462512207033, 286.0024064331055, 205.5171242675781, 168.47161791992187, 144.59240866088868, 127.6016423034668, 113.81341830444336, 102.59077075195313], 'val': [1653.4990835038443, 1171.5201997302827, 900.6508759998139, 402.95198906792535, 332.1011238703652, 290.95118664938303, 271.27101135253906, 272.1250687856523, 292.8611246744792, 322.7863331143818]}\n",
      "losses:  {'train': [6.7228184356689455, 6.222716915130615, 5.987597089767456, 5.645523895263672, 5.319505155563355, 5.121737230300903, 4.969391164779663, 4.844699769973755, 4.730531070709229, 4.626909278869629], 'val': [tensor(7.2781, device='cuda:0'), tensor(6.9306, device='cuda:0'), tensor(6.6598, device='cuda:0'), tensor(5.8922, device='cuda:0'), tensor(5.6722, device='cuda:0'), tensor(5.5471, device='cuda:0'), tensor(5.4903, device='cuda:0'), tensor(5.4958, device='cuda:0'), tensor(5.5655, device='cuda:0'), tensor(5.6470, device='cuda:0')]}\n",
      "-----------------\n",
      "\n",
      "Start train with params: ['lstm'][0.400000][2][512]\n",
      "Best perplexity:  263.71478562127976\n",
      "perplexities:  {'train': [1418.9056330566407, 560.6619307861328, 452.728025390625, 363.19299279785156, 240.85036572265625, 161.03109045410156, 124.94985299682617, 101.09868701171875, 84.09426298522949, 70.9215059967041], 'val': [1711.3169720362102, 1554.8863263811384, 1229.1953425331722, 793.5464613172743, 333.75506688678075, 266.3419734409877, 263.71478562127976, 265.0293692936973, 357.15116204155817, 420.1195564875527]}\n",
      "losses:  {'train': [6.638936351776123, 6.3263697357177735, 6.1106389656066895, 5.890025764465332, 5.468188753128052, 5.074127090454102, 4.8220019512176515, 4.610930505752563, 4.427325094223023, 4.257353988647461], 'val': [tensor(7.2994, device='cuda:0'), tensor(7.1893, device='cuda:0'), tensor(6.9236, device='cuda:0'), tensor(6.5003, device='cuda:0'), tensor(5.6828, device='cuda:0'), tensor(5.4759, device='cuda:0'), tensor(5.5024, device='cuda:0'), tensor(5.5338, device='cuda:0'), tensor(5.8463, device='cuda:0'), tensor(6.0107, device='cuda:0')]}\n",
      "-----------------\n"
     ]
    }
   ],
   "source": [
    "for rnn_type in ['rnn', 'lstm']:\n",
    "    for dropout_part in [0.1, 0.2, 0.4]:\n",
    "        for rec_layers in [1, 2]:\n",
    "            for hidden_dim in [256, 512]:\n",
    "                print('Start train with params: [\\'%s\\'][%f][%d][%d]' % (rnn_type, dropout_part, rec_layers, hidden_dim))\n",
    "                _, _, test_perplexity[rnn_type][dropout_part][rec_layers][hidden_dim] = start_train(rnn_type=rnn_type, dropout_part=dropout_part, rec_layers=rec_layers, hidden_dim=hidden_dim, print_logs=False, epochs=10)\n",
    "                print(\"-----------------\")\n",
    "                print()"
   ],
   "metadata": {
    "collapsed": false
   },
   "execution_count": 22
  },
  {
   "cell_type": "markdown",
   "source": [
    "Вот полученные результаты"
   ],
   "metadata": {
    "collapsed": false
   }
  },
  {
   "cell_type": "code",
   "outputs": [],
   "source": [
    "test_perplexity['rnn'][0.100000][1][256] = [251.5723654126364, 194.51726713634673, 175.67146398150732, 170.98115660652283, 163.40848383827816, 159.874759734623, 162.004510183183, 164.0214326646593, 170.10645233638704]\n",
    "test_perplexity['rnn'][0.100000][1][512] = [226.7676023453001, 187.0852741059803, 174.30496385362414, 174.54634263780383, 169.55081976027716, 172.77678716750373, 181.28326694549077, 187.75594850570437]\n",
    "test_perplexity['rnn'][0.100000][2][256] = [275.29158867730035, 203.79640367296008, 182.48130628797742, 172.7555686102973, 174.98126705109127, 172.1243207416837, 168.334224640377, 171.98209320552766, 182.41436246841673, 187.44569893488807]\n",
    "test_perplexity['rnn'][0.100000][2][512] = [213.95507303873697, 187.65843249124194, 178.4889609927223, 177.21893056233725, 184.67120252336775, 190.17796216692244, 196.2440651787652]\n",
    "test_perplexity['rnn'][0.200000][1][256] = [309.86988321940106, 226.3049594939701, 202.34252566382997, 187.07093048095703, 183.2813711015005, 177.97800627208892, 176.18194713289776, 180.80062599787635, 186.90777454678974, 195.11514318557013]\n",
    "test_perplexity['rnn'][0.200000][1][512] = [237.58280605740018, 198.59796602763828, 186.53088500007752, 185.9609910268632, 184.4963888743567, 191.3252955845424, 203.23796493288071, 216.7713320293124]\n",
    "test_perplexity['rnn'][0.200000][2][256] = [296.4788399348183, 224.37774585542223, 202.28004043821304, 193.77922954256573, 194.86668807741196, 192.7324480329241, 192.8483428955078, 189.91951594277035, 203.66405038984996, 209.07875206356957]\n",
    "test_perplexity['rnn'][0.200000][2][512] = [231.21902272057912, 202.549800327846, 200.67479257734996, 194.1153813922216, 198.143070281498, 216.11697193932912, 231.47292097788008]\n",
    "test_perplexity['rnn'][0.400000][1][256] = [487.9642702132937, 332.2647276378813, 296.41426328628785, 276.9159608871218, 284.94107443188864, 280.338869125124, 266.9238099597749, 272.9202493334573, 295.06368945893786, 324.8798530215309]\n",
    "test_perplexity['rnn'][0.400000][1][512] = [477.8404323032924, 328.2784196157304, 323.3016434926835, 341.3772495814732, 311.4139864482577, 322.4661220974392, 360.4825635637556, 396.0206267341735]\n",
    "test_perplexity['rnn'][0.400000][2][256] = [579.9995814732143, 407.37378075009303, 350.47897653731087, 334.93473186190164, 339.89094712999133, 320.2798076811291, 321.7881818498884, 362.13025459410653, 374.2355184403677]\n",
    "test_perplexity['rnn'][0.400000][2][512] = [477.47781711154516, 392.0489642430866, 376.97877139136904, 387.5398622543093, 379.33934020996094, 405.2522917247954, 459.37271796332465, 491.9645734514509]\n",
    "test_perplexity['lstm'][0.100000][1][256] = [285.54007103329616, 203.41808549184648, 178.58726586235895, 165.401487199087, 157.474605499752, 155.176517062717, 155.7632343352787, 158.24386415027436, 162.88294074648903]\n",
    "test_perplexity['lstm'][0.100000][1][512] = [210.09368460518974, 164.42174094063895, 151.71707710387216, 149.48270319378565, 153.17242237878224, 166.55900016663566, 193.69651770213292]\n",
    "test_perplexity['lstm'][0.100000][2][256] = [595.264167906746, 398.60936579628594, 265.239508977012, 216.52513921828498, 196.09686594160777, 185.31759038047184, 179.6747551569863, 176.67687915620348, 177.52854846772692, 180.6056617857918]\n",
    "test_perplexity['lstm'][0.100000][2][512] = [584.9548872690352, 415.8562515500992, 276.77322169712613, 215.3069828578404, 192.79127526661708, 188.09601411365327, 187.93485005696616, 194.57581971183654, 203.48672993977866]\n",
    "test_perplexity['lstm'][0.200000][1][256] = [303.65067811996215, 210.1638919890873, 184.69829547216023, 171.29253883967323, 164.81826479472812, 166.47725277855284, 171.29095337882873, 175.9447958809989]\n",
    "test_perplexity['lstm'][0.200000][1][512] = [235.61800009106832, 179.9147964961945, 162.2396459428091, 158.8757042052254, 162.7747797890315, 172.863887120807, 200.52454703194755]\n",
    "test_perplexity['lstm'][0.200000][2][256] = [838.8191392686632, 594.8761509486607, 417.37224954272074, 316.8318621923053, 242.0810844784691, 220.81946914915054, 204.67151629735554, 195.22609189956907, 196.75660196940103, 201.59202575683594]\n",
    "test_perplexity['lstm'][0.200000][2][512] = [641.8169855995784, 419.8033902607267, 276.4141608344184, 210.15575396825398, 199.45985654800657, 192.73342495872862, 197.13375563848587, 207.15909976050966, 229.56555539085753]\n",
    "test_perplexity['lstm'][0.400000][1][256] = [761.5011431981646, 360.882337055509, 270.1031038798983, 238.41656494140625, 226.62407769097223, 220.2543717641679, 227.99096171061197, 248.2250688340929, 261.3207002670046]\n",
    "test_perplexity['lstm'][0.400000][1][512] = [418.54349190848217, 238.5399150545635, 211.0136028471447, 204.60145835270959, 224.62550547766307, 273.1781560504247, 336.32032461015007]\n",
    "test_perplexity['lstm'][0.400000][2][256] = [1653.4990835038443, 1171.5201997302827, 900.6508759998139, 402.95198906792535, 332.1011238703652, 290.95118664938303, 271.27101135253906, 272.1250687856523, 292.8611246744792, 322.7863331143818]\n",
    "test_perplexity['lstm'][0.400000][2][512] = [1711.3169720362102, 1554.8863263811384, 1229.1953425331722, 793.5464613172743, 333.75506688678075, 266.3419734409877, 263.71478562127976, 265.0293692936973, 357.15116204155817, 420.1195564875527]"
   ],
   "metadata": {
    "collapsed": false,
    "ExecuteTime": {
     "end_time": "2024-07-14T18:16:02.582057Z",
     "start_time": "2024-07-14T18:16:02.560482Z"
    }
   },
   "execution_count": 72
  },
  {
   "cell_type": "code",
   "outputs": [
    {
     "data": {
      "text/plain": "<Figure size 640x480 with 1 Axes>",
      "image/png": "[encoded data removed]"
     },
     "metadata": {},
     "output_type": "display_data"
    }
   ],
   "source": [
    "plt.title('vanilla rnn training', fontsize=20)\n",
    "for ind1 in test_perplexity['rnn']:\n",
    "    for ind2 in test_perplexity['rnn'][ind1]:\n",
    "        for ind3 in test_perplexity['rnn'][ind1][ind2]:\n",
    "            plt.plot(test_perplexity['rnn'][ind1][ind2][ind3], label='[%2.1f][%d][%d]' % (ind1, ind2, ind3))\n",
    "            \n",
    "plt.legend()\n",
    "plt.show()"
   ],
   "metadata": {
    "collapsed": false,
    "ExecuteTime": {
     "end_time": "2024-07-14T18:30:17.016219Z",
     "start_time": "2024-07-14T18:30:16.699993Z"
    }
   },
   "execution_count": 85
  },
  {
   "cell_type": "code",
   "outputs": [
    {
     "data": {
      "text/plain": "<Figure size 640x480 with 1 Axes>",
      "image/png": "[encoded data removed]"
     },
     "metadata": {},
     "output_type": "display_data"
    }
   ],
   "source": [
    "plt.title('lstm training', fontsize=20)\n",
    "plt.xlabel('epochs', fontsize=14)\n",
    "plt.ylabel('perplexity', fontsize=14)\n",
    "\n",
    "for ind1 in test_perplexity['lstm']:\n",
    "    for ind2 in test_perplexity['lstm'][ind1]:\n",
    "        for ind3 in test_perplexity['lstm'][ind1][ind2]:\n",
    "            plt.plot(test_perplexity['lstm'][ind1][ind2][ind3], label='[%2.1f][%d][%d]' % (ind1, ind2, ind3))\n",
    "\n",
    "plt.legend()\n",
    "plt.show()"
   ],
   "metadata": {
    "collapsed": false,
    "ExecuteTime": {
     "end_time": "2024-07-14T18:36:06.653809Z",
     "start_time": "2024-07-14T18:36:06.363055Z"
    }
   },
   "execution_count": 87
  },
  {
   "cell_type": "markdown",
   "source": [
    "По графикам видно, что все обучилось до сходимости"
   ],
   "metadata": {
    "collapsed": false
   }
  },
  {
   "cell_type": "markdown",
   "source": [
    "Теперь построим графики лучших результатов"
   ],
   "metadata": {
    "collapsed": false
   }
  },
  {
   "cell_type": "code",
   "outputs": [],
   "source": [
    "def approx_y(x, y):\n",
    "    p = np.polyfit(x, y, 1)\n",
    "    return np.polyval(p, x)"
   ],
   "metadata": {
    "collapsed": false,
    "ExecuteTime": {
     "end_time": "2024-07-14T18:50:09.388917Z",
     "start_time": "2024-07-14T18:50:09.382109Z"
    }
   },
   "execution_count": 98
  },
  {
   "cell_type": "code",
   "outputs": [
    {
     "data": {
      "text/plain": "<Figure size 640x480 with 1 Axes>",
      "image/png": "[encoded data removed]"
     },
     "metadata": {},
     "output_type": "display_data"
    }
   ],
   "source": [
    "plt.title('Best perplexity for vanilla rnn', fontsize=18)\n",
    "plt.xlabel('(rec_layers, hidden_dim)', fontsize=14)\n",
    "plt.ylabel('perplexity', fontsize=14)\n",
    "plt.xticks(range(4), ['(1, 256)', '(1, 512)', '(2, 256)', '(2, 512)'])\n",
    "plt.plot(range(4), [159.9, 169.6, 168.3, 177.2], 'o', color = 'r', label = 'dropout_part = 0.1')\n",
    "plt.plot(range(4), approx_y(range(4), [159.9, 169.6, 168.3, 177.2]), '--', color = 'r')\n",
    "\n",
    "plt.plot(range(4), [176.2, 184.5, 189.9, 194.1], 'o', color = 'b', label = 'dropout_part = 0.2')\n",
    "plt.plot(range(4), approx_y(range(4), [176.2, 184.5, 189.9, 194.1]), '--', color = 'b')\n",
    "\n",
    "plt.plot(range(4), [266.9, 311.4, 320.3, 377], 'o', color = 'g', label = 'dropout_part = 0.4')\n",
    "plt.plot(range(4), approx_y(range(4), [266.9, 311.4, 320.3, 377]), '--', color = 'g')\n",
    "plt.legend()\n",
    "plt.show()"
   ],
   "metadata": {
    "collapsed": false,
    "ExecuteTime": {
     "end_time": "2024-07-14T18:53:28.692054Z",
     "start_time": "2024-07-14T18:53:28.503591Z"
    }
   },
   "execution_count": 103
  },
  {
   "cell_type": "markdown",
   "source": [
    "Видно, что качество уменьшается при увеличении rec_layers, hidden_dim и dropout_part. \n",
    "Почему это происходит?\n",
    "1.  С rec_layers все ясно: у нас и раньше было ухудшение качества при увеличении количества рекуррентных слоев из-за затухания градиента. \n",
    "Но есть еще один нюанс: так как мы берем не последний результат и считаем на нем градиент, а берем результаты с каждого момента времени, получается, что более ранние градиенты больше более поздних, из-за чего градиенты поздних слоев почти не учитываются. И отсюда получается забавный спецэффект, что у нас моделька учится начинать предложения, а заканчивать не особо учится. Понятно, что такой недостаток есть и у сети с 1 рекуррентным слоем, но тогда он не так сильно выражен.\n",
    "2.  dropout_part, как уточнялось в прошлом дз имеет смысл делать больше, пока хватает оставшейся информации, чтобы получать валидный ответ. То есть у нас процесс обучения замедляется и средний лосс в процессе обучения поднимается, но если мы не выкинули слишком много информации, то в итоге мы получим лучший результат благодаря тому, что информация будет лучше структуризирована в слое. Увы, но в данном случае мы видим, что dropout_part мы не можем увеличивать.\n",
    "3.  Интересно, что большой hidden_dim только делает хуже, хотя, казалось бы, чем больше можем запомнить информации, тем лучше. Ну как бы оно так, но это проявляется в том, что наша модель просто переобучается - падает в яму локального минимума, упираясь в свой предел из-за отсутствия глобальной памяти (то есть если бы была глобальная память, то модель выползла бы из ямы, пытаясь запомнить какие-то более глубокие взаимосвязи с контекстом, чтобы повысить общее качество, а наша модель на такое не способна). Вот бы жить в мире, где у нас есть глобальная память(((("
   ],
   "metadata": {
    "collapsed": false
   }
  },
  {
   "cell_type": "code",
   "outputs": [
    {
     "data": {
      "text/plain": "<Figure size 640x480 with 1 Axes>",
      "image/png": "[encoded data removed]"
     },
     "metadata": {},
     "output_type": "display_data"
    }
   ],
   "source": [
    "plt.title('Best perplexity for lstm', fontsize=18)\n",
    "plt.xlabel('(rec_layers, hidden_dim)', fontsize=14)\n",
    "plt.ylabel('perplexity', fontsize=14)\n",
    "plt.xticks(range(4), ['(1, 256)', '(1, 512)', '(2, 256)', '(2, 512)'])\n",
    "plt.plot(range(4), [155.2, 149.5, 176.7, 187.9], 'o', color = 'r', label = 'dropout_part = 0.1')\n",
    "plt.plot(range(4), approx_y(range(4), [155.2, 149.5, 176.7, 187.9]), '--', color = 'r')\n",
    "\n",
    "plt.plot(range(4), [164.8, 158.8, 195.2, 192.7], 'o', color = 'b', label = 'dropout_part = 0.2')\n",
    "plt.plot(range(4), approx_y(range(4), [164.8, 158.8, 195.2, 192.7]), '--', color = 'b')\n",
    "\n",
    "plt.plot(range(4), [220.3, 204.6, 271.3, 263.7], 'o', color = 'g', label = 'dropout_part = 0.4')\n",
    "plt.plot(range(4), approx_y(range(4), [220.3, 204.6, 271.3, 263.7]), '--', color = 'g')\n",
    "plt.legend()\n",
    "plt.show()"
   ],
   "metadata": {
    "collapsed": false,
    "ExecuteTime": {
     "end_time": "2024-07-14T18:54:44.234228Z",
     "start_time": "2024-07-14T18:54:43.968603Z"
    }
   },
   "execution_count": 104
  },
  {
   "cell_type": "markdown",
   "source": [
    "Видно, что качество уменьшается при увеличении rec_layers и dropout_part, а при увеличении hidden_dim качество почти везде растет.\n",
    "Почему это происходит?\n",
    "1.  С rec_layers все аналогично: из-за дополнительного нюанса дополнительные рекуррентные слои и в lstm мешают, хотя, например, в предыдущем дз была немного другая картина.\n",
    "2.  dropout_part, все аналогично.\n",
    "3.  Мы переместились в мир с глобальной памятью, круто. В данном случае из-за глобального контекста нет локальной ямы, куда мы попали из-за переобучения в прошлый раз, так что мы можем повышать hidden_dim и радоваться жизни. \n",
    "Стоит отметить, что при [0.1][2][256] качество лучше, чем при [0.1][2][512]. Это, видимо, происходит из-за переобучения, так как 2 рекуррентных слоя, маленький dropoutи большой hidden_dim все же делают модель слишком мощной."
   ],
   "metadata": {
    "collapsed": false
   }
  },
  {
   "cell_type": "markdown",
   "source": [],
   "metadata": {
    "collapsed": false
   }
  },
  {
   "cell_type": "markdown",
   "source": [
    "### Второй эксперимент (2 балла)\n",
    "\n",
    "Попробуйте что-то поменять в модели или в пайплайне обучения, идеи для экспериментов можно подсмотреть выше."
   ],
   "metadata": {
    "id": "X1EW4faIm0tl"
   }
  },
  {
   "cell_type": "markdown",
   "source": [
    "Заведем несколько модификаций нашей модели 3 линейными слоями вместо 1 и с batchnorm, batchnorm + dropout, dropout."
   ],
   "metadata": {
    "collapsed": false
   }
  },
  {
   "cell_type": "code",
   "source": [
    "class LanguageModel_norm_3linear(nn.Module):\n",
    "    def __init__(\n",
    "            self, hidden_dim: int,\n",
    "            vocab_size: int,\n",
    "            dropout_part = 0.1,\n",
    "            rec_layers = 1,\n",
    "            rnn_type: str = 'rnn'\n",
    "    ):\n",
    "        super().__init__()\n",
    "        self.embedding = nn.Embedding(vocab_size, hidden_dim)\n",
    "\n",
    "        if rnn_type == 'rnn':\n",
    "            self.rnn = nn.RNN(hidden_dim, hidden_dim, batch_first=True, num_layers=rec_layers)\n",
    "        elif rnn_type == 'gru':\n",
    "            self.rnn = nn.GRU(hidden_dim, hidden_dim, batch_first=True, num_layers=rec_layers)\n",
    "        else: #'lstm'\n",
    "            self.rnn = nn.LSTM(hidden_dim, hidden_dim, batch_first=True, num_layers=rec_layers)\n",
    "\n",
    "        self.linear1 = nn.Linear(hidden_dim, hidden_dim)\n",
    "        self.norm1 = nn.BatchNorm1d(hidden_dim)\n",
    "        self.linear2 = nn.Linear(hidden_dim, hidden_dim)\n",
    "        self.norm2 = nn.BatchNorm1d(hidden_dim)\n",
    "        self.linear3 = nn.Linear(hidden_dim, hidden_dim)\n",
    "        self.norm3 = nn.BatchNorm1d(hidden_dim)\n",
    "        self.projection = nn.Linear(hidden_dim, vocab_size)\n",
    "\n",
    "        self.non_lin = nn.Tanh()\n",
    "\n",
    "    def forward(self, input_batch) -> torch.Tensor:\n",
    "        embeddings = self.embedding(input_batch)  # [batch_size, seq_len, hidden_dim]\n",
    "        output, _ = self.rnn(embeddings)  # [batch_size, seq_len, hidden_dim]\n",
    "\n",
    "        output = self.linear1(self.non_lin(output))  # [batch_size, seq_len, hidden_dim]\n",
    "        output = output.permute(0, 2, 1)\n",
    "        output = self.norm1(output)\n",
    "        output = output.permute(0, 2, 1)\n",
    "\n",
    "        output = self.linear2(self.non_lin(output))  # [batch_size, seq_len, hidden_dim]\n",
    "        output = output.permute(0, 2, 1)\n",
    "        output = self.norm2(output)\n",
    "        output = output.permute(0, 2, 1)\n",
    "\n",
    "        output = self.linear3(self.non_lin(output))  # [batch_size, seq_len, hidden_dim]\n",
    "        output = output.permute(0, 2, 1)\n",
    "        output = self.norm3(output)\n",
    "        output = output.permute(0, 2, 1)\n",
    "\n",
    "        prediction = self.projection(self.non_lin(output))  # [batch_size, seq_len, vocab_size]\n",
    "\n",
    "        return prediction"
   ],
   "metadata": {
    "id": "wkSE4jR1XzTg",
    "execution": {
     "iopub.status.busy": "2024-07-14T15:43:25.667611Z",
     "iopub.execute_input": "2024-07-14T15:43:25.667932Z",
     "iopub.status.idle": "2024-07-14T15:43:25.682993Z",
     "shell.execute_reply.started": "2024-07-14T15:43:25.667905Z",
     "shell.execute_reply": "2024-07-14T15:43:25.682070Z"
    },
    "trusted": true
   },
   "execution_count": 22,
   "outputs": []
  },
  {
   "cell_type": "code",
   "source": [
    "class LanguageModel_dropout_3linear(nn.Module):\n",
    "    def __init__(\n",
    "            self, hidden_dim: int,\n",
    "            vocab_size: int,\n",
    "            dropout_part = 0.1,\n",
    "            rec_layers = 1,\n",
    "            rnn_type: str = 'rnn'\n",
    "    ):\n",
    "        super().__init__()\n",
    "        self.embedding = nn.Embedding(vocab_size, hidden_dim)\n",
    "\n",
    "        if rnn_type == 'rnn':\n",
    "            self.rnn = nn.RNN(hidden_dim, hidden_dim, batch_first=True, num_layers=rec_layers)\n",
    "        elif rnn_type == 'gru':\n",
    "            self.rnn = nn.GRU(hidden_dim, hidden_dim, batch_first=True, num_layers=rec_layers)\n",
    "        else: #'lstm'\n",
    "            self.rnn = nn.LSTM(hidden_dim, hidden_dim, batch_first=True, num_layers=rec_layers)\n",
    "\n",
    "        self.linear1 = nn.Linear(hidden_dim, hidden_dim)\n",
    "        self.linear2 = nn.Linear(hidden_dim, hidden_dim)\n",
    "        self.linear3 = nn.Linear(hidden_dim, hidden_dim)\n",
    "        self.projection = nn.Linear(hidden_dim, vocab_size)\n",
    "\n",
    "        self.non_lin = nn.Tanh()\n",
    "        self.dropout = nn.Dropout(p=dropout_part)\n",
    "\n",
    "    def forward(self, input_batch) -> torch.Tensor:\n",
    "        embeddings = self.embedding(input_batch)  # [batch_size, seq_len, hidden_dim]\n",
    "        output, _ = self.rnn(embeddings)  # [batch_size, seq_len, hidden_dim]\n",
    "\n",
    "        output = self.dropout(self.linear1(self.non_lin(output)))  # [batch_size, seq_len, hidden_dim]\n",
    "        output = self.dropout(self.linear2(self.non_lin(output)))\n",
    "        output = self.dropout(self.linear3(self.non_lin(output)))\n",
    "\n",
    "        prediction = self.projection(self.non_lin(output))  # [batch_size, seq_len, vocab_size]\n",
    "\n",
    "        return prediction"
   ],
   "metadata": {
    "id": "q0qZHXmrXYy0",
    "execution": {
     "iopub.status.busy": "2024-07-14T15:43:25.684181Z",
     "iopub.execute_input": "2024-07-14T15:43:25.684441Z",
     "iopub.status.idle": "2024-07-14T15:43:25.695312Z",
     "shell.execute_reply.started": "2024-07-14T15:43:25.684418Z",
     "shell.execute_reply": "2024-07-14T15:43:25.694450Z"
    },
    "trusted": true
   },
   "execution_count": 23,
   "outputs": []
  },
  {
   "cell_type": "code",
   "source": [
    "class LanguageModel_dropout_norm_3linear(nn.Module):\n",
    "    def __init__(\n",
    "            self, hidden_dim: int,\n",
    "            vocab_size: int,\n",
    "            dropout_part = 0.1,\n",
    "            rec_layers = 1,\n",
    "            rnn_type: str = 'rnn'\n",
    "    ):\n",
    "        super().__init__()\n",
    "        self.embedding = nn.Embedding(vocab_size, hidden_dim)\n",
    "\n",
    "        if rnn_type == 'rnn':\n",
    "            self.rnn = nn.RNN(hidden_dim, hidden_dim, batch_first=True, num_layers=rec_layers)\n",
    "        elif rnn_type == 'gru':\n",
    "            self.rnn = nn.GRU(hidden_dim, hidden_dim, batch_first=True, num_layers=rec_layers)\n",
    "        else: #'lstm'\n",
    "            self.rnn = nn.LSTM(hidden_dim, hidden_dim, batch_first=True, num_layers=rec_layers)\n",
    "\n",
    "        self.linear1 = nn.Linear(hidden_dim, hidden_dim)\n",
    "        self.norm1 = nn.BatchNorm1d(hidden_dim)\n",
    "        self.linear2 = nn.Linear(hidden_dim, hidden_dim)\n",
    "        self.norm2 = nn.BatchNorm1d(hidden_dim)\n",
    "        self.linear3 = nn.Linear(hidden_dim, hidden_dim)\n",
    "        self.norm3 = nn.BatchNorm1d(hidden_dim)\n",
    "        self.projection = nn.Linear(hidden_dim, vocab_size)\n",
    "\n",
    "        self.non_lin = nn.Tanh()\n",
    "        self.dropout = nn.Dropout(p=dropout_part)\n",
    "\n",
    "    def forward(self, input_batch) -> torch.Tensor:\n",
    "        embeddings = self.embedding(input_batch)  # [batch_size, seq_len, hidden_dim]\n",
    "        output, _ = self.rnn(embeddings)  # [batch_size, seq_len, hidden_dim]\n",
    "\n",
    "        output = self.linear1(self.non_lin(output))  # [batch_size, seq_len, hidden_dim]\n",
    "        output = output.permute(0, 2, 1)\n",
    "        output = self.norm1(output)\n",
    "        output = self.dropout(output.permute(0, 2, 1))\n",
    "\n",
    "        output = self.linear2(self.non_lin(output))  # [batch_size, seq_len, hidden_dim]\n",
    "        output = output.permute(0, 2, 1)\n",
    "        output = self.norm2(output)\n",
    "        output = self.dropout(output.permute(0, 2, 1))\n",
    "\n",
    "        output = self.linear3(self.non_lin(output))  # [batch_size, seq_len, hidden_dim]\n",
    "        output = output.permute(0, 2, 1)\n",
    "        output = self.norm3(output)\n",
    "        output = self.dropout(output.permute(0, 2, 1))\n",
    "\n",
    "        prediction = self.projection(self.non_lin(output))  # [batch_size, seq_len, vocab_size]\n",
    "\n",
    "        return prediction"
   ],
   "metadata": {
    "id": "wBuJnQa4XWaW",
    "execution": {
     "iopub.status.busy": "2024-07-14T15:43:25.696599Z",
     "iopub.execute_input": "2024-07-14T15:43:25.697092Z",
     "iopub.status.idle": "2024-07-14T15:43:25.709882Z",
     "shell.execute_reply.started": "2024-07-14T15:43:25.697060Z",
     "shell.execute_reply": "2024-07-14T15:43:25.709101Z"
    },
    "trusted": true
   },
   "execution_count": 24,
   "outputs": []
  },
  {
   "cell_type": "code",
   "source": [
    "test_perplexity2 = {'rnn': {}, 'lstm': {}}"
   ],
   "metadata": {
    "id": "H4lrb-etXSmA",
    "execution": {
     "iopub.status.busy": "2024-07-14T14:01:35.530715Z",
     "iopub.execute_input": "2024-07-14T14:01:35.531486Z",
     "iopub.status.idle": "2024-07-14T14:01:35.540894Z",
     "shell.execute_reply.started": "2024-07-14T14:01:35.531463Z",
     "shell.execute_reply": "2024-07-14T14:01:35.540138Z"
    },
    "trusted": true
   },
   "execution_count": 26,
   "outputs": []
  },
  {
   "cell_type": "code",
   "outputs": [
    {
     "output_type": "stream",
     "name": "stdout",
     "text": [
      "Start train norm_3linear with params:  rnn 0.1 1 256\n",
      "Best perplexity:  155.36431933206225\n",
      "perplexities:  {'train': [942.6062149658203, 159.14888220214843, 123.79201416015626, 102.04056536865234, 87.27047726440429, 76.00518959045411, 66.86087162780761], 'val': [195.73671250116257, 168.06203388032458, 158.70779019310362, 155.36431933206225, 156.23794398232113, 159.59762549021886, 162.65148223392546]}\n",
      "losses:  {'train': [5.790171792984009, 5.06263479423523, 4.81290719985962, 4.6205643405914305, 4.464815107345581, 4.326993738174439, 4.199111155509948], 'val': [tensor(5.1719, device='cuda:0'), tensor(5.0259, device='cuda:0'), tensor(4.9613, device='cuda:0'), tensor(4.9363, device='cuda:0'), tensor(4.9531, device='cuda:0'), tensor(4.9568, device='cuda:0'), tensor(4.9876, device='cuda:0')]}\n",
      "-----------------\n",
      "\n",
      "Start train dropout_3linear with params:  rnn 0.1 1 256\n",
      "Best perplexity:  197.91681077745227\n",
      "perplexities:  {'train': [1547.4459307861327, 299.11566278076174, 221.49654357910157, 185.80102569580077, 163.41009725952148, 146.6473914794922, 133.39614700317384, 123.27534140014649, 114.96094409179688, 107.16401345825196], 'val': [394.4964081294953, 278.1130119202629, 241.19088066948785, 230.74022202264695, 222.55914451962425, 210.0740928044395, 203.0962168375651, 197.91681077745227, 202.58786349826389, 205.09300207713292]}\n",
      "losses:  {'train': [6.376951358795166, 5.691638801574707, 5.394415037155151, 5.219750728607178, 5.09175671005249, 4.983730136871338, 4.889230520248413, 4.810478561401367, 4.740882179260254, 4.670880430221557], 'val': [tensor(5.8383, device='cuda:0'), tensor(5.4912, device='cuda:0'), tensor(5.3446, device='cuda:0'), tensor(5.3079, device='cuda:0'), tensor(5.2951, device='cuda:0'), tensor(5.2615, device='cuda:0'), tensor(5.2459, device='cuda:0'), tensor(5.2168, device='cuda:0'), tensor(5.2378, device='cuda:0'), tensor(5.2454, device='cuda:0')]}\n",
      "-----------------\n",
      "\n",
      "Start train dropout_norm_3linear with params:  rnn 0.1 1 256\n",
      "Best perplexity:  165.6800790211511\n",
      "perplexities:  {'train': [1037.9612689208984, 176.21757513427735, 140.87866882324218, 119.45011791992188, 104.39143362426758, 92.73796533203125, 83.36372674560548, 75.95327099609375], 'val': [211.58504255991133, 184.03396461123512, 173.8324207124256, 168.47581130739243, 165.6800790211511, 167.29286399720206, 170.18177964952258, 175.39691428532677]}\n",
      "losses:  {'train': [5.889070346832275, 5.165225902557373, 4.942790044784546, 4.778366828918457, 4.644142253875732, 4.526005212783813, 4.4199181709289554, 4.326971019744873], 'val': [tensor(5.2532, device='cuda:0'), tensor(5.1247, device='cuda:0'), tensor(5.0843, device='cuda:0'), tensor(5.0676, device='cuda:0'), tensor(5.0514, device='cuda:0'), tensor(5.0674, device='cuda:0'), tensor(5.0768, device='cuda:0'), tensor(5.1046, device='cuda:0')]}\n",
      "-----------------\n",
      "\n",
      "Start train norm_3linear with params:  lstm 0.1 1 512\n",
      "Best perplexity:  143.37693362765842\n",
      "perplexities:  {'train': [623.4540166625976, 120.96246920776368, 81.76781631469727, 57.32723306274414, 40.95637325286865], 'val': [160.16702972896516, 143.37693362765842, 146.86659373934307, 161.1595190139044, 188.7598126123822]}\n",
      "losses:  {'train': [5.530669424057007, 4.7845197162628175, 4.394520278930664, 4.040117199897766, 3.70435315990448], 'val': [tensor(4.9822, device='cuda:0'), tensor(4.8631, device='cuda:0'), tensor(4.8842, device='cuda:0'), tensor(4.9840, device='cuda:0'), tensor(5.1638, device='cuda:0')]}\n",
      "-----------------\n",
      "\n",
      "Start train dropout_3linear with params:  lstm 0.1 1 512\n"
     ]
    }
   ],
   "source": [
    "dropout_part = 0.1\n",
    "rec_layers = 1\n",
    "\n",
    "for rnn_type, hidden_dim in [('rnn', 256), ('lstm', 512)]:\n",
    "    print('Start train %s with params: [\\'%s\\'][%f][%d][%d]' % ('LanguageModel_norm_3linear', rnn_type, dropout_part, rec_layers, hidden_dim))\n",
    "    _, _, test_perplexity2[rnn_type]['norm'] = start_train(Model=LanguageModel_norm_3linear, rnn_type=rnn_type, dropout_part=dropout_part, rec_layers=rec_layers, hidden_dim=hidden_dim, epochs=10, print_logs=False)\n",
    "    print(\"-----------------\")\n",
    "    print()\n",
    "    print('Start train %s with params: [\\'%s\\'][%f][%d][%d]' % ('LanguageModel_dropout_3linear', rnn_type, dropout_part, rec_layers, hidden_dim))\n",
    "    _, _, test_perplexity2[rnn_type]['dropout'] = start_train(Model = LanguageModel_dropout_3linear, rnn_type=rnn_type, dropout_part=dropout_part, rec_layers=rec_layers, hidden_dim=hidden_dim, epochs=10, print_logs=False)\n",
    "    print(\"-----------------\")\n",
    "    print()\n",
    "    print('Start train %s with params: [\\'%s\\'][%f][%d][%d]' % ('LanguageModel_dropout_norm_3linear', rnn_type, dropout_part, rec_layers, hidden_dim))\n",
    "    _, _, test_perplexity2[rnn_type]['dropout_norm'] = start_train(Model = LanguageModel_dropout_norm_3linear, rnn_type=rnn_type, dropout_part=dropout_part, rec_layers=rec_layers, hidden_dim=hidden_dim, epochs=10, print_logs=False)\n",
    "    print(\"-----------------\")\n",
    "    print()"
   ],
   "metadata": {
    "collapsed": false
   },
   "execution_count": 0
  },
  {
   "cell_type": "code",
   "outputs": [],
   "source": [
    "test_perplexity2['rnn']['norm'] = [195.73671250116257, 168.06203388032458, 158.70779019310362, 155.36431933206225, 156.23794398232113, 159.59762549021886, 162.65148223392546]\n",
    "test_perplexity2['rnn']['dropout'] = [394.4964081294953, 278.1130119202629, 241.19088066948785, 230.74022202264695, 222.55914451962425, 210.0740928044395, 203.0962168375651, 197.91681077745227, 202.58786349826389, 205.09300207713292]\n",
    "test_perplexity2['rnn']['dropout_norm'] = [211.58504255991133, 184.03396461123512, 173.8324207124256, 168.47581130739243, 165.6800790211511, 167.29286399720206, 170.18177964952258, 175.39691428532677]\n",
    "test_perplexity2['lstm']['norm'] = [160.16702972896516, 143.37693362765842, 146.86659373934307, 161.1595190139044, 188.7598126123822]\n",
    "test_perplexity2['lstm']['dropout'] = [325.3058268229167, 249.41090441507006, 215.03563532753597, 200.08994377983942, 204.60326639811197, 206.75113690088665, 211.51207672603547]\n",
    "test_perplexity2['lstm']['dropout_norm'] = [169.29813699873668, 151.13700539725167, 154.5105254158141, 173.07750677683995, 198.2212887718564]"
   ],
   "metadata": {
    "collapsed": false,
    "ExecuteTime": {
     "end_time": "2024-07-14T20:08:07.668248Z",
     "start_time": "2024-07-14T20:08:07.647187Z"
    }
   },
   "execution_count": 105
  },
  {
   "cell_type": "code",
   "outputs": [
    {
     "data": {
      "text/plain": "<Figure size 640x480 with 1 Axes>",
      "image/png": "[encoded data removed]"
     },
     "metadata": {},
     "output_type": "display_data"
    }
   ],
   "source": [
    "plt.xlabel('epochs', fontsize=14)\n",
    "plt.ylabel('perplexity', fontsize=14)\n",
    "\n",
    "for ind1 in test_perplexity2:\n",
    "    for ind2 in test_perplexity2[ind1]:\n",
    "        plt.plot(test_perplexity2[ind1][ind2], label='[\\'%s\\'][\\'%s\\']' % (ind1, ind2))\n",
    "\n",
    "plt.legend()\n",
    "plt.show()"
   ],
   "metadata": {
    "collapsed": false,
    "ExecuteTime": {
     "end_time": "2024-07-14T20:09:53.321082Z",
     "start_time": "2024-07-14T20:09:52.966241Z"
    }
   },
   "execution_count": 108
  },
  {
   "cell_type": "markdown",
   "source": [
    "Видно, что все тоже сошлось."
   ],
   "metadata": {
    "collapsed": false
   }
  },
  {
   "cell_type": "code",
   "outputs": [
    {
     "data": {
      "text/plain": "<Figure size 640x480 with 1 Axes>",
      "image/png": "[encoded data removed]"
     },
     "metadata": {},
     "output_type": "display_data"
    }
   ],
   "source": [
    "plt.title('Best perplexity', fontsize=18)\n",
    "plt.xlabel('modification', fontsize=14)\n",
    "plt.ylabel('perplexity', fontsize=14)\n",
    "plt.xticks(range(3), ['norm', 'dropout', 'dropout_norm'])\n",
    "plt.plot(range(3), [154.3, 195.6, 154.6], 'o', color = 'r', label = 'rnn_type = vanilla')\n",
    "plt.plot(range(3), approx_y(range(3), [154.3, 195.6, 154.6]), '--', color = 'r')\n",
    "\n",
    "plt.plot(range(3), [142.6, 200.1, 151.1], 'o', color = 'b', label = 'rnn_type = lstm')\n",
    "plt.plot(range(3), approx_y(range(3), [142.6, 200.1, 151.1]), '--', color = 'b')\n",
    "\n",
    "plt.legend()\n",
    "plt.show()"
   ],
   "metadata": {
    "collapsed": false,
    "ExecuteTime": {
     "end_time": "2024-07-14T20:14:27.249140Z",
     "start_time": "2024-07-14T20:14:26.958911Z"
    }
   },
   "execution_count": 109
  },
  {
   "cell_type": "markdown",
   "source": [
    "Видим, что dropout только все портит, а с batchNorm качество немного получше. Видимо, это такая специфическая задача, что dropout здесь не применим, так как мы не можем себе позволить выбрасывать лишние данные."
   ],
   "metadata": {
    "collapsed": false
   }
  },
  {
   "cell_type": "markdown",
   "source": [
    "### Обучение наилучшей модели и ее тестирование"
   ],
   "metadata": {}
  },
  {
   "cell_type": "code",
   "source": [
    "#Берем все данные для достижения максимального качества\n",
    "train_sentences, eval_sentences = train_test_split(sentences, test_size=0.2)\n",
    "\n",
    "train_dataset = WordDataset(train_sentences)\n",
    "eval_dataset = WordDataset(eval_sentences)\n",
    "\n",
    "batch_size = 128\n",
    "\n",
    "train_dataloader = DataLoader(\n",
    "    train_dataset, collate_fn=collate_fn_with_padding, batch_size=batch_size)\n",
    "\n",
    "eval_dataloader = DataLoader(\n",
    "    eval_dataset, collate_fn=collate_fn_with_padding, batch_size=batch_size)"
   ],
   "metadata": {
    "collapsed": false,
    "execution": {
     "iopub.status.busy": "2024-07-14T15:43:25.710848Z",
     "iopub.execute_input": "2024-07-14T15:43:25.711166Z",
     "iopub.status.idle": "2024-07-14T15:43:25.785465Z",
     "shell.execute_reply.started": "2024-07-14T15:43:25.711136Z",
     "shell.execute_reply": "2024-07-14T15:43:25.784801Z"
    },
    "trusted": true
   },
   "execution_count": 25,
   "outputs": []
  },
  {
   "cell_type": "markdown",
   "source": [
    "Наилучшая найденная модель это\n",
    " LanguageModel_norm_3linear(rnn_type='lstm', dropout_part=0.1, rec_layers=1, hidden_dim=512)"
   ],
   "metadata": {}
  },
  {
   "cell_type": "code",
   "source": [
    "best_model, _, _ = start_train(Model = LanguageModel_norm_3linear, rnn_type='lstm', dropout_part=0.1, rec_layers=1, hidden_dim=512, epochs=20)"
   ],
   "metadata": {
    "collapsed": false,
    "execution": {
     "iopub.status.busy": "2024-07-14T15:43:25.786443Z",
     "iopub.execute_input": "2024-07-14T15:43:25.786738Z",
     "iopub.status.idle": "2024-07-14T16:06:05.986148Z",
     "shell.execute_reply.started": "2024-07-14T15:43:25.786714Z",
     "shell.execute_reply": "2024-07-14T16:06:05.985219Z"
    },
    "trusted": true
   },
   "execution_count": 26,
   "outputs": [
    {
     "name": "stdout",
     "text": "* Epoch 1/20\n* Train  Epoch perplexity: 227.144695  Epoch loss: 4.994608\n* Val    Epoch perplexity: 109.957289  Epoch loss: 4.622904\nSaving best model...\n* Epoch 2/20\n* Train  Epoch perplexity: 88.012184  Epoch loss: 4.470177\n* Val    Epoch perplexity: 100.290480  Epoch loss: 4.518374\nSaving best model...\n* Epoch 3/20\n* Train  Epoch perplexity: 67.720672  Epoch loss: 4.210144\n* Val    Epoch perplexity: 102.253615  Epoch loss: 4.537302\n* Epoch 4/20\n* Train  Epoch perplexity: 54.583666  Epoch loss: 3.995305\n* Val    Epoch perplexity: 108.991089  Epoch loss: 4.599444\n* Epoch 5/20\n* Train  Epoch perplexity: 44.932413  Epoch loss: 3.801209\n* Val    Epoch perplexity: 119.024839  Epoch loss: 4.687994\n\nThe model is trained\nBest perplexity:  100.2904804944992\nperplexities:  {'train': [227.1446949660778, 88.012183560431, 67.7206719815731, 54.58366558365524, 44.932412773557004], 'val': [109.9572889328003, 100.2904804944992, 102.25361506938934, 108.99108874797821, 119.0248391866684]}\nlosses:  {'train': [4.994608053383047, 4.470176526507692, 4.210143793958741, 3.995304646951544, 3.8012090270297714], 'val': [tensor(4.6229, device='cuda:0'), tensor(4.5184, device='cuda:0'), tensor(4.5373, device='cuda:0'), tensor(4.5994, device='cuda:0'), tensor(4.6880, device='cuda:0')]}\n",
     "output_type": "stream"
    }
   ]
  },
  {
   "cell_type": "code",
   "source": [
    "def generate_sequence(model, starting_seq: str, max_seq_len: int = 128) -> str:\n",
    "    device = 'cpu'\n",
    "    model = model.to(device)\n",
    "    input_ids = [word2ind['<bos>']] + [\n",
    "        word2ind.get(word, word2ind['<unk>']) for word in word_tokenize(starting_seq.lower())\n",
    "    ]\n",
    "    input_ids = torch.LongTensor([input_ids]).to(device)\n",
    "\n",
    "    model.eval()\n",
    "    with torch.no_grad():\n",
    "        for i in range(max_seq_len):\n",
    "            next_word_distribution = model(input_ids)[0, -1]\n",
    "            next_word = next_word_distribution.squeeze().argmax()\n",
    "            input_ids = torch.cat([input_ids, next_word.unsqueeze(0).unsqueeze(0)], dim=1)\n",
    "\n",
    "            if next_word.item() == word2ind['<eos>']:\n",
    "                break\n",
    "\n",
    "    sentence = ' '.join([ind2word[idx.item()] for idx in input_ids[0]])\n",
    "\n",
    "    return sentence"
   ],
   "metadata": {
    "execution": {
     "iopub.status.busy": "2024-07-14T16:25:34.056862Z",
     "iopub.execute_input": "2024-07-14T16:25:34.057659Z",
     "iopub.status.idle": "2024-07-14T16:25:34.066074Z",
     "shell.execute_reply.started": "2024-07-14T16:25:34.057609Z",
     "shell.execute_reply": "2024-07-14T16:25:34.065157Z"
    },
    "trusted": true
   },
   "execution_count": 69,
   "outputs": []
  },
  {
   "cell_type": "markdown",
   "source": [
    "Ну и потыкаемся в наши новейшие разработки."
   ],
   "metadata": {
    "collapsed": false
   }
  },
  {
   "cell_type": "code",
   "source": [
    "generate_sequence(best_model, 'A lot of')"
   ],
   "metadata": {
    "execution": {
     "iopub.status.busy": "2024-07-14T16:26:41.370496Z",
     "iopub.execute_input": "2024-07-14T16:26:41.370960Z",
     "iopub.status.idle": "2024-07-14T16:26:41.573788Z",
     "shell.execute_reply.started": "2024-07-14T16:26:41.370924Z",
     "shell.execute_reply": "2024-07-14T16:26:41.572846Z"
    },
    "trusted": true
   },
   "execution_count": 75,
   "outputs": [
    {
     "execution_count": 75,
     "output_type": "execute_result",
     "data": {
      "text/plain": "'<bos> a lot of the characters are all very good . <eos>'"
     },
     "metadata": {}
    }
   ]
  },
  {
   "cell_type": "code",
   "source": [
    "generate_sequence(best_model, 'I love')"
   ],
   "metadata": {
    "execution": {
     "iopub.status.busy": "2024-07-14T16:27:44.633319Z",
     "iopub.execute_input": "2024-07-14T16:27:44.633702Z",
     "iopub.status.idle": "2024-07-14T16:27:44.740097Z",
     "shell.execute_reply.started": "2024-07-14T16:27:44.633672Z",
     "shell.execute_reply": "2024-07-14T16:27:44.739150Z"
    },
    "trusted": true
   },
   "execution_count": 76,
   "outputs": [
    {
     "execution_count": 76,
     "output_type": "execute_result",
     "data": {
      "text/plain": "'<bos> i love the movie . <eos>'"
     },
     "metadata": {}
    }
   ]
  },
  {
   "cell_type": "code",
   "source": [
    "generate_sequence(best_model, 'People hate')"
   ],
   "metadata": {
    "execution": {
     "iopub.status.busy": "2024-07-14T16:27:56.250127Z",
     "iopub.execute_input": "2024-07-14T16:27:56.250486Z",
     "iopub.status.idle": "2024-07-14T16:27:56.514879Z",
     "shell.execute_reply.started": "2024-07-14T16:27:56.250456Z",
     "shell.execute_reply": "2024-07-14T16:27:56.513906Z"
    },
    "trusted": true
   },
   "execution_count": 77,
   "outputs": [
    {
     "execution_count": 77,
     "output_type": "execute_result",
     "data": {
      "text/plain": "\"<bos> people hate it , but it 's a good movie . <eos>\""
     },
     "metadata": {}
    }
   ]
  },
  {
   "cell_type": "code",
   "source": [
    "generate_sequence(best_model, 'I feel like')"
   ],
   "metadata": {
    "execution": {
     "iopub.status.busy": "2024-07-14T16:28:46.454678Z",
     "iopub.execute_input": "2024-07-14T16:28:46.455365Z",
     "iopub.status.idle": "2024-07-14T16:28:46.596477Z",
     "shell.execute_reply.started": "2024-07-14T16:28:46.455336Z",
     "shell.execute_reply": "2024-07-14T16:28:46.595456Z"
    },
    "trusted": true
   },
   "execution_count": 78,
   "outputs": [
    {
     "execution_count": 78,
     "output_type": "execute_result",
     "data": {
      "text/plain": "'<bos> i feel like i was a kid . <eos>'"
     },
     "metadata": {}
    }
   ]
  },
  {
   "cell_type": "code",
   "source": [
    "generate_sequence(best_model, 'I have amazing thought: ')"
   ],
   "metadata": {
    "execution": {
     "iopub.status.busy": "2024-07-14T16:30:04.444493Z",
     "iopub.execute_input": "2024-07-14T16:30:04.444857Z",
     "iopub.status.idle": "2024-07-14T16:30:04.965744Z",
     "shell.execute_reply.started": "2024-07-14T16:30:04.444829Z",
     "shell.execute_reply": "2024-07-14T16:30:04.964806Z"
    },
    "trusted": true
   },
   "execution_count": 82,
   "outputs": [
    {
     "execution_count": 82,
     "output_type": "execute_result",
     "data": {
      "text/plain": "\"<bos> i have amazing thought : `` i 'm a big fan of the original , but i 'm not sure what i 'm going to do . '' <eos>\""
     },
     "metadata": {}
    }
   ]
  },
  {
   "cell_type": "code",
   "source": [
    "generate_sequence(best_model, 'I will be back')"
   ],
   "metadata": {
    "execution": {
     "iopub.status.busy": "2024-07-14T16:33:55.890207Z",
     "iopub.execute_input": "2024-07-14T16:33:55.891015Z",
     "iopub.status.idle": "2024-07-14T16:33:56.367896Z",
     "shell.execute_reply.started": "2024-07-14T16:33:55.890986Z",
     "shell.execute_reply": "2024-07-14T16:33:56.366904Z"
    },
    "trusted": true
   },
   "execution_count": 83,
   "outputs": [
    {
     "execution_count": 83,
     "output_type": "execute_result",
     "data": {
      "text/plain": "\"<bos> i will be back to the film 's first time and i have to say that i 'm not sure what i 'm going to see . <eos>\""
     },
     "metadata": {}
    }
   ]
  },
  {
   "cell_type": "markdown",
   "source": [
    "Жаль, что наша модель обучена только на комментариях к фильмам, из-за чего ограничена в своих выражениях. Но все равно классно!!!"
   ],
   "metadata": {
    "collapsed": false
   }
  },
  {
   "cell_type": "markdown",
   "source": [
    "### Отчет (2 балла)\n",
    "\n",
    "Опишите проведенные эксперименты. Сравните перплексии полученных моделей. Предложите идеи по улучшению качества моделей."
   ],
   "metadata": {
    "id": "Y5V9H3eoFeAu"
   }
  },
  {
   "cell_type": "markdown",
   "source": [
    "Описания всех экспериментов и их анализ с графиками идут вперемешку с проведением самих экспериментов для лучшей наглядности и сохранения последовательности повествования. Также такой подход позволяет отследить причинно-следственные связи принятия решений - какие эксперименты зачем проводились и как результаты одного эксперимента влияли на нашу модель и на последующие эксперименты."
   ],
   "metadata": {
    "collapsed": false
   }
  },
  {
   "cell_type": "markdown",
   "source": [
    "Но если резюмировать, то вначале было настроено окружение для тестирования различных параметров модели, затем долгое тестирование параметров с анализом полученных результатов. Затем были взяты лучшие параметры и протестированы различные модификации архитектуры модели. После подбор финальных параметров и финальной архитектуры с последующим тестированием полученной модели. "
   ],
   "metadata": {
    "collapsed": false
   }
  }
 ]
}
