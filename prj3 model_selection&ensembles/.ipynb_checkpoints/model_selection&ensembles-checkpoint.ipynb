{
 "cells": [
  {
   "cell_type": "markdown",
   "metadata": {
    "id": "AReHXW-t5NKJ"
   },
   "source": [
    "# План\n",
    "1. Напоминание: переобучение, регуляризация и кросс-валидация\n",
    "2. Pipeline решения ML задачи\n",
    "3. Подбор гиперпараметров и ансамблирование моделей на примере размеченных данных"
   ]
  },
  {
   "cell_type": "markdown",
   "metadata": {
    "id": "eAH1n3NT5NKQ"
   },
   "source": [
    "# Переобучение и методы борьбы с ним\n",
    "Переобучение --- это одна из главных проблем, с которыми сталкиваются модели машинного обучения. Эффект переобучения состоит в том, что модель, подстраиваясь под обучающую выборку, \"обращает внимание\" на закономерности в выборке, которые не проявляются в общем случае и имеют характер совпадения.\n",
    "\n",
    "Переобучение проявляется тем больше, чем больше степеней свободы имеет модель.\n",
    "### Примеры:\n",
    "* Решающее дерево со слишком большой глубиной может идеально подстроиться под обучающую выборку. Параметры решающего дерева --- это решающие правила во всех вершинах (всего $\\sim 2^n$ решающих правил в дереве глубины $n$).\n",
    "\n",
    "* Алгоритм $k$ ближайших соседей подстраивается под обучаюущую выборку и может рассматриваться как эталонный пример переобучения: любой локальный шум в данных приведёт к ошибке. Параметрами Knn являются **все элементы обучающей выборки**.\n",
    "\n",
    "* Линейный алгоритм, построенный для выборки слишком маленького размера со слишком большим количеством признаков неизбежно переобучится под обучающую выборку.\n",
    "\n",
    "Во всех примерах мы видим, что при слишком большой сложности модели по сравнению с количеством элементов в обучающей выборке переобучение имеет место. Строго говоря, **переобучение есть всегда, когда имеет место принятие решения в условии неполных данных**, то есть всегда в машинном обучении.\n",
    "\n",
    "<img src='https://drive.google.com/uc?id=1wQQ0tMAtZVhbeQgUVdiS7kfmMw7P7NM9'/>\n",
    "\n",
    "Чтобы нивелировать эффект переобучения, нужно поймать момент, в который качество на тестовой выборке начинает увеличиваться с ростом сложности модели. В этот момент обучение стоит останавливать."
   ]
  },
  {
   "cell_type": "markdown",
   "metadata": {
    "id": "WJx6GKji5NKR"
   },
   "source": [
    "## Переобучение многочленов\n",
    "Смоделируем переобучение сколонность к переобучению полиномиальной зависимости с ростом степени многочлена. Сгенерируем искусственные данные из линейной зависимости с шумом и восстановим зависимость с помощью многочленов степени 1, 3, 4, 7."
   ]
  },
  {
   "cell_type": "code",
   "execution_count": null,
   "metadata": {
    "ExecuteTime": {
     "end_time": "2020-10-11T10:12:43.455283Z",
     "start_time": "2020-10-11T10:12:31.683412Z"
    },
    "id": "COsHMcV55NKS"
   },
   "outputs": [],
   "source": [
    "import numpy as np\n",
    "from sklearn.model_selection import train_test_split\n",
    "from sklearn.metrics import mean_squared_error\n",
    "import matplotlib.pyplot as plt\n",
    "\n",
    "import seaborn as sns\n",
    "sns.set(font_scale=1.5)\n",
    "\n",
    "import warnings\n",
    "warnings.filterwarnings(\"ignore\")\n",
    "%matplotlib inline"
   ]
  },
  {
   "cell_type": "code",
   "execution_count": null,
   "metadata": {
    "ExecuteTime": {
     "end_time": "2020-10-11T10:12:44.188193Z",
     "start_time": "2020-10-11T10:12:43.462178Z"
    },
    "id": "4jX3tcaA5NKT",
    "outputId": "360bbfa5-f8f8-4b70-a323-ff8b8c781ae7",
    "scrolled": false
   },
   "outputs": [],
   "source": [
    "X = np.linspace(-10, 10, 20)\n",
    "\n",
    "y = 2 * X + 3 + np.random.randn(20) * 3\n",
    "\n",
    "X_train, X_test, y_train, y_test = train_test_split(X, y, train_size=0.5, random_state=42)\n",
    "plt.figure(figsize=(10,6))\n",
    "plt.scatter(X_train,y_train, label='Train')\n",
    "plt.scatter(X_test,y_test, label='Test')\n",
    "plt.plot(X, 2 * X + 3, color='red', lw=3, alpha = 0.2)\n",
    "legend_box = plt.legend(framealpha=1).get_frame()\n",
    "legend_box.set_facecolor(\"white\")\n",
    "legend_box.set_edgecolor(\"black\")\n",
    "plt.show()"
   ]
  },
  {
   "cell_type": "code",
   "execution_count": null,
   "metadata": {
    "ExecuteTime": {
     "end_time": "2020-10-11T10:12:46.721155Z",
     "start_time": "2020-10-11T10:12:44.196157Z"
    },
    "id": "hMs8x8ey5NKV",
    "outputId": "4d2f3cba-6288-48d8-a0e6-10e34ce7d2fb"
   },
   "outputs": [],
   "source": [
    "grid = np.linspace(-12, 12, 500)\n",
    "\n",
    "fig, ax = plt.subplots(3, 2, figsize=(18,18))\n",
    "\n",
    "ax = ax.ravel()\n",
    "\n",
    "for i, deg in enumerate([1,3,4,7,9, 20]):\n",
    "\n",
    "    poly = np.polyfit(X_train, y_train, deg)\n",
    "    ax[i].set_title('Polynomial fit, degree = ' + str(deg))\n",
    "    ax[i].scatter(X_train,y_train,\n",
    "                  label='train mse={:.3f}'.format(mean_squared_error(y_train, np.polyval(poly, X_train))))\n",
    "    ax[i].scatter(X_test,y_test,\n",
    "                  label='test mse={:.3f}'.format(mean_squared_error(y_test, np.polyval(poly, X_test))))\n",
    "    ax[i].set_ylim(-40, 40)\n",
    "    ax[i].plot(grid, np.polyval(poly, grid))\n",
    "\n",
    "    ax[i].plot(X, 2 * X + 3, color='red', lw=1, alpha = 0.4)\n",
    "    legend_box = ax[i].legend(framealpha=1).get_frame()\n",
    "    legend_box.set_facecolor(\"white\")\n",
    "    legend_box.set_edgecolor(\"black\")\n",
    "fig.show()"
   ]
  },
  {
   "cell_type": "markdown",
   "metadata": {
    "id": "Y1m5jGr-5NKW"
   },
   "source": [
    "$$||x-y||, \\text{x, y - векторы в 2-мерном пространстве}$$\n",
    "$$||x - y|| = \\sqrt{(x_1 - y_1)^2 + (x_2-y_2)^2}$$\n",
    "\n",
    "$$||x-y||, \\text{x, y - векторы в n-мерном пространстве}$$\n",
    "$$||x - y|| = \\sqrt{(x_1 - y_1)^2 + ... + (x_n-y_n)^2}$$"
   ]
  },
  {
   "cell_type": "markdown",
   "metadata": {
    "id": "vcsn7-yY5NKX"
   },
   "source": [
    "### Идея 1: регуляризация\n",
    "Суть регуляризации состоит в том, чтобы добавлять к функции потерь слагаемое, ограничивающее рост весов модели. Например, обычная версия линейной регрессии выглядит так:\n",
    "$$\\frac{\\sum\\limits_{i=1}^{\\ell}\\left|\\left|\\langle x^i, w\\rangle - y^i\\right|\\right|^2}{\\ell} \\rightarrow \\min_{w}.$$\n",
    "\n",
    "Регуляризованная версия:\n",
    "$$\\frac{\\sum\\limits_{i=1}^{\\ell}\\left|\\left|\\langle x^i, w\\rangle - y^i\\right|\\right|^2}{\\ell} + \\frac{1}{C}\\left|\\left|w\\right|\\right|^2\\rightarrow \\min_{w}.$$\n",
    "\n",
    "Такая версия линейной регресси называется Ridge-регрессией.  \n",
    "Есть также Lasso-регрессия и ElasticNet.\n",
    "\n",
    "Обычная версия логрегрессии:\n",
    "$$-\\frac{1}{\\ell}\\left( \\sum\\limits_{y^i = 1}\\ln\\sigma(\\langle x, w\\rangle) + \\sum\\limits_{y^i = -1}\\ln(1-\\sigma(\\langle x, w\\rangle))\\right)\\rightarrow \\min_{w}$$\n",
    "\n",
    "Регуляризованная версия:\n",
    "\n",
    "$$-\\frac{1}{\\ell}\\left( \\sum\\limits_{y^i = 1}\\ln\\sigma(\\langle x, w\\rangle) + \\sum\\limits_{y^i = -1}\\ln(1-\\sigma(\\langle x, w\\rangle))\\right) + \\frac{1}{C}||w||^2\\rightarrow \\min_{w}$$"
   ]
  },
  {
   "cell_type": "markdown",
   "metadata": {
    "id": "pYUWBEdA5NKY"
   },
   "source": [
    "### Идея 2: кросс-валидация\n",
    "\n",
    "<img src='https://drive.google.com/uc?id=19TOWCsLwIjNSmcHzu46f6JqY5TEefm9h' width=600/>\n",
    "Картинка говорит сама за себя. Чтобы получить более стабильное предсказание и точно увидеть переобучение, можно использовать кросс-валидацию. Это ещё пригодится дальше в ноутбуке."
   ]
  },
  {
   "cell_type": "markdown",
   "metadata": {
    "ExecuteTime": {
     "end_time": "2020-10-11T10:13:30.105149Z",
     "start_time": "2020-10-11T10:13:30.100123Z"
    },
    "id": "ob7_onBZ5NKZ"
   },
   "source": [
    "# Pipeline решения ML-задачи"
   ]
  },
  {
   "cell_type": "markdown",
   "metadata": {
    "id": "BXRoHCHg5NKa"
   },
   "source": [
    "![lifecycle.png](https://drive.google.com/uc?export=view&id=1ZVVA3knTV7M0sTANYF4kOSMAZWG_BB5j)"
   ]
  },
  {
   "cell_type": "markdown",
   "metadata": {
    "id": "g5fA6PnW5NKa"
   },
   "source": [
    "![pipeline.jpg](https://drive.google.com/uc?export=view&id=1wt86eJI3wDb4SuRKFdtjvqKDaW0UDLvz)"
   ]
  },
  {
   "cell_type": "markdown",
   "metadata": {
    "id": "ptq128pJ5NKb"
   },
   "source": [
    "# Выбор оптимальной модели\n",
    "\n",
    "Теперь мы потренируемся обучению, оценке и валидации моделей, подбору оптимальных гиперпараметров, смешиванию моделей. Вам предлагается решить задачу бинарной классификации, а именно построить алгоритм, определяющий превысит ли средний заработок человека порог $50k."
   ]
  },
  {
   "cell_type": "code",
   "execution_count": null,
   "metadata": {
    "ExecuteTime": {
     "end_time": "2020-10-11T11:19:13.272257Z",
     "start_time": "2020-10-11T11:19:13.269311Z"
    },
    "id": "7vuOhNde5NKb"
   },
   "outputs": [],
   "source": [
    "import pandas as pd"
   ]
  },
  {
   "cell_type": "code",
   "execution_count": null,
   "metadata": {
    "ExecuteTime": {
     "end_time": "2020-10-11T11:19:20.781390Z",
     "start_time": "2020-10-11T11:19:14.330831Z"
    },
    "id": "7P9mD57g5NKb"
   },
   "outputs": [],
   "source": [
    "df = pd.read_csv('https://archive.ics.uci.edu/ml/machine-learning-databases/adult/adult.data', sep=', ')\n",
    "# Назначаем имена колонок\n",
    "columns = ('age workclass fnlwgt education educ-num marital-status occupation relationship '\n",
    "           'race sex capital-gain capital-loss  hours-per-week native-country salary')\n",
    "\n",
    "numeric_indices = np.array([0, 2, 4, 10, 11, 12])\n",
    "categorical_indices = np.array([1, 3, 5, 6, 7, 8, 9, 13])\n",
    "\n",
    "df.columns = columns.split() #этот метод разделит датасет по колонкам как в массиве columns\n",
    "\n",
    "df = df.replace('?', np.nan)\n",
    "\n",
    "df = df.dropna()\n",
    "\n",
    "df['salary'] = df['salary'].apply((lambda x: x=='>50K')) # Будем предсказывать 1(True), если зарплата больше 50K, 0(False) иначе"
   ]
  },
  {
   "cell_type": "code",
   "execution_count": null,
   "metadata": {
    "ExecuteTime": {
     "end_time": "2020-10-11T11:19:20.805357Z",
     "start_time": "2020-10-11T11:19:20.783336Z"
    },
    "id": "TmuL2qOC5NKc",
    "outputId": "b64667f4-bbec-4460-b2e2-12775c3e09bf"
   },
   "outputs": [],
   "source": [
    "numeric_data = df[df.columns[numeric_indices]]\n",
    "\n",
    "categorial_data = df[df.columns[categorical_indices]]\n",
    "categorial_data.head()"
   ]
  },
  {
   "cell_type": "code",
   "execution_count": null,
   "metadata": {
    "ExecuteTime": {
     "end_time": "2020-10-11T11:19:21.053858Z",
     "start_time": "2020-10-11T11:19:21.040860Z"
    },
    "id": "KpFcm_NY5NKc",
    "outputId": "6acb2ad9-c464-4e92-95ab-efaa14c969af",
    "scrolled": true
   },
   "outputs": [],
   "source": [
    "df['education'].unique(), len(df['education'].unique())"
   ]
  },
  {
   "cell_type": "markdown",
   "metadata": {
    "id": "9fRRSws_5NKd"
   },
   "source": [
    "### One-hot кодирование\n",
    "Поскольку все алгоритмы машинного обучения, которые мы изучили, работают лишь с числовыми признаками, необходимо придумать способ обработки категориальных признаков, переводящий их в числовые.\n",
    "Одним из способов сделать это является One-hot кодирование. Его суть состоит в следующем. Пусть некоторая категориальная переменная (скажем, color) принимает $n$ различных значений (Red, Yellow, Green). Тогда можно создать $n$ новыx переменныx, соответствующих различным значениям категориального признака, каждая из которых равна 1 в том случае, если изначальный категориальный признак принимает такое значение, и 0 иначе. Принцип работы иллюстрирован на картинке.\n",
    "\n",
    "<img src='https://drive.google.com/uc?id=17oipPzKv7JFU5Z94hBUzMb5zJJlpbwxj' width=700/>\n",
    "\n",
    "В Pandas One-hot кодирование выполняется функцией pd.get_dummies. Сгенерируем One-hot признаки для нашего датасета. Сохраним полную матрицу объекты признаки в переменную X."
   ]
  },
  {
   "cell_type": "code",
   "execution_count": null,
   "metadata": {
    "ExecuteTime": {
     "end_time": "2020-10-11T11:19:36.657182Z",
     "start_time": "2020-10-11T11:19:36.622161Z"
    },
    "id": "jkhlt11U5NKd"
   },
   "outputs": [],
   "source": [
    "dummy_features = pd.get_dummies(categorial_data)"
   ]
  },
  {
   "cell_type": "code",
   "execution_count": null,
   "metadata": {
    "ExecuteTime": {
     "end_time": "2020-10-11T11:20:13.566890Z",
     "start_time": "2020-10-11T11:20:13.540891Z"
    },
    "id": "B6295z0V5NKe",
    "outputId": "223ec3ff-64b0-47b2-9ee2-1094952652ae"
   },
   "outputs": [],
   "source": [
    "X = pd.concat([numeric_data, dummy_features], axis=1)\n",
    "X_origin = df.iloc[:, :-1]\n",
    "X.head()"
   ]
  },
  {
   "cell_type": "code",
   "execution_count": null,
   "metadata": {
    "ExecuteTime": {
     "end_time": "2020-10-11T11:20:20.520184Z",
     "start_time": "2020-10-11T11:20:20.517168Z"
    },
    "id": "ax22ZV_i5NKe"
   },
   "outputs": [],
   "source": [
    "y = df['salary']"
   ]
  },
  {
   "cell_type": "code",
   "execution_count": null,
   "metadata": {
    "ExecuteTime": {
     "end_time": "2020-10-11T11:20:30.407526Z",
     "start_time": "2020-10-11T11:20:30.401526Z"
    },
    "id": "zU_bLBrJ5NKe",
    "outputId": "dd3e39b4-26fc-4fe5-a545-81dd2c71fd7d"
   },
   "outputs": [],
   "source": [
    "X.shape, X_origin.shape"
   ]
  },
  {
   "cell_type": "markdown",
   "metadata": {
    "id": "jiC7NfFp5NKf"
   },
   "source": [
    "Теперь всё готово для обучения алгоритмов."
   ]
  },
  {
   "cell_type": "code",
   "execution_count": null,
   "metadata": {
    "ExecuteTime": {
     "end_time": "2020-10-11T11:20:37.886332Z",
     "start_time": "2020-10-11T11:20:37.881367Z"
    },
    "id": "lSPVJkKK5NKf"
   },
   "outputs": [],
   "source": [
    "from sklearn.model_selection import train_test_split"
   ]
  },
  {
   "cell_type": "code",
   "execution_count": null,
   "metadata": {
    "ExecuteTime": {
     "end_time": "2020-10-11T11:21:20.472653Z",
     "start_time": "2020-10-11T11:21:20.396622Z"
    },
    "id": "3oBWniga5NKf"
   },
   "outputs": [],
   "source": [
    "X_train, X_test, y_train, y_test = train_test_split(X.values, y.values,\n",
    "                                                    train_size=0.8,\n",
    "                                                    random_state=42)"
   ]
  },
  {
   "cell_type": "markdown",
   "metadata": {
    "id": "4RfeKe-A5NKg"
   },
   "source": [
    "Напишем функцию, визуализирующую поиск оптимального гиперпараметра модели по сетке. Используем идею кросс-валидации."
   ]
  },
  {
   "cell_type": "code",
   "execution_count": null,
   "metadata": {
    "ExecuteTime": {
     "end_time": "2020-10-11T11:21:22.249967Z",
     "start_time": "2020-10-11T11:21:22.246968Z"
    },
    "id": "iM-0mtks5NKg"
   },
   "outputs": [],
   "source": [
    "from sklearn.model_selection import GridSearchCV\n",
    "from sklearn.model_selection import RandomizedSearchCV"
   ]
  },
  {
   "cell_type": "code",
   "execution_count": null,
   "metadata": {
    "ExecuteTime": {
     "end_time": "2020-10-11T11:21:23.221565Z",
     "start_time": "2020-10-11T11:21:23.212564Z"
    },
    "id": "kbWPU0hw5NKg"
   },
   "outputs": [],
   "source": [
    "def search_and_draw(X, y, model, param_name, grid, param_scale='ordinary', draw=True):\n",
    "    parameters = {param_name: grid}\n",
    "\n",
    "    CV_model = GridSearchCV(estimator=model,\n",
    "                            param_grid=parameters,\n",
    "                            cv=5,\n",
    "                            scoring='f1',\n",
    "                            n_jobs=-1,\n",
    "                            verbose=10)\n",
    "    CV_model.fit(X, y)\n",
    "    means = CV_model.cv_results_['mean_test_score']\n",
    "    error = CV_model.cv_results_['std_test_score']\n",
    "\n",
    "    if draw:\n",
    "        plt.figure(figsize=(15,8))\n",
    "        plt.title('choose ' + param_name)\n",
    "\n",
    "\n",
    "        if (param_scale == 'log'):\n",
    "            plt.xscale('log')\n",
    "\n",
    "        plt.plot(grid, means, label='mean values of score', color='red', lw=3)\n",
    "\n",
    "        plt.fill_between(grid, means - 2 * error, means + 2 * error,\n",
    "                         color='green', label='filled area between errors', alpha=0.5)\n",
    "        legend_box = plt.legend(framealpha=1).get_frame()\n",
    "        legend_box.set_facecolor(\"white\")\n",
    "        legend_box.set_edgecolor(\"black\")\n",
    "        plt.xlabel('parameter')\n",
    "        plt.ylabel('roc_auc')\n",
    "        plt.show()\n",
    "\n",
    "    return means, error"
   ]
  },
  {
   "cell_type": "code",
   "execution_count": null,
   "metadata": {
    "ExecuteTime": {
     "end_time": "2020-10-11T11:21:24.463669Z",
     "start_time": "2020-10-11T11:21:24.459673Z"
    },
    "id": "X7kTLjA_5NKg"
   },
   "outputs": [],
   "source": [
    "from sklearn.neighbors import KNeighborsClassifier\n",
    "from sklearn.tree import DecisionTreeClassifier"
   ]
  },
  {
   "cell_type": "code",
   "execution_count": null,
   "metadata": {
    "ExecuteTime": {
     "end_time": "2020-10-11T11:21:26.241652Z",
     "start_time": "2020-10-11T11:21:26.235657Z"
    },
    "id": "0DdKxB4e5NKk"
   },
   "outputs": [],
   "source": [
    "models = [KNeighborsClassifier(), DecisionTreeClassifier()]\n",
    "param_names = ['n_neighbors', 'max_depth']\n",
    "grids = [np.array(np.linspace(4, 30, 8), dtype='int'), np.arange(1, 30)]\n",
    "param_scales = ['log', 'ordinary']"
   ]
  },
  {
   "cell_type": "code",
   "execution_count": null,
   "metadata": {
    "ExecuteTime": {
     "end_time": "2020-10-11T11:22:02.218673Z",
     "start_time": "2020-10-11T11:21:29.676670Z"
    },
    "id": "kmjDKNtI5NKl",
    "outputId": "7e7aecc4-ea9f-492c-d5c0-7058a2f77b9f",
    "scrolled": false
   },
   "outputs": [],
   "source": [
    "for model, param_name, grid, param_scale in zip(models,\n",
    "                                                param_names,\n",
    "                                                grids,\n",
    "                                                param_scales):\n",
    "    search_and_draw(X_train, y_train, model, param_name, grid, param_scale)"
   ]
  },
  {
   "cell_type": "markdown",
   "metadata": {
    "id": "cpWBnDAH5NKl"
   },
   "source": [
    "Подберём параметр n_estimators в алгоритме случайный лес. Известно, что случайный лес не переобучается. Поэтому график качества будет монотонно возрастать. Следовательно, необходимо найти минимальное значение n_estimators, при котором качество не изменяется.\n",
    "Поскольку каждое дерево обучается независимо от остальных, достаточно обучить сразу лес из большого количества деревьев, а затем рассмотреть подмножества нужного размера из исходного множества деревьев."
   ]
  },
  {
   "cell_type": "code",
   "execution_count": null,
   "metadata": {
    "ExecuteTime": {
     "end_time": "2020-10-11T11:22:02.224658Z",
     "start_time": "2020-10-11T11:22:02.220675Z"
    },
    "id": "hZRAL-lx5NKm"
   },
   "outputs": [],
   "source": [
    "from sklearn.ensemble import RandomForestClassifier\n",
    "from sklearn.model_selection import cross_val_score"
   ]
  },
  {
   "cell_type": "code",
   "execution_count": null,
   "metadata": {
    "ExecuteTime": {
     "end_time": "2020-10-11T11:22:02.234669Z",
     "start_time": "2020-10-11T11:22:02.227643Z"
    },
    "id": "jUyKSY_y5NKm"
   },
   "outputs": [],
   "source": [
    "from sklearn.model_selection import KFold\n",
    "from sklearn.metrics import roc_auc_score\n",
    "from tqdm.notebook import tqdm"
   ]
  },
  {
   "cell_type": "code",
   "execution_count": null,
   "metadata": {
    "ExecuteTime": {
     "end_time": "2020-10-11T11:22:46.380628Z",
     "start_time": "2020-10-11T11:22:02.236622Z"
    },
    "colab": {
     "referenced_widgets": [
      "367eed8f9aa24ee3b36bc2ba3047cf2b",
      ""
     ]
    },
    "id": "mP2meSj85NKn",
    "outputId": "ab73b6ac-aab6-47e5-b306-582d8e5c3ff1"
   },
   "outputs": [],
   "source": [
    "max_trees = 100\n",
    "\n",
    "values = np.arange(max_trees) + 1\n",
    "\n",
    "kf = KFold(n_splits=5, shuffle=True, random_state=1234)\n",
    "\n",
    "global_scores = []\n",
    "\n",
    "for train_indices, val_indices in tqdm(kf.split(X_train), total=5):\n",
    "    scores = []\n",
    "\n",
    "    X_train_kf = X_train[train_indices]\n",
    "    y_train_kf = y_train[train_indices]\n",
    "\n",
    "    X_val_kf = X_train[val_indices]\n",
    "    y_val_kf = y_train[val_indices]\n",
    "\n",
    "    forest = RandomForestClassifier(n_estimators=max_trees)\n",
    "    forest.fit(X_train_kf, y_train_kf)\n",
    "    trees = forest.estimators_\n",
    "\n",
    "    for number_of_trees in tqdm(values, leave=False):\n",
    "        thinned_forest = RandomForestClassifier(n_estimators=number_of_trees)\n",
    "\n",
    "        thinned_forest.n_classes_ = 2\n",
    "        thinned_forest.estimators_ = trees[:number_of_trees]\n",
    "\n",
    "        scores.append(roc_auc_score(y_val_kf, thinned_forest.predict_proba(X_val_kf)[:, 1]))\n",
    "\n",
    "    scores = np.array(scores)\n",
    "\n",
    "    global_scores.append(scores)\n",
    "\n",
    "global_scores = np.stack(global_scores, axis=0)"
   ]
  },
  {
   "cell_type": "code",
   "execution_count": null,
   "metadata": {
    "ExecuteTime": {
     "end_time": "2020-10-11T11:22:52.934021Z",
     "start_time": "2020-10-11T11:22:52.547993Z"
    },
    "id": "LR19ddrJ5NKn",
    "outputId": "b963b114-ef14-4e26-9761-6439d3bb2bf3"
   },
   "outputs": [],
   "source": [
    "mean_cross_val_score = global_scores.mean(axis=0)\n",
    "std_cross_val_score = global_scores.std(axis=0)\n",
    "\n",
    "plt.figure(figsize=(15,8))\n",
    "plt.title('Quality of random forest')\n",
    "\n",
    "plt.plot(values, mean_cross_val_score, label='mean values', color='red', lw=3)\n",
    "plt.fill_between(values,\n",
    "                 mean_cross_val_score - 2 * std_cross_val_score,\n",
    "                 mean_cross_val_score + 2 * std_cross_val_score,\n",
    "                 color='green',\n",
    "                 label='filled area between errors',\n",
    "                 alpha=0.5)\n",
    "legend_box = plt.legend(framealpha=1).get_frame()\n",
    "legend_box.set_facecolor(\"white\")\n",
    "legend_box.set_edgecolor(\"black\")\n",
    "plt.xlabel('number of trees')\n",
    "plt.ylabel('roc-auc')\n",
    "\n",
    "plt.show()"
   ]
  },
  {
   "cell_type": "markdown",
   "metadata": {
    "id": "1O9PGQKD5NKo"
   },
   "source": [
    "### Нормировка признаков\n",
    "\n",
    "Нормируем признаки и проделаем тот же эксперимент с алгоритмом ближайших соседей. Посмотрим, изменилось ли качество предсказания."
   ]
  },
  {
   "cell_type": "code",
   "execution_count": null,
   "metadata": {
    "ExecuteTime": {
     "end_time": "2020-10-11T11:22:57.326128Z",
     "start_time": "2020-10-11T11:22:57.207981Z"
    },
    "id": "n88B0pPR5NKo"
   },
   "outputs": [],
   "source": [
    "from sklearn.preprocessing import StandardScaler\n",
    "\n",
    "scaler = StandardScaler()\n",
    "\n",
    "X_train_scaled = scaler.fit_transform(X_train)\n",
    "X_test_scaled = scaler.transform(X_test)"
   ]
  },
  {
   "cell_type": "markdown",
   "metadata": {
    "id": "YMXX0WNM5NKp"
   },
   "source": [
    "`StandardScaler` выполняет преобразование $$z = \\frac{x - \\mu}{\\sigma}, \\text{где $\\sigma$ - стандартное отклонение, а  $\\mu$ - среднее}$$"
   ]
  },
  {
   "cell_type": "code",
   "execution_count": null,
   "metadata": {
    "ExecuteTime": {
     "end_time": "2020-10-11T11:26:55.521138Z",
     "start_time": "2020-10-11T11:23:08.372146Z"
    },
    "id": "Hx9_iXxu5NKp",
    "outputId": "b54e0d9b-24f3-46f3-88a5-cb35d864513e"
   },
   "outputs": [],
   "source": [
    "search_and_draw(X_train_scaled, y_train, KNeighborsClassifier(), 'n_neighbors',\n",
    "                np.array(np.linspace(4, 30, 8), dtype='int'), 'log');"
   ]
  },
  {
   "cell_type": "markdown",
   "metadata": {
    "id": "LyuC1KSE5NKp"
   },
   "source": [
    "Как и следовало ожидать, ни один из наших алгоритмов не побил случайный лес. Итак, видим, что на больших выборках бэггинг работает. Вычислим итоговое качество на test."
   ]
  },
  {
   "cell_type": "code",
   "execution_count": null,
   "metadata": {
    "ExecuteTime": {
     "end_time": "2020-10-11T11:26:56.637237Z",
     "start_time": "2020-10-11T11:26:55.523147Z"
    },
    "id": "vqSvgKJL5NKp"
   },
   "outputs": [],
   "source": [
    "model = RandomForestClassifier(n_estimators=50, n_jobs=-1)\n",
    "\n",
    "model.fit(X_train, y_train)\n",
    "y_train_predicted = model.predict_proba(X_train)[:, 1]\n",
    "y_test_predicted = model.predict_proba(X_test)[:, 1]"
   ]
  },
  {
   "cell_type": "code",
   "execution_count": null,
   "metadata": {
    "ExecuteTime": {
     "end_time": "2020-10-11T11:26:56.642963Z",
     "start_time": "2020-10-11T11:26:56.638959Z"
    },
    "id": "BMugWOrI5NKq"
   },
   "outputs": [],
   "source": [
    "from sklearn.metrics import roc_auc_score, roc_curve"
   ]
  },
  {
   "cell_type": "code",
   "execution_count": null,
   "metadata": {
    "ExecuteTime": {
     "end_time": "2020-10-11T11:26:56.974994Z",
     "start_time": "2020-10-11T11:26:56.647965Z"
    },
    "id": "sQLFARB-5NKq",
    "outputId": "17e5cecf-38f8-4dd7-fec4-d0412ec447d6"
   },
   "outputs": [],
   "source": [
    "train_auc = roc_auc_score(y_train, y_train_predicted)\n",
    "test_auc = roc_auc_score(y_test, y_test_predicted)\n",
    "\n",
    "plt.figure(figsize=(20,10))\n",
    "plt.plot(*roc_curve(y_train, y_train_predicted)[:2], label='train AUC={:.4f}'.format(train_auc))\n",
    "plt.plot(*roc_curve(y_test, y_test_predicted)[:2], label='test AUC={:.4f}'.format(test_auc))\n",
    "legend_box = plt.legend(fontsize='large', framealpha=1).get_frame()\n",
    "legend_box.set_facecolor(\"white\")\n",
    "legend_box.set_edgecolor(\"black\")\n",
    "plt.plot(np.linspace(0,1,100), np.linspace(0,1,100))\n",
    "plt.show()"
   ]
  },
  {
   "cell_type": "markdown",
   "metadata": {
    "id": "Fm8oaWwm5NKq"
   },
   "source": [
    "## Что ещё можно делать:\n",
    "\n",
    "Мы подбирали оптимальный одномерный параметр для алгоритма. Можно также:\n",
    "\n",
    "* Искать по сетке не только численные гиперпараметры, но и категориальные, например, метрику в алгоритме ближайших соседей или критерий ветвления в решающем дереве.\n",
    "\n",
    "* Искать оптимальный параметр по многомерной сетке. Перебрать все возможные варианты здесь не выйдет, потому что на это уйдёт слишком много времени. Зато можно перебирать случайные точки по сетке. Эта процедура называется Grid Random Search."
   ]
  },
  {
   "cell_type": "markdown",
   "metadata": {
    "id": "_i_cPEGx5NKq"
   },
   "source": [
    "# Стекинг\n",
    "\n",
    "Идея стекинга состоит в том, чтобы обучать разнообразные алгоритмы и использовать их в качестве новых признаков объектов.\n",
    "\n",
    "Чтобы избежать переобучения, необходимо разделить обучающую выборку на n фолдов. Для предсказания ответов на k-ом фолде алгоритм обучается на оставшихся n-1 фолдах и предсказывает ответ на k-ом фолде. Такую схему обучения-предсказания реализует функция sklearn.model_selection.cross_val_predict."
   ]
  },
  {
   "cell_type": "code",
   "execution_count": null,
   "metadata": {
    "ExecuteTime": {
     "end_time": "2020-10-11T11:26:56.980962Z",
     "start_time": "2020-10-11T11:26:56.976965Z"
    },
    "id": "uTY_fKKQ5NKr"
   },
   "outputs": [],
   "source": [
    "from sklearn.model_selection import cross_val_predict"
   ]
  },
  {
   "cell_type": "markdown",
   "metadata": {
    "id": "ltEbt4wd5NKr"
   },
   "source": [
    "Будем работать с тем же самым датасетом, что и ранее. Посмотрим, сумеем ли мы побить результаты случайного леса с помощью стекинга."
   ]
  },
  {
   "cell_type": "code",
   "execution_count": null,
   "metadata": {
    "ExecuteTime": {
     "end_time": "2020-10-11T11:26:56.991963Z",
     "start_time": "2020-10-11T11:26:56.983964Z"
    },
    "id": "4hLsQg0k5NKr"
   },
   "outputs": [],
   "source": [
    "def compute_meta_feature(model, X_train, X_test, y_train, cv):\n",
    "    try:\n",
    "        train_answers = cross_val_predict(model, X_train, y_train, cv=cv, method='predict_proba')[:, 1]\n",
    "        model.fit(X_train, y_train)\n",
    "        return train_answers, model.predict_proba(X_test)[:, 1]\n",
    "\n",
    "    except Exception:\n",
    "        train_answers = cross_val_predict(model, X_train, y_train, cv=cv, method='predict')[:, 1]\n",
    "        model.fit(X_train, y_train)\n",
    "        return train_answers, model.predict(X_test)[:, 1]"
   ]
  },
  {
   "cell_type": "code",
   "execution_count": null,
   "metadata": {
    "ExecuteTime": {
     "end_time": "2020-10-11T11:26:57.001966Z",
     "start_time": "2020-10-11T11:26:56.994962Z"
    },
    "id": "NvVyPM4_5NKr"
   },
   "outputs": [],
   "source": [
    "from sklearn.ensemble import RandomForestClassifier\n",
    "from sklearn.linear_model import LogisticRegression\n",
    "from sklearn.neighbors import KNeighborsClassifier"
   ]
  },
  {
   "cell_type": "code",
   "execution_count": null,
   "metadata": {
    "ExecuteTime": {
     "end_time": "2020-10-11T11:26:57.014967Z",
     "start_time": "2020-10-11T11:26:57.004965Z"
    },
    "id": "wGwevfR-5NKr"
   },
   "outputs": [],
   "source": [
    "models = []\n",
    "models.append(KNeighborsClassifier(n_jobs=-1, n_neighbors=30))\n",
    "models.append(LogisticRegression())\n",
    "models.append(RandomForestClassifier(max_depth=3, n_estimators=50, n_jobs=-1))\n",
    "models.append(RandomForestClassifier(max_depth=7, n_estimators=50, n_jobs=-1))\n",
    "models.append(DecisionTreeClassifier(max_depth=8))"
   ]
  },
  {
   "cell_type": "code",
   "execution_count": null,
   "metadata": {
    "ExecuteTime": {
     "end_time": "2020-10-11T11:26:57.030960Z",
     "start_time": "2020-10-11T11:26:57.018968Z"
    },
    "id": "Spa5dWcG5NKs"
   },
   "outputs": [],
   "source": [
    "meta_features_train = np.zeros((X_train.shape[0], 0))\n",
    "meta_features_test = np.zeros((X_test.shape[0], 0))"
   ]
  },
  {
   "cell_type": "code",
   "execution_count": null,
   "metadata": {
    "ExecuteTime": {
     "end_time": "2020-10-11T11:27:12.749658Z",
     "start_time": "2020-10-11T11:26:57.035963Z"
    },
    "colab": {
     "referenced_widgets": [
      "15ecc460c6064a4e841ccbc6539c8aa1"
     ]
    },
    "id": "hnfSherJ5NKs",
    "outputId": "888f743a-8af4-43e8-8bf9-3b44fa756491"
   },
   "outputs": [],
   "source": [
    "for model in tqdm(models):\n",
    "    train, test = compute_meta_feature(model, X_train, X_test, y_train, 5)\n",
    "    meta_features_train = np.append(meta_features_train, train.reshape((train.size, 1)), axis=1)\n",
    "    meta_features_test = np.append(meta_features_test, test.reshape((test.size, 1)), axis=1)"
   ]
  },
  {
   "cell_type": "code",
   "execution_count": null,
   "metadata": {
    "ExecuteTime": {
     "end_time": "2020-10-11T11:27:12.843627Z",
     "start_time": "2020-10-11T11:27:12.751643Z"
    },
    "id": "_YZCEeSg5NKs"
   },
   "outputs": [],
   "source": [
    "stacking_model = LogisticRegression()\n",
    "stacking_model.fit(meta_features_train, y_train)\n",
    "\n",
    "y_train_predicted = stacking_model.predict_proba(meta_features_train)[:, 1]\n",
    "y_test_predicted = stacking_model.predict_proba(meta_features_test)[:, 1]"
   ]
  },
  {
   "cell_type": "code",
   "execution_count": null,
   "metadata": {
    "ExecuteTime": {
     "end_time": "2020-10-11T11:27:13.190633Z",
     "start_time": "2020-10-11T11:27:12.845629Z"
    },
    "id": "JAuxfaTK5NKs",
    "outputId": "0e9c96ca-742b-4e63-b8a7-75786324e476"
   },
   "outputs": [],
   "source": [
    "train_auc = roc_auc_score(y_train, y_train_predicted)\n",
    "test_auc = roc_auc_score(y_test, y_test_predicted)\n",
    "\n",
    "plt.figure(figsize=(10,7))\n",
    "plt.plot(*roc_curve(y_train, y_train_predicted)[:2], label='train AUC={:.4f}'.format(train_auc))\n",
    "plt.plot(*roc_curve(y_test, y_test_predicted)[:2], label='test AUC={:.4f}'.format(test_auc))\n",
    "legend_box = plt.legend(fontsize='large', framealpha=1).get_frame()\n",
    "legend_box.set_facecolor(\"white\")\n",
    "legend_box.set_edgecolor(\"black\")\n",
    "plt.plot(np.linspace(0,1,100), np.linspace(0,1,100))\n",
    "plt.show()"
   ]
  },
  {
   "cell_type": "markdown",
   "metadata": {
    "id": "eRH_kLzL5NKt"
   },
   "source": [
    "# Бустинг\n",
    "\n",
    "Попробуем в пару-тройку строк побить всё то качество, которое мы так усердно искали."
   ]
  },
  {
   "cell_type": "code",
   "execution_count": null,
   "metadata": {
    "id": "R2mNDe9j5NKt"
   },
   "outputs": [],
   "source": [
    "# если этого модуля нет, то нужно раскомментировать следующую строчку и запустить\n",
    "#!pip install xgboost"
   ]
  },
  {
   "cell_type": "code",
   "execution_count": null,
   "metadata": {
    "ExecuteTime": {
     "end_time": "2020-10-11T11:28:06.684705Z",
     "start_time": "2020-10-11T11:28:06.681692Z"
    },
    "id": "y3JVBOwH5NKt"
   },
   "outputs": [],
   "source": [
    "import xgboost"
   ]
  },
  {
   "cell_type": "code",
   "execution_count": null,
   "metadata": {
    "ExecuteTime": {
     "end_time": "2020-10-11T11:28:27.128797Z",
     "start_time": "2020-10-11T11:28:07.577620Z"
    },
    "id": "V6J2K-pZ5NKt"
   },
   "outputs": [],
   "source": [
    "boosting_model = xgboost.XGBClassifier(n_estimators=500)\n",
    "\n",
    "boosting_model.fit(X_train, y_train)\n",
    "\n",
    "y_train_predicted = boosting_model.predict_proba(X_train)[:, 1]\n",
    "y_test_predicted = boosting_model.predict_proba(X_test)[:, 1]"
   ]
  },
  {
   "cell_type": "code",
   "execution_count": null,
   "metadata": {
    "ExecuteTime": {
     "end_time": "2020-10-11T11:28:27.445649Z",
     "start_time": "2020-10-11T11:28:27.131613Z"
    },
    "id": "Xt_5a7Pz5NKt",
    "outputId": "713056f1-de13-408a-e4d6-a1ae1d0214e7"
   },
   "outputs": [],
   "source": [
    "train_auc = roc_auc_score(y_train, y_train_predicted)\n",
    "test_auc = roc_auc_score(y_test, y_test_predicted)\n",
    "\n",
    "plt.figure(figsize=(10,7))\n",
    "plt.plot(*roc_curve(y_train, y_train_predicted)[:2], label='train AUC={:.4f}'.format(train_auc))\n",
    "plt.plot(*roc_curve(y_test, y_test_predicted)[:2], label='test AUC={:.4f}'.format(test_auc))\n",
    "legend_box = plt.legend(fontsize='large', framealpha=1).get_frame()\n",
    "legend_box.set_facecolor(\"white\")\n",
    "legend_box.set_edgecolor(\"black\")\n",
    "plt.plot(np.linspace(0,1,100), np.linspace(0,1,100))\n",
    "plt.show()"
   ]
  },
  {
   "cell_type": "markdown",
   "metadata": {
    "id": "QCH3dA9Q5NKu"
   },
   "source": [
    "Круто, да? А теперь попробуем \"отечественного\" производителя - CatBoost от Яндекса."
   ]
  },
  {
   "cell_type": "code",
   "execution_count": null,
   "metadata": {
    "id": "kes8BMcF5NKu"
   },
   "outputs": [],
   "source": [
    "# если этого модуля нет, то нужно раскомментировать следующую строчку и запустить\n",
    "#!pip install catboost"
   ]
  },
  {
   "cell_type": "code",
   "execution_count": null,
   "metadata": {
    "ExecuteTime": {
     "end_time": "2020-10-11T11:51:29.433169Z",
     "start_time": "2020-10-11T11:51:29.429171Z"
    },
    "id": "jb5Wqca55NKu"
   },
   "outputs": [],
   "source": [
    "import catboost # документация: https://catboost.ai/docs"
   ]
  },
  {
   "cell_type": "code",
   "execution_count": null,
   "metadata": {
    "ExecuteTime": {
     "end_time": "2020-10-11T11:51:31.665855Z",
     "start_time": "2020-10-11T11:51:31.628858Z"
    },
    "id": "z7TGCsyD5NKu"
   },
   "outputs": [],
   "source": [
    "# CatBoost умеет работать с категориальными признаками сам\n",
    "X_train_origin, X_test_origin, _, _ = train_test_split(X_origin.values, y.values,\n",
    "                                                       train_size=0.8,\n",
    "                                                       random_state=42)"
   ]
  },
  {
   "cell_type": "markdown",
   "metadata": {
    "id": "rWVPPVSu5NKv"
   },
   "source": [
    "![docs_one_hot.png](https://drive.google.com/uc?export=view&id=119U7_cTX8imN13rr3Bi-vevHjo7kEXr6)\n",
    "\n",
    "(из документации CatBoost)"
   ]
  },
  {
   "cell_type": "code",
   "execution_count": null,
   "metadata": {
    "ExecuteTime": {
     "end_time": "2020-10-11T11:51:52.344278Z",
     "start_time": "2020-10-11T11:51:34.612167Z"
    },
    "id": "Zn9PoNsW5NKv",
    "outputId": "282d7a4d-6fb4-46c4-a999-812c5c4eeacf",
    "scrolled": true
   },
   "outputs": [],
   "source": [
    "boosting_model = catboost.CatBoostClassifier(n_estimators=200,\n",
    "                                             cat_features=categorical_indices)\n",
    "\n",
    "boosting_model.fit(X_train_origin, y_train)\n",
    "\n",
    "y_train_predicted = boosting_model.predict_proba(X_train_origin)[:, 1]\n",
    "y_test_predicted = boosting_model.predict_proba(X_test_origin)[:, 1]"
   ]
  },
  {
   "cell_type": "code",
   "execution_count": null,
   "metadata": {
    "ExecuteTime": {
     "end_time": "2020-10-11T11:51:57.285685Z",
     "start_time": "2020-10-11T11:51:56.847671Z"
    },
    "id": "jIuyqwAk5NKv",
    "outputId": "5c5835b8-dd42-40a9-c44d-c07537aaa322"
   },
   "outputs": [],
   "source": [
    "train_auc = roc_auc_score(y_train, y_train_predicted)\n",
    "test_auc = roc_auc_score(y_test, y_test_predicted)\n",
    "\n",
    "plt.figure(figsize=(10,7))\n",
    "plt.plot(*roc_curve(y_train, y_train_predicted)[:2], label='train AUC={:.4f}'.format(train_auc))\n",
    "plt.plot(*roc_curve(y_test, y_test_predicted)[:2], label='test AUC={:.4f}'.format(test_auc))\n",
    "legend_box = plt.legend(fontsize='large', framealpha=1).get_frame()\n",
    "legend_box.set_facecolor(\"white\")\n",
    "legend_box.set_edgecolor(\"black\")\n",
    "plt.plot(np.linspace(0,1,100), np.linspace(0,1,100))\n",
    "plt.show()"
   ]
  },
  {
   "cell_type": "code",
   "execution_count": null,
   "metadata": {
    "ExecuteTime": {
     "end_time": "2020-10-11T12:06:59.237838Z",
     "start_time": "2020-10-11T11:58:19.510026Z"
    },
    "colab": {
     "referenced_widgets": [
      "1d0bf1913006458e9c27585441c769b8"
     ]
    },
    "id": "iHqhkP2Z5NKv",
    "outputId": "9afce657-fbff-40f8-991d-2e57dab101d1",
    "scrolled": false
   },
   "outputs": [],
   "source": [
    "boosting_model = catboost.CatBoostClassifier(n_estimators=200, silent=True,\n",
    "                                             cat_features=categorical_indices,\n",
    "                                             eval_metric='AUC')\n",
    "boosting_model.grid_search({'l2_leaf_reg': np.linspace(0, 1, 20)},\n",
    "                           X_train_origin,\n",
    "                           y_train, plot=True, refit=True)"
   ]
  }
 ],
 "metadata": {
  "colab": {
   "provenance": []
  },
  "kernelspec": {
   "display_name": "Python 3 (ipykernel)",
   "language": "python",
   "name": "python3"
  },
  "language_info": {
   "codemirror_mode": {
    "name": "ipython",
    "version": 3
   },
   "file_extension": ".py",
   "mimetype": "text/x-python",
   "name": "python",
   "nbconvert_exporter": "python",
   "pygments_lexer": "ipython3",
   "version": "3.11.5"
  },
  "toc": {
   "base_numbering": 1,
   "nav_menu": {},
   "number_sections": true,
   "sideBar": true,
   "skip_h1_title": false,
   "title_cell": "Table of Contents",
   "title_sidebar": "Contents",
   "toc_cell": false,
   "toc_position": {},
   "toc_section_display": true,
   "toc_window_display": false
  }
 },
 "nbformat": 4,
 "nbformat_minor": 1
}
