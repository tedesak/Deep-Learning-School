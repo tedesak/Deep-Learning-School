{
 "cells": [
  {
   "cell_type": "markdown",
   "metadata": {
    "id": "TK7oX5qdEEYr"
   },
   "source": [
    "# Домашнее задание. Решение конкурса на kaggle.com\n",
    "\n",
    "Это домашнее задание посвящено полноценному решению задачи машинного обучения."
   ]
  },
  {
   "cell_type": "markdown",
   "metadata": {
    "id": "zlB-owfaEEYs"
   },
   "source": [
    "Есть две части этого домашнего задания:\n",
    "\n",
    "### Отправить ваши предсказания в Stepik.\n",
    "За прохождение определенных порогов будут начисляться баллы. Эта часть оценивается из 5 баллов.\n",
    "\n",
    "1) $1.00 \\geqslant score \\geqslant 0.84$ --- 5 баллов\n",
    "\n",
    "2) $0.84 > score \\geqslant 0.77$ --- 4 балла\n",
    "\n",
    "3) $0.77 > score \\geqslant 0.70$ --- 3 балла\n",
    "\n",
    "4) $0.70 > score \\geqslant 0.65$ --- 2 балла\n",
    "\n",
    "5) $0.65 > score \\geqslant 0.6$ --- 1 балл\n",
    "\n",
    "6) $0.60 > score$ --- 0 баллов\n",
    "\n",
    "Для этого мы предварительно разделили данные в задании на две части.\n",
    "* `train.csv`. На этом наборе данных вам необходимо создать и обучить модель. Подробное описание файла есть в ноутбуке.\n",
    "* `test.csv`. В каждой строчке файла `test.csv` указаны признаки тестовых объектов. Предсказания для этого набора необходимо записать в файл submission.csv и сдать в соответствующий шаг на Stepik. Количество попыток ограничено 100 штук.\n",
    "\n",
    "Отправлять в Stepik вы будете файл с ответами `my_submission.csv`. В этом файле вам необходимо для каждого объекта из датасета предсказать вероятность класса 1. Мы подготовили для вас файл с примером посылки `submission.csv`. Ваш файл должен быть оформлен таким же образом. В ноутбуке есть пример оформления файла посылки. Для отправки файла с предсказаниями на Stepik есть отдельный шаг.\n",
    "\n",
    "### Сделать полноценный отчет о вашей работе.\n",
    "Опишите, как вы обработали данные, какие модели попробовали и какие результаты получились (максимум 10 баллов). За каждую выполненную часть будет начислено определенное количество баллов. В этом пункте вам необходимо отправить файл в формате .ipynb на Stepik --- для этого в домашнем задании есть отдельный шаг. Этот пункт оценивается из 10 баллов.\n",
    "\n",
    "**Вторая часть будет проверяться в формате peer-review. Т.е. вашу посылку на Stepik будут проверять 3 других студента, и медианное значение их оценок будет выставлено. Чтобы получить баллы, вам также нужно будет проверить трех других учеников. Это станет доступно после того, как вы сдадите задание сами.**\n",
    "\n",
    "### Контест на Kaggle\n",
    "Для вашего удобства мы подготовили [контест на Kaggle](https://www.kaggle.com/c/advanced-dls-spring-2021/). Тестирующая система на Kaggle выдает те же баллы, что и Stepik. Мы рекомендуем в качестве основной тестирующей системы использовать именно Kaggle, а затем сдать лучшую посылку на Stepik. Так вы привыкните работать с Kaggle.\n",
    "\n",
    "Проблема для российских пользователей Kaggle заключается в том, что подтверждение аккаунта по номеру телефона работает с перебоями или не работает вообще. Без подтвержденного номера телефона вы не сможете совершать посылки в kaggle. Если у вас возникла такая проблема, мы советуем следующие шаги:\n",
    "* Попробовать зарегистрировать аккаунт с аутентификацией через gmail. В таком случае, аккаунт должен работать без подтверждения номера телефона.\n",
    "* Если у вас есть не российский номер, используйте его для верификации аккаунта.\n",
    "* Если на номер телефона не приходит смс для верификации аккаунта, обратитесь в службу поддержки kaggle. Они с переменным успехом умеют подтверждать аккаунты вручную.\n",
    "* Если все же подтвердить аккаунт и получить доступ к сдаче заданий не удалось, используйте только сдачу в Stepik.\n",
    "\n",
    "### Несколько замечаний по выполнению работы\n",
    "* Во всех пунктах указания это минимальный набор вещей, которые стоит сделать. Если вы можете сделать какой-то шаг лучше или добавить что-то свое --- дерзайте!\n",
    "* Пожалуйста, перед сдачей ноутбука убедитесь, что работа чистая и понятная. Это значительно облегчит проверку и повысит ваши ожидаемые баллы.\n",
    "* Если у вас будут проблемы с решением или хочется совета, то пишите в наш чат в телеграме.\n",
    "\n",
    "\n",
    "Данные: [train.csv](https://drive.google.com/file/d/1ERwQ5odiK1Zvi1LtjpkzCMUswYsAX8_K/view?usp=share_link),\n",
    "[test.csv](https://drive.google.com/file/d/1fGw_-RFwvn_LEdt91Jq-7A-wzG6mmH8r/view?usp=share_link), [submission.csv](https://drive.google.com/file/d/199Mt4OYZNaelT83U-HGDsEYs2YcUGQ6y/view?usp=share_link).\n",
    "\n",
    "Если ссылки на данные не работают, их можно скачать [на Kaggle](https://www.kaggle.com/competitions/advanced-dls-spring-2021/data)."
   ]
  },
  {
   "cell_type": "markdown",
   "metadata": {
    "id": "Tu_JvqcBEN8Y"
   },
   "source": [
    "# Как проверять?\n",
    "\n",
    "Ставьте полный балл, если выполнены все рекомендации или сделано что-то более интересное и сложное. За каждый отсустствующий пункт из рекомендации снижайте 1 балл.\n",
    "\n",
    "**Если решение верное, но не удовлетворяет вашим эстетическим предпочтениям, за это баллы снижать не нужно.**"
   ]
  },
  {
   "cell_type": "markdown",
   "metadata": {
    "id": "ninJ63mJEEYt"
   },
   "source": [
    "# Метрика\n",
    "\n",
    "Перед решением любой задачи важно понимать, как будет оцениваться ваше решение. В данном случае мы используем стандартную для задачи классификации метрику ROC-AUC. Ее можно вычислить, используя только предсказанные вероятности и истинные классы без конкретного порога классификации + она раотает даже если классы в данных сильно несбалансированны (примеров одного класса в десятки раз больше примеров длугого). Именно поэтому она очень удобна для соревнований.\n",
    "\n",
    "Посчитать ее легко:\n"
   ]
  },
  {
   "cell_type": "code",
   "execution_count": 1,
   "metadata": {
    "execution": {
     "iopub.execute_input": "2024-03-08T17:26:54.147681Z",
     "iopub.status.busy": "2024-03-08T17:26:54.147300Z",
     "iopub.status.idle": "2024-03-08T17:26:54.735824Z",
     "shell.execute_reply": "2024-03-08T17:26:54.734691Z",
     "shell.execute_reply.started": "2024-03-08T17:26:54.147644Z"
    },
    "id": "SQIrka7yEEYu",
    "outputId": "ef45a9f2-7571-47b1-e697-b474b65cb0fb",
    "ExecuteTime": {
     "end_time": "2024-03-21T23:06:46.382819Z",
     "start_time": "2024-03-21T23:06:46.011053Z"
    }
   },
   "outputs": [
    {
     "data": {
      "text/plain": "0.8333333333333333"
     },
     "execution_count": 1,
     "metadata": {},
     "output_type": "execute_result"
    }
   ],
   "source": [
    "from sklearn.metrics import roc_auc_score\n",
    "\n",
    "y_true = [\n",
    "    0,\n",
    "    1,\n",
    "    1,\n",
    "    0,\n",
    "    1\n",
    "]\n",
    "\n",
    "y_predictions = [\n",
    "    0.1,\n",
    "    0.9,\n",
    "    0.4,\n",
    "    0.6,\n",
    "    0.61\n",
    "]\n",
    "\n",
    "roc_auc_score(y_true, y_predictions)"
   ]
  },
  {
   "cell_type": "markdown",
   "metadata": {
    "id": "IrDNNkNTEEYz"
   },
   "source": [
    "# Первая часть. Исследование"
   ]
  },
  {
   "cell_type": "code",
   "execution_count": 2,
   "metadata": {
    "execution": {
     "iopub.execute_input": "2024-03-08T17:26:54.737929Z",
     "iopub.status.busy": "2024-03-08T17:26:54.737500Z",
     "iopub.status.idle": "2024-03-08T17:26:56.066812Z",
     "shell.execute_reply": "2024-03-08T17:26:56.065563Z",
     "shell.execute_reply.started": "2024-03-08T17:26:54.737900Z"
    },
    "id": "lzLqEeZKEEYz"
   },
   "outputs": [
    {
     "ename": "ModuleNotFoundError",
     "evalue": "No module named 'lightgbm'",
     "output_type": "error",
     "traceback": [
      "\u001B[1;31m---------------------------------------------------------------------------\u001B[0m",
      "\u001B[1;31mModuleNotFoundError\u001B[0m                       Traceback (most recent call last)",
      "Cell \u001B[1;32mIn[2], line 6\u001B[0m\n\u001B[0;32m      4\u001B[0m \u001B[38;5;28;01mfrom\u001B[39;00m \u001B[38;5;21;01mmatplotlib\u001B[39;00m \u001B[38;5;28;01mimport\u001B[39;00m pyplot \u001B[38;5;28;01mas\u001B[39;00m plt\n\u001B[0;32m      5\u001B[0m \u001B[38;5;28;01mfrom\u001B[39;00m \u001B[38;5;21;01mcatboost\u001B[39;00m \u001B[38;5;28;01mimport\u001B[39;00m CatBoostClassifier\n\u001B[1;32m----> 6\u001B[0m \u001B[38;5;28;01mfrom\u001B[39;00m \u001B[38;5;21;01mlightgbm\u001B[39;00m \u001B[38;5;28;01mimport\u001B[39;00m LGBMClassifier\n\u001B[0;32m      7\u001B[0m \u001B[38;5;28;01mimport\u001B[39;00m \u001B[38;5;21;01mwarnings\u001B[39;00m\n\u001B[0;32m      8\u001B[0m warnings\u001B[38;5;241m.\u001B[39mfilterwarnings(\u001B[38;5;124m\"\u001B[39m\u001B[38;5;124mignore\u001B[39m\u001B[38;5;124m\"\u001B[39m)\n",
      "\u001B[1;31mModuleNotFoundError\u001B[0m: No module named 'lightgbm'"
     ]
    }
   ],
   "source": [
    "import pandas as pd\n",
    "import numpy as np\n",
    "import seaborn as sns\n",
    "from matplotlib import pyplot as plt\n",
    "from catboost import CatBoostClassifier\n",
    "from lightgbm import LGBMClassifier\n",
    "import warnings\n",
    "warnings.filterwarnings(\"ignore\")"
   ]
  },
  {
   "cell_type": "markdown",
   "metadata": {
    "id": "LOlxdURSEEY3"
   },
   "source": [
    "## Загрузка данных (2 балла)\n",
    "\n",
    "1) Посмотрите на случайные строчки.\n",
    "\n",
    "2) Посмотрите, есть ли в датасете незаполненные значения (nan'ы) с помощью data.isna() или data.info() и, если нужно, замените их на что-то. Будет хорошо, если вы построите табличку с количеством nan в каждой колонке."
   ]
  },
  {
   "cell_type": "code",
   "execution_count": 3,
   "metadata": {
    "execution": {
     "iopub.execute_input": "2024-03-08T17:26:56.069014Z",
     "iopub.status.busy": "2024-03-08T17:26:56.068290Z",
     "iopub.status.idle": "2024-03-08T17:26:59.366798Z",
     "shell.execute_reply": "2024-03-08T17:26:59.365278Z",
     "shell.execute_reply.started": "2024-03-08T17:26:56.068928Z"
    },
    "id": "XULA1f3ch6RL"
   },
   "outputs": [
    {
     "name": "stderr",
     "output_type": "stream",
     "text": [
      "\"gdown\" ­Ґ пў«пҐвбп ў­гваҐ­­Ґ© Ё«Ё ў­Ґи­Ґ©\n",
      "Є®¬ ­¤®©, ЁбЇ®«­пҐ¬®© Їа®Ја ¬¬®© Ё«Ё Ї ЄҐв­л¬ д ©«®¬.\n",
      "\"gdown\" ­Ґ пў«пҐвбп ў­гваҐ­­Ґ© Ё«Ё ў­Ґи­Ґ©\n",
      "Є®¬ ­¤®©, ЁбЇ®«­пҐ¬®© Їа®Ја ¬¬®© Ё«Ё Ї ЄҐв­л¬ д ©«®¬.\n",
      "\"gdown\" ­Ґ пў«пҐвбп ў­гваҐ­­Ґ© Ё«Ё ў­Ґи­Ґ©\n",
      "Є®¬ ­¤®©, ЁбЇ®«­пҐ¬®© Їа®Ја ¬¬®© Ё«Ё Ї ЄҐв­л¬ д ©«®¬.\n"
     ]
    }
   ],
   "source": [
    "!gdown 1ERwQ5odiK1Zvi1LtjpkzCMUswYsAX8_K  # train.csv\n",
    "!gdown 1fGw_-RFwvn_LEdt91Jq-7A-wzG6mmH8r  # test.csv\n",
    "!gdown 199Mt4OYZNaelT83U-HGDsEYs2YcUGQ6y  # submission.csv"
   ]
  },
  {
   "cell_type": "code",
   "execution_count": 4,
   "metadata": {
    "execution": {
     "iopub.execute_input": "2024-03-08T17:26:59.373407Z",
     "iopub.status.busy": "2024-03-08T17:26:59.372273Z",
     "iopub.status.idle": "2024-03-08T17:26:59.410428Z",
     "shell.execute_reply": "2024-03-08T17:26:59.409459Z",
     "shell.execute_reply.started": "2024-03-08T17:26:59.373357Z"
    },
    "id": "pw-Brue9EEY3"
   },
   "outputs": [],
   "source": [
    "data = pd.read_csv('./train.csv')#./train.csv"
   ]
  },
  {
   "cell_type": "code",
   "execution_count": 5,
   "metadata": {
    "execution": {
     "iopub.execute_input": "2024-03-08T17:26:59.412361Z",
     "iopub.status.busy": "2024-03-08T17:26:59.411890Z",
     "iopub.status.idle": "2024-03-08T17:26:59.418775Z",
     "shell.execute_reply": "2024-03-08T17:26:59.417677Z",
     "shell.execute_reply.started": "2024-03-08T17:26:59.412331Z"
    },
    "id": "KgnkkF5bEEY9"
   },
   "outputs": [],
   "source": [
    "# Для вашего удобства списки с именами разных колонок\n",
    "\n",
    "# Числовые признаки\n",
    "num_cols = [\n",
    "    'ClientPeriod',\n",
    "    'MonthlySpending',\n",
    "    'TotalSpent'\n",
    "]\n",
    "\n",
    "# Категориальные признаки\n",
    "cat_cols = [\n",
    "    'Sex',\n",
    "    'IsSeniorCitizen',\n",
    "    'HasPartner',\n",
    "    'HasChild',\n",
    "    'HasPhoneService',\n",
    "    'HasMultiplePhoneNumbers',\n",
    "    'HasInternetService',\n",
    "    'HasOnlineSecurityService',\n",
    "    'HasOnlineBackup',\n",
    "    'HasDeviceProtection',\n",
    "    'HasTechSupportAccess',\n",
    "    'HasOnlineTV',\n",
    "    'HasMovieSubscription',\n",
    "    'HasContractPhone',\n",
    "    'IsBillingPaperless',\n",
    "    'PaymentMethod'\n",
    "]\n",
    "\n",
    "feature_cols = num_cols + cat_cols\n",
    "target_col = 'Churn'"
   ]
  },
  {
   "cell_type": "code",
   "execution_count": 6,
   "metadata": {
    "execution": {
     "iopub.execute_input": "2024-03-08T17:26:59.421337Z",
     "iopub.status.busy": "2024-03-08T17:26:59.420678Z",
     "iopub.status.idle": "2024-03-08T17:26:59.453344Z",
     "shell.execute_reply": "2024-03-08T17:26:59.452472Z",
     "shell.execute_reply.started": "2024-03-08T17:26:59.421309Z"
    },
    "id": "tHC6gWabEEZA"
   },
   "outputs": [
    {
     "data": {
      "text/html": [
       "<div>\n",
       "<style scoped>\n",
       "    .dataframe tbody tr th:only-of-type {\n",
       "        vertical-align: middle;\n",
       "    }\n",
       "\n",
       "    .dataframe tbody tr th {\n",
       "        vertical-align: top;\n",
       "    }\n",
       "\n",
       "    .dataframe thead th {\n",
       "        text-align: right;\n",
       "    }\n",
       "</style>\n",
       "<table border=\"1\" class=\"dataframe\">\n",
       "  <thead>\n",
       "    <tr style=\"text-align: right;\">\n",
       "      <th></th>\n",
       "      <th>ClientPeriod</th>\n",
       "      <th>MonthlySpending</th>\n",
       "      <th>TotalSpent</th>\n",
       "      <th>Sex</th>\n",
       "      <th>IsSeniorCitizen</th>\n",
       "      <th>HasPartner</th>\n",
       "      <th>HasChild</th>\n",
       "      <th>HasPhoneService</th>\n",
       "      <th>HasMultiplePhoneNumbers</th>\n",
       "      <th>HasInternetService</th>\n",
       "      <th>HasOnlineSecurityService</th>\n",
       "      <th>HasOnlineBackup</th>\n",
       "      <th>HasDeviceProtection</th>\n",
       "      <th>HasTechSupportAccess</th>\n",
       "      <th>HasOnlineTV</th>\n",
       "      <th>HasMovieSubscription</th>\n",
       "      <th>HasContractPhone</th>\n",
       "      <th>IsBillingPaperless</th>\n",
       "      <th>PaymentMethod</th>\n",
       "      <th>Churn</th>\n",
       "    </tr>\n",
       "  </thead>\n",
       "  <tbody>\n",
       "    <tr>\n",
       "      <th>5120</th>\n",
       "      <td>65</td>\n",
       "      <td>99.10</td>\n",
       "      <td>6496.15</td>\n",
       "      <td>Male</td>\n",
       "      <td>1</td>\n",
       "      <td>No</td>\n",
       "      <td>No</td>\n",
       "      <td>Yes</td>\n",
       "      <td>No</td>\n",
       "      <td>Fiber optic</td>\n",
       "      <td>No</td>\n",
       "      <td>Yes</td>\n",
       "      <td>Yes</td>\n",
       "      <td>No</td>\n",
       "      <td>Yes</td>\n",
       "      <td>Yes</td>\n",
       "      <td>Month-to-month</td>\n",
       "      <td>Yes</td>\n",
       "      <td>Bank transfer (automatic)</td>\n",
       "      <td>0</td>\n",
       "    </tr>\n",
       "    <tr>\n",
       "      <th>1409</th>\n",
       "      <td>67</td>\n",
       "      <td>43.90</td>\n",
       "      <td>3097.2</td>\n",
       "      <td>Male</td>\n",
       "      <td>0</td>\n",
       "      <td>No</td>\n",
       "      <td>No</td>\n",
       "      <td>No</td>\n",
       "      <td>No phone service</td>\n",
       "      <td>DSL</td>\n",
       "      <td>Yes</td>\n",
       "      <td>No</td>\n",
       "      <td>No</td>\n",
       "      <td>Yes</td>\n",
       "      <td>Yes</td>\n",
       "      <td>No</td>\n",
       "      <td>Two year</td>\n",
       "      <td>No</td>\n",
       "      <td>Electronic check</td>\n",
       "      <td>0</td>\n",
       "    </tr>\n",
       "    <tr>\n",
       "      <th>4812</th>\n",
       "      <td>70</td>\n",
       "      <td>111.15</td>\n",
       "      <td>7737.55</td>\n",
       "      <td>Female</td>\n",
       "      <td>0</td>\n",
       "      <td>No</td>\n",
       "      <td>No</td>\n",
       "      <td>Yes</td>\n",
       "      <td>Yes</td>\n",
       "      <td>Fiber optic</td>\n",
       "      <td>Yes</td>\n",
       "      <td>Yes</td>\n",
       "      <td>Yes</td>\n",
       "      <td>No</td>\n",
       "      <td>Yes</td>\n",
       "      <td>Yes</td>\n",
       "      <td>Two year</td>\n",
       "      <td>Yes</td>\n",
       "      <td>Mailed check</td>\n",
       "      <td>0</td>\n",
       "    </tr>\n",
       "    <tr>\n",
       "      <th>4689</th>\n",
       "      <td>32</td>\n",
       "      <td>35.15</td>\n",
       "      <td>1051.05</td>\n",
       "      <td>Female</td>\n",
       "      <td>0</td>\n",
       "      <td>Yes</td>\n",
       "      <td>Yes</td>\n",
       "      <td>No</td>\n",
       "      <td>No phone service</td>\n",
       "      <td>DSL</td>\n",
       "      <td>Yes</td>\n",
       "      <td>Yes</td>\n",
       "      <td>No</td>\n",
       "      <td>No</td>\n",
       "      <td>No</td>\n",
       "      <td>No</td>\n",
       "      <td>Month-to-month</td>\n",
       "      <td>Yes</td>\n",
       "      <td>Electronic check</td>\n",
       "      <td>0</td>\n",
       "    </tr>\n",
       "    <tr>\n",
       "      <th>2454</th>\n",
       "      <td>4</td>\n",
       "      <td>48.55</td>\n",
       "      <td>201</td>\n",
       "      <td>Male</td>\n",
       "      <td>0</td>\n",
       "      <td>Yes</td>\n",
       "      <td>No</td>\n",
       "      <td>No</td>\n",
       "      <td>No phone service</td>\n",
       "      <td>DSL</td>\n",
       "      <td>No</td>\n",
       "      <td>Yes</td>\n",
       "      <td>No</td>\n",
       "      <td>No</td>\n",
       "      <td>Yes</td>\n",
       "      <td>Yes</td>\n",
       "      <td>Month-to-month</td>\n",
       "      <td>Yes</td>\n",
       "      <td>Electronic check</td>\n",
       "      <td>1</td>\n",
       "    </tr>\n",
       "  </tbody>\n",
       "</table>\n",
       "</div>"
      ],
      "text/plain": [
       "      ClientPeriod  MonthlySpending TotalSpent     Sex  IsSeniorCitizen  \\\n",
       "5120            65            99.10    6496.15    Male                1   \n",
       "1409            67            43.90     3097.2    Male                0   \n",
       "4812            70           111.15    7737.55  Female                0   \n",
       "4689            32            35.15    1051.05  Female                0   \n",
       "2454             4            48.55        201    Male                0   \n",
       "\n",
       "     HasPartner HasChild HasPhoneService HasMultiplePhoneNumbers  \\\n",
       "5120         No       No             Yes                      No   \n",
       "1409         No       No              No        No phone service   \n",
       "4812         No       No             Yes                     Yes   \n",
       "4689        Yes      Yes              No        No phone service   \n",
       "2454        Yes       No              No        No phone service   \n",
       "\n",
       "     HasInternetService HasOnlineSecurityService HasOnlineBackup  \\\n",
       "5120        Fiber optic                       No             Yes   \n",
       "1409                DSL                      Yes              No   \n",
       "4812        Fiber optic                      Yes             Yes   \n",
       "4689                DSL                      Yes             Yes   \n",
       "2454                DSL                       No             Yes   \n",
       "\n",
       "     HasDeviceProtection HasTechSupportAccess HasOnlineTV  \\\n",
       "5120                 Yes                   No         Yes   \n",
       "1409                  No                  Yes         Yes   \n",
       "4812                 Yes                   No         Yes   \n",
       "4689                  No                   No          No   \n",
       "2454                  No                   No         Yes   \n",
       "\n",
       "     HasMovieSubscription HasContractPhone IsBillingPaperless  \\\n",
       "5120                  Yes   Month-to-month                Yes   \n",
       "1409                   No         Two year                 No   \n",
       "4812                  Yes         Two year                Yes   \n",
       "4689                   No   Month-to-month                Yes   \n",
       "2454                  Yes   Month-to-month                Yes   \n",
       "\n",
       "                  PaymentMethod  Churn  \n",
       "5120  Bank transfer (automatic)      0  \n",
       "1409           Electronic check      0  \n",
       "4812               Mailed check      0  \n",
       "4689           Electronic check      0  \n",
       "2454           Electronic check      1  "
      ]
     },
     "execution_count": 6,
     "metadata": {},
     "output_type": "execute_result"
    }
   ],
   "source": [
    "#посмотрим на наши данные\n",
    "data.sample(5)"
   ]
  },
  {
   "cell_type": "code",
   "execution_count": 7,
   "metadata": {
    "execution": {
     "iopub.execute_input": "2024-03-08T17:26:59.454902Z",
     "iopub.status.busy": "2024-03-08T17:26:59.454595Z",
     "iopub.status.idle": "2024-03-08T17:26:59.473934Z",
     "shell.execute_reply": "2024-03-08T17:26:59.472773Z",
     "shell.execute_reply.started": "2024-03-08T17:26:59.454877Z"
    }
   },
   "outputs": [
    {
     "data": {
      "text/plain": [
       "ClientPeriod                0\n",
       "MonthlySpending             0\n",
       "TotalSpent                  0\n",
       "Sex                         0\n",
       "IsSeniorCitizen             0\n",
       "HasPartner                  0\n",
       "HasChild                    0\n",
       "HasPhoneService             0\n",
       "HasMultiplePhoneNumbers     0\n",
       "HasInternetService          0\n",
       "HasOnlineSecurityService    0\n",
       "HasOnlineBackup             0\n",
       "HasDeviceProtection         0\n",
       "HasTechSupportAccess        0\n",
       "HasOnlineTV                 0\n",
       "HasMovieSubscription        0\n",
       "HasContractPhone            0\n",
       "IsBillingPaperless          0\n",
       "PaymentMethod               0\n",
       "Churn                       0\n",
       "dtype: int64"
      ]
     },
     "execution_count": 7,
     "metadata": {},
     "output_type": "execute_result"
    }
   ],
   "source": [
    "#проверим есть ли пропукски\n",
    "data.isnull().sum()"
   ]
  },
  {
   "cell_type": "markdown",
   "metadata": {
    "execution": {
     "iopub.execute_input": "2024-03-07T13:45:26.794755Z",
     "iopub.status.busy": "2024-03-07T13:45:26.794323Z",
     "iopub.status.idle": "2024-03-07T13:45:26.828170Z",
     "shell.execute_reply": "2024-03-07T13:45:26.826799Z",
     "shell.execute_reply.started": "2024-03-07T13:45:26.794724Z"
    }
   },
   "source": [
    "*В данных пропусков не наблюдается, НО они могут также быть представлены различными символами*"
   ]
  },
  {
   "cell_type": "markdown",
   "metadata": {},
   "source": [
    " <p style=\"border:2px black solid; padding:10px\">Проверим есть ли пропуски в виде пробелов</p>"
   ]
  },
  {
   "cell_type": "code",
   "execution_count": 8,
   "metadata": {
    "execution": {
     "iopub.execute_input": "2024-03-08T17:26:59.475802Z",
     "iopub.status.busy": "2024-03-08T17:26:59.475469Z",
     "iopub.status.idle": "2024-03-08T17:26:59.516430Z",
     "shell.execute_reply": "2024-03-08T17:26:59.515147Z",
     "shell.execute_reply.started": "2024-03-08T17:26:59.475776Z"
    }
   },
   "outputs": [
    {
     "name": "stdout",
     "output_type": "stream",
     "text": [
      "<class 'pandas.core.frame.DataFrame'>\n",
      "RangeIndex: 5282 entries, 0 to 5281\n",
      "Data columns (total 20 columns):\n",
      " #   Column                    Non-Null Count  Dtype  \n",
      "---  ------                    --------------  -----  \n",
      " 0   ClientPeriod              0 non-null      float64\n",
      " 1   MonthlySpending           0 non-null      float64\n",
      " 2   TotalSpent                9 non-null      object \n",
      " 3   Sex                       0 non-null      object \n",
      " 4   IsSeniorCitizen           0 non-null      float64\n",
      " 5   HasPartner                0 non-null      object \n",
      " 6   HasChild                  0 non-null      object \n",
      " 7   HasPhoneService           0 non-null      object \n",
      " 8   HasMultiplePhoneNumbers   0 non-null      object \n",
      " 9   HasInternetService        0 non-null      object \n",
      " 10  HasOnlineSecurityService  0 non-null      object \n",
      " 11  HasOnlineBackup           0 non-null      object \n",
      " 12  HasDeviceProtection       0 non-null      object \n",
      " 13  HasTechSupportAccess      0 non-null      object \n",
      " 14  HasOnlineTV               0 non-null      object \n",
      " 15  HasMovieSubscription      0 non-null      object \n",
      " 16  HasContractPhone          0 non-null      object \n",
      " 17  IsBillingPaperless        0 non-null      object \n",
      " 18  PaymentMethod             0 non-null      object \n",
      " 19  Churn                     0 non-null      float64\n",
      "dtypes: float64(4), object(16)\n",
      "memory usage: 825.4+ KB\n"
     ]
    }
   ],
   "source": [
    "data.where(data == ' ').info()"
   ]
  },
  {
   "cell_type": "code",
   "execution_count": 9,
   "metadata": {
    "execution": {
     "iopub.execute_input": "2024-03-08T17:26:59.521499Z",
     "iopub.status.busy": "2024-03-08T17:26:59.521160Z",
     "iopub.status.idle": "2024-03-08T17:26:59.549295Z",
     "shell.execute_reply": "2024-03-08T17:26:59.548034Z",
     "shell.execute_reply.started": "2024-03-08T17:26:59.521472Z"
    }
   },
   "outputs": [
    {
     "data": {
      "text/html": [
       "<div>\n",
       "<style scoped>\n",
       "    .dataframe tbody tr th:only-of-type {\n",
       "        vertical-align: middle;\n",
       "    }\n",
       "\n",
       "    .dataframe tbody tr th {\n",
       "        vertical-align: top;\n",
       "    }\n",
       "\n",
       "    .dataframe thead th {\n",
       "        text-align: right;\n",
       "    }\n",
       "</style>\n",
       "<table border=\"1\" class=\"dataframe\">\n",
       "  <thead>\n",
       "    <tr style=\"text-align: right;\">\n",
       "      <th></th>\n",
       "      <th>ClientPeriod</th>\n",
       "      <th>MonthlySpending</th>\n",
       "      <th>TotalSpent</th>\n",
       "      <th>Sex</th>\n",
       "      <th>IsSeniorCitizen</th>\n",
       "      <th>HasPartner</th>\n",
       "      <th>HasChild</th>\n",
       "      <th>HasPhoneService</th>\n",
       "      <th>HasMultiplePhoneNumbers</th>\n",
       "      <th>HasInternetService</th>\n",
       "      <th>HasOnlineSecurityService</th>\n",
       "      <th>HasOnlineBackup</th>\n",
       "      <th>HasDeviceProtection</th>\n",
       "      <th>HasTechSupportAccess</th>\n",
       "      <th>HasOnlineTV</th>\n",
       "      <th>HasMovieSubscription</th>\n",
       "      <th>HasContractPhone</th>\n",
       "      <th>IsBillingPaperless</th>\n",
       "      <th>PaymentMethod</th>\n",
       "      <th>Churn</th>\n",
       "    </tr>\n",
       "  </thead>\n",
       "  <tbody>\n",
       "    <tr>\n",
       "      <th>1048</th>\n",
       "      <td>0</td>\n",
       "      <td>25.75</td>\n",
       "      <td></td>\n",
       "      <td>Male</td>\n",
       "      <td>0</td>\n",
       "      <td>Yes</td>\n",
       "      <td>Yes</td>\n",
       "      <td>Yes</td>\n",
       "      <td>Yes</td>\n",
       "      <td>No</td>\n",
       "      <td>No internet service</td>\n",
       "      <td>No internet service</td>\n",
       "      <td>No internet service</td>\n",
       "      <td>No internet service</td>\n",
       "      <td>No internet service</td>\n",
       "      <td>No internet service</td>\n",
       "      <td>Two year</td>\n",
       "      <td>No</td>\n",
       "      <td>Mailed check</td>\n",
       "      <td>0</td>\n",
       "    </tr>\n",
       "    <tr>\n",
       "      <th>1707</th>\n",
       "      <td>0</td>\n",
       "      <td>73.35</td>\n",
       "      <td></td>\n",
       "      <td>Female</td>\n",
       "      <td>0</td>\n",
       "      <td>Yes</td>\n",
       "      <td>Yes</td>\n",
       "      <td>Yes</td>\n",
       "      <td>Yes</td>\n",
       "      <td>DSL</td>\n",
       "      <td>No</td>\n",
       "      <td>Yes</td>\n",
       "      <td>Yes</td>\n",
       "      <td>Yes</td>\n",
       "      <td>Yes</td>\n",
       "      <td>No</td>\n",
       "      <td>Two year</td>\n",
       "      <td>No</td>\n",
       "      <td>Mailed check</td>\n",
       "      <td>0</td>\n",
       "    </tr>\n",
       "    <tr>\n",
       "      <th>2543</th>\n",
       "      <td>0</td>\n",
       "      <td>19.70</td>\n",
       "      <td></td>\n",
       "      <td>Male</td>\n",
       "      <td>0</td>\n",
       "      <td>Yes</td>\n",
       "      <td>Yes</td>\n",
       "      <td>Yes</td>\n",
       "      <td>No</td>\n",
       "      <td>No</td>\n",
       "      <td>No internet service</td>\n",
       "      <td>No internet service</td>\n",
       "      <td>No internet service</td>\n",
       "      <td>No internet service</td>\n",
       "      <td>No internet service</td>\n",
       "      <td>No internet service</td>\n",
       "      <td>One year</td>\n",
       "      <td>Yes</td>\n",
       "      <td>Mailed check</td>\n",
       "      <td>0</td>\n",
       "    </tr>\n",
       "    <tr>\n",
       "      <th>3078</th>\n",
       "      <td>0</td>\n",
       "      <td>80.85</td>\n",
       "      <td></td>\n",
       "      <td>Female</td>\n",
       "      <td>0</td>\n",
       "      <td>Yes</td>\n",
       "      <td>Yes</td>\n",
       "      <td>Yes</td>\n",
       "      <td>No</td>\n",
       "      <td>DSL</td>\n",
       "      <td>Yes</td>\n",
       "      <td>Yes</td>\n",
       "      <td>Yes</td>\n",
       "      <td>No</td>\n",
       "      <td>Yes</td>\n",
       "      <td>Yes</td>\n",
       "      <td>Two year</td>\n",
       "      <td>No</td>\n",
       "      <td>Mailed check</td>\n",
       "      <td>0</td>\n",
       "    </tr>\n",
       "    <tr>\n",
       "      <th>3697</th>\n",
       "      <td>0</td>\n",
       "      <td>20.00</td>\n",
       "      <td></td>\n",
       "      <td>Female</td>\n",
       "      <td>0</td>\n",
       "      <td>Yes</td>\n",
       "      <td>Yes</td>\n",
       "      <td>Yes</td>\n",
       "      <td>No</td>\n",
       "      <td>No</td>\n",
       "      <td>No internet service</td>\n",
       "      <td>No internet service</td>\n",
       "      <td>No internet service</td>\n",
       "      <td>No internet service</td>\n",
       "      <td>No internet service</td>\n",
       "      <td>No internet service</td>\n",
       "      <td>Two year</td>\n",
       "      <td>No</td>\n",
       "      <td>Mailed check</td>\n",
       "      <td>0</td>\n",
       "    </tr>\n",
       "    <tr>\n",
       "      <th>4002</th>\n",
       "      <td>0</td>\n",
       "      <td>61.90</td>\n",
       "      <td></td>\n",
       "      <td>Male</td>\n",
       "      <td>0</td>\n",
       "      <td>No</td>\n",
       "      <td>Yes</td>\n",
       "      <td>Yes</td>\n",
       "      <td>Yes</td>\n",
       "      <td>DSL</td>\n",
       "      <td>Yes</td>\n",
       "      <td>Yes</td>\n",
       "      <td>No</td>\n",
       "      <td>Yes</td>\n",
       "      <td>No</td>\n",
       "      <td>No</td>\n",
       "      <td>Two year</td>\n",
       "      <td>Yes</td>\n",
       "      <td>Bank transfer (automatic)</td>\n",
       "      <td>0</td>\n",
       "    </tr>\n",
       "    <tr>\n",
       "      <th>4326</th>\n",
       "      <td>0</td>\n",
       "      <td>25.35</td>\n",
       "      <td></td>\n",
       "      <td>Male</td>\n",
       "      <td>0</td>\n",
       "      <td>Yes</td>\n",
       "      <td>Yes</td>\n",
       "      <td>Yes</td>\n",
       "      <td>Yes</td>\n",
       "      <td>No</td>\n",
       "      <td>No internet service</td>\n",
       "      <td>No internet service</td>\n",
       "      <td>No internet service</td>\n",
       "      <td>No internet service</td>\n",
       "      <td>No internet service</td>\n",
       "      <td>No internet service</td>\n",
       "      <td>Two year</td>\n",
       "      <td>No</td>\n",
       "      <td>Mailed check</td>\n",
       "      <td>0</td>\n",
       "    </tr>\n",
       "    <tr>\n",
       "      <th>4551</th>\n",
       "      <td>0</td>\n",
       "      <td>52.55</td>\n",
       "      <td></td>\n",
       "      <td>Female</td>\n",
       "      <td>0</td>\n",
       "      <td>Yes</td>\n",
       "      <td>Yes</td>\n",
       "      <td>No</td>\n",
       "      <td>No phone service</td>\n",
       "      <td>DSL</td>\n",
       "      <td>Yes</td>\n",
       "      <td>No</td>\n",
       "      <td>Yes</td>\n",
       "      <td>Yes</td>\n",
       "      <td>Yes</td>\n",
       "      <td>No</td>\n",
       "      <td>Two year</td>\n",
       "      <td>Yes</td>\n",
       "      <td>Bank transfer (automatic)</td>\n",
       "      <td>0</td>\n",
       "    </tr>\n",
       "    <tr>\n",
       "      <th>4598</th>\n",
       "      <td>0</td>\n",
       "      <td>56.05</td>\n",
       "      <td></td>\n",
       "      <td>Female</td>\n",
       "      <td>0</td>\n",
       "      <td>Yes</td>\n",
       "      <td>Yes</td>\n",
       "      <td>No</td>\n",
       "      <td>No phone service</td>\n",
       "      <td>DSL</td>\n",
       "      <td>Yes</td>\n",
       "      <td>Yes</td>\n",
       "      <td>Yes</td>\n",
       "      <td>Yes</td>\n",
       "      <td>Yes</td>\n",
       "      <td>No</td>\n",
       "      <td>Two year</td>\n",
       "      <td>No</td>\n",
       "      <td>Credit card (automatic)</td>\n",
       "      <td>0</td>\n",
       "    </tr>\n",
       "  </tbody>\n",
       "</table>\n",
       "</div>"
      ],
      "text/plain": [
       "      ClientPeriod  MonthlySpending TotalSpent     Sex  IsSeniorCitizen  \\\n",
       "1048             0            25.75               Male                0   \n",
       "1707             0            73.35             Female                0   \n",
       "2543             0            19.70               Male                0   \n",
       "3078             0            80.85             Female                0   \n",
       "3697             0            20.00             Female                0   \n",
       "4002             0            61.90               Male                0   \n",
       "4326             0            25.35               Male                0   \n",
       "4551             0            52.55             Female                0   \n",
       "4598             0            56.05             Female                0   \n",
       "\n",
       "     HasPartner HasChild HasPhoneService HasMultiplePhoneNumbers  \\\n",
       "1048        Yes      Yes             Yes                     Yes   \n",
       "1707        Yes      Yes             Yes                     Yes   \n",
       "2543        Yes      Yes             Yes                      No   \n",
       "3078        Yes      Yes             Yes                      No   \n",
       "3697        Yes      Yes             Yes                      No   \n",
       "4002         No      Yes             Yes                     Yes   \n",
       "4326        Yes      Yes             Yes                     Yes   \n",
       "4551        Yes      Yes              No        No phone service   \n",
       "4598        Yes      Yes              No        No phone service   \n",
       "\n",
       "     HasInternetService HasOnlineSecurityService      HasOnlineBackup  \\\n",
       "1048                 No      No internet service  No internet service   \n",
       "1707                DSL                       No                  Yes   \n",
       "2543                 No      No internet service  No internet service   \n",
       "3078                DSL                      Yes                  Yes   \n",
       "3697                 No      No internet service  No internet service   \n",
       "4002                DSL                      Yes                  Yes   \n",
       "4326                 No      No internet service  No internet service   \n",
       "4551                DSL                      Yes                   No   \n",
       "4598                DSL                      Yes                  Yes   \n",
       "\n",
       "      HasDeviceProtection HasTechSupportAccess          HasOnlineTV  \\\n",
       "1048  No internet service  No internet service  No internet service   \n",
       "1707                  Yes                  Yes                  Yes   \n",
       "2543  No internet service  No internet service  No internet service   \n",
       "3078                  Yes                   No                  Yes   \n",
       "3697  No internet service  No internet service  No internet service   \n",
       "4002                   No                  Yes                   No   \n",
       "4326  No internet service  No internet service  No internet service   \n",
       "4551                  Yes                  Yes                  Yes   \n",
       "4598                  Yes                  Yes                  Yes   \n",
       "\n",
       "     HasMovieSubscription HasContractPhone IsBillingPaperless  \\\n",
       "1048  No internet service         Two year                 No   \n",
       "1707                   No         Two year                 No   \n",
       "2543  No internet service         One year                Yes   \n",
       "3078                  Yes         Two year                 No   \n",
       "3697  No internet service         Two year                 No   \n",
       "4002                   No         Two year                Yes   \n",
       "4326  No internet service         Two year                 No   \n",
       "4551                   No         Two year                Yes   \n",
       "4598                   No         Two year                 No   \n",
       "\n",
       "                  PaymentMethod  Churn  \n",
       "1048               Mailed check      0  \n",
       "1707               Mailed check      0  \n",
       "2543               Mailed check      0  \n",
       "3078               Mailed check      0  \n",
       "3697               Mailed check      0  \n",
       "4002  Bank transfer (automatic)      0  \n",
       "4326               Mailed check      0  \n",
       "4551  Bank transfer (automatic)      0  \n",
       "4598    Credit card (automatic)      0  "
      ]
     },
     "execution_count": 9,
     "metadata": {},
     "output_type": "execute_result"
    }
   ],
   "source": [
    "#выведем часть с пропусками\n",
    "data.loc[data.TotalSpent == ' ']"
   ]
  },
  {
   "cell_type": "markdown",
   "metadata": {},
   "source": [
    "*Видим 9 пустых строк*"
   ]
  },
  {
   "cell_type": "code",
   "execution_count": 10,
   "metadata": {
    "execution": {
     "iopub.execute_input": "2024-03-08T17:26:59.551599Z",
     "iopub.status.busy": "2024-03-08T17:26:59.551174Z",
     "iopub.status.idle": "2024-03-08T17:26:59.562799Z",
     "shell.execute_reply": "2024-03-08T17:26:59.561244Z",
     "shell.execute_reply.started": "2024-03-08T17:26:59.551569Z"
    }
   },
   "outputs": [],
   "source": [
    "#удалим их\n",
    "data.drop(index = list(data.loc[data.TotalSpent == ' '].index), inplace=True)"
   ]
  },
  {
   "cell_type": "code",
   "execution_count": 11,
   "metadata": {
    "execution": {
     "iopub.execute_input": "2024-03-08T17:26:59.565244Z",
     "iopub.status.busy": "2024-03-08T17:26:59.564220Z",
     "iopub.status.idle": "2024-03-08T17:26:59.571614Z",
     "shell.execute_reply": "2024-03-08T17:26:59.570716Z",
     "shell.execute_reply.started": "2024-03-08T17:26:59.565205Z"
    }
   },
   "outputs": [],
   "source": [
    "#обновим индексы\n",
    "data = data.reset_index(drop=True)"
   ]
  },
  {
   "cell_type": "code",
   "execution_count": 12,
   "metadata": {
    "execution": {
     "iopub.execute_input": "2024-03-08T17:26:59.573248Z",
     "iopub.status.busy": "2024-03-08T17:26:59.572874Z",
     "iopub.status.idle": "2024-03-08T17:26:59.590164Z",
     "shell.execute_reply": "2024-03-08T17:26:59.589339Z",
     "shell.execute_reply.started": "2024-03-08T17:26:59.573221Z"
    }
   },
   "outputs": [
    {
     "name": "stdout",
     "output_type": "stream",
     "text": [
      "<class 'pandas.core.frame.DataFrame'>\n",
      "RangeIndex: 5273 entries, 0 to 5272\n",
      "Data columns (total 20 columns):\n",
      " #   Column                    Non-Null Count  Dtype  \n",
      "---  ------                    --------------  -----  \n",
      " 0   ClientPeriod              5273 non-null   int64  \n",
      " 1   MonthlySpending           5273 non-null   float64\n",
      " 2   TotalSpent                5273 non-null   object \n",
      " 3   Sex                       5273 non-null   object \n",
      " 4   IsSeniorCitizen           5273 non-null   int64  \n",
      " 5   HasPartner                5273 non-null   object \n",
      " 6   HasChild                  5273 non-null   object \n",
      " 7   HasPhoneService           5273 non-null   object \n",
      " 8   HasMultiplePhoneNumbers   5273 non-null   object \n",
      " 9   HasInternetService        5273 non-null   object \n",
      " 10  HasOnlineSecurityService  5273 non-null   object \n",
      " 11  HasOnlineBackup           5273 non-null   object \n",
      " 12  HasDeviceProtection       5273 non-null   object \n",
      " 13  HasTechSupportAccess      5273 non-null   object \n",
      " 14  HasOnlineTV               5273 non-null   object \n",
      " 15  HasMovieSubscription      5273 non-null   object \n",
      " 16  HasContractPhone          5273 non-null   object \n",
      " 17  IsBillingPaperless        5273 non-null   object \n",
      " 18  PaymentMethod             5273 non-null   object \n",
      " 19  Churn                     5273 non-null   int64  \n",
      "dtypes: float64(1), int64(3), object(16)\n",
      "memory usage: 824.0+ KB\n"
     ]
    }
   ],
   "source": [
    "#проверим\n",
    "' ' in data.values\n",
    "data.info()"
   ]
  },
  {
   "cell_type": "markdown",
   "metadata": {},
   "source": [
    "*Избавились от пропусков*"
   ]
  },
  {
   "cell_type": "markdown",
   "metadata": {
    "id": "dK370bPCEEZD"
   },
   "source": [
    "## Анализ данных (3 балла)\n",
    "\n",
    "1) Для численных призанков постройте гистограмму (*plt.hist(...)*) или boxplot (*plt.boxplot(...)*). Для категориальных посчитайте количество каждого значения для каждого признака. Для каждой колонки надо сделать *data.value_counts()* и построить bar диаграммы *plt.bar(...)* или круговые диаграммы *plt.pie(...)* (хорошо, елси вы сможете это сделать на одном гарфике с помощью *plt.subplots(...)*).\n",
    "\n",
    "2) Посмотрите на распределение целевой переменной и скажите, являются ли классы несбалансированными.\n",
    "\n",
    "3) (Если будет желание) Поиграйте с разными библиотеками для визуализации - *sns*, *pandas_visual_analysis*, etc.\n",
    "\n",
    "Второй пункт очень важен, потому что существуют задачи классификации с несбалансированными классами. Например, это может значить, что в датасете намного больше примеров 0 класса. В таких случаях нужно 1) не использовать accuracy как метрику 2) использовать методы борьбы с imbalanced dataset (обычно если датасет сильно несбалансирован, т.е. класса 1 в 20 раз меньше класса 0)."
   ]
  },
  {
   "cell_type": "markdown",
   "metadata": {},
   "source": [
    "**1**"
   ]
  },
  {
   "cell_type": "code",
   "execution_count": 13,
   "metadata": {
    "execution": {
     "iopub.execute_input": "2024-03-08T17:26:59.592125Z",
     "iopub.status.busy": "2024-03-08T17:26:59.591209Z",
     "iopub.status.idle": "2024-03-08T17:26:59.606038Z",
     "shell.execute_reply": "2024-03-08T17:26:59.604988Z",
     "shell.execute_reply.started": "2024-03-08T17:26:59.592096Z"
    },
    "id": "NZkbgFJZEEZE"
   },
   "outputs": [
    {
     "data": {
      "text/html": [
       "<div>\n",
       "<style scoped>\n",
       "    .dataframe tbody tr th:only-of-type {\n",
       "        vertical-align: middle;\n",
       "    }\n",
       "\n",
       "    .dataframe tbody tr th {\n",
       "        vertical-align: top;\n",
       "    }\n",
       "\n",
       "    .dataframe thead th {\n",
       "        text-align: right;\n",
       "    }\n",
       "</style>\n",
       "<table border=\"1\" class=\"dataframe\">\n",
       "  <thead>\n",
       "    <tr style=\"text-align: right;\">\n",
       "      <th></th>\n",
       "      <th>ClientPeriod</th>\n",
       "      <th>MonthlySpending</th>\n",
       "      <th>TotalSpent</th>\n",
       "    </tr>\n",
       "  </thead>\n",
       "  <tbody>\n",
       "    <tr>\n",
       "      <th>0</th>\n",
       "      <td>55</td>\n",
       "      <td>19.50</td>\n",
       "      <td>1026.35</td>\n",
       "    </tr>\n",
       "    <tr>\n",
       "      <th>1</th>\n",
       "      <td>72</td>\n",
       "      <td>25.85</td>\n",
       "      <td>1872.2</td>\n",
       "    </tr>\n",
       "    <tr>\n",
       "      <th>2</th>\n",
       "      <td>1</td>\n",
       "      <td>75.90</td>\n",
       "      <td>75.9</td>\n",
       "    </tr>\n",
       "    <tr>\n",
       "      <th>3</th>\n",
       "      <td>32</td>\n",
       "      <td>79.30</td>\n",
       "      <td>2570</td>\n",
       "    </tr>\n",
       "    <tr>\n",
       "      <th>4</th>\n",
       "      <td>60</td>\n",
       "      <td>115.25</td>\n",
       "      <td>6758.45</td>\n",
       "    </tr>\n",
       "    <tr>\n",
       "      <th>...</th>\n",
       "      <td>...</td>\n",
       "      <td>...</td>\n",
       "      <td>...</td>\n",
       "    </tr>\n",
       "    <tr>\n",
       "      <th>5268</th>\n",
       "      <td>3</td>\n",
       "      <td>30.40</td>\n",
       "      <td>82.15</td>\n",
       "    </tr>\n",
       "    <tr>\n",
       "      <th>5269</th>\n",
       "      <td>50</td>\n",
       "      <td>44.45</td>\n",
       "      <td>2188.45</td>\n",
       "    </tr>\n",
       "    <tr>\n",
       "      <th>5270</th>\n",
       "      <td>1</td>\n",
       "      <td>55.05</td>\n",
       "      <td>55.05</td>\n",
       "    </tr>\n",
       "    <tr>\n",
       "      <th>5271</th>\n",
       "      <td>29</td>\n",
       "      <td>76.00</td>\n",
       "      <td>2215.25</td>\n",
       "    </tr>\n",
       "    <tr>\n",
       "      <th>5272</th>\n",
       "      <td>19</td>\n",
       "      <td>75.90</td>\n",
       "      <td>1375.6</td>\n",
       "    </tr>\n",
       "  </tbody>\n",
       "</table>\n",
       "<p>5273 rows × 3 columns</p>\n",
       "</div>"
      ],
      "text/plain": [
       "      ClientPeriod  MonthlySpending TotalSpent\n",
       "0               55            19.50    1026.35\n",
       "1               72            25.85     1872.2\n",
       "2                1            75.90       75.9\n",
       "3               32            79.30       2570\n",
       "4               60           115.25    6758.45\n",
       "...            ...              ...        ...\n",
       "5268             3            30.40      82.15\n",
       "5269            50            44.45    2188.45\n",
       "5270             1            55.05      55.05\n",
       "5271            29            76.00    2215.25\n",
       "5272            19            75.90     1375.6\n",
       "\n",
       "[5273 rows x 3 columns]"
      ]
     },
     "execution_count": 13,
     "metadata": {},
     "output_type": "execute_result"
    }
   ],
   "source": [
    "#посмотрим на численные признаки\n",
    "data.loc[:, num_cols]"
   ]
  },
  {
   "cell_type": "markdown",
   "metadata": {},
   "source": [
    " <p style=\"border:2px black solid; padding:10px\">Построим для каждого признака гистограмму</p>"
   ]
  },
  {
   "cell_type": "code",
   "execution_count": 14,
   "metadata": {
    "execution": {
     "iopub.execute_input": "2024-03-08T17:26:59.607759Z",
     "iopub.status.busy": "2024-03-08T17:26:59.607418Z",
     "iopub.status.idle": "2024-03-08T17:28:24.046555Z",
     "shell.execute_reply": "2024-03-08T17:28:24.045397Z",
     "shell.execute_reply.started": "2024-03-08T17:26:59.607732Z"
    }
   },
   "outputs": [
    {
     "data": {
      "image/png": "[encoded data removed]",
      "text/plain": [
       "<Figure size 1000x500 with 3 Axes>"
      ]
     },
     "metadata": {},
     "output_type": "display_data"
    }
   ],
   "source": [
    "#числовые переменные\n",
    "fig, axes = plt.subplots(3, 1, figsize=(10, 5), constrained_layout=True)\n",
    "sns.histplot(ax=axes[0], x=data[num_cols[0]], kde=True, color='palegreen')\n",
    "sns.histplot(ax=axes[1],  x=data[num_cols[1]], kde=True,  color='mediumslateblue')\n",
    "sns.histplot(ax=axes[2], x=data[num_cols[2]],kde=True, color='salmon');"
   ]
  },
  {
   "cell_type": "code",
   "execution_count": 15,
   "metadata": {
    "execution": {
     "iopub.execute_input": "2024-03-08T17:28:24.049399Z",
     "iopub.status.busy": "2024-03-08T17:28:24.048631Z",
     "iopub.status.idle": "2024-03-08T17:28:24.077134Z",
     "shell.execute_reply": "2024-03-08T17:28:24.076087Z",
     "shell.execute_reply.started": "2024-03-08T17:28:24.049355Z"
    }
   },
   "outputs": [
    {
     "data": {
      "text/html": [
       "<div>\n",
       "<style scoped>\n",
       "    .dataframe tbody tr th:only-of-type {\n",
       "        vertical-align: middle;\n",
       "    }\n",
       "\n",
       "    .dataframe tbody tr th {\n",
       "        vertical-align: top;\n",
       "    }\n",
       "\n",
       "    .dataframe thead th {\n",
       "        text-align: right;\n",
       "    }\n",
       "</style>\n",
       "<table border=\"1\" class=\"dataframe\">\n",
       "  <thead>\n",
       "    <tr style=\"text-align: right;\">\n",
       "      <th></th>\n",
       "      <th>Sex</th>\n",
       "      <th>IsSeniorCitizen</th>\n",
       "      <th>HasPartner</th>\n",
       "      <th>HasChild</th>\n",
       "      <th>HasPhoneService</th>\n",
       "      <th>HasMultiplePhoneNumbers</th>\n",
       "      <th>HasInternetService</th>\n",
       "      <th>HasOnlineSecurityService</th>\n",
       "      <th>HasOnlineBackup</th>\n",
       "      <th>HasDeviceProtection</th>\n",
       "      <th>HasTechSupportAccess</th>\n",
       "      <th>HasOnlineTV</th>\n",
       "      <th>HasMovieSubscription</th>\n",
       "      <th>HasContractPhone</th>\n",
       "      <th>IsBillingPaperless</th>\n",
       "      <th>PaymentMethod</th>\n",
       "    </tr>\n",
       "  </thead>\n",
       "  <tbody>\n",
       "    <tr>\n",
       "      <th>0</th>\n",
       "      <td>Male</td>\n",
       "      <td>0</td>\n",
       "      <td>Yes</td>\n",
       "      <td>Yes</td>\n",
       "      <td>Yes</td>\n",
       "      <td>No</td>\n",
       "      <td>No</td>\n",
       "      <td>No internet service</td>\n",
       "      <td>No internet service</td>\n",
       "      <td>No internet service</td>\n",
       "      <td>No internet service</td>\n",
       "      <td>No internet service</td>\n",
       "      <td>No internet service</td>\n",
       "      <td>One year</td>\n",
       "      <td>No</td>\n",
       "      <td>Mailed check</td>\n",
       "    </tr>\n",
       "    <tr>\n",
       "      <th>1</th>\n",
       "      <td>Male</td>\n",
       "      <td>0</td>\n",
       "      <td>Yes</td>\n",
       "      <td>No</td>\n",
       "      <td>Yes</td>\n",
       "      <td>Yes</td>\n",
       "      <td>No</td>\n",
       "      <td>No internet service</td>\n",
       "      <td>No internet service</td>\n",
       "      <td>No internet service</td>\n",
       "      <td>No internet service</td>\n",
       "      <td>No internet service</td>\n",
       "      <td>No internet service</td>\n",
       "      <td>Two year</td>\n",
       "      <td>No</td>\n",
       "      <td>Credit card (automatic)</td>\n",
       "    </tr>\n",
       "    <tr>\n",
       "      <th>2</th>\n",
       "      <td>Male</td>\n",
       "      <td>0</td>\n",
       "      <td>No</td>\n",
       "      <td>No</td>\n",
       "      <td>Yes</td>\n",
       "      <td>No</td>\n",
       "      <td>Fiber optic</td>\n",
       "      <td>No</td>\n",
       "      <td>No</td>\n",
       "      <td>No</td>\n",
       "      <td>Yes</td>\n",
       "      <td>No</td>\n",
       "      <td>No</td>\n",
       "      <td>Month-to-month</td>\n",
       "      <td>Yes</td>\n",
       "      <td>Electronic check</td>\n",
       "    </tr>\n",
       "    <tr>\n",
       "      <th>3</th>\n",
       "      <td>Female</td>\n",
       "      <td>1</td>\n",
       "      <td>Yes</td>\n",
       "      <td>No</td>\n",
       "      <td>Yes</td>\n",
       "      <td>Yes</td>\n",
       "      <td>Fiber optic</td>\n",
       "      <td>No</td>\n",
       "      <td>No</td>\n",
       "      <td>Yes</td>\n",
       "      <td>No</td>\n",
       "      <td>No</td>\n",
       "      <td>No</td>\n",
       "      <td>Month-to-month</td>\n",
       "      <td>No</td>\n",
       "      <td>Mailed check</td>\n",
       "    </tr>\n",
       "    <tr>\n",
       "      <th>4</th>\n",
       "      <td>Female</td>\n",
       "      <td>0</td>\n",
       "      <td>Yes</td>\n",
       "      <td>Yes</td>\n",
       "      <td>Yes</td>\n",
       "      <td>Yes</td>\n",
       "      <td>Fiber optic</td>\n",
       "      <td>Yes</td>\n",
       "      <td>Yes</td>\n",
       "      <td>Yes</td>\n",
       "      <td>Yes</td>\n",
       "      <td>Yes</td>\n",
       "      <td>Yes</td>\n",
       "      <td>Two year</td>\n",
       "      <td>No</td>\n",
       "      <td>Credit card (automatic)</td>\n",
       "    </tr>\n",
       "    <tr>\n",
       "      <th>...</th>\n",
       "      <td>...</td>\n",
       "      <td>...</td>\n",
       "      <td>...</td>\n",
       "      <td>...</td>\n",
       "      <td>...</td>\n",
       "      <td>...</td>\n",
       "      <td>...</td>\n",
       "      <td>...</td>\n",
       "      <td>...</td>\n",
       "      <td>...</td>\n",
       "      <td>...</td>\n",
       "      <td>...</td>\n",
       "      <td>...</td>\n",
       "      <td>...</td>\n",
       "      <td>...</td>\n",
       "      <td>...</td>\n",
       "    </tr>\n",
       "    <tr>\n",
       "      <th>5268</th>\n",
       "      <td>Male</td>\n",
       "      <td>0</td>\n",
       "      <td>No</td>\n",
       "      <td>No</td>\n",
       "      <td>No</td>\n",
       "      <td>No phone service</td>\n",
       "      <td>DSL</td>\n",
       "      <td>No</td>\n",
       "      <td>No</td>\n",
       "      <td>No</td>\n",
       "      <td>Yes</td>\n",
       "      <td>No</td>\n",
       "      <td>No</td>\n",
       "      <td>Month-to-month</td>\n",
       "      <td>No</td>\n",
       "      <td>Electronic check</td>\n",
       "    </tr>\n",
       "    <tr>\n",
       "      <th>5269</th>\n",
       "      <td>Male</td>\n",
       "      <td>0</td>\n",
       "      <td>Yes</td>\n",
       "      <td>No</td>\n",
       "      <td>No</td>\n",
       "      <td>No phone service</td>\n",
       "      <td>DSL</td>\n",
       "      <td>Yes</td>\n",
       "      <td>No</td>\n",
       "      <td>No</td>\n",
       "      <td>Yes</td>\n",
       "      <td>Yes</td>\n",
       "      <td>No</td>\n",
       "      <td>One year</td>\n",
       "      <td>Yes</td>\n",
       "      <td>Bank transfer (automatic)</td>\n",
       "    </tr>\n",
       "    <tr>\n",
       "      <th>5270</th>\n",
       "      <td>Male</td>\n",
       "      <td>0</td>\n",
       "      <td>No</td>\n",
       "      <td>No</td>\n",
       "      <td>Yes</td>\n",
       "      <td>No</td>\n",
       "      <td>DSL</td>\n",
       "      <td>No</td>\n",
       "      <td>No</td>\n",
       "      <td>Yes</td>\n",
       "      <td>Yes</td>\n",
       "      <td>No</td>\n",
       "      <td>No</td>\n",
       "      <td>Month-to-month</td>\n",
       "      <td>No</td>\n",
       "      <td>Mailed check</td>\n",
       "    </tr>\n",
       "    <tr>\n",
       "      <th>5271</th>\n",
       "      <td>Female</td>\n",
       "      <td>0</td>\n",
       "      <td>No</td>\n",
       "      <td>No</td>\n",
       "      <td>Yes</td>\n",
       "      <td>Yes</td>\n",
       "      <td>Fiber optic</td>\n",
       "      <td>No</td>\n",
       "      <td>No</td>\n",
       "      <td>No</td>\n",
       "      <td>No</td>\n",
       "      <td>No</td>\n",
       "      <td>No</td>\n",
       "      <td>Month-to-month</td>\n",
       "      <td>Yes</td>\n",
       "      <td>Credit card (automatic)</td>\n",
       "    </tr>\n",
       "    <tr>\n",
       "      <th>5272</th>\n",
       "      <td>Female</td>\n",
       "      <td>0</td>\n",
       "      <td>No</td>\n",
       "      <td>Yes</td>\n",
       "      <td>Yes</td>\n",
       "      <td>Yes</td>\n",
       "      <td>DSL</td>\n",
       "      <td>Yes</td>\n",
       "      <td>Yes</td>\n",
       "      <td>No</td>\n",
       "      <td>Yes</td>\n",
       "      <td>Yes</td>\n",
       "      <td>No</td>\n",
       "      <td>Month-to-month</td>\n",
       "      <td>Yes</td>\n",
       "      <td>Mailed check</td>\n",
       "    </tr>\n",
       "  </tbody>\n",
       "</table>\n",
       "<p>5273 rows × 16 columns</p>\n",
       "</div>"
      ],
      "text/plain": [
       "         Sex  IsSeniorCitizen HasPartner HasChild HasPhoneService  \\\n",
       "0       Male                0        Yes      Yes             Yes   \n",
       "1       Male                0        Yes       No             Yes   \n",
       "2       Male                0         No       No             Yes   \n",
       "3     Female                1        Yes       No             Yes   \n",
       "4     Female                0        Yes      Yes             Yes   \n",
       "...      ...              ...        ...      ...             ...   \n",
       "5268    Male                0         No       No              No   \n",
       "5269    Male                0        Yes       No              No   \n",
       "5270    Male                0         No       No             Yes   \n",
       "5271  Female                0         No       No             Yes   \n",
       "5272  Female                0         No      Yes             Yes   \n",
       "\n",
       "     HasMultiplePhoneNumbers HasInternetService HasOnlineSecurityService  \\\n",
       "0                         No                 No      No internet service   \n",
       "1                        Yes                 No      No internet service   \n",
       "2                         No        Fiber optic                       No   \n",
       "3                        Yes        Fiber optic                       No   \n",
       "4                        Yes        Fiber optic                      Yes   \n",
       "...                      ...                ...                      ...   \n",
       "5268        No phone service                DSL                       No   \n",
       "5269        No phone service                DSL                      Yes   \n",
       "5270                      No                DSL                       No   \n",
       "5271                     Yes        Fiber optic                       No   \n",
       "5272                     Yes                DSL                      Yes   \n",
       "\n",
       "          HasOnlineBackup  HasDeviceProtection HasTechSupportAccess  \\\n",
       "0     No internet service  No internet service  No internet service   \n",
       "1     No internet service  No internet service  No internet service   \n",
       "2                      No                   No                  Yes   \n",
       "3                      No                  Yes                   No   \n",
       "4                     Yes                  Yes                  Yes   \n",
       "...                   ...                  ...                  ...   \n",
       "5268                   No                   No                  Yes   \n",
       "5269                   No                   No                  Yes   \n",
       "5270                   No                  Yes                  Yes   \n",
       "5271                   No                   No                   No   \n",
       "5272                  Yes                   No                  Yes   \n",
       "\n",
       "              HasOnlineTV HasMovieSubscription HasContractPhone  \\\n",
       "0     No internet service  No internet service         One year   \n",
       "1     No internet service  No internet service         Two year   \n",
       "2                      No                   No   Month-to-month   \n",
       "3                      No                   No   Month-to-month   \n",
       "4                     Yes                  Yes         Two year   \n",
       "...                   ...                  ...              ...   \n",
       "5268                   No                   No   Month-to-month   \n",
       "5269                  Yes                   No         One year   \n",
       "5270                   No                   No   Month-to-month   \n",
       "5271                   No                   No   Month-to-month   \n",
       "5272                  Yes                   No   Month-to-month   \n",
       "\n",
       "     IsBillingPaperless              PaymentMethod  \n",
       "0                    No               Mailed check  \n",
       "1                    No    Credit card (automatic)  \n",
       "2                   Yes           Electronic check  \n",
       "3                    No               Mailed check  \n",
       "4                    No    Credit card (automatic)  \n",
       "...                 ...                        ...  \n",
       "5268                 No           Electronic check  \n",
       "5269                Yes  Bank transfer (automatic)  \n",
       "5270                 No               Mailed check  \n",
       "5271                Yes    Credit card (automatic)  \n",
       "5272                Yes               Mailed check  \n",
       "\n",
       "[5273 rows x 16 columns]"
      ]
     },
     "execution_count": 15,
     "metadata": {},
     "output_type": "execute_result"
    }
   ],
   "source": [
    "#выведем категориальные признаки\n",
    "data.loc[:, cat_cols]"
   ]
  },
  {
   "cell_type": "markdown",
   "metadata": {
    "execution": {
     "iopub.execute_input": "2024-03-07T15:04:06.409783Z",
     "iopub.status.busy": "2024-03-07T15:04:06.408709Z",
     "iopub.status.idle": "2024-03-07T15:04:06.416588Z",
     "shell.execute_reply": "2024-03-07T15:04:06.415137Z",
     "shell.execute_reply.started": "2024-03-07T15:04:06.409747Z"
    }
   },
   "source": [
    " <p style=\"border:2px black solid; padding:10px\">Выведем количество уникальных значений для каждого признака</p>"
   ]
  },
  {
   "cell_type": "code",
   "execution_count": 16,
   "metadata": {
    "execution": {
     "iopub.execute_input": "2024-03-08T17:28:24.078916Z",
     "iopub.status.busy": "2024-03-08T17:28:24.078595Z",
     "iopub.status.idle": "2024-03-08T17:28:24.115471Z",
     "shell.execute_reply": "2024-03-08T17:28:24.114311Z",
     "shell.execute_reply.started": "2024-03-08T17:28:24.078890Z"
    }
   },
   "outputs": [
    {
     "name": "stdout",
     "output_type": "stream",
     "text": [
      "Sex\n",
      "Male      2651\n",
      "Female    2622\n",
      "Name: count, dtype: int64\n",
      "\n",
      "IsSeniorCitizen\n",
      "0    4431\n",
      "1     842\n",
      "Name: count, dtype: int64\n",
      "\n",
      "HasPartner\n",
      "No     2704\n",
      "Yes    2569\n",
      "Name: count, dtype: int64\n",
      "\n",
      "HasChild\n",
      "No     3676\n",
      "Yes    1597\n",
      "Name: count, dtype: int64\n",
      "\n",
      "HasPhoneService\n",
      "Yes    4754\n",
      "No      519\n",
      "Name: count, dtype: int64\n",
      "\n",
      "HasMultiplePhoneNumbers\n",
      "No                  2508\n",
      "Yes                 2246\n",
      "No phone service     519\n",
      "Name: count, dtype: int64\n",
      "\n",
      "HasInternetService\n",
      "Fiber optic    2341\n",
      "DSL            1795\n",
      "No             1137\n",
      "Name: count, dtype: int64\n",
      "\n",
      "HasOnlineSecurityService\n",
      "No                     2611\n",
      "Yes                    1525\n",
      "No internet service    1137\n",
      "Name: count, dtype: int64\n",
      "\n",
      "HasOnlineBackup\n",
      "No                     2331\n",
      "Yes                    1805\n",
      "No internet service    1137\n",
      "Name: count, dtype: int64\n",
      "\n",
      "HasDeviceProtection\n",
      "No                     2316\n",
      "Yes                    1820\n",
      "No internet service    1137\n",
      "Name: count, dtype: int64\n",
      "\n",
      "HasTechSupportAccess\n",
      "No                     2603\n",
      "Yes                    1533\n",
      "No internet service    1137\n",
      "Name: count, dtype: int64\n",
      "\n",
      "HasOnlineTV\n",
      "No                     2098\n",
      "Yes                    2038\n",
      "No internet service    1137\n",
      "Name: count, dtype: int64\n",
      "\n",
      "HasMovieSubscription\n",
      "No                     2077\n",
      "Yes                    2059\n",
      "No internet service    1137\n",
      "Name: count, dtype: int64\n",
      "\n",
      "HasContractPhone\n",
      "Month-to-month    2920\n",
      "Two year          1272\n",
      "One year          1081\n",
      "Name: count, dtype: int64\n",
      "\n",
      "IsBillingPaperless\n",
      "Yes    3145\n",
      "No     2128\n",
      "Name: count, dtype: int64\n",
      "\n",
      "PaymentMethod\n",
      "Electronic check             1786\n",
      "Mailed check                 1188\n",
      "Bank transfer (automatic)    1157\n",
      "Credit card (automatic)      1142\n",
      "Name: count, dtype: int64\n"
     ]
    }
   ],
   "source": [
    "for i in cat_cols:\n",
    "    print(data[i].value_counts(), end='\\n\\n')"
   ]
  },
  {
   "cell_type": "markdown",
   "metadata": {
    "execution": {
     "iopub.execute_input": "2024-03-07T15:12:20.370037Z",
     "iopub.status.busy": "2024-03-07T15:12:20.369635Z",
     "iopub.status.idle": "2024-03-07T15:12:20.378204Z",
     "shell.execute_reply": "2024-03-07T15:12:20.376670Z",
     "shell.execute_reply.started": "2024-03-07T15:12:20.370009Z"
    }
   },
   "source": [
    " <p style=\"border:2px black solid; padding:10px\">Построим диаграммы для каждого признака</p>"
   ]
  },
  {
   "cell_type": "code",
   "execution_count": 17,
   "metadata": {
    "execution": {
     "iopub.execute_input": "2024-03-08T17:28:24.117440Z",
     "iopub.status.busy": "2024-03-08T17:28:24.116827Z",
     "iopub.status.idle": "2024-03-08T17:28:27.643903Z",
     "shell.execute_reply": "2024-03-08T17:28:27.642871Z",
     "shell.execute_reply.started": "2024-03-08T17:28:24.117408Z"
    }
   },
   "outputs": [
    {
     "data": {
      "image/png": "[encoded data removed]",
      "text/plain": [
       "<Figure size 1500x2000 with 16 Axes>"
      ]
     },
     "metadata": {},
     "output_type": "display_data"
    }
   ],
   "source": [
    "#числовые переменные\n",
    "fig, axes = plt.subplots(8, 2, figsize=(15, 20), constrained_layout=True)\n",
    "i = 0\n",
    "for  raw in list(range(8)):\n",
    "    for column in range(2):\n",
    "        sns.countplot(ax=axes[raw][column], x=data[cat_cols[i]], palette= 'viridis' )\n",
    "        i += 1\n"
   ]
  },
  {
   "cell_type": "markdown",
   "metadata": {},
   "source": [
    "**2**"
   ]
  },
  {
   "cell_type": "code",
   "execution_count": 18,
   "metadata": {
    "execution": {
     "iopub.execute_input": "2024-03-08T17:28:27.646134Z",
     "iopub.status.busy": "2024-03-08T17:28:27.645262Z",
     "iopub.status.idle": "2024-03-08T17:28:27.884004Z",
     "shell.execute_reply": "2024-03-08T17:28:27.882864Z",
     "shell.execute_reply.started": "2024-03-08T17:28:27.646101Z"
    }
   },
   "outputs": [
    {
     "data": {
      "image/png": "[encoded data removed]",
      "text/plain": [
       "<Figure size 640x480 with 1 Axes>"
      ]
     },
     "metadata": {},
     "output_type": "display_data"
    }
   ],
   "source": [
    "#распределение  целевой переменной\n",
    "sns.countplot(x = data[target_col], palette=['lightsteelblue', 'palevioletred']);"
   ]
  },
  {
   "cell_type": "markdown",
   "metadata": {},
   "source": [
    "*Наблюдается дисбаланс классов*"
   ]
  },
  {
   "cell_type": "markdown",
   "metadata": {
    "id": "DviiJd8REEZK"
   },
   "source": [
    "## Применение линейных моделей (3 балла)\n",
    "\n",
    "1) Обработайте данные для того, чтобы к ним можно было применить LogisticRegression. Т.е. отнормируйте числовые признаки, а категориальные закодируйте с помощью one-hot-encoding'а.\n",
    "\n",
    "2) С помощью кроссвалидации или разделения на train/valid выборку протестируйте разные значения гиперпараметра C и выберите лучший (можно тестировать С=100, 10, 1, 0.1, 0.01, 0.001) по метрике ROC-AUC.\n",
    "\n",
    "Если вы разделяете на train/valid, то используйте LogisticRegressionCV. Он сам при вызове .fit() подберет параметр С. (не забудьте передать scroing='roc_auc', чтобы при кроссвалидации сравнивались значения этой метрики, и refit=True, чтобы при потом модель обучилась на всем датасете с лучшим параметром C).\n",
    "\n",
    "\n",
    "(более сложный вариант) Если вы будете использовать кроссвалидацию, то преобразования данных и LogisticRegression нужно соединить в один Pipeline с помощью make_pipeline, как это делалось во втором семинаре. Потом pipeline надо передать в GridSearchCV. Для one-hot-encoding'a можно испльзовать комбинацию LabelEncoder + OneHotEncoder (сначала превращаем строчки в числа, а потом числа првращаем в one-hot вектора.)"
   ]
  },
  {
   "cell_type": "code",
   "execution_count": 19,
   "metadata": {
    "execution": {
     "iopub.execute_input": "2024-03-08T17:28:27.885585Z",
     "iopub.status.busy": "2024-03-08T17:28:27.885265Z",
     "iopub.status.idle": "2024-03-08T17:28:27.917506Z",
     "shell.execute_reply": "2024-03-08T17:28:27.916508Z",
     "shell.execute_reply.started": "2024-03-08T17:28:27.885558Z"
    },
    "id": "xHCLDmwqEEZL"
   },
   "outputs": [],
   "source": [
    "from sklearn.linear_model import LogisticRegression, LogisticRegressionCV\n",
    "from sklearn.model_selection import train_test_split, GridSearchCV\n",
    "from sklearn.preprocessing import StandardScaler, RobustScaler, LabelEncoder, OneHotEncoder\n",
    "from sklearn.metrics  import roc_auc_score\n",
    "from sklearn.pipeline import make_pipeline"
   ]
  },
  {
   "cell_type": "markdown",
   "metadata": {},
   "source": [
    "**1**"
   ]
  },
  {
   "cell_type": "markdown",
   "metadata": {},
   "source": [
    " <p style=\"border:2px black solid; padding:10px\">Закодируем категориальные признаки</p>"
   ]
  },
  {
   "cell_type": "code",
   "execution_count": 20,
   "metadata": {
    "execution": {
     "iopub.execute_input": "2024-03-08T17:28:27.919359Z",
     "iopub.status.busy": "2024-03-08T17:28:27.918775Z",
     "iopub.status.idle": "2024-03-08T17:28:27.923840Z",
     "shell.execute_reply": "2024-03-08T17:28:27.922724Z",
     "shell.execute_reply.started": "2024-03-08T17:28:27.919331Z"
    },
    "id": "P2Yv3uYtEEZO"
   },
   "outputs": [],
   "source": [
    "#создадим объект ohe\n",
    "encoder = OneHotEncoder(drop='first', sparse_output=False)"
   ]
  },
  {
   "cell_type": "code",
   "execution_count": 21,
   "metadata": {
    "execution": {
     "iopub.execute_input": "2024-03-08T17:28:27.925353Z",
     "iopub.status.busy": "2024-03-08T17:28:27.925055Z",
     "iopub.status.idle": "2024-03-08T17:28:27.985429Z",
     "shell.execute_reply": "2024-03-08T17:28:27.984392Z",
     "shell.execute_reply.started": "2024-03-08T17:28:27.925328Z"
    }
   },
   "outputs": [],
   "source": [
    "#обучим и переведем в датасет\n",
    "train_cat = pd.DataFrame(encoder.fit_transform(data.loc[:, cat_cols]), columns=encoder.get_feature_names_out())"
   ]
  },
  {
   "cell_type": "code",
   "execution_count": 22,
   "metadata": {
    "execution": {
     "iopub.execute_input": "2024-03-08T17:28:27.987105Z",
     "iopub.status.busy": "2024-03-08T17:28:27.986751Z",
     "iopub.status.idle": "2024-03-08T17:28:28.022324Z",
     "shell.execute_reply": "2024-03-08T17:28:28.021264Z",
     "shell.execute_reply.started": "2024-03-08T17:28:27.987076Z"
    }
   },
   "outputs": [
    {
     "data": {
      "text/html": [
       "<div>\n",
       "<style scoped>\n",
       "    .dataframe tbody tr th:only-of-type {\n",
       "        vertical-align: middle;\n",
       "    }\n",
       "\n",
       "    .dataframe tbody tr th {\n",
       "        vertical-align: top;\n",
       "    }\n",
       "\n",
       "    .dataframe thead th {\n",
       "        text-align: right;\n",
       "    }\n",
       "</style>\n",
       "<table border=\"1\" class=\"dataframe\">\n",
       "  <thead>\n",
       "    <tr style=\"text-align: right;\">\n",
       "      <th></th>\n",
       "      <th>Sex_Male</th>\n",
       "      <th>IsSeniorCitizen_1</th>\n",
       "      <th>HasPartner_Yes</th>\n",
       "      <th>HasChild_Yes</th>\n",
       "      <th>HasPhoneService_Yes</th>\n",
       "      <th>HasMultiplePhoneNumbers_No phone service</th>\n",
       "      <th>HasMultiplePhoneNumbers_Yes</th>\n",
       "      <th>HasInternetService_Fiber optic</th>\n",
       "      <th>HasInternetService_No</th>\n",
       "      <th>HasOnlineSecurityService_No internet service</th>\n",
       "      <th>...</th>\n",
       "      <th>HasOnlineTV_No internet service</th>\n",
       "      <th>HasOnlineTV_Yes</th>\n",
       "      <th>HasMovieSubscription_No internet service</th>\n",
       "      <th>HasMovieSubscription_Yes</th>\n",
       "      <th>HasContractPhone_One year</th>\n",
       "      <th>HasContractPhone_Two year</th>\n",
       "      <th>IsBillingPaperless_Yes</th>\n",
       "      <th>PaymentMethod_Credit card (automatic)</th>\n",
       "      <th>PaymentMethod_Electronic check</th>\n",
       "      <th>PaymentMethod_Mailed check</th>\n",
       "    </tr>\n",
       "  </thead>\n",
       "  <tbody>\n",
       "    <tr>\n",
       "      <th>0</th>\n",
       "      <td>1.0</td>\n",
       "      <td>0.0</td>\n",
       "      <td>1.0</td>\n",
       "      <td>1.0</td>\n",
       "      <td>1.0</td>\n",
       "      <td>0.0</td>\n",
       "      <td>0.0</td>\n",
       "      <td>0.0</td>\n",
       "      <td>1.0</td>\n",
       "      <td>1.0</td>\n",
       "      <td>...</td>\n",
       "      <td>1.0</td>\n",
       "      <td>0.0</td>\n",
       "      <td>1.0</td>\n",
       "      <td>0.0</td>\n",
       "      <td>1.0</td>\n",
       "      <td>0.0</td>\n",
       "      <td>0.0</td>\n",
       "      <td>0.0</td>\n",
       "      <td>0.0</td>\n",
       "      <td>1.0</td>\n",
       "    </tr>\n",
       "    <tr>\n",
       "      <th>1</th>\n",
       "      <td>1.0</td>\n",
       "      <td>0.0</td>\n",
       "      <td>1.0</td>\n",
       "      <td>0.0</td>\n",
       "      <td>1.0</td>\n",
       "      <td>0.0</td>\n",
       "      <td>1.0</td>\n",
       "      <td>0.0</td>\n",
       "      <td>1.0</td>\n",
       "      <td>1.0</td>\n",
       "      <td>...</td>\n",
       "      <td>1.0</td>\n",
       "      <td>0.0</td>\n",
       "      <td>1.0</td>\n",
       "      <td>0.0</td>\n",
       "      <td>0.0</td>\n",
       "      <td>1.0</td>\n",
       "      <td>0.0</td>\n",
       "      <td>1.0</td>\n",
       "      <td>0.0</td>\n",
       "      <td>0.0</td>\n",
       "    </tr>\n",
       "    <tr>\n",
       "      <th>2</th>\n",
       "      <td>1.0</td>\n",
       "      <td>0.0</td>\n",
       "      <td>0.0</td>\n",
       "      <td>0.0</td>\n",
       "      <td>1.0</td>\n",
       "      <td>0.0</td>\n",
       "      <td>0.0</td>\n",
       "      <td>1.0</td>\n",
       "      <td>0.0</td>\n",
       "      <td>0.0</td>\n",
       "      <td>...</td>\n",
       "      <td>0.0</td>\n",
       "      <td>0.0</td>\n",
       "      <td>0.0</td>\n",
       "      <td>0.0</td>\n",
       "      <td>0.0</td>\n",
       "      <td>0.0</td>\n",
       "      <td>1.0</td>\n",
       "      <td>0.0</td>\n",
       "      <td>1.0</td>\n",
       "      <td>0.0</td>\n",
       "    </tr>\n",
       "    <tr>\n",
       "      <th>3</th>\n",
       "      <td>0.0</td>\n",
       "      <td>1.0</td>\n",
       "      <td>1.0</td>\n",
       "      <td>0.0</td>\n",
       "      <td>1.0</td>\n",
       "      <td>0.0</td>\n",
       "      <td>1.0</td>\n",
       "      <td>1.0</td>\n",
       "      <td>0.0</td>\n",
       "      <td>0.0</td>\n",
       "      <td>...</td>\n",
       "      <td>0.0</td>\n",
       "      <td>0.0</td>\n",
       "      <td>0.0</td>\n",
       "      <td>0.0</td>\n",
       "      <td>0.0</td>\n",
       "      <td>0.0</td>\n",
       "      <td>0.0</td>\n",
       "      <td>0.0</td>\n",
       "      <td>0.0</td>\n",
       "      <td>1.0</td>\n",
       "    </tr>\n",
       "    <tr>\n",
       "      <th>4</th>\n",
       "      <td>0.0</td>\n",
       "      <td>0.0</td>\n",
       "      <td>1.0</td>\n",
       "      <td>1.0</td>\n",
       "      <td>1.0</td>\n",
       "      <td>0.0</td>\n",
       "      <td>1.0</td>\n",
       "      <td>1.0</td>\n",
       "      <td>0.0</td>\n",
       "      <td>0.0</td>\n",
       "      <td>...</td>\n",
       "      <td>0.0</td>\n",
       "      <td>1.0</td>\n",
       "      <td>0.0</td>\n",
       "      <td>1.0</td>\n",
       "      <td>0.0</td>\n",
       "      <td>1.0</td>\n",
       "      <td>0.0</td>\n",
       "      <td>1.0</td>\n",
       "      <td>0.0</td>\n",
       "      <td>0.0</td>\n",
       "    </tr>\n",
       "  </tbody>\n",
       "</table>\n",
       "<p>5 rows × 27 columns</p>\n",
       "</div>"
      ],
      "text/plain": [
       "   Sex_Male  IsSeniorCitizen_1  HasPartner_Yes  HasChild_Yes  \\\n",
       "0       1.0                0.0             1.0           1.0   \n",
       "1       1.0                0.0             1.0           0.0   \n",
       "2       1.0                0.0             0.0           0.0   \n",
       "3       0.0                1.0             1.0           0.0   \n",
       "4       0.0                0.0             1.0           1.0   \n",
       "\n",
       "   HasPhoneService_Yes  HasMultiplePhoneNumbers_No phone service  \\\n",
       "0                  1.0                                       0.0   \n",
       "1                  1.0                                       0.0   \n",
       "2                  1.0                                       0.0   \n",
       "3                  1.0                                       0.0   \n",
       "4                  1.0                                       0.0   \n",
       "\n",
       "   HasMultiplePhoneNumbers_Yes  HasInternetService_Fiber optic  \\\n",
       "0                          0.0                             0.0   \n",
       "1                          1.0                             0.0   \n",
       "2                          0.0                             1.0   \n",
       "3                          1.0                             1.0   \n",
       "4                          1.0                             1.0   \n",
       "\n",
       "   HasInternetService_No  HasOnlineSecurityService_No internet service  ...  \\\n",
       "0                    1.0                                           1.0  ...   \n",
       "1                    1.0                                           1.0  ...   \n",
       "2                    0.0                                           0.0  ...   \n",
       "3                    0.0                                           0.0  ...   \n",
       "4                    0.0                                           0.0  ...   \n",
       "\n",
       "   HasOnlineTV_No internet service  HasOnlineTV_Yes  \\\n",
       "0                              1.0              0.0   \n",
       "1                              1.0              0.0   \n",
       "2                              0.0              0.0   \n",
       "3                              0.0              0.0   \n",
       "4                              0.0              1.0   \n",
       "\n",
       "   HasMovieSubscription_No internet service  HasMovieSubscription_Yes  \\\n",
       "0                                       1.0                       0.0   \n",
       "1                                       1.0                       0.0   \n",
       "2                                       0.0                       0.0   \n",
       "3                                       0.0                       0.0   \n",
       "4                                       0.0                       1.0   \n",
       "\n",
       "   HasContractPhone_One year  HasContractPhone_Two year  \\\n",
       "0                        1.0                        0.0   \n",
       "1                        0.0                        1.0   \n",
       "2                        0.0                        0.0   \n",
       "3                        0.0                        0.0   \n",
       "4                        0.0                        1.0   \n",
       "\n",
       "   IsBillingPaperless_Yes  PaymentMethod_Credit card (automatic)  \\\n",
       "0                     0.0                                    0.0   \n",
       "1                     0.0                                    1.0   \n",
       "2                     1.0                                    0.0   \n",
       "3                     0.0                                    0.0   \n",
       "4                     0.0                                    1.0   \n",
       "\n",
       "   PaymentMethod_Electronic check  PaymentMethod_Mailed check  \n",
       "0                             0.0                         1.0  \n",
       "1                             0.0                         0.0  \n",
       "2                             1.0                         0.0  \n",
       "3                             0.0                         1.0  \n",
       "4                             0.0                         0.0  \n",
       "\n",
       "[5 rows x 27 columns]"
      ]
     },
     "execution_count": 22,
     "metadata": {},
     "output_type": "execute_result"
    }
   ],
   "source": [
    "#выведем\n",
    "train_cat.head()"
   ]
  },
  {
   "cell_type": "markdown",
   "metadata": {},
   "source": [
    " <p style=\"border:2px black solid; padding:10px\">Нормализуем числовые признаки</p>"
   ]
  },
  {
   "cell_type": "code",
   "execution_count": 23,
   "metadata": {
    "execution": {
     "iopub.execute_input": "2024-03-08T17:28:28.023960Z",
     "iopub.status.busy": "2024-03-08T17:28:28.023542Z",
     "iopub.status.idle": "2024-03-08T17:28:28.028565Z",
     "shell.execute_reply": "2024-03-08T17:28:28.027582Z",
     "shell.execute_reply.started": "2024-03-08T17:28:28.023921Z"
    }
   },
   "outputs": [],
   "source": [
    "#создадим объект standardscaler\n",
    "scaler = StandardScaler()"
   ]
  },
  {
   "cell_type": "code",
   "execution_count": 24,
   "metadata": {
    "execution": {
     "iopub.execute_input": "2024-03-08T17:28:28.035504Z",
     "iopub.status.busy": "2024-03-08T17:28:28.035122Z",
     "iopub.status.idle": "2024-03-08T17:28:28.050770Z",
     "shell.execute_reply": "2024-03-08T17:28:28.049790Z",
     "shell.execute_reply.started": "2024-03-08T17:28:28.035477Z"
    }
   },
   "outputs": [],
   "source": [
    "#обучим и переведем в датасет\n",
    "train_num = pd.DataFrame(scaler.fit_transform(data.loc[:, num_cols]), columns=num_cols)"
   ]
  },
  {
   "cell_type": "code",
   "execution_count": 25,
   "metadata": {
    "execution": {
     "iopub.execute_input": "2024-03-08T17:28:28.052769Z",
     "iopub.status.busy": "2024-03-08T17:28:28.052124Z",
     "iopub.status.idle": "2024-03-08T17:28:28.063651Z",
     "shell.execute_reply": "2024-03-08T17:28:28.062415Z",
     "shell.execute_reply.started": "2024-03-08T17:28:28.052740Z"
    }
   },
   "outputs": [
    {
     "data": {
      "text/html": [
       "<div>\n",
       "<style scoped>\n",
       "    .dataframe tbody tr th:only-of-type {\n",
       "        vertical-align: middle;\n",
       "    }\n",
       "\n",
       "    .dataframe tbody tr th {\n",
       "        vertical-align: top;\n",
       "    }\n",
       "\n",
       "    .dataframe thead th {\n",
       "        text-align: right;\n",
       "    }\n",
       "</style>\n",
       "<table border=\"1\" class=\"dataframe\">\n",
       "  <thead>\n",
       "    <tr style=\"text-align: right;\">\n",
       "      <th></th>\n",
       "      <th>ClientPeriod</th>\n",
       "      <th>MonthlySpending</th>\n",
       "      <th>TotalSpent</th>\n",
       "    </tr>\n",
       "  </thead>\n",
       "  <tbody>\n",
       "    <tr>\n",
       "      <th>0</th>\n",
       "      <td>0.919099</td>\n",
       "      <td>-1.506436</td>\n",
       "      <td>-0.557582</td>\n",
       "    </tr>\n",
       "    <tr>\n",
       "      <th>1</th>\n",
       "      <td>1.612060</td>\n",
       "      <td>-1.295997</td>\n",
       "      <td>-0.184763</td>\n",
       "    </tr>\n",
       "    <tr>\n",
       "      <th>2</th>\n",
       "      <td>-1.282072</td>\n",
       "      <td>0.362658</td>\n",
       "      <td>-0.976504</td>\n",
       "    </tr>\n",
       "    <tr>\n",
       "      <th>3</th>\n",
       "      <td>-0.018437</td>\n",
       "      <td>0.475334</td>\n",
       "      <td>0.122800</td>\n",
       "    </tr>\n",
       "    <tr>\n",
       "      <th>4</th>\n",
       "      <td>1.122911</td>\n",
       "      <td>1.666716</td>\n",
       "      <td>1.968909</td>\n",
       "    </tr>\n",
       "  </tbody>\n",
       "</table>\n",
       "</div>"
      ],
      "text/plain": [
       "   ClientPeriod  MonthlySpending  TotalSpent\n",
       "0      0.919099        -1.506436   -0.557582\n",
       "1      1.612060        -1.295997   -0.184763\n",
       "2     -1.282072         0.362658   -0.976504\n",
       "3     -0.018437         0.475334    0.122800\n",
       "4      1.122911         1.666716    1.968909"
      ]
     },
     "execution_count": 25,
     "metadata": {},
     "output_type": "execute_result"
    }
   ],
   "source": [
    "#проверим\n",
    "train_num.head()"
   ]
  },
  {
   "cell_type": "code",
   "execution_count": 26,
   "metadata": {
    "execution": {
     "iopub.execute_input": "2024-03-08T17:28:28.065721Z",
     "iopub.status.busy": "2024-03-08T17:28:28.064822Z",
     "iopub.status.idle": "2024-03-08T17:28:28.072156Z",
     "shell.execute_reply": "2024-03-08T17:28:28.070867Z",
     "shell.execute_reply.started": "2024-03-08T17:28:28.065681Z"
    }
   },
   "outputs": [],
   "source": [
    "#объединим датасеты \n",
    "X = pd.concat([train_cat, train_num], axis=1)"
   ]
  },
  {
   "cell_type": "code",
   "execution_count": 45,
   "metadata": {},
   "outputs": [
    {
     "name": "stdout",
     "output_type": "stream",
     "text": [
      "<class 'pandas.core.frame.DataFrame'>\n",
      "RangeIndex: 5273 entries, 0 to 5272\n",
      "Data columns (total 30 columns):\n",
      " #   Column                                        Non-Null Count  Dtype  \n",
      "---  ------                                        --------------  -----  \n",
      " 0   Sex_Male                                      5273 non-null   float64\n",
      " 1   IsSeniorCitizen_1                             5273 non-null   float64\n",
      " 2   HasPartner_Yes                                5273 non-null   float64\n",
      " 3   HasChild_Yes                                  5273 non-null   float64\n",
      " 4   HasPhoneService_Yes                           5273 non-null   float64\n",
      " 5   HasMultiplePhoneNumbers_No phone service      5273 non-null   float64\n",
      " 6   HasMultiplePhoneNumbers_Yes                   5273 non-null   float64\n",
      " 7   HasInternetService_Fiber optic                5273 non-null   float64\n",
      " 8   HasInternetService_No                         5273 non-null   float64\n",
      " 9   HasOnlineSecurityService_No internet service  5273 non-null   float64\n",
      " 10  HasOnlineSecurityService_Yes                  5273 non-null   float64\n",
      " 11  HasOnlineBackup_No internet service           5273 non-null   float64\n",
      " 12  HasOnlineBackup_Yes                           5273 non-null   float64\n",
      " 13  HasDeviceProtection_No internet service       5273 non-null   float64\n",
      " 14  HasDeviceProtection_Yes                       5273 non-null   float64\n",
      " 15  HasTechSupportAccess_No internet service      5273 non-null   float64\n",
      " 16  HasTechSupportAccess_Yes                      5273 non-null   float64\n",
      " 17  HasOnlineTV_No internet service               5273 non-null   float64\n",
      " 18  HasOnlineTV_Yes                               5273 non-null   float64\n",
      " 19  HasMovieSubscription_No internet service      5273 non-null   float64\n",
      " 20  HasMovieSubscription_Yes                      5273 non-null   float64\n",
      " 21  HasContractPhone_One year                     5273 non-null   float64\n",
      " 22  HasContractPhone_Two year                     5273 non-null   float64\n",
      " 23  IsBillingPaperless_Yes                        5273 non-null   float64\n",
      " 24  PaymentMethod_Credit card (automatic)         5273 non-null   float64\n",
      " 25  PaymentMethod_Electronic check                5273 non-null   float64\n",
      " 26  PaymentMethod_Mailed check                    5273 non-null   float64\n",
      " 27  ClientPeriod                                  5273 non-null   float64\n",
      " 28  MonthlySpending                               5273 non-null   float64\n",
      " 29  TotalSpent                                    5273 non-null   float64\n",
      "dtypes: float64(30)\n",
      "memory usage: 1.2 MB\n"
     ]
    }
   ],
   "source": [
    "X.info()"
   ]
  },
  {
   "cell_type": "code",
   "execution_count": 27,
   "metadata": {
    "execution": {
     "iopub.execute_input": "2024-03-08T17:28:28.074194Z",
     "iopub.status.busy": "2024-03-08T17:28:28.073710Z",
     "iopub.status.idle": "2024-03-08T17:28:28.082204Z",
     "shell.execute_reply": "2024-03-08T17:28:28.081118Z",
     "shell.execute_reply.started": "2024-03-08T17:28:28.074154Z"
    }
   },
   "outputs": [],
   "source": [
    "#сохраним отдельно целевую переменную\n",
    "y = data[target_col]"
   ]
  },
  {
   "cell_type": "markdown",
   "metadata": {},
   "source": [
    "**2**"
   ]
  },
  {
   "cell_type": "code",
   "execution_count": 28,
   "metadata": {
    "execution": {
     "iopub.execute_input": "2024-03-08T17:28:28.083810Z",
     "iopub.status.busy": "2024-03-08T17:28:28.083344Z",
     "iopub.status.idle": "2024-03-08T17:28:28.091538Z",
     "shell.execute_reply": "2024-03-08T17:28:28.090685Z",
     "shell.execute_reply.started": "2024-03-08T17:28:28.083773Z"
    }
   },
   "outputs": [],
   "source": [
    "#создадим объект логистической регрессии\n",
    "log_reg = LogisticRegression()"
   ]
  },
  {
   "cell_type": "code",
   "execution_count": 29,
   "metadata": {
    "execution": {
     "iopub.execute_input": "2024-03-08T17:28:28.092789Z",
     "iopub.status.busy": "2024-03-08T17:28:28.092495Z",
     "iopub.status.idle": "2024-03-08T17:28:28.101903Z",
     "shell.execute_reply": "2024-03-08T17:28:28.101166Z",
     "shell.execute_reply.started": "2024-03-08T17:28:28.092763Z"
    }
   },
   "outputs": [],
   "source": [
    "#зададим параметры\n",
    "param = {'C' : [0.001, 0.01, 0.1, 1.0, 10.0, 100.0]}"
   ]
  },
  {
   "cell_type": "code",
   "execution_count": 30,
   "metadata": {
    "execution": {
     "iopub.execute_input": "2024-03-08T17:28:28.103504Z",
     "iopub.status.busy": "2024-03-08T17:28:28.102812Z",
     "iopub.status.idle": "2024-03-08T17:28:28.113747Z",
     "shell.execute_reply": "2024-03-08T17:28:28.112652Z",
     "shell.execute_reply.started": "2024-03-08T17:28:28.103468Z"
    }
   },
   "outputs": [],
   "source": [
    "#создадим объект gridsearch\n",
    "grid_search = GridSearchCV(log_reg, param_grid=param, cv=5, scoring='roc_auc')"
   ]
  },
  {
   "cell_type": "code",
   "execution_count": 31,
   "metadata": {
    "execution": {
     "iopub.execute_input": "2024-03-08T17:28:28.115488Z",
     "iopub.status.busy": "2024-03-08T17:28:28.114921Z",
     "iopub.status.idle": "2024-03-08T17:28:30.248465Z",
     "shell.execute_reply": "2024-03-08T17:28:30.247005Z",
     "shell.execute_reply.started": "2024-03-08T17:28:28.115459Z"
    }
   },
   "outputs": [
    {
     "data": {
      "text/html": [
       "<style>#sk-container-id-1 {\n",
       "  /* Definition of color scheme common for light and dark mode */\n",
       "  --sklearn-color-text: black;\n",
       "  --sklearn-color-line: gray;\n",
       "  /* Definition of color scheme for unfitted estimators */\n",
       "  --sklearn-color-unfitted-level-0: #fff5e6;\n",
       "  --sklearn-color-unfitted-level-1: #f6e4d2;\n",
       "  --sklearn-color-unfitted-level-2: #ffe0b3;\n",
       "  --sklearn-color-unfitted-level-3: chocolate;\n",
       "  /* Definition of color scheme for fitted estimators */\n",
       "  --sklearn-color-fitted-level-0: #f0f8ff;\n",
       "  --sklearn-color-fitted-level-1: #d4ebff;\n",
       "  --sklearn-color-fitted-level-2: #b3dbfd;\n",
       "  --sklearn-color-fitted-level-3: cornflowerblue;\n",
       "\n",
       "  /* Specific color for light theme */\n",
       "  --sklearn-color-text-on-default-background: var(--sg-text-color, var(--theme-code-foreground, var(--jp-content-font-color1, black)));\n",
       "  --sklearn-color-background: var(--sg-background-color, var(--theme-background, var(--jp-layout-color0, white)));\n",
       "  --sklearn-color-border-box: var(--sg-text-color, var(--theme-code-foreground, var(--jp-content-font-color1, black)));\n",
       "  --sklearn-color-icon: #696969;\n",
       "\n",
       "  @media (prefers-color-scheme: dark) {\n",
       "    /* Redefinition of color scheme for dark theme */\n",
       "    --sklearn-color-text-on-default-background: var(--sg-text-color, var(--theme-code-foreground, var(--jp-content-font-color1, white)));\n",
       "    --sklearn-color-background: var(--sg-background-color, var(--theme-background, var(--jp-layout-color0, #111)));\n",
       "    --sklearn-color-border-box: var(--sg-text-color, var(--theme-code-foreground, var(--jp-content-font-color1, white)));\n",
       "    --sklearn-color-icon: #878787;\n",
       "  }\n",
       "}\n",
       "\n",
       "#sk-container-id-1 {\n",
       "  color: var(--sklearn-color-text);\n",
       "}\n",
       "\n",
       "#sk-container-id-1 pre {\n",
       "  padding: 0;\n",
       "}\n",
       "\n",
       "#sk-container-id-1 input.sk-hidden--visually {\n",
       "  border: 0;\n",
       "  clip: rect(1px 1px 1px 1px);\n",
       "  clip: rect(1px, 1px, 1px, 1px);\n",
       "  height: 1px;\n",
       "  margin: -1px;\n",
       "  overflow: hidden;\n",
       "  padding: 0;\n",
       "  position: absolute;\n",
       "  width: 1px;\n",
       "}\n",
       "\n",
       "#sk-container-id-1 div.sk-dashed-wrapped {\n",
       "  border: 1px dashed var(--sklearn-color-line);\n",
       "  margin: 0 0.4em 0.5em 0.4em;\n",
       "  box-sizing: border-box;\n",
       "  padding-bottom: 0.4em;\n",
       "  background-color: var(--sklearn-color-background);\n",
       "}\n",
       "\n",
       "#sk-container-id-1 div.sk-container {\n",
       "  /* jupyter's `normalize.less` sets `[hidden] { display: none; }`\n",
       "     but bootstrap.min.css set `[hidden] { display: none !important; }`\n",
       "     so we also need the `!important` here to be able to override the\n",
       "     default hidden behavior on the sphinx rendered scikit-learn.org.\n",
       "     See: https://github.com/scikit-learn/scikit-learn/issues/21755 */\n",
       "  display: inline-block !important;\n",
       "  position: relative;\n",
       "}\n",
       "\n",
       "#sk-container-id-1 div.sk-text-repr-fallback {\n",
       "  display: none;\n",
       "}\n",
       "\n",
       "div.sk-parallel-item,\n",
       "div.sk-serial,\n",
       "div.sk-item {\n",
       "  /* draw centered vertical line to link estimators */\n",
       "  background-image: linear-gradient(var(--sklearn-color-text-on-default-background), var(--sklearn-color-text-on-default-background));\n",
       "  background-size: 2px 100%;\n",
       "  background-repeat: no-repeat;\n",
       "  background-position: center center;\n",
       "}\n",
       "\n",
       "/* Parallel-specific style estimator block */\n",
       "\n",
       "#sk-container-id-1 div.sk-parallel-item::after {\n",
       "  content: \"\";\n",
       "  width: 100%;\n",
       "  border-bottom: 2px solid var(--sklearn-color-text-on-default-background);\n",
       "  flex-grow: 1;\n",
       "}\n",
       "\n",
       "#sk-container-id-1 div.sk-parallel {\n",
       "  display: flex;\n",
       "  align-items: stretch;\n",
       "  justify-content: center;\n",
       "  background-color: var(--sklearn-color-background);\n",
       "  position: relative;\n",
       "}\n",
       "\n",
       "#sk-container-id-1 div.sk-parallel-item {\n",
       "  display: flex;\n",
       "  flex-direction: column;\n",
       "}\n",
       "\n",
       "#sk-container-id-1 div.sk-parallel-item:first-child::after {\n",
       "  align-self: flex-end;\n",
       "  width: 50%;\n",
       "}\n",
       "\n",
       "#sk-container-id-1 div.sk-parallel-item:last-child::after {\n",
       "  align-self: flex-start;\n",
       "  width: 50%;\n",
       "}\n",
       "\n",
       "#sk-container-id-1 div.sk-parallel-item:only-child::after {\n",
       "  width: 0;\n",
       "}\n",
       "\n",
       "/* Serial-specific style estimator block */\n",
       "\n",
       "#sk-container-id-1 div.sk-serial {\n",
       "  display: flex;\n",
       "  flex-direction: column;\n",
       "  align-items: center;\n",
       "  background-color: var(--sklearn-color-background);\n",
       "  padding-right: 1em;\n",
       "  padding-left: 1em;\n",
       "}\n",
       "\n",
       "\n",
       "/* Toggleable style: style used for estimator/Pipeline/ColumnTransformer box that is\n",
       "clickable and can be expanded/collapsed.\n",
       "- Pipeline and ColumnTransformer use this feature and define the default style\n",
       "- Estimators will overwrite some part of the style using the `sk-estimator` class\n",
       "*/\n",
       "\n",
       "/* Pipeline and ColumnTransformer style (default) */\n",
       "\n",
       "#sk-container-id-1 div.sk-toggleable {\n",
       "  /* Default theme specific background. It is overwritten whether we have a\n",
       "  specific estimator or a Pipeline/ColumnTransformer */\n",
       "  background-color: var(--sklearn-color-background);\n",
       "}\n",
       "\n",
       "/* Toggleable label */\n",
       "#sk-container-id-1 label.sk-toggleable__label {\n",
       "  cursor: pointer;\n",
       "  display: block;\n",
       "  width: 100%;\n",
       "  margin-bottom: 0;\n",
       "  padding: 0.5em;\n",
       "  box-sizing: border-box;\n",
       "  text-align: center;\n",
       "}\n",
       "\n",
       "#sk-container-id-1 label.sk-toggleable__label-arrow:before {\n",
       "  /* Arrow on the left of the label */\n",
       "  content: \"▸\";\n",
       "  float: left;\n",
       "  margin-right: 0.25em;\n",
       "  color: var(--sklearn-color-icon);\n",
       "}\n",
       "\n",
       "#sk-container-id-1 label.sk-toggleable__label-arrow:hover:before {\n",
       "  color: var(--sklearn-color-text);\n",
       "}\n",
       "\n",
       "/* Toggleable content - dropdown */\n",
       "\n",
       "#sk-container-id-1 div.sk-toggleable__content {\n",
       "  max-height: 0;\n",
       "  max-width: 0;\n",
       "  overflow: hidden;\n",
       "  text-align: left;\n",
       "  /* unfitted */\n",
       "  background-color: var(--sklearn-color-unfitted-level-0);\n",
       "}\n",
       "\n",
       "#sk-container-id-1 div.sk-toggleable__content.fitted {\n",
       "  /* fitted */\n",
       "  background-color: var(--sklearn-color-fitted-level-0);\n",
       "}\n",
       "\n",
       "#sk-container-id-1 div.sk-toggleable__content pre {\n",
       "  margin: 0.2em;\n",
       "  border-radius: 0.25em;\n",
       "  color: var(--sklearn-color-text);\n",
       "  /* unfitted */\n",
       "  background-color: var(--sklearn-color-unfitted-level-0);\n",
       "}\n",
       "\n",
       "#sk-container-id-1 div.sk-toggleable__content.fitted pre {\n",
       "  /* unfitted */\n",
       "  background-color: var(--sklearn-color-fitted-level-0);\n",
       "}\n",
       "\n",
       "#sk-container-id-1 input.sk-toggleable__control:checked~div.sk-toggleable__content {\n",
       "  /* Expand drop-down */\n",
       "  max-height: 200px;\n",
       "  max-width: 100%;\n",
       "  overflow: auto;\n",
       "}\n",
       "\n",
       "#sk-container-id-1 input.sk-toggleable__control:checked~label.sk-toggleable__label-arrow:before {\n",
       "  content: \"▾\";\n",
       "}\n",
       "\n",
       "/* Pipeline/ColumnTransformer-specific style */\n",
       "\n",
       "#sk-container-id-1 div.sk-label input.sk-toggleable__control:checked~label.sk-toggleable__label {\n",
       "  color: var(--sklearn-color-text);\n",
       "  background-color: var(--sklearn-color-unfitted-level-2);\n",
       "}\n",
       "\n",
       "#sk-container-id-1 div.sk-label.fitted input.sk-toggleable__control:checked~label.sk-toggleable__label {\n",
       "  background-color: var(--sklearn-color-fitted-level-2);\n",
       "}\n",
       "\n",
       "/* Estimator-specific style */\n",
       "\n",
       "/* Colorize estimator box */\n",
       "#sk-container-id-1 div.sk-estimator input.sk-toggleable__control:checked~label.sk-toggleable__label {\n",
       "  /* unfitted */\n",
       "  background-color: var(--sklearn-color-unfitted-level-2);\n",
       "}\n",
       "\n",
       "#sk-container-id-1 div.sk-estimator.fitted input.sk-toggleable__control:checked~label.sk-toggleable__label {\n",
       "  /* fitted */\n",
       "  background-color: var(--sklearn-color-fitted-level-2);\n",
       "}\n",
       "\n",
       "#sk-container-id-1 div.sk-label label.sk-toggleable__label,\n",
       "#sk-container-id-1 div.sk-label label {\n",
       "  /* The background is the default theme color */\n",
       "  color: var(--sklearn-color-text-on-default-background);\n",
       "}\n",
       "\n",
       "/* On hover, darken the color of the background */\n",
       "#sk-container-id-1 div.sk-label:hover label.sk-toggleable__label {\n",
       "  color: var(--sklearn-color-text);\n",
       "  background-color: var(--sklearn-color-unfitted-level-2);\n",
       "}\n",
       "\n",
       "/* Label box, darken color on hover, fitted */\n",
       "#sk-container-id-1 div.sk-label.fitted:hover label.sk-toggleable__label.fitted {\n",
       "  color: var(--sklearn-color-text);\n",
       "  background-color: var(--sklearn-color-fitted-level-2);\n",
       "}\n",
       "\n",
       "/* Estimator label */\n",
       "\n",
       "#sk-container-id-1 div.sk-label label {\n",
       "  font-family: monospace;\n",
       "  font-weight: bold;\n",
       "  display: inline-block;\n",
       "  line-height: 1.2em;\n",
       "}\n",
       "\n",
       "#sk-container-id-1 div.sk-label-container {\n",
       "  text-align: center;\n",
       "}\n",
       "\n",
       "/* Estimator-specific */\n",
       "#sk-container-id-1 div.sk-estimator {\n",
       "  font-family: monospace;\n",
       "  border: 1px dotted var(--sklearn-color-border-box);\n",
       "  border-radius: 0.25em;\n",
       "  box-sizing: border-box;\n",
       "  margin-bottom: 0.5em;\n",
       "  /* unfitted */\n",
       "  background-color: var(--sklearn-color-unfitted-level-0);\n",
       "}\n",
       "\n",
       "#sk-container-id-1 div.sk-estimator.fitted {\n",
       "  /* fitted */\n",
       "  background-color: var(--sklearn-color-fitted-level-0);\n",
       "}\n",
       "\n",
       "/* on hover */\n",
       "#sk-container-id-1 div.sk-estimator:hover {\n",
       "  /* unfitted */\n",
       "  background-color: var(--sklearn-color-unfitted-level-2);\n",
       "}\n",
       "\n",
       "#sk-container-id-1 div.sk-estimator.fitted:hover {\n",
       "  /* fitted */\n",
       "  background-color: var(--sklearn-color-fitted-level-2);\n",
       "}\n",
       "\n",
       "/* Specification for estimator info (e.g. \"i\" and \"?\") */\n",
       "\n",
       "/* Common style for \"i\" and \"?\" */\n",
       "\n",
       ".sk-estimator-doc-link,\n",
       "a:link.sk-estimator-doc-link,\n",
       "a:visited.sk-estimator-doc-link {\n",
       "  float: right;\n",
       "  font-size: smaller;\n",
       "  line-height: 1em;\n",
       "  font-family: monospace;\n",
       "  background-color: var(--sklearn-color-background);\n",
       "  border-radius: 1em;\n",
       "  height: 1em;\n",
       "  width: 1em;\n",
       "  text-decoration: none !important;\n",
       "  margin-left: 1ex;\n",
       "  /* unfitted */\n",
       "  border: var(--sklearn-color-unfitted-level-1) 1pt solid;\n",
       "  color: var(--sklearn-color-unfitted-level-1);\n",
       "}\n",
       "\n",
       ".sk-estimator-doc-link.fitted,\n",
       "a:link.sk-estimator-doc-link.fitted,\n",
       "a:visited.sk-estimator-doc-link.fitted {\n",
       "  /* fitted */\n",
       "  border: var(--sklearn-color-fitted-level-1) 1pt solid;\n",
       "  color: var(--sklearn-color-fitted-level-1);\n",
       "}\n",
       "\n",
       "/* On hover */\n",
       "div.sk-estimator:hover .sk-estimator-doc-link:hover,\n",
       ".sk-estimator-doc-link:hover,\n",
       "div.sk-label-container:hover .sk-estimator-doc-link:hover,\n",
       ".sk-estimator-doc-link:hover {\n",
       "  /* unfitted */\n",
       "  background-color: var(--sklearn-color-unfitted-level-3);\n",
       "  color: var(--sklearn-color-background);\n",
       "  text-decoration: none;\n",
       "}\n",
       "\n",
       "div.sk-estimator.fitted:hover .sk-estimator-doc-link.fitted:hover,\n",
       ".sk-estimator-doc-link.fitted:hover,\n",
       "div.sk-label-container:hover .sk-estimator-doc-link.fitted:hover,\n",
       ".sk-estimator-doc-link.fitted:hover {\n",
       "  /* fitted */\n",
       "  background-color: var(--sklearn-color-fitted-level-3);\n",
       "  color: var(--sklearn-color-background);\n",
       "  text-decoration: none;\n",
       "}\n",
       "\n",
       "/* Span, style for the box shown on hovering the info icon */\n",
       ".sk-estimator-doc-link span {\n",
       "  display: none;\n",
       "  z-index: 9999;\n",
       "  position: relative;\n",
       "  font-weight: normal;\n",
       "  right: .2ex;\n",
       "  padding: .5ex;\n",
       "  margin: .5ex;\n",
       "  width: min-content;\n",
       "  min-width: 20ex;\n",
       "  max-width: 50ex;\n",
       "  color: var(--sklearn-color-text);\n",
       "  box-shadow: 2pt 2pt 4pt #999;\n",
       "  /* unfitted */\n",
       "  background: var(--sklearn-color-unfitted-level-0);\n",
       "  border: .5pt solid var(--sklearn-color-unfitted-level-3);\n",
       "}\n",
       "\n",
       ".sk-estimator-doc-link.fitted span {\n",
       "  /* fitted */\n",
       "  background: var(--sklearn-color-fitted-level-0);\n",
       "  border: var(--sklearn-color-fitted-level-3);\n",
       "}\n",
       "\n",
       ".sk-estimator-doc-link:hover span {\n",
       "  display: block;\n",
       "}\n",
       "\n",
       "/* \"?\"-specific style due to the `<a>` HTML tag */\n",
       "\n",
       "#sk-container-id-1 a.estimator_doc_link {\n",
       "  float: right;\n",
       "  font-size: 1rem;\n",
       "  line-height: 1em;\n",
       "  font-family: monospace;\n",
       "  background-color: var(--sklearn-color-background);\n",
       "  border-radius: 1rem;\n",
       "  height: 1rem;\n",
       "  width: 1rem;\n",
       "  text-decoration: none;\n",
       "  /* unfitted */\n",
       "  color: var(--sklearn-color-unfitted-level-1);\n",
       "  border: var(--sklearn-color-unfitted-level-1) 1pt solid;\n",
       "}\n",
       "\n",
       "#sk-container-id-1 a.estimator_doc_link.fitted {\n",
       "  /* fitted */\n",
       "  border: var(--sklearn-color-fitted-level-1) 1pt solid;\n",
       "  color: var(--sklearn-color-fitted-level-1);\n",
       "}\n",
       "\n",
       "/* On hover */\n",
       "#sk-container-id-1 a.estimator_doc_link:hover {\n",
       "  /* unfitted */\n",
       "  background-color: var(--sklearn-color-unfitted-level-3);\n",
       "  color: var(--sklearn-color-background);\n",
       "  text-decoration: none;\n",
       "}\n",
       "\n",
       "#sk-container-id-1 a.estimator_doc_link.fitted:hover {\n",
       "  /* fitted */\n",
       "  background-color: var(--sklearn-color-fitted-level-3);\n",
       "}\n",
       "</style><div id=\"sk-container-id-1\" class=\"sk-top-container\"><div class=\"sk-text-repr-fallback\"><pre>GridSearchCV(cv=5, estimator=LogisticRegression(),\n",
       "             param_grid={&#x27;C&#x27;: [0.001, 0.01, 0.1, 1.0, 10.0, 100.0]},\n",
       "             scoring=&#x27;roc_auc&#x27;)</pre><b>In a Jupyter environment, please rerun this cell to show the HTML representation or trust the notebook. <br />On GitHub, the HTML representation is unable to render, please try loading this page with nbviewer.org.</b></div><div class=\"sk-container\" hidden><div class=\"sk-item sk-dashed-wrapped\"><div class=\"sk-label-container\"><div class=\"sk-label fitted sk-toggleable\"><input class=\"sk-toggleable__control sk-hidden--visually\" id=\"sk-estimator-id-1\" type=\"checkbox\" ><label for=\"sk-estimator-id-1\" class=\"sk-toggleable__label fitted sk-toggleable__label-arrow fitted\">&nbsp;&nbsp;GridSearchCV<a class=\"sk-estimator-doc-link fitted\" rel=\"noreferrer\" target=\"_blank\" href=\"https://scikit-learn.org/1.4/modules/generated/sklearn.model_selection.GridSearchCV.html\">?<span>Documentation for GridSearchCV</span></a><span class=\"sk-estimator-doc-link fitted\">i<span>Fitted</span></span></label><div class=\"sk-toggleable__content fitted\"><pre>GridSearchCV(cv=5, estimator=LogisticRegression(),\n",
       "             param_grid={&#x27;C&#x27;: [0.001, 0.01, 0.1, 1.0, 10.0, 100.0]},\n",
       "             scoring=&#x27;roc_auc&#x27;)</pre></div> </div></div><div class=\"sk-parallel\"><div class=\"sk-parallel-item\"><div class=\"sk-item\"><div class=\"sk-label-container\"><div class=\"sk-label fitted sk-toggleable\"><input class=\"sk-toggleable__control sk-hidden--visually\" id=\"sk-estimator-id-2\" type=\"checkbox\" ><label for=\"sk-estimator-id-2\" class=\"sk-toggleable__label fitted sk-toggleable__label-arrow fitted\">estimator: LogisticRegression</label><div class=\"sk-toggleable__content fitted\"><pre>LogisticRegression()</pre></div> </div></div><div class=\"sk-serial\"><div class=\"sk-item\"><div class=\"sk-estimator fitted sk-toggleable\"><input class=\"sk-toggleable__control sk-hidden--visually\" id=\"sk-estimator-id-3\" type=\"checkbox\" ><label for=\"sk-estimator-id-3\" class=\"sk-toggleable__label fitted sk-toggleable__label-arrow fitted\">&nbsp;LogisticRegression<a class=\"sk-estimator-doc-link fitted\" rel=\"noreferrer\" target=\"_blank\" href=\"https://scikit-learn.org/1.4/modules/generated/sklearn.linear_model.LogisticRegression.html\">?<span>Documentation for LogisticRegression</span></a></label><div class=\"sk-toggleable__content fitted\"><pre>LogisticRegression()</pre></div> </div></div></div></div></div></div></div></div></div>"
      ],
      "text/plain": [
       "GridSearchCV(cv=5, estimator=LogisticRegression(),\n",
       "             param_grid={'C': [0.001, 0.01, 0.1, 1.0, 10.0, 100.0]},\n",
       "             scoring='roc_auc')"
      ]
     },
     "execution_count": 31,
     "metadata": {},
     "output_type": "execute_result"
    }
   ],
   "source": [
    "#обучим \n",
    "grid_search.fit(X, y)"
   ]
  },
  {
   "cell_type": "code",
   "execution_count": 32,
   "metadata": {
    "execution": {
     "iopub.execute_input": "2024-03-08T17:28:30.252080Z",
     "iopub.status.busy": "2024-03-08T17:28:30.250993Z",
     "iopub.status.idle": "2024-03-08T17:28:30.261285Z",
     "shell.execute_reply": "2024-03-08T17:28:30.259855Z",
     "shell.execute_reply.started": "2024-03-08T17:28:30.252012Z"
    }
   },
   "outputs": [
    {
     "data": {
      "text/plain": [
       "{'C': 10.0}"
      ]
     },
     "execution_count": 32,
     "metadata": {},
     "output_type": "execute_result"
    }
   ],
   "source": [
    "#посмотрим оптимальное значение С\n",
    "grid_search.best_params_"
   ]
  },
  {
   "cell_type": "code",
   "execution_count": 33,
   "metadata": {
    "execution": {
     "iopub.execute_input": "2024-03-08T17:28:30.264444Z",
     "iopub.status.busy": "2024-03-08T17:28:30.263171Z",
     "iopub.status.idle": "2024-03-08T17:28:30.274990Z",
     "shell.execute_reply": "2024-03-08T17:28:30.273546Z",
     "shell.execute_reply.started": "2024-03-08T17:28:30.264388Z"
    }
   },
   "outputs": [
    {
     "data": {
      "text/plain": [
       "0.8448199875031227"
      ]
     },
     "execution_count": 33,
     "metadata": {},
     "output_type": "execute_result"
    }
   ],
   "source": [
    "#выведем наилучший результат\n",
    "grid_search.best_score_"
   ]
  },
  {
   "cell_type": "markdown",
   "metadata": {
    "id": "uVahy6JKEEZQ"
   },
   "source": [
    "Выпишите какое лучшее качество и с какими параметрами вам удалось получить"
   ]
  },
  {
   "cell_type": "markdown",
   "metadata": {
    "id": "36729TOQEEZR"
   },
   "source": [
    "*При С = 100 мы получили качество равное 0.846*"
   ]
  },
  {
   "cell_type": "markdown",
   "metadata": {
    "id": "BlTeVy7fEEZR"
   },
   "source": [
    "## Применение градиентного бустинга (2 балла)\n",
    "\n",
    "Если вы хотите получить баллы за точный ответ, то стоит попробовать градиентный бустинг. Часто градиентный бустинг с параметрами по умолчанию даст вам 80% результата за 0% усилий.\n",
    "\n",
    "Мы будем использовать catboost, поэтому нам не надо кодировать категориальные признаки. Catboost сделает это сам (в .fit() надо передать cat_features=cat_cols). А численные признаки нормировать для моделей, основанных на деревьях не нужно.\n",
    "\n",
    "1) Разделите выборку на train/valid. Протестируйте catboost cо стандартными параметрами.\n",
    "\n",
    "2) Протестируйте разные занчения параметроа количества деревьев и learning_rate'а и выберите лучшую по метрике ROC-AUC комбинацию.\n",
    "\n",
    "(Дополнительно) Есть некоторые сложности с тем, чтобы использовать CatBoostClassifier вместе с GridSearchCV, поэтому мы не просим использовать кроссвалидацию. Но можете попробовать)"
   ]
  },
  {
   "cell_type": "markdown",
   "metadata": {
    "id": "Fioxxlp-EEZS"
   },
   "source": [
    "**1**"
   ]
  },
  {
   "cell_type": "code",
   "execution_count": 34,
   "metadata": {
    "execution": {
     "iopub.execute_input": "2024-03-08T17:28:30.278182Z",
     "iopub.status.busy": "2024-03-08T17:28:30.277252Z",
     "iopub.status.idle": "2024-03-08T17:28:30.296397Z",
     "shell.execute_reply": "2024-03-08T17:28:30.294795Z",
     "shell.execute_reply.started": "2024-03-08T17:28:30.278123Z"
    }
   },
   "outputs": [],
   "source": [
    "#разделим выборку\n",
    "X_train,X_val,  y_train, y_val = train_test_split(data.iloc[:,:-1], data.Churn, test_size=0.33, random_state=42)"
   ]
  },
  {
   "cell_type": "code",
   "execution_count": 35,
   "metadata": {
    "execution": {
     "iopub.execute_input": "2024-03-08T17:28:30.299576Z",
     "iopub.status.busy": "2024-03-08T17:28:30.298607Z",
     "iopub.status.idle": "2024-03-08T17:28:30.306553Z",
     "shell.execute_reply": "2024-03-08T17:28:30.305042Z",
     "shell.execute_reply.started": "2024-03-08T17:28:30.299495Z"
    }
   },
   "outputs": [],
   "source": [
    "#создадим объект модели\n",
    "cat = CatBoostClassifier(random_state=42, scale_pos_weight = 2.8)"
   ]
  },
  {
   "cell_type": "code",
   "execution_count": 36,
   "metadata": {
    "execution": {
     "iopub.execute_input": "2024-03-08T17:28:30.309477Z",
     "iopub.status.busy": "2024-03-08T17:28:30.308514Z",
     "iopub.status.idle": "2024-03-08T17:28:40.658826Z",
     "shell.execute_reply": "2024-03-08T17:28:40.657722Z",
     "shell.execute_reply.started": "2024-03-08T17:28:30.309425Z"
    }
   },
   "outputs": [
    {
     "data": {
      "application/vnd.jupyter.widget-view+json": {
       "model_id": "9d228ce4d1864d82825a1e02ba5804c3",
       "version_major": 2,
       "version_minor": 0
      },
      "text/plain": [
       "MetricVisualizer(layout=Layout(align_self='stretch', height='500px'))"
      ]
     },
     "metadata": {},
     "output_type": "display_data"
    },
    {
     "data": {
      "text/plain": [
       "<catboost.core.CatBoostClassifier at 0x23a2f715f10>"
      ]
     },
     "execution_count": 36,
     "metadata": {},
     "output_type": "execute_result"
    }
   ],
   "source": [
    "#обучим\n",
    "cat.fit(X_train, y_train,cat_features=cat_cols,\n",
    "          verbose=False, plot=True)"
   ]
  },
  {
   "cell_type": "code",
   "execution_count": 37,
   "metadata": {
    "execution": {
     "iopub.execute_input": "2024-03-08T17:28:40.660538Z",
     "iopub.status.busy": "2024-03-08T17:28:40.660149Z",
     "iopub.status.idle": "2024-03-08T17:28:40.687778Z",
     "shell.execute_reply": "2024-03-08T17:28:40.686567Z",
     "shell.execute_reply.started": "2024-03-08T17:28:40.660505Z"
    }
   },
   "outputs": [
    {
     "data": {
      "text/plain": [
       "0.8385753019894971"
      ]
     },
     "execution_count": 37,
     "metadata": {},
     "output_type": "execute_result"
    }
   ],
   "source": [
    "#оценим на валидационной\n",
    "roc_auc_score(y_val, cat.predict_proba(X_val)[:,1])"
   ]
  },
  {
   "cell_type": "markdown",
   "metadata": {},
   "source": [
    "**2**"
   ]
  },
  {
   "cell_type": "markdown",
   "metadata": {
    "execution": {
     "iopub.execute_input": "2024-03-07T20:34:35.117801Z",
     "iopub.status.busy": "2024-03-07T20:34:35.117362Z",
     "iopub.status.idle": "2024-03-07T20:34:35.126239Z",
     "shell.execute_reply": "2024-03-07T20:34:35.124152Z",
     "shell.execute_reply.started": "2024-03-07T20:34:35.117769Z"
    }
   },
   "source": [
    " <p style=\"border:2px black solid; padding:10px\">Перебор параметров</p>"
   ]
  },
  {
   "cell_type": "code",
   "execution_count": 38,
   "metadata": {
    "execution": {
     "iopub.execute_input": "2024-03-08T17:28:40.689475Z",
     "iopub.status.busy": "2024-03-08T17:28:40.689077Z",
     "iopub.status.idle": "2024-03-08T17:33:17.313161Z",
     "shell.execute_reply": "2024-03-08T17:33:17.311956Z",
     "shell.execute_reply.started": "2024-03-08T17:28:40.689447Z"
    }
   },
   "outputs": [],
   "source": [
    "#проверим качество модели при различных комбинациях lr и n_estimators\n",
    "prm = []\n",
    "for i in [0.5, 0.4, 0.2, .01, 0.001, 0.0001, 0.00001]:\n",
    "    for j in range(50, 250, 5):\n",
    "        cat_prm = CatBoostClassifier(scale_pos_weight = 2.8, n_estimators=j, learning_rate=i, random_state=42, verbose=False)\n",
    "        cat_prm.fit(X_train, y_train, cat_features=cat_cols)\n",
    "        rocauc_train = roc_auc_score\\\n",
    "        (y_train, cat_prm.predict_proba(X_train)[:,1])\n",
    "        rocauc_val = roc_auc_score\\\n",
    "        (y_val, cat_prm.predict_proba(X_val)[:,1])\n",
    "        prm.append([i,j, rocauc_train, rocauc_val])\n",
    "prm_DataFrame = pd.DataFrame\\\n",
    "(prm, columns=['lr','n_estimators', 'rocauc_train', 'rocauc_val'])"
   ]
  },
  {
   "cell_type": "code",
   "execution_count": 39,
   "metadata": {
    "execution": {
     "iopub.execute_input": "2024-03-08T17:33:17.315841Z",
     "iopub.status.busy": "2024-03-08T17:33:17.314859Z",
     "iopub.status.idle": "2024-03-08T17:33:17.328351Z",
     "shell.execute_reply": "2024-03-08T17:33:17.327124Z",
     "shell.execute_reply.started": "2024-03-08T17:33:17.315800Z"
    }
   },
   "outputs": [
    {
     "data": {
      "text/html": [
       "<div>\n",
       "<style scoped>\n",
       "    .dataframe tbody tr th:only-of-type {\n",
       "        vertical-align: middle;\n",
       "    }\n",
       "\n",
       "    .dataframe tbody tr th {\n",
       "        vertical-align: top;\n",
       "    }\n",
       "\n",
       "    .dataframe thead th {\n",
       "        text-align: right;\n",
       "    }\n",
       "</style>\n",
       "<table border=\"1\" class=\"dataframe\">\n",
       "  <thead>\n",
       "    <tr style=\"text-align: right;\">\n",
       "      <th></th>\n",
       "      <th>lr</th>\n",
       "      <th>n_estimators</th>\n",
       "      <th>rocauc_train</th>\n",
       "      <th>rocauc_val</th>\n",
       "    </tr>\n",
       "  </thead>\n",
       "  <tbody>\n",
       "    <tr>\n",
       "      <th>82</th>\n",
       "      <td>0.2</td>\n",
       "      <td>60</td>\n",
       "      <td>0.868571</td>\n",
       "      <td>0.843444</td>\n",
       "    </tr>\n",
       "  </tbody>\n",
       "</table>\n",
       "</div>"
      ],
      "text/plain": [
       "     lr  n_estimators  rocauc_train  rocauc_val\n",
       "82  0.2            60      0.868571    0.843444"
      ]
     },
     "execution_count": 39,
     "metadata": {},
     "output_type": "execute_result"
    }
   ],
   "source": [
    "#выведем наилучший результат на валидационных данных\n",
    "prm_DataFrame.sort_values(by='rocauc_val', ascending=False)[:1]"
   ]
  },
  {
   "cell_type": "code",
   "execution_count": 40,
   "metadata": {
    "execution": {
     "iopub.execute_input": "2024-03-08T17:35:12.285522Z",
     "iopub.status.busy": "2024-03-08T17:35:12.285082Z",
     "iopub.status.idle": "2024-03-08T17:35:12.293748Z",
     "shell.execute_reply": "2024-03-08T17:35:12.292680Z",
     "shell.execute_reply.started": "2024-03-08T17:35:12.285483Z"
    }
   },
   "outputs": [],
   "source": [
    "#итоговая модель\n",
    "cat_final = CatBoostClassifier(\n",
    "n_estimators=60, learning_rate=0.2, cat_features=cat_cols,\n",
    "                               random_state=42, verbose=False)"
   ]
  },
  {
   "cell_type": "code",
   "execution_count": 41,
   "metadata": {
    "execution": {
     "iopub.execute_input": "2024-03-08T17:35:13.990799Z",
     "iopub.status.busy": "2024-03-08T17:35:13.990418Z",
     "iopub.status.idle": "2024-03-08T17:35:14.276347Z",
     "shell.execute_reply": "2024-03-08T17:35:14.275003Z",
     "shell.execute_reply.started": "2024-03-08T17:35:13.990771Z"
    }
   },
   "outputs": [
    {
     "data": {
      "text/plain": [
       "<catboost.core.CatBoostClassifier at 0x23a2ecd5090>"
      ]
     },
     "execution_count": 41,
     "metadata": {},
     "output_type": "execute_result"
    }
   ],
   "source": [
    "#обучим\n",
    "cat_final.fit(X_train, y_train)"
   ]
  },
  {
   "cell_type": "code",
   "execution_count": 42,
   "metadata": {
    "execution": {
     "iopub.execute_input": "2024-03-08T17:35:16.382903Z",
     "iopub.status.busy": "2024-03-08T17:35:16.382488Z",
     "iopub.status.idle": "2024-03-08T17:35:16.403404Z",
     "shell.execute_reply": "2024-03-08T17:35:16.401815Z",
     "shell.execute_reply.started": "2024-03-08T17:35:16.382871Z"
    }
   },
   "outputs": [
    {
     "data": {
      "text/plain": [
       "0.8425464124607516"
      ]
     },
     "execution_count": 42,
     "metadata": {},
     "output_type": "execute_result"
    }
   ],
   "source": [
    "#оценим\n",
    "roc_auc_score(y_val, cat_final.predict_proba(X_val)[:,1])"
   ]
  },
  {
   "cell_type": "markdown",
   "metadata": {
    "id": "rf4Kjt96EEZU"
   },
   "source": [
    "Выпишите, какое лучшее качество и с какими параметрами вам удалось получить"
   ]
  },
  {
   "cell_type": "markdown",
   "metadata": {
    "id": "d2d9GolXEEZV"
   },
   "source": [
    "Модель показывает наилучший результат(качество 0.84), когда количество деревьев равно 60 при шаге  0.2. "
   ]
  },
  {
   "cell_type": "markdown",
   "metadata": {
    "id": "dDMXbvNZEEZV"
   },
   "source": [
    "# Предсказания"
   ]
  },
  {
   "cell_type": "code",
   "execution_count": 43,
   "metadata": {
    "execution": {
     "iopub.execute_input": "2024-03-08T17:33:17.607663Z",
     "iopub.status.busy": "2024-03-08T17:33:17.607254Z",
     "iopub.status.idle": "2024-03-08T17:33:17.612910Z",
     "shell.execute_reply": "2024-03-08T17:33:17.611986Z",
     "shell.execute_reply.started": "2024-03-08T17:33:17.607627Z"
    },
    "id": "G_P4wFNaEEZW",
    "outputId": "1fba5dfc-88e4-49e3-ed8a-afe21ae3325a"
   },
   "outputs": [],
   "source": [
    "best_model = cat_final"
   ]
  },
  {
   "cell_type": "code",
   "execution_count": 44,
   "metadata": {
    "execution": {
     "iopub.execute_input": "2024-03-08T17:33:17.616453Z",
     "iopub.status.busy": "2024-03-08T17:33:17.616160Z",
     "iopub.status.idle": "2024-03-08T17:33:17.658510Z",
     "shell.execute_reply": "2024-03-08T17:33:17.657554Z",
     "shell.execute_reply.started": "2024-03-08T17:33:17.616428Z"
    },
    "id": "FfSufx0CEEZZ"
   },
   "outputs": [
    {
     "ename": "FileNotFoundError",
     "evalue": "[Errno 2] No such file or directory: '/kaggle/input/advanced-dls-spring-2021/test.csv'",
     "output_type": "error",
     "traceback": [
      "\u001B[1;31m---------------------------------------------------------------------------\u001B[0m",
      "\u001B[1;31mFileNotFoundError\u001B[0m                         Traceback (most recent call last)",
      "Cell \u001B[1;32mIn[44], line 1\u001B[0m\n\u001B[1;32m----> 1\u001B[0m X_test \u001B[38;5;241m=\u001B[39m pd\u001B[38;5;241m.\u001B[39mread_csv(\u001B[38;5;124m'\u001B[39m\u001B[38;5;124m/kaggle/input/advanced-dls-spring-2021/test.csv\u001B[39m\u001B[38;5;124m'\u001B[39m)\n\u001B[0;32m      2\u001B[0m submission \u001B[38;5;241m=\u001B[39m pd\u001B[38;5;241m.\u001B[39mread_csv(\u001B[38;5;124m'\u001B[39m\u001B[38;5;124m/kaggle/input/advanced-dls-spring-2021/submission.csv\u001B[39m\u001B[38;5;124m'\u001B[39m)\n\u001B[0;32m      4\u001B[0m submission[\u001B[38;5;124m'\u001B[39m\u001B[38;5;124mChurn\u001B[39m\u001B[38;5;124m'\u001B[39m] \u001B[38;5;241m=\u001B[39m best_model\u001B[38;5;241m.\u001B[39mpredict_proba(X_test)[:,\u001B[38;5;241m1\u001B[39m]\n",
      "File \u001B[1;32mD:\\Other\\anaconda3\\Lib\\site-packages\\pandas\\io\\parsers\\readers.py:912\u001B[0m, in \u001B[0;36mread_csv\u001B[1;34m(filepath_or_buffer, sep, delimiter, header, names, index_col, usecols, dtype, engine, converters, true_values, false_values, skipinitialspace, skiprows, skipfooter, nrows, na_values, keep_default_na, na_filter, verbose, skip_blank_lines, parse_dates, infer_datetime_format, keep_date_col, date_parser, date_format, dayfirst, cache_dates, iterator, chunksize, compression, thousands, decimal, lineterminator, quotechar, quoting, doublequote, escapechar, comment, encoding, encoding_errors, dialect, on_bad_lines, delim_whitespace, low_memory, memory_map, float_precision, storage_options, dtype_backend)\u001B[0m\n\u001B[0;32m    899\u001B[0m kwds_defaults \u001B[38;5;241m=\u001B[39m _refine_defaults_read(\n\u001B[0;32m    900\u001B[0m     dialect,\n\u001B[0;32m    901\u001B[0m     delimiter,\n\u001B[1;32m   (...)\u001B[0m\n\u001B[0;32m    908\u001B[0m     dtype_backend\u001B[38;5;241m=\u001B[39mdtype_backend,\n\u001B[0;32m    909\u001B[0m )\n\u001B[0;32m    910\u001B[0m kwds\u001B[38;5;241m.\u001B[39mupdate(kwds_defaults)\n\u001B[1;32m--> 912\u001B[0m \u001B[38;5;28;01mreturn\u001B[39;00m _read(filepath_or_buffer, kwds)\n",
      "File \u001B[1;32mD:\\Other\\anaconda3\\Lib\\site-packages\\pandas\\io\\parsers\\readers.py:577\u001B[0m, in \u001B[0;36m_read\u001B[1;34m(filepath_or_buffer, kwds)\u001B[0m\n\u001B[0;32m    574\u001B[0m _validate_names(kwds\u001B[38;5;241m.\u001B[39mget(\u001B[38;5;124m\"\u001B[39m\u001B[38;5;124mnames\u001B[39m\u001B[38;5;124m\"\u001B[39m, \u001B[38;5;28;01mNone\u001B[39;00m))\n\u001B[0;32m    576\u001B[0m \u001B[38;5;66;03m# Create the parser.\u001B[39;00m\n\u001B[1;32m--> 577\u001B[0m parser \u001B[38;5;241m=\u001B[39m TextFileReader(filepath_or_buffer, \u001B[38;5;241m*\u001B[39m\u001B[38;5;241m*\u001B[39mkwds)\n\u001B[0;32m    579\u001B[0m \u001B[38;5;28;01mif\u001B[39;00m chunksize \u001B[38;5;129;01mor\u001B[39;00m iterator:\n\u001B[0;32m    580\u001B[0m     \u001B[38;5;28;01mreturn\u001B[39;00m parser\n",
      "File \u001B[1;32mD:\\Other\\anaconda3\\Lib\\site-packages\\pandas\\io\\parsers\\readers.py:1407\u001B[0m, in \u001B[0;36mTextFileReader.__init__\u001B[1;34m(self, f, engine, **kwds)\u001B[0m\n\u001B[0;32m   1404\u001B[0m     \u001B[38;5;28mself\u001B[39m\u001B[38;5;241m.\u001B[39moptions[\u001B[38;5;124m\"\u001B[39m\u001B[38;5;124mhas_index_names\u001B[39m\u001B[38;5;124m\"\u001B[39m] \u001B[38;5;241m=\u001B[39m kwds[\u001B[38;5;124m\"\u001B[39m\u001B[38;5;124mhas_index_names\u001B[39m\u001B[38;5;124m\"\u001B[39m]\n\u001B[0;32m   1406\u001B[0m \u001B[38;5;28mself\u001B[39m\u001B[38;5;241m.\u001B[39mhandles: IOHandles \u001B[38;5;241m|\u001B[39m \u001B[38;5;28;01mNone\u001B[39;00m \u001B[38;5;241m=\u001B[39m \u001B[38;5;28;01mNone\u001B[39;00m\n\u001B[1;32m-> 1407\u001B[0m \u001B[38;5;28mself\u001B[39m\u001B[38;5;241m.\u001B[39m_engine \u001B[38;5;241m=\u001B[39m \u001B[38;5;28mself\u001B[39m\u001B[38;5;241m.\u001B[39m_make_engine(f, \u001B[38;5;28mself\u001B[39m\u001B[38;5;241m.\u001B[39mengine)\n",
      "File \u001B[1;32mD:\\Other\\anaconda3\\Lib\\site-packages\\pandas\\io\\parsers\\readers.py:1661\u001B[0m, in \u001B[0;36mTextFileReader._make_engine\u001B[1;34m(self, f, engine)\u001B[0m\n\u001B[0;32m   1659\u001B[0m     \u001B[38;5;28;01mif\u001B[39;00m \u001B[38;5;124m\"\u001B[39m\u001B[38;5;124mb\u001B[39m\u001B[38;5;124m\"\u001B[39m \u001B[38;5;129;01mnot\u001B[39;00m \u001B[38;5;129;01min\u001B[39;00m mode:\n\u001B[0;32m   1660\u001B[0m         mode \u001B[38;5;241m+\u001B[39m\u001B[38;5;241m=\u001B[39m \u001B[38;5;124m\"\u001B[39m\u001B[38;5;124mb\u001B[39m\u001B[38;5;124m\"\u001B[39m\n\u001B[1;32m-> 1661\u001B[0m \u001B[38;5;28mself\u001B[39m\u001B[38;5;241m.\u001B[39mhandles \u001B[38;5;241m=\u001B[39m get_handle(\n\u001B[0;32m   1662\u001B[0m     f,\n\u001B[0;32m   1663\u001B[0m     mode,\n\u001B[0;32m   1664\u001B[0m     encoding\u001B[38;5;241m=\u001B[39m\u001B[38;5;28mself\u001B[39m\u001B[38;5;241m.\u001B[39moptions\u001B[38;5;241m.\u001B[39mget(\u001B[38;5;124m\"\u001B[39m\u001B[38;5;124mencoding\u001B[39m\u001B[38;5;124m\"\u001B[39m, \u001B[38;5;28;01mNone\u001B[39;00m),\n\u001B[0;32m   1665\u001B[0m     compression\u001B[38;5;241m=\u001B[39m\u001B[38;5;28mself\u001B[39m\u001B[38;5;241m.\u001B[39moptions\u001B[38;5;241m.\u001B[39mget(\u001B[38;5;124m\"\u001B[39m\u001B[38;5;124mcompression\u001B[39m\u001B[38;5;124m\"\u001B[39m, \u001B[38;5;28;01mNone\u001B[39;00m),\n\u001B[0;32m   1666\u001B[0m     memory_map\u001B[38;5;241m=\u001B[39m\u001B[38;5;28mself\u001B[39m\u001B[38;5;241m.\u001B[39moptions\u001B[38;5;241m.\u001B[39mget(\u001B[38;5;124m\"\u001B[39m\u001B[38;5;124mmemory_map\u001B[39m\u001B[38;5;124m\"\u001B[39m, \u001B[38;5;28;01mFalse\u001B[39;00m),\n\u001B[0;32m   1667\u001B[0m     is_text\u001B[38;5;241m=\u001B[39mis_text,\n\u001B[0;32m   1668\u001B[0m     errors\u001B[38;5;241m=\u001B[39m\u001B[38;5;28mself\u001B[39m\u001B[38;5;241m.\u001B[39moptions\u001B[38;5;241m.\u001B[39mget(\u001B[38;5;124m\"\u001B[39m\u001B[38;5;124mencoding_errors\u001B[39m\u001B[38;5;124m\"\u001B[39m, \u001B[38;5;124m\"\u001B[39m\u001B[38;5;124mstrict\u001B[39m\u001B[38;5;124m\"\u001B[39m),\n\u001B[0;32m   1669\u001B[0m     storage_options\u001B[38;5;241m=\u001B[39m\u001B[38;5;28mself\u001B[39m\u001B[38;5;241m.\u001B[39moptions\u001B[38;5;241m.\u001B[39mget(\u001B[38;5;124m\"\u001B[39m\u001B[38;5;124mstorage_options\u001B[39m\u001B[38;5;124m\"\u001B[39m, \u001B[38;5;28;01mNone\u001B[39;00m),\n\u001B[0;32m   1670\u001B[0m )\n\u001B[0;32m   1671\u001B[0m \u001B[38;5;28;01massert\u001B[39;00m \u001B[38;5;28mself\u001B[39m\u001B[38;5;241m.\u001B[39mhandles \u001B[38;5;129;01mis\u001B[39;00m \u001B[38;5;129;01mnot\u001B[39;00m \u001B[38;5;28;01mNone\u001B[39;00m\n\u001B[0;32m   1672\u001B[0m f \u001B[38;5;241m=\u001B[39m \u001B[38;5;28mself\u001B[39m\u001B[38;5;241m.\u001B[39mhandles\u001B[38;5;241m.\u001B[39mhandle\n",
      "File \u001B[1;32mD:\\Other\\anaconda3\\Lib\\site-packages\\pandas\\io\\common.py:859\u001B[0m, in \u001B[0;36mget_handle\u001B[1;34m(path_or_buf, mode, encoding, compression, memory_map, is_text, errors, storage_options)\u001B[0m\n\u001B[0;32m    854\u001B[0m \u001B[38;5;28;01melif\u001B[39;00m \u001B[38;5;28misinstance\u001B[39m(handle, \u001B[38;5;28mstr\u001B[39m):\n\u001B[0;32m    855\u001B[0m     \u001B[38;5;66;03m# Check whether the filename is to be opened in binary mode.\u001B[39;00m\n\u001B[0;32m    856\u001B[0m     \u001B[38;5;66;03m# Binary mode does not support 'encoding' and 'newline'.\u001B[39;00m\n\u001B[0;32m    857\u001B[0m     \u001B[38;5;28;01mif\u001B[39;00m ioargs\u001B[38;5;241m.\u001B[39mencoding \u001B[38;5;129;01mand\u001B[39;00m \u001B[38;5;124m\"\u001B[39m\u001B[38;5;124mb\u001B[39m\u001B[38;5;124m\"\u001B[39m \u001B[38;5;129;01mnot\u001B[39;00m \u001B[38;5;129;01min\u001B[39;00m ioargs\u001B[38;5;241m.\u001B[39mmode:\n\u001B[0;32m    858\u001B[0m         \u001B[38;5;66;03m# Encoding\u001B[39;00m\n\u001B[1;32m--> 859\u001B[0m         handle \u001B[38;5;241m=\u001B[39m \u001B[38;5;28mopen\u001B[39m(\n\u001B[0;32m    860\u001B[0m             handle,\n\u001B[0;32m    861\u001B[0m             ioargs\u001B[38;5;241m.\u001B[39mmode,\n\u001B[0;32m    862\u001B[0m             encoding\u001B[38;5;241m=\u001B[39mioargs\u001B[38;5;241m.\u001B[39mencoding,\n\u001B[0;32m    863\u001B[0m             errors\u001B[38;5;241m=\u001B[39merrors,\n\u001B[0;32m    864\u001B[0m             newline\u001B[38;5;241m=\u001B[39m\u001B[38;5;124m\"\u001B[39m\u001B[38;5;124m\"\u001B[39m,\n\u001B[0;32m    865\u001B[0m         )\n\u001B[0;32m    866\u001B[0m     \u001B[38;5;28;01melse\u001B[39;00m:\n\u001B[0;32m    867\u001B[0m         \u001B[38;5;66;03m# Binary mode\u001B[39;00m\n\u001B[0;32m    868\u001B[0m         handle \u001B[38;5;241m=\u001B[39m \u001B[38;5;28mopen\u001B[39m(handle, ioargs\u001B[38;5;241m.\u001B[39mmode)\n",
      "\u001B[1;31mFileNotFoundError\u001B[0m: [Errno 2] No such file or directory: '/kaggle/input/advanced-dls-spring-2021/test.csv'"
     ]
    }
   ],
   "source": [
    "X_test = pd.read_csv('/kaggle/input/advanced-dls-spring-2021/test.csv')\n",
    "submission = pd.read_csv('/kaggle/input/advanced-dls-spring-2021/submission.csv')\n",
    "\n",
    "submission['Churn'] = best_model.predict_proba(X_test)[:,1]\n",
    "submission.to_csv('./my_submission.csv')"
   ]
  },
  {
   "cell_type": "code",
   "execution_count": null,
   "metadata": {},
   "outputs": [],
   "source": []
  }
 ],
 "metadata": {
  "colab": {
   "provenance": []
  },
  "kaggle": {
   "accelerator": "none",
   "dataSources": [
    {
     "databundleVersionId": 2030504,
     "sourceId": 26266,
     "sourceType": "competition"
    }
   ],
   "dockerImageVersionId": 30664,
   "isGpuEnabled": false,
   "isInternetEnabled": true,
   "language": "python",
   "sourceType": "notebook"
  },
  "kernelspec": {
   "display_name": "Python 3 (ipykernel)",
   "language": "python",
   "name": "python3"
  },
  "language_info": {
   "codemirror_mode": {
    "name": "ipython",
    "version": 3
   },
   "file_extension": ".py",
   "mimetype": "text/x-python",
   "name": "python",
   "nbconvert_exporter": "python",
   "pygments_lexer": "ipython3",
   "version": "3.11.5"
  }
 },
 "nbformat": 4,
 "nbformat_minor": 4
}
