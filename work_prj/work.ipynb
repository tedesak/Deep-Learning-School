{
 "cells": [
  {
   "cell_type": "code",
   "execution_count": 4,
   "id": "initial_id",
   "metadata": {
    "collapsed": true,
    "ExecuteTime": {
     "end_time": "2024-04-02T16:48:35.903183Z",
     "start_time": "2024-04-02T16:48:31.438648Z"
    }
   },
   "outputs": [],
   "source": [
    "import numpy as np\n",
    "\n",
    "import seaborn as sns\n",
    "from matplotlib import pyplot as plt\n",
    "\n",
    "from sklearn.datasets import make_moons\n",
    "from sklearn.model_selection import train_test_split\n",
    "\n",
    "import torch\n",
    "from torch import nn\n",
    "from torch.nn import functional as F\n",
    "\n",
    "from torch.utils.data import TensorDataset, DataLoader\n",
    "from scipy.special import softmax\n",
    "from random import uniform\n",
    "from math import cos, sin, pi\n",
    "\n",
    "sns.set(style=\"darkgrid\", font_scale=1.4)"
   ]
  },
  {
   "cell_type": "code",
   "outputs": [],
   "source": [
    "BATCH_SIZE = 100\n",
    "NUM_PARAMETERS = 1000\n",
    "NUM_TEST = 100000"
   ],
   "metadata": {
    "collapsed": false,
    "ExecuteTime": {
     "end_time": "2024-04-02T16:48:35.909146Z",
     "start_time": "2024-04-02T16:48:35.905179Z"
    }
   },
   "id": "78ce65cbef0585c9",
   "execution_count": 5
  },
  {
   "cell_type": "code",
   "outputs": [],
   "source": [
    "def generate1():\n",
    "    a = uniform(0, 1)\n",
    "    b = uniform(0, 1)\n",
    "    return a * cos(2 * pi * b), a * sin(2 * pi * b)\n",
    "\n",
    "\n",
    "def generate2():\n",
    "    while True:\n",
    "        x = uniform(-1, 1)\n",
    "        y = uniform(-1, 1)\n",
    "        if x ** 2 + y ** 2 > 1:\n",
    "            continue\n",
    "        return (x, y)"
   ],
   "metadata": {
    "collapsed": false,
    "ExecuteTime": {
     "end_time": "2024-04-02T16:48:35.917688Z",
     "start_time": "2024-04-02T16:48:35.911145Z"
    }
   },
   "id": "99171acd327a88f2",
   "execution_count": 6
  },
  {
   "cell_type": "code",
   "outputs": [],
   "source": [
    "def gen1():\n",
    "    return torch.flatten(torch.stack([torch.tensor(generate1()) for _ in range(NUM_PARAMETERS)]))#, torch.tensor(0)\n",
    "\n",
    "def gen2():\n",
    "    return torch.flatten(torch.stack([torch.tensor(generate2()) for _ in range(NUM_PARAMETERS)]))#, torch.tensor(1)"
   ],
   "metadata": {
    "collapsed": false,
    "ExecuteTime": {
     "end_time": "2024-04-02T16:48:35.923820Z",
     "start_time": "2024-04-02T16:48:35.918701Z"
    }
   },
   "id": "70d5fe3260362823",
   "execution_count": 7
  },
  {
   "cell_type": "code",
   "outputs": [
    {
     "data": {
      "text/plain": "torch.float32"
     },
     "execution_count": 8,
     "metadata": {},
     "output_type": "execute_result"
    }
   ],
   "source": [
    "gen1().dtype"
   ],
   "metadata": {
    "collapsed": false,
    "ExecuteTime": {
     "end_time": "2024-04-02T16:48:35.945991Z",
     "start_time": "2024-04-02T16:48:35.925838Z"
    }
   },
   "id": "6de732185d12239c",
   "execution_count": 8
  },
  {
   "cell_type": "code",
   "outputs": [],
   "source": [
    "X1_=torch.stack([gen1() for _ in range(1000)])\n",
    "X2_=torch.stack([gen2() for _ in range(1000)])\n",
    "# X_.shape"
   ],
   "metadata": {
    "collapsed": false,
    "ExecuteTime": {
     "end_time": "2024-04-01T14:12:33.939508Z",
     "start_time": "2024-04-01T14:12:16.719239Z"
    }
   },
   "id": "fc2e4252a07127e2",
   "execution_count": 558
  },
  {
   "cell_type": "code",
   "outputs": [
    {
     "data": {
      "text/plain": "(tensor(0.4079), tensor(0.3863), tensor(0.4264))"
     },
     "execution_count": 559,
     "metadata": {},
     "output_type": "execute_result"
    }
   ],
   "source": [
    "torch.mean(torch.std(X1_, axis=1)), torch.min(torch.std(X1_, axis=1)), torch.max(torch.std(X1_, axis=1))"
   ],
   "metadata": {
    "collapsed": false,
    "ExecuteTime": {
     "end_time": "2024-04-01T14:12:33.964657Z",
     "start_time": "2024-04-01T14:12:33.941508Z"
    }
   },
   "id": "7fb21b61e2303866",
   "execution_count": 559
  },
  {
   "cell_type": "code",
   "outputs": [
    {
     "data": {
      "text/plain": "(tensor(0.5000), tensor(0.4875), tensor(0.5145))"
     },
     "execution_count": 560,
     "metadata": {},
     "output_type": "execute_result"
    }
   ],
   "source": [
    "torch.mean(torch.std(X2_, axis=1)), torch.min(torch.std(X2_, axis=1)), torch.max(torch.std(X2_, axis=1))"
   ],
   "metadata": {
    "collapsed": false,
    "ExecuteTime": {
     "end_time": "2024-04-01T14:12:33.989182Z",
     "start_time": "2024-04-01T14:12:33.966651Z"
    }
   },
   "id": "124dab60b110dbbc",
   "execution_count": 560
  },
  {
   "cell_type": "code",
   "outputs": [],
   "source": [
    "def predictor(X):\n",
    "    if (torch.std(X) < 0.45):\n",
    "        return 1\n",
    "    else:\n",
    "        return 2"
   ],
   "metadata": {
    "collapsed": false,
    "ExecuteTime": {
     "end_time": "2024-04-01T14:12:33.994824Z",
     "start_time": "2024-04-01T14:12:33.990707Z"
    }
   },
   "id": "273ebcd32a9ec856",
   "execution_count": 561
  },
  {
   "cell_type": "code",
   "outputs": [
    {
     "data": {
      "text/plain": "1"
     },
     "execution_count": 574,
     "metadata": {},
     "output_type": "execute_result"
    }
   ],
   "source": [
    "predictor(gen1())"
   ],
   "metadata": {
    "collapsed": false,
    "ExecuteTime": {
     "end_time": "2024-04-01T14:12:57.118820Z",
     "start_time": "2024-04-01T14:12:57.102441Z"
    }
   },
   "id": "93e92c9317ed2ae6",
   "execution_count": 574
  },
  {
   "cell_type": "code",
   "outputs": [
    {
     "data": {
      "text/plain": "(torch.Size([200000, 200]), torch.Size([200000, 1]))"
     },
     "execution_count": 374,
     "metadata": {},
     "output_type": "execute_result"
    }
   ],
   "source": [
    "torch.cat((torch.stack([gen1() for _ in range(NUM_TEST)]), torch.stack([gen2() for _ in range(NUM_TEST)])), dim=0).shape, torch.cat((torch.zeros(NUM_TEST, 1), torch.ones(NUM_TEST, 1)), dim=0).shape"
   ],
   "metadata": {
    "collapsed": false,
    "ExecuteTime": {
     "end_time": "2024-04-01T00:34:07.114387Z",
     "start_time": "2024-04-01T00:31:07.125862Z"
    }
   },
   "id": "2bf9ddbc5a31fc40",
   "execution_count": 374
  },
  {
   "cell_type": "code",
   "outputs": [],
   "source": [
    "X = torch.cat((torch.stack([gen1() for _ in range(NUM_TEST)]), torch.stack([gen2() for _ in range(NUM_TEST)])), dim=0)\n",
    "\n",
    "y = torch.cat((torch.zeros(NUM_TEST, 1, dtype=int), torch.ones(NUM_TEST, 1, dtype=int)), dim=0)\n",
    "\n",
    "train_dataset = TensorDataset(X, y)\n",
    "\n",
    "train_dataloader = DataLoader(train_dataset, batch_size = BATCH_SIZE, shuffle=True, num_workers=2)"
   ],
   "metadata": {
    "collapsed": false,
    "ExecuteTime": {
     "end_time": "2024-04-01T00:36:35.967180Z",
     "start_time": "2024-04-01T00:34:07.116378Z"
    }
   },
   "id": "94555d1ba1cbae65",
   "execution_count": 375
  },
  {
   "cell_type": "code",
   "outputs": [],
   "source": [
    "X = torch.cat((torch.stack([gen1() for _ in range(NUM_TEST)]), torch.stack([gen2() for _ in range(NUM_TEST)])), dim=0)\n",
    "\n",
    "y = torch.cat((torch.zeros(NUM_TEST, dtype=int), torch.ones(NUM_TEST, dtype=int)), dim=0)\n",
    "\n",
    "test_dataset = TensorDataset(X, y)\n",
    "\n",
    "valid_dataloader = DataLoader(test_dataset, batch_size = BATCH_SIZE, num_workers=2)"
   ],
   "metadata": {
    "collapsed": false,
    "ExecuteTime": {
     "end_time": "2024-04-01T00:39:05.159474Z",
     "start_time": "2024-04-01T00:36:35.968697Z"
    }
   },
   "id": "9666677a18ef0e58",
   "execution_count": 376
  },
  {
   "cell_type": "code",
   "outputs": [
    {
     "data": {
      "text/plain": "torch.Size([200])"
     },
     "execution_count": 377,
     "metadata": {},
     "output_type": "execute_result"
    }
   ],
   "source": [
    "train_dataloader.dataset[0][0].shape"
   ],
   "metadata": {
    "collapsed": false,
    "ExecuteTime": {
     "end_time": "2024-04-01T00:39:05.167151Z",
     "start_time": "2024-04-01T00:39:05.160471Z"
    }
   },
   "id": "2f401af97b1eec78",
   "execution_count": 377
  },
  {
   "cell_type": "code",
   "outputs": [],
   "source": [
    "in_features = NUM_PARAMETERS * 2\n",
    "out_features = 2\n",
    "loaders = {\"train\": train_dataloader, \"valid\": valid_dataloader}\n",
    "\n",
    "def create_model(activation):\n",
    "    return nn.Sequential(\n",
    "        nn.Linear(in_features, 128),\n",
    "        activation(),\n",
    "        nn.Linear(128, 128),\n",
    "        activation(),\n",
    "        nn.Linear(128, 128),\n",
    "        activation(),\n",
    "        nn.Linear(128, out_features)\n",
    "    )"
   ],
   "metadata": {
    "collapsed": false,
    "ExecuteTime": {
     "end_time": "2024-04-01T00:39:05.177184Z",
     "start_time": "2024-04-01T00:39:05.169151Z"
    }
   },
   "id": "ed279ed6c38932dd",
   "execution_count": 378
  },
  {
   "cell_type": "code",
   "outputs": [],
   "source": [
    "max_epochs = 10\n",
    "def train_model(model, criterion, optimizer, max_epochs):\n",
    "    accuracy = {\"train\": [], \"valid\": []}\n",
    "    for epoch in range(max_epochs):\n",
    "        for k, dataloader in loaders.items():\n",
    "            epoch_correct = 0\n",
    "            epoch_all = 0\n",
    "            i = 0\n",
    "            \n",
    "            for x_batch, y_batch in dataloader:\n",
    "                # x_batch, y_batch = x_batch.to(device), y_batch.to(device)\n",
    "                y_batch = y_batch.view(-1)\n",
    "                if k == \"train\":\n",
    "                    model.train()\n",
    "                    outp = model(x_batch)\n",
    "                    optimizer.zero_grad()\n",
    "                    # print (outp, y_batch)\n",
    "                    loss = criterion(outp, y_batch)\n",
    "                    loss.backward()\n",
    "                    optimizer.step()\n",
    "                else:\n",
    "                    model.eval()\n",
    "                    with torch.no_grad():\n",
    "                        outp = model(x_batch)\n",
    "                preds = outp.argmax(-1)\n",
    "                correct = (y_batch == preds).sum().item()\n",
    "                epoch_correct += correct\n",
    "                epoch_all += BATCH_SIZE\n",
    "\n",
    "            if k == \"train\":\n",
    "                print(f\"Epoch: {epoch+1}\")\n",
    "            print(f\"Loader: {k}. Accuracy: {epoch_correct/epoch_all}\")\n",
    "            print(epoch_correct, epoch_all)\n",
    "            accuracy[k].append(epoch_correct/epoch_all)\n",
    "    return accuracy[\"valid\"]"
   ],
   "metadata": {
    "collapsed": false,
    "ExecuteTime": {
     "end_time": "2024-04-01T00:39:05.186698Z",
     "start_time": "2024-04-01T00:39:05.178166Z"
    }
   },
   "id": "cc4f997745bc152e",
   "execution_count": 379
  },
  {
   "cell_type": "code",
   "outputs": [
    {
     "name": "stdout",
     "output_type": "stream",
     "text": [
      "Epoch: 1\n",
      "Loader: train. Accuracy: 0.8836\n",
      "176720 200000\n",
      "Loader: valid. Accuracy: 0.92019\n",
      "184038 200000\n",
      "Epoch: 2\n",
      "Loader: train. Accuracy: 0.94313\n",
      "188626 200000\n",
      "Loader: valid. Accuracy: 0.92476\n",
      "184952 200000\n",
      "Epoch: 3\n",
      "Loader: train. Accuracy: 0.95477\n",
      "190954 200000\n",
      "Loader: valid. Accuracy: 0.91801\n",
      "183602 200000\n",
      "Epoch: 4\n",
      "Loader: train. Accuracy: 0.963045\n",
      "192609 200000\n",
      "Loader: valid. Accuracy: 0.930755\n",
      "186151 200000\n",
      "Epoch: 5\n",
      "Loader: train. Accuracy: 0.968995\n",
      "193799 200000\n",
      "Loader: valid. Accuracy: 0.931835\n",
      "186367 200000\n",
      "Epoch: 6\n",
      "Loader: train. Accuracy: 0.972655\n",
      "194531 200000\n",
      "Loader: valid. Accuracy: 0.931835\n",
      "186367 200000\n",
      "Epoch: 7\n",
      "Loader: train. Accuracy: 0.976225\n",
      "195245 200000\n",
      "Loader: valid. Accuracy: 0.933925\n",
      "186785 200000\n",
      "Epoch: 8\n",
      "Loader: train. Accuracy: 0.978395\n",
      "195679 200000\n",
      "Loader: valid. Accuracy: 0.933095\n",
      "186619 200000\n",
      "Epoch: 9\n",
      "Loader: train. Accuracy: 0.981015\n",
      "196203 200000\n",
      "Loader: valid. Accuracy: 0.933355\n",
      "186671 200000\n",
      "Epoch: 10\n",
      "Loader: train. Accuracy: 0.982585\n",
      "196517 200000\n",
      "Loader: valid. Accuracy: 0.9352\n",
      "187040 200000\n"
     ]
    },
    {
     "data": {
      "text/plain": "[0.92019,\n 0.92476,\n 0.91801,\n 0.930755,\n 0.931835,\n 0.931835,\n 0.933925,\n 0.933095,\n 0.933355,\n 0.9352]"
     },
     "execution_count": 380,
     "metadata": {},
     "output_type": "execute_result"
    }
   ],
   "source": [
    "model = create_model(nn.ReLU)\n",
    "criterion = nn.CrossEntropyLoss()\n",
    "optimizer = torch.optim.Adam(model.parameters())\n",
    "train_model(model, criterion, optimizer, max_epochs)"
   ],
   "metadata": {
    "collapsed": false,
    "ExecuteTime": {
     "end_time": "2024-04-01T00:41:49.351030Z",
     "start_time": "2024-04-01T00:39:05.188222Z"
    }
   },
   "id": "7b0d97264f64bef4",
   "execution_count": 380
  },
  {
   "cell_type": "code",
   "outputs": [
    {
     "data": {
      "text/plain": "tensor(1)"
     },
     "execution_count": 336,
     "metadata": {},
     "output_type": "execute_result"
    }
   ],
   "source": [
    "model.eval()\n",
    "with torch.no_grad():\n",
    "    outp = model(gen2())\n",
    "outp.argmax(-1)"
   ],
   "metadata": {
    "collapsed": false,
    "ExecuteTime": {
     "end_time": "2024-04-01T00:13:55.202254Z",
     "start_time": "2024-04-01T00:13:55.194722Z"
    }
   },
   "id": "9fa4309c7cbe560f",
   "execution_count": 336
  },
  {
   "cell_type": "code",
   "outputs": [],
   "source": [
    "import sklearn.linear_model as lin"
   ],
   "metadata": {
    "collapsed": false,
    "ExecuteTime": {
     "end_time": "2024-04-01T17:03:30.494946Z",
     "start_time": "2024-04-01T17:03:30.491111Z"
    }
   },
   "id": "c04b52adcffe3a17",
   "execution_count": 661
  },
  {
   "cell_type": "code",
   "outputs": [],
   "source": [
    "def foo(x):\n",
    "    return x[0]*x[0] + x[1]*x[1] + x[2]*x[2] + x[3]*x[3] + x[4]*x[4]"
   ],
   "metadata": {
    "collapsed": false,
    "ExecuteTime": {
     "end_time": "2024-04-01T17:12:59.176514Z",
     "start_time": "2024-04-01T17:12:59.171720Z"
    }
   },
   "id": "abcbc03207f4fda3",
   "execution_count": 666
  },
  {
   "cell_type": "code",
   "outputs": [
    {
     "data": {
      "text/plain": "(array([[  -5.51749971,   82.12078766,   30.6838519 ,   84.40676924,\n         -182.16614372],\n        [  80.82767499,    3.00898762,  -29.45809247,  140.97015499,\n          -81.93509822],\n        [-104.4668926 ,   35.55487603,   63.37091791,  -86.0555033 ,\n          144.9415766 ],\n        [ -70.0884038 ,  -72.83505531,  122.38079532,   46.9537485 ,\n          155.18128515],\n        [ -48.05606149, -232.7991452 ,  -84.49278978, -124.75921645,\n           73.67610309],\n        [  48.95024955, -282.1526352 ,   25.91570826,   85.88944604,\n          -37.13355185],\n        [ -27.58595703,  -59.67418045,   95.5381413 ,  -87.36663048,\n          -40.33462062],\n        [-193.36434599,  -10.22894243,   65.21890893,   11.42312535,\n          125.07454579],\n        [  68.97292171,  164.00271585, -119.91182875,   12.8841102 ,\n          128.70877033],\n        [  11.4216428 ,  -82.18455894,  105.16407936,  -56.7715209 ,\n          -28.7316129 ]]),\n [48024.771945100394,\n  33995.89118090534,\n  44606.96437171526,\n  51480.27445103956,\n  84636.88883554208,\n  91433.75803071272,\n  22709.339022800825,\n  57522.03744098777,\n  62764.94926559298,\n  21992.750404836035])"
     },
     "execution_count": 675,
     "metadata": {},
     "output_type": "execute_result"
    }
   ],
   "source": [
    "def generate():\n",
    "    X = np.random.randn(10, 5) * 100\n",
    "    y = [foo(v) for v in X]\n",
    "    return X, y\n",
    "\n",
    "X, y = generate()\n",
    "X, y"
   ],
   "metadata": {
    "collapsed": false,
    "ExecuteTime": {
     "end_time": "2024-04-01T17:20:02.265248Z",
     "start_time": "2024-04-01T17:20:02.258440Z"
    }
   },
   "id": "b6efc1ceaf5f6403",
   "execution_count": 675
  },
  {
   "cell_type": "code",
   "outputs": [
    {
     "name": "stdout",
     "output_type": "stream",
     "text": [
      "-5.517499710389823 82.12078765504765 30.6838518981288 84.40676923682304 -182.16614371681752 \n",
      "80.82767499299834 3.0089876164360234 -29.45809246656234 140.97015498595022 -81.93509822490206 \n",
      "-104.46689259802034 35.55487603237243 63.370917912033796 -86.05550329909313 144.94157660201444 \n",
      "-70.08840380298463 -72.83505530973987 122.38079532393171 46.953748496960266 155.18128514541502 \n",
      "-48.05606149286283 -232.79914520459357 -84.49278978468145 -124.75921645131214 73.67610308779304 \n",
      "48.95024954647355 -282.1526352011628 25.91570825833906 85.8894460426809 -37.13355185058781 \n",
      "-27.585957029890896 -59.674180449562996 95.53814130249643 -87.36663047968814 -40.33462061689295 \n",
      "-193.36434598592825 -10.22894243408599 65.21890893181343 11.423125352099383 125.07454578784689 \n",
      "68.97292171293195 164.00271585100458 -119.9118287466338 12.884110195995193 128.70877033273536 \n",
      "11.42164280074466 -82.18455893618484 105.16407936129397 -56.77152090169376 -28.73161289647704 \n"
     ]
    }
   ],
   "source": [
    "for i in range(10):\n",
    "    for x in X[i]:\n",
    "        print(x, end=\" \")\n",
    "    print()"
   ],
   "metadata": {
    "collapsed": false,
    "ExecuteTime": {
     "end_time": "2024-04-01T17:21:08.725475Z",
     "start_time": "2024-04-01T17:21:08.720285Z"
    }
   },
   "id": "b01ff0359fe226ef",
   "execution_count": 681
  },
  {
   "cell_type": "code",
   "outputs": [
    {
     "name": "stdout",
     "output_type": "stream",
     "text": [
      "0 0 (10, 5)\n",
      "0 1 (10, 6)\n",
      "0 2 (10, 7)\n",
      "0 3 (10, 8)\n",
      "0 4 (10, 9)\n",
      "1 1 (10, 10)\n",
      "1 2 (10, 11)\n",
      "1 3 (10, 12)\n",
      "1 4 (10, 13)\n",
      "2 2 (10, 14)\n",
      "2 3 (10, 15)\n",
      "2 4 (10, 16)\n",
      "3 3 (10, 17)\n",
      "3 4 (10, 18)\n",
      "4 4 (10, 19)\n"
     ]
    },
    {
     "data": {
      "text/plain": "array([[-2.44168967e+01,  1.15808089e+02,  3.93170838e+01,\n         7.14673958e+01, -5.47585759e+01,  5.96184842e+02,\n        -2.82767414e+03, -9.60001171e+02, -1.74501202e+03,\n         1.33703449e+03,  1.34115135e+04,  4.55323634e+03,\n         8.27650254e+03, -6.34148604e+03,  1.54583308e+03,\n         2.80988959e+03, -2.15294752e+03,  5.10758867e+03,\n        -3.91345282e+03,  2.99850164e+03],\n       [ 6.12946838e+01, -8.28879151e+01,  2.02463660e+02,\n         5.36989059e+00,  2.72802949e+01,  3.75703827e+03,\n        -5.08058855e+03,  1.24099461e+04,  3.29145746e+02,\n         1.67213705e+03,  6.87040647e+03, -1.67817907e+04,\n        -4.45099035e+02, -2.26120677e+03,  4.09915338e+04,\n         1.08720770e+03,  5.52326836e+03,  2.88357249e+01,\n         1.46492199e+02,  7.44214490e+02],\n       [-1.82039323e+01,  1.69557803e+02, -9.33035947e+01,\n         2.57478587e+02, -8.05223779e+01,  3.31383151e+02,\n        -3.08661876e+03,  1.69849232e+03, -4.68712277e+03,\n         1.46582392e+03,  2.87498485e+04, -1.58203525e+04,\n         4.36575035e+04, -1.36531975e+04,  8.70556078e+03,\n        -2.40236777e+04,  7.51302732e+03,  6.62952228e+04,\n        -2.07327881e+04,  6.48385335e+03],\n       [ 3.44161923e+01, -8.23397431e+01, -1.10471970e+02,\n        -1.58871614e+01,  1.21057291e+02,  1.18447429e+03,\n        -2.83382043e+03, -3.80202455e+03, -5.46775601e+02,\n         4.16633102e+03,  6.77983329e+03,  9.09623360e+03,\n         1.30814479e+03, -9.96782628e+03,  1.22040561e+04,\n         1.75508601e+03, -1.33734374e+04,  2.52401897e+02,\n        -1.92325673e+03,  1.46548678e+04],\n       [-1.11707899e+02, -3.43778726e+01,  4.44864843e+01,\n         4.48117795e+01,  8.27055180e+01,  1.24786547e+04,\n         3.84027991e+03, -4.96949169e+03, -5.00582973e+03,\n        -9.23885965e+03,  1.18183812e+03, -1.52935069e+03,\n        -1.54053364e+03, -2.84323976e+03,  1.97904728e+03,\n         1.99351852e+03,  3.67927773e+03,  2.00809558e+03,\n         3.70618143e+03,  6.84020271e+03],\n       [ 1.94709613e+01, -1.65480405e+02,  1.36999012e+02,\n         1.43048515e+01,  4.06636981e+00,  3.79118335e+02,\n        -3.22206256e+03,  2.66750246e+03,  2.78529210e+02,\n         7.91761293e+01,  2.73837643e+04, -2.26706519e+04,\n        -2.36717261e+03, -6.72904522e+02,  1.87687292e+04,\n         1.95975052e+03,  5.57088645e+02,  2.04628776e+02,\n         5.81688162e+01,  1.65353634e+01],\n       [ 1.46891719e+02, -4.39440646e+01,  2.99550913e+02,\n         9.94301485e+00, -1.36682461e+02,  2.15771770e+04,\n        -6.45501917e+03,  4.40015484e+04,  1.46054654e+03,\n        -2.00775216e+04,  1.93108081e+03, -1.31634847e+04,\n        -4.36936487e+02,  6.00638289e+03,  8.97307495e+04,\n         2.97843918e+03, -4.09433559e+04,  9.88635443e+01,\n        -1.35903574e+03,  1.86820951e+04],\n       [-1.27213446e+02,  2.67184555e+01, -1.41885420e+02,\n         1.25044644e+02, -1.45432570e+01,  1.61832608e+04,\n        -3.39894679e+03,  1.80497332e+04, -1.59073600e+04,\n         1.85009783e+03,  7.13875864e+02, -3.79095929e+03,\n         3.34099975e+03, -3.88573364e+02,  2.01314725e+04,\n        -1.77420118e+04,  2.06347613e+03,  1.56361629e+04,\n        -1.81855639e+03,  2.11506323e+02],\n       [-3.02382561e+00, -1.24991166e+02, -3.98577770e+00,\n         3.42086254e+01,  1.17342626e+02,  9.14352134e+00,\n         3.77951490e+02,  1.20522967e+01, -1.03440918e+02,\n        -3.54823638e+02,  1.56227916e+04,  4.98187003e+02,\n        -4.27577598e+03, -1.46667917e+04,  1.58864239e+01,\n        -1.36347976e+02, -4.67701622e+02,  1.17023005e+03,\n         4.01412993e+03,  1.37692919e+04],\n       [ 3.96016862e+01, -6.39094239e+01, -1.98003109e+01,\n         2.01950292e+01,  2.03886408e+02,  1.56829355e+03,\n        -2.53092095e+03, -7.84125698e+02,  7.99757209e+02,\n         8.07424553e+03,  4.08441446e+03,  1.26542646e+03,\n        -1.29065268e+03, -1.30302629e+04,  3.92052312e+02,\n        -3.99867857e+02, -4.03701426e+03,  4.07839205e+02,\n         4.11749196e+03,  4.15696673e+04]])"
     },
     "execution_count": 673,
     "metadata": {},
     "output_type": "execute_result"
    }
   ],
   "source": [
    "for i in range(5):\n",
    "    for j in range(i, 5):\n",
    "        print(i, j, X.shape)\n",
    "        X_ = (X[:,i] * X[:,j]).reshape(10, 1)\n",
    "        X = np.append(X, X_, axis=1)\n",
    "        \n",
    "X"
   ],
   "metadata": {
    "collapsed": false,
    "ExecuteTime": {
     "end_time": "2024-04-01T17:16:26.349824Z",
     "start_time": "2024-04-01T17:16:26.341344Z"
    }
   },
   "id": "512001dfbe637c27",
   "execution_count": 673
  },
  {
   "cell_type": "code",
   "outputs": [
    {
     "data": {
      "text/plain": "array([113747.48858743, 127088.26871452,  67852.50401179,  48298.1001524 ,\n        80225.03199408,  93084.38633936, 107248.18074213,  20045.92816685,\n        35991.19983103,  83177.13440568])"
     },
     "execution_count": 669,
     "metadata": {},
     "output_type": "execute_result"
    }
   ],
   "source": [
    "model = lin.LinearRegression()\n",
    "\n",
    "model.fit(X, y)\n",
    "\n",
    "model.predict(X)"
   ],
   "metadata": {
    "collapsed": false,
    "ExecuteTime": {
     "end_time": "2024-04-01T17:13:05.944827Z",
     "start_time": "2024-04-01T17:13:05.936105Z"
    }
   },
   "id": "115d181ddfa43533",
   "execution_count": 669
  },
  {
   "cell_type": "code",
   "outputs": [],
   "source": [],
   "metadata": {
    "collapsed": false
   },
   "id": "624f761cf9ee5189"
  }
 ],
 "metadata": {
  "kernelspec": {
   "display_name": "Python 3",
   "language": "python",
   "name": "python3"
  },
  "language_info": {
   "codemirror_mode": {
    "name": "ipython",
    "version": 2
   },
   "file_extension": ".py",
   "mimetype": "text/x-python",
   "name": "python",
   "nbconvert_exporter": "python",
   "pygments_lexer": "ipython2",
   "version": "2.7.6"
  }
 },
 "nbformat": 4,
 "nbformat_minor": 5
}
